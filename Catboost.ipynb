{
  "nbformat": 4,
  "nbformat_minor": 0,
  "metadata": {
    "kernelspec": {
      "display_name": "Python 3 (ipykernel)",
      "language": "python",
      "name": "python3"
    },
    "language_info": {
      "codemirror_mode": {
        "name": "ipython",
        "version": 3
      },
      "file_extension": ".py",
      "mimetype": "text/x-python",
      "name": "python",
      "nbconvert_exporter": "python",
      "pygments_lexer": "ipython3",
      "version": "3.9.7"
    },
    "colab": {
      "name": "Catboost (1).ipynb",
      "provenance": [],
      "collapsed_sections": [
        "9FXUJowXgy0X",
        "5Nxvj1Eqgy0e",
        "ds3I463Ogy0g",
        "HK5IWvJ9gy0i",
        "TGLAj-DNgy0m",
        "GzxPs1Jjgy0n",
        "uhhOX1Degy0o",
        "S4Se9_bFgy0p",
        "zlMNsiLZgy0r",
        "-_q0litjgy0r",
        "F4nOBSyxgy0s",
        "nKXDx8Pygy0t",
        "ofVJrggTgy0u",
        "CP84Agabgy0u",
        "av0_YvMwgy0u",
        "i2gf6NgEgy0v",
        "NUP0Fh98gy0v",
        "cb2JI2MSgy0w",
        "nbm25K5Tgy0w",
        "khQF5kwqgy0x",
        "0Vyxf7KJgy0x",
        "hVtvJltOgy0y",
        "W3kPjkK_gy0z"
      ]
    },
    "accelerator": "GPU"
  },
  "cells": [
    {
      "cell_type": "markdown",
      "metadata": {
        "id": "ugEA_ED4oBCg"
      },
      "source": [
        "https://www.kaggle.com/prashant111/catboost-classifier-in-python"
      ]
    },
    {
      "cell_type": "code",
      "metadata": {
        "colab": {
          "base_uri": "https://localhost:8080/"
        },
        "id": "6t_hqwnZ_OJu",
        "outputId": "4bf69e01-ce86-4651-ff45-96b452b2c31c"
      },
      "source": [
        "!nvidia-smi"
      ],
      "execution_count": null,
      "outputs": [
        {
          "output_type": "stream",
          "name": "stdout",
          "text": [
            "Fri Dec  3 19:12:11 2021       \n",
            "+-----------------------------------------------------------------------------+\n",
            "| NVIDIA-SMI 495.44       Driver Version: 460.32.03    CUDA Version: 11.2     |\n",
            "|-------------------------------+----------------------+----------------------+\n",
            "| GPU  Name        Persistence-M| Bus-Id        Disp.A | Volatile Uncorr. ECC |\n",
            "| Fan  Temp  Perf  Pwr:Usage/Cap|         Memory-Usage | GPU-Util  Compute M. |\n",
            "|                               |                      |               MIG M. |\n",
            "|===============================+======================+======================|\n",
            "|   0  Tesla K80           Off  | 00000000:00:04.0 Off |                    0 |\n",
            "| N/A   72C    P8    31W / 149W |      0MiB / 11441MiB |      0%      Default |\n",
            "|                               |                      |                  N/A |\n",
            "+-------------------------------+----------------------+----------------------+\n",
            "                                                                               \n",
            "+-----------------------------------------------------------------------------+\n",
            "| Processes:                                                                  |\n",
            "|  GPU   GI   CI        PID   Type   Process name                  GPU Memory |\n",
            "|        ID   ID                                                   Usage      |\n",
            "|=============================================================================|\n",
            "|  No running processes found                                                 |\n",
            "+-----------------------------------------------------------------------------+\n"
          ]
        }
      ]
    },
    {
      "cell_type": "code",
      "metadata": {
        "colab": {
          "base_uri": "https://localhost:8080/"
        },
        "id": "VhzM1qBFhDp5",
        "outputId": "5e656a4d-9466-4911-f5ff-41d3b974b27d"
      },
      "source": [
        "from google.colab import drive\n",
        "drive.mount('/content/drive')"
      ],
      "execution_count": null,
      "outputs": [
        {
          "output_type": "stream",
          "name": "stdout",
          "text": [
            "Mounted at /content/drive\n"
          ]
        }
      ]
    },
    {
      "cell_type": "code",
      "metadata": {
        "id": "h5jTonqsxeyo"
      },
      "source": [
        "!cp /content/drive/MyDrive/medium_train.csv /content/my_data"
      ],
      "execution_count": null,
      "outputs": []
    },
    {
      "cell_type": "code",
      "metadata": {
        "colab": {
          "base_uri": "https://localhost:8080/"
        },
        "id": "Yg-8nwMCg6q0",
        "outputId": "d23383a8-ff7c-4747-a664-1d6a6fb450b6"
      },
      "source": [
        "!unzip \"/content/drive/MyDrive/hackathon.zip\" -d \"/content/my_data\""
      ],
      "execution_count": null,
      "outputs": [
        {
          "output_type": "stream",
          "name": "stdout",
          "text": [
            "Archive:  /content/drive/MyDrive/hackathon.zip\n",
            "  inflating: /content/my_data/train.csv  \n",
            "  inflating: /content/my_data/Segments.xlsx  \n",
            "  inflating: /content/my_data/Problem_statement.pdf  \n"
          ]
        }
      ]
    },
    {
      "cell_type": "code",
      "metadata": {
        "colab": {
          "base_uri": "https://localhost:8080/"
        },
        "id": "Obg8X86Vkxv-",
        "outputId": "26703e66-767f-4133-c527-200c5077cd06"
      },
      "source": [
        "!unzip \"/content/drive/MyDrive/hackathon_test.zip\" -d \"/content/my_data\""
      ],
      "execution_count": null,
      "outputs": [
        {
          "output_type": "stream",
          "name": "stdout",
          "text": [
            "Archive:  /content/drive/MyDrive/hackathon_test.zip\n",
            "  inflating: /content/my_data/test.csv  \n"
          ]
        }
      ]
    },
    {
      "cell_type": "code",
      "metadata": {
        "id": "idQA8gXNhrLa",
        "colab": {
          "base_uri": "https://localhost:8080/"
        },
        "outputId": "57b7fb02-b477-4099-acf6-21b3b93d3dfc"
      },
      "source": [
        "!pip install catboost\n",
        "!pip install scikit-learn\n",
        "!pip install ipywidgets\n",
        "!jupyter nbextension enable --py widgetsnbextension"
      ],
      "execution_count": null,
      "outputs": [
        {
          "output_type": "stream",
          "name": "stdout",
          "text": [
            "Collecting catboost\n",
            "  Downloading catboost-1.0.3-cp37-none-manylinux1_x86_64.whl (76.3 MB)\n",
            "\u001b[K     |████████████████████████████████| 76.3 MB 1.3 MB/s \n",
            "\u001b[?25hRequirement already satisfied: graphviz in /usr/local/lib/python3.7/dist-packages (from catboost) (0.10.1)\n",
            "Requirement already satisfied: plotly in /usr/local/lib/python3.7/dist-packages (from catboost) (4.4.1)\n",
            "Requirement already satisfied: six in /usr/local/lib/python3.7/dist-packages (from catboost) (1.15.0)\n",
            "Requirement already satisfied: numpy>=1.16.0 in /usr/local/lib/python3.7/dist-packages (from catboost) (1.19.5)\n",
            "Requirement already satisfied: scipy in /usr/local/lib/python3.7/dist-packages (from catboost) (1.4.1)\n",
            "Requirement already satisfied: matplotlib in /usr/local/lib/python3.7/dist-packages (from catboost) (3.2.2)\n",
            "Requirement already satisfied: pandas>=0.24.0 in /usr/local/lib/python3.7/dist-packages (from catboost) (1.1.5)\n",
            "Requirement already satisfied: python-dateutil>=2.7.3 in /usr/local/lib/python3.7/dist-packages (from pandas>=0.24.0->catboost) (2.8.2)\n",
            "Requirement already satisfied: pytz>=2017.2 in /usr/local/lib/python3.7/dist-packages (from pandas>=0.24.0->catboost) (2018.9)\n",
            "Requirement already satisfied: cycler>=0.10 in /usr/local/lib/python3.7/dist-packages (from matplotlib->catboost) (0.11.0)\n",
            "Requirement already satisfied: kiwisolver>=1.0.1 in /usr/local/lib/python3.7/dist-packages (from matplotlib->catboost) (1.3.2)\n",
            "Requirement already satisfied: pyparsing!=2.0.4,!=2.1.2,!=2.1.6,>=2.0.1 in /usr/local/lib/python3.7/dist-packages (from matplotlib->catboost) (3.0.6)\n",
            "Requirement already satisfied: retrying>=1.3.3 in /usr/local/lib/python3.7/dist-packages (from plotly->catboost) (1.3.3)\n",
            "Installing collected packages: catboost\n",
            "Successfully installed catboost-1.0.3\n",
            "Requirement already satisfied: scikit-learn in /usr/local/lib/python3.7/dist-packages (1.0.1)\n",
            "Requirement already satisfied: numpy>=1.14.6 in /usr/local/lib/python3.7/dist-packages (from scikit-learn) (1.19.5)\n",
            "Requirement already satisfied: joblib>=0.11 in /usr/local/lib/python3.7/dist-packages (from scikit-learn) (1.1.0)\n",
            "Requirement already satisfied: threadpoolctl>=2.0.0 in /usr/local/lib/python3.7/dist-packages (from scikit-learn) (3.0.0)\n",
            "Requirement already satisfied: scipy>=1.1.0 in /usr/local/lib/python3.7/dist-packages (from scikit-learn) (1.4.1)\n",
            "Requirement already satisfied: ipywidgets in /usr/local/lib/python3.7/dist-packages (7.6.5)\n",
            "Requirement already satisfied: jupyterlab-widgets>=1.0.0 in /usr/local/lib/python3.7/dist-packages (from ipywidgets) (1.0.2)\n",
            "Requirement already satisfied: widgetsnbextension~=3.5.0 in /usr/local/lib/python3.7/dist-packages (from ipywidgets) (3.5.2)\n",
            "Requirement already satisfied: nbformat>=4.2.0 in /usr/local/lib/python3.7/dist-packages (from ipywidgets) (5.1.3)\n",
            "Requirement already satisfied: traitlets>=4.3.1 in /usr/local/lib/python3.7/dist-packages (from ipywidgets) (5.1.1)\n",
            "Requirement already satisfied: ipython>=4.0.0 in /usr/local/lib/python3.7/dist-packages (from ipywidgets) (5.5.0)\n",
            "Requirement already satisfied: ipykernel>=4.5.1 in /usr/local/lib/python3.7/dist-packages (from ipywidgets) (4.10.1)\n",
            "Requirement already satisfied: ipython-genutils~=0.2.0 in /usr/local/lib/python3.7/dist-packages (from ipywidgets) (0.2.0)\n",
            "Requirement already satisfied: tornado>=4.0 in /usr/local/lib/python3.7/dist-packages (from ipykernel>=4.5.1->ipywidgets) (5.1.1)\n",
            "Requirement already satisfied: jupyter-client in /usr/local/lib/python3.7/dist-packages (from ipykernel>=4.5.1->ipywidgets) (5.3.5)\n",
            "Requirement already satisfied: setuptools>=18.5 in /usr/local/lib/python3.7/dist-packages (from ipython>=4.0.0->ipywidgets) (57.4.0)\n",
            "Requirement already satisfied: simplegeneric>0.8 in /usr/local/lib/python3.7/dist-packages (from ipython>=4.0.0->ipywidgets) (0.8.1)\n",
            "Requirement already satisfied: pygments in /usr/local/lib/python3.7/dist-packages (from ipython>=4.0.0->ipywidgets) (2.6.1)\n",
            "Requirement already satisfied: pexpect in /usr/local/lib/python3.7/dist-packages (from ipython>=4.0.0->ipywidgets) (4.8.0)\n",
            "Requirement already satisfied: pickleshare in /usr/local/lib/python3.7/dist-packages (from ipython>=4.0.0->ipywidgets) (0.7.5)\n",
            "Requirement already satisfied: prompt-toolkit<2.0.0,>=1.0.4 in /usr/local/lib/python3.7/dist-packages (from ipython>=4.0.0->ipywidgets) (1.0.18)\n",
            "Requirement already satisfied: decorator in /usr/local/lib/python3.7/dist-packages (from ipython>=4.0.0->ipywidgets) (4.4.2)\n",
            "Requirement already satisfied: jsonschema!=2.5.0,>=2.4 in /usr/local/lib/python3.7/dist-packages (from nbformat>=4.2.0->ipywidgets) (2.6.0)\n",
            "Requirement already satisfied: jupyter-core in /usr/local/lib/python3.7/dist-packages (from nbformat>=4.2.0->ipywidgets) (4.9.1)\n",
            "Requirement already satisfied: six>=1.9.0 in /usr/local/lib/python3.7/dist-packages (from prompt-toolkit<2.0.0,>=1.0.4->ipython>=4.0.0->ipywidgets) (1.15.0)\n",
            "Requirement already satisfied: wcwidth in /usr/local/lib/python3.7/dist-packages (from prompt-toolkit<2.0.0,>=1.0.4->ipython>=4.0.0->ipywidgets) (0.2.5)\n",
            "Requirement already satisfied: notebook>=4.4.1 in /usr/local/lib/python3.7/dist-packages (from widgetsnbextension~=3.5.0->ipywidgets) (5.3.1)\n",
            "Requirement already satisfied: Send2Trash in /usr/local/lib/python3.7/dist-packages (from notebook>=4.4.1->widgetsnbextension~=3.5.0->ipywidgets) (1.8.0)\n",
            "Requirement already satisfied: nbconvert in /usr/local/lib/python3.7/dist-packages (from notebook>=4.4.1->widgetsnbextension~=3.5.0->ipywidgets) (5.6.1)\n",
            "Requirement already satisfied: jinja2 in /usr/local/lib/python3.7/dist-packages (from notebook>=4.4.1->widgetsnbextension~=3.5.0->ipywidgets) (2.11.3)\n",
            "Requirement already satisfied: terminado>=0.8.1 in /usr/local/lib/python3.7/dist-packages (from notebook>=4.4.1->widgetsnbextension~=3.5.0->ipywidgets) (0.12.1)\n",
            "Requirement already satisfied: python-dateutil>=2.1 in /usr/local/lib/python3.7/dist-packages (from jupyter-client->ipykernel>=4.5.1->ipywidgets) (2.8.2)\n",
            "Requirement already satisfied: pyzmq>=13 in /usr/local/lib/python3.7/dist-packages (from jupyter-client->ipykernel>=4.5.1->ipywidgets) (22.3.0)\n",
            "Requirement already satisfied: ptyprocess in /usr/local/lib/python3.7/dist-packages (from terminado>=0.8.1->notebook>=4.4.1->widgetsnbextension~=3.5.0->ipywidgets) (0.7.0)\n",
            "Requirement already satisfied: MarkupSafe>=0.23 in /usr/local/lib/python3.7/dist-packages (from jinja2->notebook>=4.4.1->widgetsnbextension~=3.5.0->ipywidgets) (2.0.1)\n",
            "Requirement already satisfied: pandocfilters>=1.4.1 in /usr/local/lib/python3.7/dist-packages (from nbconvert->notebook>=4.4.1->widgetsnbextension~=3.5.0->ipywidgets) (1.5.0)\n",
            "Requirement already satisfied: entrypoints>=0.2.2 in /usr/local/lib/python3.7/dist-packages (from nbconvert->notebook>=4.4.1->widgetsnbextension~=3.5.0->ipywidgets) (0.3)\n",
            "Requirement already satisfied: defusedxml in /usr/local/lib/python3.7/dist-packages (from nbconvert->notebook>=4.4.1->widgetsnbextension~=3.5.0->ipywidgets) (0.7.1)\n",
            "Requirement already satisfied: testpath in /usr/local/lib/python3.7/dist-packages (from nbconvert->notebook>=4.4.1->widgetsnbextension~=3.5.0->ipywidgets) (0.5.0)\n",
            "Requirement already satisfied: bleach in /usr/local/lib/python3.7/dist-packages (from nbconvert->notebook>=4.4.1->widgetsnbextension~=3.5.0->ipywidgets) (4.1.0)\n",
            "Requirement already satisfied: mistune<2,>=0.8.1 in /usr/local/lib/python3.7/dist-packages (from nbconvert->notebook>=4.4.1->widgetsnbextension~=3.5.0->ipywidgets) (0.8.4)\n",
            "Requirement already satisfied: webencodings in /usr/local/lib/python3.7/dist-packages (from bleach->nbconvert->notebook>=4.4.1->widgetsnbextension~=3.5.0->ipywidgets) (0.5.1)\n",
            "Requirement already satisfied: packaging in /usr/local/lib/python3.7/dist-packages (from bleach->nbconvert->notebook>=4.4.1->widgetsnbextension~=3.5.0->ipywidgets) (21.3)\n",
            "Requirement already satisfied: pyparsing!=3.0.5,>=2.0.2 in /usr/local/lib/python3.7/dist-packages (from packaging->bleach->nbconvert->notebook>=4.4.1->widgetsnbextension~=3.5.0->ipywidgets) (3.0.6)\n",
            "Enabling notebook extension jupyter-js-widgets/extension...\n",
            "      - Validating: \u001b[32mOK\u001b[0m\n"
          ]
        }
      ]
    },
    {
      "cell_type": "code",
      "metadata": {
        "id": "-3WkgqIWh0qv"
      },
      "source": [
        "import pandas as pd"
      ],
      "execution_count": null,
      "outputs": []
    },
    {
      "cell_type": "code",
      "metadata": {
        "id": "vTzzS_Nqk8UH"
      },
      "source": [
        "# train_df = pd.read_csv('/content/my_data/train.csv', parse_dates=['created'], dtype={'gamecategory': str, 'subgamecategory': str, 'bundle': str, 'shift': str, 'oblast': str, 'city': str, 'os': str, 'osv': str,} )\n",
        "# test_df = pd.read_csv('/content/my_data/test.csv', parse_dates=['created'])\n",
        "train_df = pd.read_csv('/content/my_data/train.csv', parse_dates=['created'])\n",
        "# train_df = pd.read_csv('/content/my_data/medium_train.csv', parse_dates=['created'])"
      ],
      "execution_count": null,
      "outputs": []
    },
    {
      "cell_type": "code",
      "metadata": {
        "id": "ZP9wd3_3_3o9"
      },
      "source": [
        "test_df = pd.read_csv('/content/my_data/test.csv', parse_dates=['created'])"
      ],
      "execution_count": null,
      "outputs": []
    },
    {
      "cell_type": "code",
      "metadata": {
        "colab": {
          "base_uri": "https://localhost:8080/"
        },
        "id": "V0abR6exAaot",
        "outputId": "3bad7bab-8835-473f-b4c0-633b96f76cb5"
      },
      "source": [
        "test_df.shape[0]"
      ],
      "execution_count": null,
      "outputs": [
        {
          "output_type": "execute_result",
          "data": {
            "text/plain": [
              "11213629"
            ]
          },
          "metadata": {},
          "execution_count": 9
        }
      ]
    },
    {
      "cell_type": "code",
      "metadata": {
        "id": "Y8JkXTboACpN"
      },
      "source": [
        "all_df = pd.concat([train_df.drop(\"Segment\", axis=1), test_df])"
      ],
      "execution_count": null,
      "outputs": []
    },
    {
      "cell_type": "code",
      "metadata": {
        "id": "BhCF6rN1vTGR"
      },
      "source": [
        "train_df = all_df[['bundle', 'gamecategory', 'subgamecategory']]"
      ],
      "execution_count": null,
      "outputs": []
    },
    {
      "cell_type": "code",
      "metadata": {
        "id": "LwU8LFG5vuzp"
      },
      "source": [
        "train_df = train_df[train_df['bundle'].notna()]"
      ],
      "execution_count": null,
      "outputs": []
    },
    {
      "cell_type": "code",
      "metadata": {
        "id": "uDxpbZsRwU9J"
      },
      "source": [
        "train_df = train_df[train_df['gamecategory'].notna()]"
      ],
      "execution_count": null,
      "outputs": []
    },
    {
      "cell_type": "code",
      "metadata": {
        "id": "NT-jZnaXyHDA"
      },
      "source": [
        "train_df = train_df.drop_duplicates()"
      ],
      "execution_count": null,
      "outputs": []
    },
    {
      "cell_type": "code",
      "metadata": {
        "colab": {
          "base_uri": "https://localhost:8080/",
          "height": 206
        },
        "id": "7m-uzCxQ57ge",
        "outputId": "bc7f1b95-5167-440a-e15d-118b269ad112"
      },
      "source": [
        "train_df.head()"
      ],
      "execution_count": null,
      "outputs": [
        {
          "output_type": "execute_result",
          "data": {
            "text/html": [
              "<div>\n",
              "<style scoped>\n",
              "    .dataframe tbody tr th:only-of-type {\n",
              "        vertical-align: middle;\n",
              "    }\n",
              "\n",
              "    .dataframe tbody tr th {\n",
              "        vertical-align: top;\n",
              "    }\n",
              "\n",
              "    .dataframe thead th {\n",
              "        text-align: right;\n",
              "    }\n",
              "</style>\n",
              "<table border=\"1\" class=\"dataframe\">\n",
              "  <thead>\n",
              "    <tr style=\"text-align: right;\">\n",
              "      <th></th>\n",
              "      <th>bundle</th>\n",
              "      <th>gamecategory</th>\n",
              "      <th>subgamecategory</th>\n",
              "    </tr>\n",
              "  </thead>\n",
              "  <tbody>\n",
              "    <tr>\n",
              "      <th>0</th>\n",
              "      <td>com.MadOut.BIG</td>\n",
              "      <td>Games</td>\n",
              "      <td>Racing</td>\n",
              "    </tr>\n",
              "    <tr>\n",
              "      <th>2</th>\n",
              "      <td>com.orbitalknight.ridiculousfreekick</td>\n",
              "      <td>Games</td>\n",
              "      <td>Arcade</td>\n",
              "    </tr>\n",
              "    <tr>\n",
              "      <th>5</th>\n",
              "      <td>com.hwg.sos</td>\n",
              "      <td>Games</td>\n",
              "      <td>Puzzle</td>\n",
              "    </tr>\n",
              "    <tr>\n",
              "      <th>6</th>\n",
              "      <td>com.hikergames.ArcadeHunter</td>\n",
              "      <td>Games</td>\n",
              "      <td>Arcade</td>\n",
              "    </tr>\n",
              "    <tr>\n",
              "      <th>7</th>\n",
              "      <td>com.lemongame.klondike.solitaire</td>\n",
              "      <td>Games</td>\n",
              "      <td>Card</td>\n",
              "    </tr>\n",
              "  </tbody>\n",
              "</table>\n",
              "</div>"
            ],
            "text/plain": [
              "                                 bundle gamecategory subgamecategory\n",
              "0                        com.MadOut.BIG        Games          Racing\n",
              "2  com.orbitalknight.ridiculousfreekick        Games          Arcade\n",
              "5                           com.hwg.sos        Games          Puzzle\n",
              "6           com.hikergames.ArcadeHunter        Games          Arcade\n",
              "7      com.lemongame.klondike.solitaire        Games            Card"
            ]
          },
          "metadata": {},
          "execution_count": 56
        }
      ]
    },
    {
      "cell_type": "code",
      "metadata": {
        "id": "ucTTLe1-65Ad"
      },
      "source": [
        "train_df = train_df.query(\"bundle == @bundles\")"
      ],
      "execution_count": null,
      "outputs": []
    },
    {
      "cell_type": "code",
      "metadata": {
        "colab": {
          "base_uri": "https://localhost:8080/"
        },
        "id": "Y3CKaBb66O1e",
        "outputId": "e5d33ef7-f40b-42a3-a258-52f6b497fe66"
      },
      "source": [
        "train_df.shape[0]"
      ],
      "execution_count": null,
      "outputs": [
        {
          "output_type": "execute_result",
          "data": {
            "text/plain": [
              "39748"
            ]
          },
          "metadata": {},
          "execution_count": 65
        }
      ]
    },
    {
      "cell_type": "code",
      "metadata": {
        "id": "aHYTHeTy7DJF"
      },
      "source": [
        "train_df.to_csv('/content/drive/MyDrive/bundle8.csv', encoding='utf-8', sep = ';')"
      ],
      "execution_count": null,
      "outputs": []
    },
    {
      "cell_type": "code",
      "metadata": {
        "colab": {
          "base_uri": "https://localhost:8080/",
          "height": 206
        },
        "id": "ociZQr19zWOo",
        "outputId": "b8a7a195-e234-45b7-d853-8e19763f58e2"
      },
      "source": [
        "city2 = train_df.groupby(['bundle'], as_index=False).size()\n",
        "city2.head()"
      ],
      "execution_count": null,
      "outputs": [
        {
          "output_type": "execute_result",
          "data": {
            "text/html": [
              "<div>\n",
              "<style scoped>\n",
              "    .dataframe tbody tr th:only-of-type {\n",
              "        vertical-align: middle;\n",
              "    }\n",
              "\n",
              "    .dataframe tbody tr th {\n",
              "        vertical-align: top;\n",
              "    }\n",
              "\n",
              "    .dataframe thead th {\n",
              "        text-align: right;\n",
              "    }\n",
              "</style>\n",
              "<table border=\"1\" class=\"dataframe\">\n",
              "  <thead>\n",
              "    <tr style=\"text-align: right;\">\n",
              "      <th></th>\n",
              "      <th>bundle</th>\n",
              "      <th>size</th>\n",
              "    </tr>\n",
              "  </thead>\n",
              "  <tbody>\n",
              "    <tr>\n",
              "      <th>0</th>\n",
              "      <td>1000556973</td>\n",
              "      <td>1</td>\n",
              "    </tr>\n",
              "    <tr>\n",
              "      <th>1</th>\n",
              "      <td>1000773093</td>\n",
              "      <td>1</td>\n",
              "    </tr>\n",
              "    <tr>\n",
              "      <th>2</th>\n",
              "      <td>1000876192</td>\n",
              "      <td>1</td>\n",
              "    </tr>\n",
              "    <tr>\n",
              "      <th>3</th>\n",
              "      <td>1001044474</td>\n",
              "      <td>1</td>\n",
              "    </tr>\n",
              "    <tr>\n",
              "      <th>4</th>\n",
              "      <td>1001164812</td>\n",
              "      <td>1</td>\n",
              "    </tr>\n",
              "  </tbody>\n",
              "</table>\n",
              "</div>"
            ],
            "text/plain": [
              "       bundle  size\n",
              "0  1000556973     1\n",
              "1  1000773093     1\n",
              "2  1000876192     1\n",
              "3  1001044474     1\n",
              "4  1001164812     1"
            ]
          },
          "metadata": {},
          "execution_count": 48
        }
      ]
    },
    {
      "cell_type": "code",
      "metadata": {
        "id": "9JWqlU2Y6hhd"
      },
      "source": [
        "bundles = list(city2['bundle'])"
      ],
      "execution_count": null,
      "outputs": []
    },
    {
      "cell_type": "code",
      "metadata": {
        "colab": {
          "base_uri": "https://localhost:8080/"
        },
        "id": "smNAnCYN42Zv",
        "outputId": "c8d3f962-ada2-4ec3-948c-4405bcf7bc8a"
      },
      "source": [
        "city2.shape[0]"
      ],
      "execution_count": null,
      "outputs": [
        {
          "output_type": "execute_result",
          "data": {
            "text/plain": [
              "39748"
            ]
          },
          "metadata": {},
          "execution_count": 54
        }
      ]
    },
    {
      "cell_type": "code",
      "metadata": {
        "id": "KtzvQoonLr8_"
      },
      "source": [
        "city2 = city2.sort_values(by=['size'], ascending=False)"
      ],
      "execution_count": null,
      "outputs": []
    },
    {
      "cell_type": "code",
      "metadata": {
        "colab": {
          "base_uri": "https://localhost:8080/",
          "height": 206
        },
        "id": "nb-QTVV3L09n",
        "outputId": "6d258285-6ddd-4319-ebed-24ee8f5fa8df"
      },
      "source": [
        "city2.head()"
      ],
      "execution_count": null,
      "outputs": [
        {
          "output_type": "execute_result",
          "data": {
            "text/html": [
              "<div>\n",
              "<style scoped>\n",
              "    .dataframe tbody tr th:only-of-type {\n",
              "        vertical-align: middle;\n",
              "    }\n",
              "\n",
              "    .dataframe tbody tr th {\n",
              "        vertical-align: top;\n",
              "    }\n",
              "\n",
              "    .dataframe thead th {\n",
              "        text-align: right;\n",
              "    }\n",
              "</style>\n",
              "<table border=\"1\" class=\"dataframe\">\n",
              "  <thead>\n",
              "    <tr style=\"text-align: right;\">\n",
              "      <th></th>\n",
              "      <th>bundle</th>\n",
              "      <th>size</th>\n",
              "    </tr>\n",
              "  </thead>\n",
              "  <tbody>\n",
              "    <tr>\n",
              "      <th>27337</th>\n",
              "      <td>com.mashathedog.myvirtualpet</td>\n",
              "      <td>1</td>\n",
              "    </tr>\n",
              "    <tr>\n",
              "      <th>27860</th>\n",
              "      <td>com.minekopte.roblox</td>\n",
              "      <td>1</td>\n",
              "    </tr>\n",
              "    <tr>\n",
              "      <th>27338</th>\n",
              "      <td>com.mashinestudio.idlepoke</td>\n",
              "      <td>1</td>\n",
              "    </tr>\n",
              "    <tr>\n",
              "      <th>27339</th>\n",
              "      <td>com.mask.minutes3</td>\n",
              "      <td>1</td>\n",
              "    </tr>\n",
              "    <tr>\n",
              "      <th>27859</th>\n",
              "      <td>com.minekopte.minecoins</td>\n",
              "      <td>1</td>\n",
              "    </tr>\n",
              "  </tbody>\n",
              "</table>\n",
              "</div>"
            ],
            "text/plain": [
              "                             bundle  size\n",
              "27337  com.mashathedog.myvirtualpet     1\n",
              "27860          com.minekopte.roblox     1\n",
              "27338    com.mashinestudio.idlepoke     1\n",
              "27339             com.mask.minutes3     1\n",
              "27859       com.minekopte.minecoins     1"
            ]
          },
          "metadata": {},
          "execution_count": 55
        }
      ]
    },
    {
      "cell_type": "code",
      "metadata": {
        "colab": {
          "base_uri": "https://localhost:8080/",
          "height": 424
        },
        "id": "tgTqtzCfMFB3",
        "outputId": "aefb1f8d-8f97-4a51-8949-df977d9adf0b"
      },
      "source": [
        "city2[:987]"
      ],
      "execution_count": null,
      "outputs": [
        {
          "output_type": "execute_result",
          "data": {
            "text/html": [
              "<div>\n",
              "<style scoped>\n",
              "    .dataframe tbody tr th:only-of-type {\n",
              "        vertical-align: middle;\n",
              "    }\n",
              "\n",
              "    .dataframe tbody tr th {\n",
              "        vertical-align: top;\n",
              "    }\n",
              "\n",
              "    .dataframe thead th {\n",
              "        text-align: right;\n",
              "    }\n",
              "</style>\n",
              "<table border=\"1\" class=\"dataframe\">\n",
              "  <thead>\n",
              "    <tr style=\"text-align: right;\">\n",
              "      <th></th>\n",
              "      <th>bundle</th>\n",
              "      <th>size</th>\n",
              "    </tr>\n",
              "  </thead>\n",
              "  <tbody>\n",
              "    <tr>\n",
              "      <th>25543</th>\n",
              "      <td>com.jockeygames.rampcar.stuntsfree.impossiblet...</td>\n",
              "      <td>4</td>\n",
              "    </tr>\n",
              "    <tr>\n",
              "      <th>23041</th>\n",
              "      <td>com.gf.offroad.garbage.truck.driving.parking</td>\n",
              "      <td>4</td>\n",
              "    </tr>\n",
              "    <tr>\n",
              "      <th>30700</th>\n",
              "      <td>com.play.io.monster.truck.demolition.derby.cra...</td>\n",
              "      <td>4</td>\n",
              "    </tr>\n",
              "    <tr>\n",
              "      <th>25090</th>\n",
              "      <td>com.impossible.ramp.carstuntgames</td>\n",
              "      <td>3</td>\n",
              "    </tr>\n",
              "    <tr>\n",
              "      <th>27025</th>\n",
              "      <td>com.ludosmobile.captain.girl.hero.ny.street.fi...</td>\n",
              "      <td>3</td>\n",
              "    </tr>\n",
              "    <tr>\n",
              "      <th>...</th>\n",
              "      <td>...</td>\n",
              "      <td>...</td>\n",
              "    </tr>\n",
              "    <tr>\n",
              "      <th>5497</th>\n",
              "      <td>1499304256</td>\n",
              "      <td>2</td>\n",
              "    </tr>\n",
              "    <tr>\n",
              "      <th>7905</th>\n",
              "      <td>1548712972</td>\n",
              "      <td>2</td>\n",
              "    </tr>\n",
              "    <tr>\n",
              "      <th>8296</th>\n",
              "      <td>1555219941</td>\n",
              "      <td>2</td>\n",
              "    </tr>\n",
              "    <tr>\n",
              "      <th>23602</th>\n",
              "      <td>com.grand.shooting.strike</td>\n",
              "      <td>2</td>\n",
              "    </tr>\n",
              "    <tr>\n",
              "      <th>27337</th>\n",
              "      <td>com.mashathedog.myvirtualpet</td>\n",
              "      <td>1</td>\n",
              "    </tr>\n",
              "  </tbody>\n",
              "</table>\n",
              "<p>987 rows × 2 columns</p>\n",
              "</div>"
            ],
            "text/plain": [
              "                                                  bundle  size\n",
              "25543  com.jockeygames.rampcar.stuntsfree.impossiblet...     4\n",
              "23041       com.gf.offroad.garbage.truck.driving.parking     4\n",
              "30700  com.play.io.monster.truck.demolition.derby.cra...     4\n",
              "25090                  com.impossible.ramp.carstuntgames     3\n",
              "27025  com.ludosmobile.captain.girl.hero.ny.street.fi...     3\n",
              "...                                                  ...   ...\n",
              "5497                                          1499304256     2\n",
              "7905                                          1548712972     2\n",
              "8296                                          1555219941     2\n",
              "23602                          com.grand.shooting.strike     2\n",
              "27337                       com.mashathedog.myvirtualpet     1\n",
              "\n",
              "[987 rows x 2 columns]"
            ]
          },
          "metadata": {},
          "execution_count": 52
        }
      ]
    },
    {
      "cell_type": "code",
      "metadata": {
        "id": "-RoBqGMpzpBY"
      },
      "source": [
        "city2 = city2.query('size < 2')"
      ],
      "execution_count": null,
      "outputs": []
    },
    {
      "cell_type": "code",
      "metadata": {
        "colab": {
          "base_uri": "https://localhost:8080/"
        },
        "id": "2zjljLRV0yLI",
        "outputId": "ad246dbf-1b02-4a46-b93c-f576dc9f80ae"
      },
      "source": [
        "train_df.shape[0]"
      ],
      "execution_count": null,
      "outputs": [
        {
          "output_type": "execute_result",
          "data": {
            "text/plain": [
              "516667"
            ]
          },
          "metadata": {},
          "execution_count": 39
        }
      ]
    },
    {
      "cell_type": "code",
      "metadata": {
        "id": "HRtP9kWqF4e0"
      },
      "source": [
        "city2.to_csv('/content/drive/MyDrive/bundle3.csv', encoding='utf-8')"
      ],
      "execution_count": null,
      "outputs": []
    },
    {
      "cell_type": "code",
      "metadata": {
        "id": "zF-w6nNixkxC"
      },
      "source": [
        "city2 = pd.read_csv('/content/drive/MyDrive/bundle3.csv')"
      ],
      "execution_count": null,
      "outputs": []
    },
    {
      "cell_type": "code",
      "metadata": {
        "id": "wanvWevPGXHC"
      },
      "source": [
        "bundles = list(city2['bundle'])"
      ],
      "execution_count": null,
      "outputs": []
    },
    {
      "cell_type": "code",
      "metadata": {
        "colab": {
          "base_uri": "https://localhost:8080/"
        },
        "id": "962vg0JWGdDS",
        "outputId": "e113a9e0-6cf8-4b56-838f-ae36fbb7d51b"
      },
      "source": [
        "print(len(bundles))"
      ],
      "execution_count": null,
      "outputs": [
        {
          "output_type": "stream",
          "name": "stdout",
          "text": [
            "986\n"
          ]
        }
      ]
    },
    {
      "cell_type": "code",
      "metadata": {
        "id": "ljIEM7NSJ6lS"
      },
      "source": [
        ""
      ],
      "execution_count": null,
      "outputs": []
    },
    {
      "cell_type": "code",
      "metadata": {
        "id": "31ksU4FFHBu5"
      },
      "source": [
        "train_df = train_df.query(\"bundle == @bundles\")"
      ],
      "execution_count": null,
      "outputs": []
    },
    {
      "cell_type": "code",
      "metadata": {
        "colab": {
          "base_uri": "https://localhost:8080/"
        },
        "id": "qu724oXWJzAE",
        "outputId": "36e491a6-62b6-414e-899b-73ae22eee500"
      },
      "source": [
        "train_df.shape[0]"
      ],
      "execution_count": null,
      "outputs": [
        {
          "output_type": "execute_result",
          "data": {
            "text/plain": [
              "516667"
            ]
          },
          "metadata": {},
          "execution_count": 12
        }
      ]
    },
    {
      "cell_type": "code",
      "metadata": {
        "colab": {
          "base_uri": "https://localhost:8080/",
          "height": 206
        },
        "id": "5Zlq4uTLHmR4",
        "outputId": "5cfc39fc-2917-4fb3-a46a-525550fe0cbe"
      },
      "source": [
        "city2 = train_df.groupby(['bundle', 'gamecategory', 'subgamecategory'], as_index=False).size()\n",
        "city2.head()"
      ],
      "execution_count": null,
      "outputs": [
        {
          "output_type": "execute_result",
          "data": {
            "text/html": [
              "<div>\n",
              "<style scoped>\n",
              "    .dataframe tbody tr th:only-of-type {\n",
              "        vertical-align: middle;\n",
              "    }\n",
              "\n",
              "    .dataframe tbody tr th {\n",
              "        vertical-align: top;\n",
              "    }\n",
              "\n",
              "    .dataframe thead th {\n",
              "        text-align: right;\n",
              "    }\n",
              "</style>\n",
              "<table border=\"1\" class=\"dataframe\">\n",
              "  <thead>\n",
              "    <tr style=\"text-align: right;\">\n",
              "      <th></th>\n",
              "      <th>bundle</th>\n",
              "      <th>gamecategory</th>\n",
              "      <th>subgamecategory</th>\n",
              "      <th>size</th>\n",
              "    </tr>\n",
              "  </thead>\n",
              "  <tbody>\n",
              "    <tr>\n",
              "      <th>0</th>\n",
              "      <td>1017957701</td>\n",
              "      <td>Games</td>\n",
              "      <td>Role Playing</td>\n",
              "      <td>18</td>\n",
              "    </tr>\n",
              "    <tr>\n",
              "      <th>1</th>\n",
              "      <td>1017957701</td>\n",
              "      <td>Games</td>\n",
              "      <td>Simulation</td>\n",
              "      <td>42</td>\n",
              "    </tr>\n",
              "    <tr>\n",
              "      <th>2</th>\n",
              "      <td>1018725872</td>\n",
              "      <td>Games</td>\n",
              "      <td>Card</td>\n",
              "      <td>7</td>\n",
              "    </tr>\n",
              "    <tr>\n",
              "      <th>3</th>\n",
              "      <td>1018725872</td>\n",
              "      <td>Games</td>\n",
              "      <td>Strategy</td>\n",
              "      <td>3</td>\n",
              "    </tr>\n",
              "    <tr>\n",
              "      <th>4</th>\n",
              "      <td>1021946968</td>\n",
              "      <td>Games</td>\n",
              "      <td>Board</td>\n",
              "      <td>904</td>\n",
              "    </tr>\n",
              "  </tbody>\n",
              "</table>\n",
              "</div>"
            ],
            "text/plain": [
              "       bundle gamecategory subgamecategory  size\n",
              "0  1017957701        Games    Role Playing    18\n",
              "1  1017957701        Games      Simulation    42\n",
              "2  1018725872        Games            Card     7\n",
              "3  1018725872        Games        Strategy     3\n",
              "4  1021946968        Games           Board   904"
            ]
          },
          "metadata": {},
          "execution_count": 13
        }
      ]
    },
    {
      "cell_type": "code",
      "metadata": {
        "id": "q4hNZ1tSPf6I"
      },
      "source": [
        "city2 = city2.sort_values(by=['bundle','size'], ascending=False)"
      ],
      "execution_count": null,
      "outputs": []
    },
    {
      "cell_type": "code",
      "metadata": {
        "colab": {
          "base_uri": "https://localhost:8080/"
        },
        "id": "BzRqpFU2H2wh",
        "outputId": "0d797aae-9a79-4b35-a0e7-a9d54b20fb3c"
      },
      "source": [
        "city2.shape[0]"
      ],
      "execution_count": null,
      "outputs": [
        {
          "output_type": "execute_result",
          "data": {
            "text/plain": [
              "2020"
            ]
          },
          "metadata": {},
          "execution_count": 20
        }
      ]
    },
    {
      "cell_type": "code",
      "metadata": {
        "colab": {
          "base_uri": "https://localhost:8080/",
          "height": 677
        },
        "id": "uvnmEZsrPjaw",
        "outputId": "368e66e9-74d7-4731-d812-03f6067b6b4c"
      },
      "source": [
        "city2[:20]"
      ],
      "execution_count": null,
      "outputs": [
        {
          "output_type": "execute_result",
          "data": {
            "text/html": [
              "<div>\n",
              "<style scoped>\n",
              "    .dataframe tbody tr th:only-of-type {\n",
              "        vertical-align: middle;\n",
              "    }\n",
              "\n",
              "    .dataframe tbody tr th {\n",
              "        vertical-align: top;\n",
              "    }\n",
              "\n",
              "    .dataframe thead th {\n",
              "        text-align: right;\n",
              "    }\n",
              "</style>\n",
              "<table border=\"1\" class=\"dataframe\">\n",
              "  <thead>\n",
              "    <tr style=\"text-align: right;\">\n",
              "      <th></th>\n",
              "      <th>bundle</th>\n",
              "      <th>gamecategory</th>\n",
              "      <th>subgamecategory</th>\n",
              "      <th>size</th>\n",
              "    </tr>\n",
              "  </thead>\n",
              "  <tbody>\n",
              "    <tr>\n",
              "      <th>2018</th>\n",
              "      <td>videodownloader.pinterest.video.download.pinte...</td>\n",
              "      <td>Applications</td>\n",
              "      <td>Tools</td>\n",
              "      <td>2</td>\n",
              "    </tr>\n",
              "    <tr>\n",
              "      <th>2019</th>\n",
              "      <td>videodownloader.pinterest.video.download.pinte...</td>\n",
              "      <td>Applications</td>\n",
              "      <td>Video Players &amp; Editors</td>\n",
              "      <td>1</td>\n",
              "    </tr>\n",
              "    <tr>\n",
              "      <th>2016</th>\n",
              "      <td>solitaire.classic.cards</td>\n",
              "      <td>Games</td>\n",
              "      <td>Card</td>\n",
              "      <td>53</td>\n",
              "    </tr>\n",
              "    <tr>\n",
              "      <th>2017</th>\n",
              "      <td>solitaire.classic.cards</td>\n",
              "      <td>Games</td>\n",
              "      <td>Puzzle</td>\n",
              "      <td>5</td>\n",
              "    </tr>\n",
              "    <tr>\n",
              "      <th>2015</th>\n",
              "      <td>ru.onetwothree.wordmagic</td>\n",
              "      <td>Games</td>\n",
              "      <td>Educational</td>\n",
              "      <td>14</td>\n",
              "    </tr>\n",
              "    <tr>\n",
              "      <th>2014</th>\n",
              "      <td>ru.onetwothree.wordmagic</td>\n",
              "      <td>Applications</td>\n",
              "      <td>Education</td>\n",
              "      <td>5</td>\n",
              "    </tr>\n",
              "    <tr>\n",
              "      <th>2013</th>\n",
              "      <td>org.sabgames.paopao</td>\n",
              "      <td>Games</td>\n",
              "      <td>Puzzle</td>\n",
              "      <td>49</td>\n",
              "    </tr>\n",
              "    <tr>\n",
              "      <th>2012</th>\n",
              "      <td>org.sabgames.paopao</td>\n",
              "      <td>Games</td>\n",
              "      <td>Board</td>\n",
              "      <td>5</td>\n",
              "    </tr>\n",
              "    <tr>\n",
              "      <th>2010</th>\n",
              "      <td>om.zmmy.police.car.games.real.parking</td>\n",
              "      <td>Games</td>\n",
              "      <td>Role Playing</td>\n",
              "      <td>8</td>\n",
              "    </tr>\n",
              "    <tr>\n",
              "      <th>2011</th>\n",
              "      <td>om.zmmy.police.car.games.real.parking</td>\n",
              "      <td>Games</td>\n",
              "      <td>Strategy</td>\n",
              "      <td>7</td>\n",
              "    </tr>\n",
              "    <tr>\n",
              "      <th>2008</th>\n",
              "      <td>merged.jewels.jewelgames</td>\n",
              "      <td>Games</td>\n",
              "      <td>Arcade</td>\n",
              "      <td>88</td>\n",
              "    </tr>\n",
              "    <tr>\n",
              "      <th>2009</th>\n",
              "      <td>merged.jewels.jewelgames</td>\n",
              "      <td>Games</td>\n",
              "      <td>Puzzle</td>\n",
              "      <td>2</td>\n",
              "    </tr>\n",
              "    <tr>\n",
              "      <th>2006</th>\n",
              "      <td>jettoast.copyhistory</td>\n",
              "      <td>Applications</td>\n",
              "      <td>Productivity</td>\n",
              "      <td>2</td>\n",
              "    </tr>\n",
              "    <tr>\n",
              "      <th>2007</th>\n",
              "      <td>jettoast.copyhistory</td>\n",
              "      <td>Applications</td>\n",
              "      <td>Tools</td>\n",
              "      <td>1</td>\n",
              "    </tr>\n",
              "    <tr>\n",
              "      <th>2004</th>\n",
              "      <td>jesus.coloring.book.bible.color.by.number.chri...</td>\n",
              "      <td>Games</td>\n",
              "      <td>Board</td>\n",
              "      <td>19</td>\n",
              "    </tr>\n",
              "    <tr>\n",
              "      <th>2005</th>\n",
              "      <td>jesus.coloring.book.bible.color.by.number.chri...</td>\n",
              "      <td>Games</td>\n",
              "      <td>Casual</td>\n",
              "      <td>1</td>\n",
              "    </tr>\n",
              "    <tr>\n",
              "      <th>2002</th>\n",
              "      <td>hot.wheels.stunt.car.offroad.race.mtd</td>\n",
              "      <td>Applications</td>\n",
              "      <td>Weather</td>\n",
              "      <td>12</td>\n",
              "    </tr>\n",
              "    <tr>\n",
              "      <th>2003</th>\n",
              "      <td>hot.wheels.stunt.car.offroad.race.mtd</td>\n",
              "      <td>Games</td>\n",
              "      <td>Strategy</td>\n",
              "      <td>12</td>\n",
              "    </tr>\n",
              "    <tr>\n",
              "      <th>2000</th>\n",
              "      <td>hero.tower.battle</td>\n",
              "      <td>Games</td>\n",
              "      <td>Adventure</td>\n",
              "      <td>51</td>\n",
              "    </tr>\n",
              "    <tr>\n",
              "      <th>2001</th>\n",
              "      <td>hero.tower.battle</td>\n",
              "      <td>Games</td>\n",
              "      <td>Role Playing</td>\n",
              "      <td>6</td>\n",
              "    </tr>\n",
              "  </tbody>\n",
              "</table>\n",
              "</div>"
            ],
            "text/plain": [
              "                                                 bundle  ... size\n",
              "2018  videodownloader.pinterest.video.download.pinte...  ...    2\n",
              "2019  videodownloader.pinterest.video.download.pinte...  ...    1\n",
              "2016                            solitaire.classic.cards  ...   53\n",
              "2017                            solitaire.classic.cards  ...    5\n",
              "2015                           ru.onetwothree.wordmagic  ...   14\n",
              "2014                           ru.onetwothree.wordmagic  ...    5\n",
              "2013                                org.sabgames.paopao  ...   49\n",
              "2012                                org.sabgames.paopao  ...    5\n",
              "2010              om.zmmy.police.car.games.real.parking  ...    8\n",
              "2011              om.zmmy.police.car.games.real.parking  ...    7\n",
              "2008                           merged.jewels.jewelgames  ...   88\n",
              "2009                           merged.jewels.jewelgames  ...    2\n",
              "2006                               jettoast.copyhistory  ...    2\n",
              "2007                               jettoast.copyhistory  ...    1\n",
              "2004  jesus.coloring.book.bible.color.by.number.chri...  ...   19\n",
              "2005  jesus.coloring.book.bible.color.by.number.chri...  ...    1\n",
              "2002              hot.wheels.stunt.car.offroad.race.mtd  ...   12\n",
              "2003              hot.wheels.stunt.car.offroad.race.mtd  ...   12\n",
              "2000                                  hero.tower.battle  ...   51\n",
              "2001                                  hero.tower.battle  ...    6\n",
              "\n",
              "[20 rows x 4 columns]"
            ]
          },
          "metadata": {},
          "execution_count": 17
        }
      ]
    },
    {
      "cell_type": "code",
      "metadata": {
        "id": "rskKJq0Az9Ip"
      },
      "source": [
        "prev_index = -1\n",
        "for index, row in city2.iterrows():\n",
        "    if prev_index != -1:\n",
        "        if city2.at[prev_index, 'bundle'] != city2.at[index, 'bundle']:\n",
        "            city2.at[index, 'wqeq'] = 1\n",
        "        else:\n",
        "            city2.at[index, 'wqeq'] = 0\n",
        "    else:\n",
        "        city2.at[index, 'wqeq'] = 1\n",
        "    prev_index = index  "
      ],
      "execution_count": null,
      "outputs": []
    },
    {
      "cell_type": "code",
      "metadata": {
        "colab": {
          "base_uri": "https://localhost:8080/",
          "height": 206
        },
        "id": "LCaTMUKA2ZXg",
        "outputId": "b04df458-f434-469c-c242-6ee7e0643d3e"
      },
      "source": [
        "city2.head()"
      ],
      "execution_count": null,
      "outputs": [
        {
          "output_type": "execute_result",
          "data": {
            "text/html": [
              "<div>\n",
              "<style scoped>\n",
              "    .dataframe tbody tr th:only-of-type {\n",
              "        vertical-align: middle;\n",
              "    }\n",
              "\n",
              "    .dataframe tbody tr th {\n",
              "        vertical-align: top;\n",
              "    }\n",
              "\n",
              "    .dataframe thead th {\n",
              "        text-align: right;\n",
              "    }\n",
              "</style>\n",
              "<table border=\"1\" class=\"dataframe\">\n",
              "  <thead>\n",
              "    <tr style=\"text-align: right;\">\n",
              "      <th></th>\n",
              "      <th>bundle</th>\n",
              "      <th>gamecategory</th>\n",
              "      <th>subgamecategory</th>\n",
              "      <th>size</th>\n",
              "      <th>del</th>\n",
              "      <th>wqeq</th>\n",
              "    </tr>\n",
              "  </thead>\n",
              "  <tbody>\n",
              "    <tr>\n",
              "      <th>2018</th>\n",
              "      <td>videodownloader.pinterest.video.download.pinte...</td>\n",
              "      <td>Applications</td>\n",
              "      <td>Tools</td>\n",
              "      <td>2</td>\n",
              "      <td>1.0</td>\n",
              "      <td>1.0</td>\n",
              "    </tr>\n",
              "    <tr>\n",
              "      <th>2019</th>\n",
              "      <td>videodownloader.pinterest.video.download.pinte...</td>\n",
              "      <td>Applications</td>\n",
              "      <td>Video Players &amp; Editors</td>\n",
              "      <td>1</td>\n",
              "      <td>0.0</td>\n",
              "      <td>0.0</td>\n",
              "    </tr>\n",
              "    <tr>\n",
              "      <th>2016</th>\n",
              "      <td>solitaire.classic.cards</td>\n",
              "      <td>Games</td>\n",
              "      <td>Card</td>\n",
              "      <td>53</td>\n",
              "      <td>1.0</td>\n",
              "      <td>1.0</td>\n",
              "    </tr>\n",
              "    <tr>\n",
              "      <th>2017</th>\n",
              "      <td>solitaire.classic.cards</td>\n",
              "      <td>Games</td>\n",
              "      <td>Puzzle</td>\n",
              "      <td>5</td>\n",
              "      <td>0.0</td>\n",
              "      <td>0.0</td>\n",
              "    </tr>\n",
              "    <tr>\n",
              "      <th>2015</th>\n",
              "      <td>ru.onetwothree.wordmagic</td>\n",
              "      <td>Games</td>\n",
              "      <td>Educational</td>\n",
              "      <td>14</td>\n",
              "      <td>1.0</td>\n",
              "      <td>1.0</td>\n",
              "    </tr>\n",
              "  </tbody>\n",
              "</table>\n",
              "</div>"
            ],
            "text/plain": [
              "                                                 bundle  ... wqeq\n",
              "2018  videodownloader.pinterest.video.download.pinte...  ...  1.0\n",
              "2019  videodownloader.pinterest.video.download.pinte...  ...  0.0\n",
              "2016                            solitaire.classic.cards  ...  1.0\n",
              "2017                            solitaire.classic.cards  ...  0.0\n",
              "2015                           ru.onetwothree.wordmagic  ...  1.0\n",
              "\n",
              "[5 rows x 6 columns]"
            ]
          },
          "metadata": {},
          "execution_count": 30
        }
      ]
    },
    {
      "cell_type": "code",
      "metadata": {
        "id": "9QtGibSF2fhQ"
      },
      "source": [
        "qweqw = ['0.0']"
      ],
      "execution_count": null,
      "outputs": []
    },
    {
      "cell_type": "code",
      "metadata": {
        "id": "sBmg8vMi2eXP"
      },
      "source": [
        "city3 = city2.query(\"wqeq != 0\")"
      ],
      "execution_count": null,
      "outputs": []
    },
    {
      "cell_type": "code",
      "metadata": {
        "colab": {
          "base_uri": "https://localhost:8080/",
          "height": 206
        },
        "id": "-kFEelLs3G3f",
        "outputId": "d258befa-3890-415d-aefe-9ebdacb40a72"
      },
      "source": [
        "city3.head()"
      ],
      "execution_count": null,
      "outputs": [
        {
          "output_type": "execute_result",
          "data": {
            "text/html": [
              "<div>\n",
              "<style scoped>\n",
              "    .dataframe tbody tr th:only-of-type {\n",
              "        vertical-align: middle;\n",
              "    }\n",
              "\n",
              "    .dataframe tbody tr th {\n",
              "        vertical-align: top;\n",
              "    }\n",
              "\n",
              "    .dataframe thead th {\n",
              "        text-align: right;\n",
              "    }\n",
              "</style>\n",
              "<table border=\"1\" class=\"dataframe\">\n",
              "  <thead>\n",
              "    <tr style=\"text-align: right;\">\n",
              "      <th></th>\n",
              "      <th>bundle</th>\n",
              "      <th>gamecategory</th>\n",
              "      <th>subgamecategory</th>\n",
              "    </tr>\n",
              "  </thead>\n",
              "  <tbody>\n",
              "    <tr>\n",
              "      <th>2018</th>\n",
              "      <td>videodownloader.pinterest.video.download.pinte...</td>\n",
              "      <td>Applications</td>\n",
              "      <td>Tools</td>\n",
              "    </tr>\n",
              "    <tr>\n",
              "      <th>2016</th>\n",
              "      <td>solitaire.classic.cards</td>\n",
              "      <td>Games</td>\n",
              "      <td>Card</td>\n",
              "    </tr>\n",
              "    <tr>\n",
              "      <th>2015</th>\n",
              "      <td>ru.onetwothree.wordmagic</td>\n",
              "      <td>Games</td>\n",
              "      <td>Educational</td>\n",
              "    </tr>\n",
              "    <tr>\n",
              "      <th>2013</th>\n",
              "      <td>org.sabgames.paopao</td>\n",
              "      <td>Games</td>\n",
              "      <td>Puzzle</td>\n",
              "    </tr>\n",
              "    <tr>\n",
              "      <th>2010</th>\n",
              "      <td>om.zmmy.police.car.games.real.parking</td>\n",
              "      <td>Games</td>\n",
              "      <td>Role Playing</td>\n",
              "    </tr>\n",
              "  </tbody>\n",
              "</table>\n",
              "</div>"
            ],
            "text/plain": [
              "                                                 bundle  ... subgamecategory\n",
              "2018  videodownloader.pinterest.video.download.pinte...  ...           Tools\n",
              "2016                            solitaire.classic.cards  ...            Card\n",
              "2015                           ru.onetwothree.wordmagic  ...     Educational\n",
              "2013                                org.sabgames.paopao  ...          Puzzle\n",
              "2010              om.zmmy.police.car.games.real.parking  ...    Role Playing\n",
              "\n",
              "[5 rows x 3 columns]"
            ]
          },
          "metadata": {},
          "execution_count": 67
        }
      ]
    },
    {
      "cell_type": "code",
      "metadata": {
        "colab": {
          "base_uri": "https://localhost:8080/"
        },
        "id": "lJI8Aiyi3Kqw",
        "outputId": "f6e9fda1-280f-4ac2-94de-309331940a75"
      },
      "source": [
        "city3.shape[0]"
      ],
      "execution_count": null,
      "outputs": [
        {
          "output_type": "execute_result",
          "data": {
            "text/plain": [
              "986"
            ]
          },
          "metadata": {},
          "execution_count": 66
        }
      ]
    },
    {
      "cell_type": "code",
      "metadata": {
        "id": "GXMC-_fJ3W-C"
      },
      "source": [
        "city3 = city3.drop(\"size\", axis=1)\n",
        "city3 = city3.drop(\"del\", axis=1)\n",
        "city3 = city3.drop(\"wqeq\", axis=1)"
      ],
      "execution_count": null,
      "outputs": []
    },
    {
      "cell_type": "code",
      "metadata": {
        "id": "7vaVrpLj3QQP"
      },
      "source": [
        "city3.to_csv('/content/drive/MyDrive/bundle9.csv', encoding='utf-8', sep=';')"
      ],
      "execution_count": null,
      "outputs": []
    },
    {
      "cell_type": "code",
      "metadata": {
        "id": "8kgy3kOOVAtf"
      },
      "source": [
        "city2['subgamecategory'] = city2['subgamecategory'].astype(str)"
      ],
      "execution_count": null,
      "outputs": []
    },
    {
      "cell_type": "code",
      "metadata": {
        "id": "00-xjFXyVW72"
      },
      "source": [
        "qweqw = ['None']"
      ],
      "execution_count": null,
      "outputs": []
    },
    {
      "cell_type": "code",
      "metadata": {
        "id": "eviMRDvsS5Ia"
      },
      "source": [
        "city2 = city2.query(\"subgamecategory != @qweqw\")"
      ],
      "execution_count": null,
      "outputs": []
    },
    {
      "cell_type": "code",
      "metadata": {
        "colab": {
          "base_uri": "https://localhost:8080/"
        },
        "id": "fMq-shreUNP4",
        "outputId": "58c2d887-8164-4984-b81d-1ccb9a5db996"
      },
      "source": [
        "city2.nunique()"
      ],
      "execution_count": null,
      "outputs": [
        {
          "output_type": "execute_result",
          "data": {
            "text/plain": [
              "bundle             986\n",
              "gamecategory        11\n",
              "subgamecategory     44\n",
              "size               316\n",
              "dtype: int64"
            ]
          },
          "metadata": {},
          "execution_count": 45
        }
      ]
    },
    {
      "cell_type": "code",
      "metadata": {
        "colab": {
          "base_uri": "https://localhost:8080/"
        },
        "id": "QTFEAo_KS-B6",
        "outputId": "d0812614-f90d-45d3-8965-88befb9442d3"
      },
      "source": [
        "city2.shape[0]"
      ],
      "execution_count": null,
      "outputs": [
        {
          "output_type": "execute_result",
          "data": {
            "text/plain": [
              "1986"
            ]
          },
          "metadata": {},
          "execution_count": 53
        }
      ]
    },
    {
      "cell_type": "code",
      "metadata": {
        "id": "h-tHH8qyN40L"
      },
      "source": [
        "city2.to_csv('/content/drive/MyDrive/bundle4.csv', encoding='utf-8')"
      ],
      "execution_count": null,
      "outputs": []
    },
    {
      "cell_type": "code",
      "metadata": {
        "colab": {
          "base_uri": "https://localhost:8080/",
          "height": 677
        },
        "id": "xaUVRujhICCX",
        "outputId": "9b424732-39f7-452c-e625-bd87b1e68557"
      },
      "source": [
        "city2[:20]"
      ],
      "execution_count": null,
      "outputs": [
        {
          "output_type": "execute_result",
          "data": {
            "text/html": [
              "<div>\n",
              "<style scoped>\n",
              "    .dataframe tbody tr th:only-of-type {\n",
              "        vertical-align: middle;\n",
              "    }\n",
              "\n",
              "    .dataframe tbody tr th {\n",
              "        vertical-align: top;\n",
              "    }\n",
              "\n",
              "    .dataframe thead th {\n",
              "        text-align: right;\n",
              "    }\n",
              "</style>\n",
              "<table border=\"1\" class=\"dataframe\">\n",
              "  <thead>\n",
              "    <tr style=\"text-align: right;\">\n",
              "      <th></th>\n",
              "      <th>bundle</th>\n",
              "      <th>gamecategory</th>\n",
              "      <th>subgamecategory</th>\n",
              "      <th>size</th>\n",
              "    </tr>\n",
              "  </thead>\n",
              "  <tbody>\n",
              "    <tr>\n",
              "      <th>0</th>\n",
              "      <td>1000556973</td>\n",
              "      <td>Entertainment</td>\n",
              "      <td>None</td>\n",
              "      <td>9</td>\n",
              "    </tr>\n",
              "    <tr>\n",
              "      <th>1</th>\n",
              "      <td>1000773093</td>\n",
              "      <td>Games</td>\n",
              "      <td>Sports</td>\n",
              "      <td>3</td>\n",
              "    </tr>\n",
              "    <tr>\n",
              "      <th>2</th>\n",
              "      <td>1000876192</td>\n",
              "      <td>Games</td>\n",
              "      <td>Card</td>\n",
              "      <td>32</td>\n",
              "    </tr>\n",
              "    <tr>\n",
              "      <th>3</th>\n",
              "      <td>1001044474</td>\n",
              "      <td>Entertainment</td>\n",
              "      <td>None</td>\n",
              "      <td>3</td>\n",
              "    </tr>\n",
              "    <tr>\n",
              "      <th>4</th>\n",
              "      <td>1001164812</td>\n",
              "      <td>Games</td>\n",
              "      <td>Racing</td>\n",
              "      <td>2</td>\n",
              "    </tr>\n",
              "    <tr>\n",
              "      <th>5</th>\n",
              "      <td>1001259039</td>\n",
              "      <td>Education</td>\n",
              "      <td>None</td>\n",
              "      <td>9</td>\n",
              "    </tr>\n",
              "    <tr>\n",
              "      <th>6</th>\n",
              "      <td>1001425491</td>\n",
              "      <td>Games</td>\n",
              "      <td>Racing</td>\n",
              "      <td>160</td>\n",
              "    </tr>\n",
              "    <tr>\n",
              "      <th>7</th>\n",
              "      <td>1002132680</td>\n",
              "      <td>Games</td>\n",
              "      <td>Casual</td>\n",
              "      <td>1</td>\n",
              "    </tr>\n",
              "    <tr>\n",
              "      <th>8</th>\n",
              "      <td>1002340615</td>\n",
              "      <td>Games</td>\n",
              "      <td>Action</td>\n",
              "      <td>15</td>\n",
              "    </tr>\n",
              "    <tr>\n",
              "      <th>9</th>\n",
              "      <td>1002597082</td>\n",
              "      <td>Games</td>\n",
              "      <td>Family</td>\n",
              "      <td>3</td>\n",
              "    </tr>\n",
              "    <tr>\n",
              "      <th>10</th>\n",
              "      <td>1002635492</td>\n",
              "      <td>Games</td>\n",
              "      <td>Role Playing</td>\n",
              "      <td>148</td>\n",
              "    </tr>\n",
              "    <tr>\n",
              "      <th>11</th>\n",
              "      <td>1003037396</td>\n",
              "      <td>Games</td>\n",
              "      <td>Racing</td>\n",
              "      <td>4</td>\n",
              "    </tr>\n",
              "    <tr>\n",
              "      <th>12</th>\n",
              "      <td>1003168863</td>\n",
              "      <td>Games</td>\n",
              "      <td>Role Playing</td>\n",
              "      <td>199</td>\n",
              "    </tr>\n",
              "    <tr>\n",
              "      <th>13</th>\n",
              "      <td>1003611920</td>\n",
              "      <td>Games</td>\n",
              "      <td>Simulation</td>\n",
              "      <td>6</td>\n",
              "    </tr>\n",
              "    <tr>\n",
              "      <th>14</th>\n",
              "      <td>1003679857</td>\n",
              "      <td>Games</td>\n",
              "      <td>Simulation</td>\n",
              "      <td>5</td>\n",
              "    </tr>\n",
              "    <tr>\n",
              "      <th>15</th>\n",
              "      <td>1003841592</td>\n",
              "      <td>Health &amp; Fitness</td>\n",
              "      <td>None</td>\n",
              "      <td>3</td>\n",
              "    </tr>\n",
              "    <tr>\n",
              "      <th>16</th>\n",
              "      <td>1004227662</td>\n",
              "      <td>Games</td>\n",
              "      <td>Puzzle</td>\n",
              "      <td>7</td>\n",
              "    </tr>\n",
              "    <tr>\n",
              "      <th>17</th>\n",
              "      <td>1004539546</td>\n",
              "      <td>Games</td>\n",
              "      <td>Action</td>\n",
              "      <td>111</td>\n",
              "    </tr>\n",
              "    <tr>\n",
              "      <th>18</th>\n",
              "      <td>1004685666</td>\n",
              "      <td>Games</td>\n",
              "      <td>Simulation</td>\n",
              "      <td>6</td>\n",
              "    </tr>\n",
              "    <tr>\n",
              "      <th>19</th>\n",
              "      <td>1004908226</td>\n",
              "      <td>Games</td>\n",
              "      <td>Simulation</td>\n",
              "      <td>11</td>\n",
              "    </tr>\n",
              "  </tbody>\n",
              "</table>\n",
              "</div>"
            ],
            "text/plain": [
              "        bundle      gamecategory subgamecategory  size\n",
              "0   1000556973     Entertainment            None     9\n",
              "1   1000773093             Games          Sports     3\n",
              "2   1000876192             Games            Card    32\n",
              "3   1001044474     Entertainment            None     3\n",
              "4   1001164812             Games          Racing     2\n",
              "5   1001259039         Education            None     9\n",
              "6   1001425491             Games          Racing   160\n",
              "7   1002132680             Games          Casual     1\n",
              "8   1002340615             Games          Action    15\n",
              "9   1002597082             Games          Family     3\n",
              "10  1002635492             Games    Role Playing   148\n",
              "11  1003037396             Games          Racing     4\n",
              "12  1003168863             Games    Role Playing   199\n",
              "13  1003611920             Games      Simulation     6\n",
              "14  1003679857             Games      Simulation     5\n",
              "15  1003841592  Health & Fitness            None     3\n",
              "16  1004227662             Games          Puzzle     7\n",
              "17  1004539546             Games          Action   111\n",
              "18  1004685666             Games      Simulation     6\n",
              "19  1004908226             Games      Simulation    11"
            ]
          },
          "metadata": {},
          "execution_count": 60
        }
      ]
    },
    {
      "cell_type": "code",
      "metadata": {
        "colab": {
          "base_uri": "https://localhost:8080/"
        },
        "id": "Jk2udl1uHsYw",
        "outputId": "28ef4dc1-a3cb-4fc5-9fa1-cc9132ac4b58"
      },
      "source": [
        "city2.shape[0]"
      ],
      "execution_count": null,
      "outputs": [
        {
          "output_type": "execute_result",
          "data": {
            "text/plain": [
              "40734"
            ]
          },
          "metadata": {},
          "execution_count": 52
        }
      ]
    },
    {
      "cell_type": "code",
      "metadata": {
        "colab": {
          "base_uri": "https://localhost:8080/"
        },
        "id": "v_cc3gKuy44g",
        "outputId": "341ab4a4-05a9-4882-bc00-5e842b6430f7"
      },
      "source": [
        "train_df.nunique()"
      ],
      "execution_count": null,
      "outputs": [
        {
          "output_type": "execute_result",
          "data": {
            "text/plain": [
              "bundle             40734\n",
              "gamecategory          27\n",
              "subgamecategory       53\n",
              "dtype: int64"
            ]
          },
          "metadata": {},
          "execution_count": 22
        }
      ]
    },
    {
      "cell_type": "code",
      "metadata": {
        "id": "jGKnuRKZyd7Q"
      },
      "source": [
        "train_df.to_csv('/content/drive/MyDrive/bundle.csv', encoding='utf-8')"
      ],
      "execution_count": null,
      "outputs": []
    },
    {
      "cell_type": "code",
      "metadata": {
        "id": "y0lQFJa6yTqA"
      },
      "source": [
        ""
      ],
      "execution_count": null,
      "outputs": []
    },
    {
      "cell_type": "code",
      "metadata": {
        "id": "V59vi0Oyg67S"
      },
      "source": [
        "oblast_no = [\"Brestskaya Oblast’\", \"Gomelskaya Oblast\", 'Витебская Область', 'Гродненская Область', 'Минск', 'Минская Область', 'Могилевская область']"
      ],
      "execution_count": null,
      "outputs": []
    },
    {
      "cell_type": "code",
      "metadata": {
        "id": "S_jaicGxhhKK"
      },
      "source": [
        "oblast_no_lower = [x.lower() for x in oblast_no]"
      ],
      "execution_count": null,
      "outputs": []
    },
    {
      "cell_type": "markdown",
      "metadata": {
        "id": "WVxPJI2kwN94"
      },
      "source": [
        "27886087"
      ]
    },
    {
      "cell_type": "code",
      "metadata": {
        "colab": {
          "base_uri": "https://localhost:8080/"
        },
        "id": "qFAu-l27klJ_",
        "outputId": "fafa1002-deaf-46c3-9fe7-b5462e26658a"
      },
      "source": [
        "train_df.shape[0]"
      ],
      "execution_count": null,
      "outputs": [
        {
          "output_type": "execute_result",
          "data": {
            "text/plain": [
              "41774"
            ]
          },
          "metadata": {},
          "execution_count": 21
        }
      ]
    },
    {
      "cell_type": "code",
      "metadata": {
        "id": "QAa_X2h2mS7J",
        "colab": {
          "base_uri": "https://localhost:8080/",
          "height": 206
        },
        "outputId": "c53a46fe-22c9-4950-d7ad-68a7e803d77e"
      },
      "source": [
        "train_df.head()"
      ],
      "execution_count": null,
      "outputs": [
        {
          "output_type": "execute_result",
          "data": {
            "text/html": [
              "<div>\n",
              "<style scoped>\n",
              "    .dataframe tbody tr th:only-of-type {\n",
              "        vertical-align: middle;\n",
              "    }\n",
              "\n",
              "    .dataframe tbody tr th {\n",
              "        vertical-align: top;\n",
              "    }\n",
              "\n",
              "    .dataframe thead th {\n",
              "        text-align: right;\n",
              "    }\n",
              "</style>\n",
              "<table border=\"1\" class=\"dataframe\">\n",
              "  <thead>\n",
              "    <tr style=\"text-align: right;\">\n",
              "      <th></th>\n",
              "      <th>bundle</th>\n",
              "      <th>gamecategory</th>\n",
              "      <th>subgamecategory</th>\n",
              "    </tr>\n",
              "  </thead>\n",
              "  <tbody>\n",
              "    <tr>\n",
              "      <th>0</th>\n",
              "      <td>com.MadOut.BIG</td>\n",
              "      <td>Games</td>\n",
              "      <td>Racing</td>\n",
              "    </tr>\n",
              "    <tr>\n",
              "      <th>2</th>\n",
              "      <td>com.orbitalknight.ridiculousfreekick</td>\n",
              "      <td>Games</td>\n",
              "      <td>Arcade</td>\n",
              "    </tr>\n",
              "    <tr>\n",
              "      <th>5</th>\n",
              "      <td>com.hwg.sos</td>\n",
              "      <td>Games</td>\n",
              "      <td>Puzzle</td>\n",
              "    </tr>\n",
              "    <tr>\n",
              "      <th>6</th>\n",
              "      <td>com.hikergames.ArcadeHunter</td>\n",
              "      <td>Games</td>\n",
              "      <td>Arcade</td>\n",
              "    </tr>\n",
              "    <tr>\n",
              "      <th>7</th>\n",
              "      <td>com.lemongame.klondike.solitaire</td>\n",
              "      <td>Games</td>\n",
              "      <td>Card</td>\n",
              "    </tr>\n",
              "  </tbody>\n",
              "</table>\n",
              "</div>"
            ],
            "text/plain": [
              "                                 bundle gamecategory subgamecategory\n",
              "0                        com.MadOut.BIG        Games          Racing\n",
              "2  com.orbitalknight.ridiculousfreekick        Games          Arcade\n",
              "5                           com.hwg.sos        Games          Puzzle\n",
              "6           com.hikergames.ArcadeHunter        Games          Arcade\n",
              "7      com.lemongame.klondike.solitaire        Games            Card"
            ]
          },
          "metadata": {},
          "execution_count": 7
        }
      ]
    },
    {
      "cell_type": "code",
      "metadata": {
        "colab": {
          "base_uri": "https://localhost:8080/"
        },
        "id": "5qcZ4YIsno3p",
        "outputId": "ba465523-1203-44ad-c400-3a7717856523"
      },
      "source": [
        "train_df = train_df[:10000000]\n",
        "train_df.shape[0]"
      ],
      "execution_count": null,
      "outputs": [
        {
          "output_type": "execute_result",
          "data": {
            "text/plain": [
              "10000000"
            ]
          },
          "metadata": {},
          "execution_count": 6
        }
      ]
    },
    {
      "cell_type": "code",
      "metadata": {
        "id": "MOHT-orAm1RG"
      },
      "source": [
        "train_df['os'] = train_df['os'].str.lower()"
      ],
      "execution_count": null,
      "outputs": []
    },
    {
      "cell_type": "code",
      "metadata": {
        "id": "LTqvLvISiNlS"
      },
      "source": [
        "train_df['oblast'] = train_df['oblast'].str.lower()"
      ],
      "execution_count": null,
      "outputs": []
    },
    {
      "cell_type": "code",
      "metadata": {
        "id": "7yGhSYISk0Ni"
      },
      "source": [
        "train_df['city'] = train_df['city'].str.lower()"
      ],
      "execution_count": null,
      "outputs": []
    },
    {
      "cell_type": "code",
      "metadata": {
        "colab": {
          "base_uri": "https://localhost:8080/",
          "height": 206
        },
        "id": "FQGFMYSxoU5g",
        "outputId": "68cf24e9-8352-4538-df5c-dac02da13cb7"
      },
      "source": [
        "train_df.head()"
      ],
      "execution_count": null,
      "outputs": [
        {
          "output_type": "execute_result",
          "data": {
            "text/html": [
              "<div>\n",
              "<style scoped>\n",
              "    .dataframe tbody tr th:only-of-type {\n",
              "        vertical-align: middle;\n",
              "    }\n",
              "\n",
              "    .dataframe tbody tr th {\n",
              "        vertical-align: top;\n",
              "    }\n",
              "\n",
              "    .dataframe thead th {\n",
              "        text-align: right;\n",
              "    }\n",
              "</style>\n",
              "<table border=\"1\" class=\"dataframe\">\n",
              "  <thead>\n",
              "    <tr style=\"text-align: right;\">\n",
              "      <th></th>\n",
              "      <th>Segment</th>\n",
              "      <th>gamecategory</th>\n",
              "      <th>subgamecategory</th>\n",
              "      <th>bundle</th>\n",
              "      <th>created</th>\n",
              "      <th>shift</th>\n",
              "      <th>oblast</th>\n",
              "      <th>city</th>\n",
              "      <th>os</th>\n",
              "      <th>osv</th>\n",
              "    </tr>\n",
              "  </thead>\n",
              "  <tbody>\n",
              "    <tr>\n",
              "      <th>0</th>\n",
              "      <td>4</td>\n",
              "      <td>Games</td>\n",
              "      <td>Racing</td>\n",
              "      <td>com.MadOut.BIG</td>\n",
              "      <td>2021-07-05 18:07:40</td>\n",
              "      <td>MSK+6</td>\n",
              "      <td>забайкальский край</td>\n",
              "      <td>чита</td>\n",
              "      <td>android</td>\n",
              "      <td>10.0</td>\n",
              "    </tr>\n",
              "    <tr>\n",
              "      <th>1</th>\n",
              "      <td>4</td>\n",
              "      <td>NaN</td>\n",
              "      <td>NaN</td>\n",
              "      <td>com.easybrain.solitaire.klondike.free</td>\n",
              "      <td>2021-07-10 10:38:42</td>\n",
              "      <td>MSK+2</td>\n",
              "      <td>оренбургская область</td>\n",
              "      <td>оренбург</td>\n",
              "      <td>android</td>\n",
              "      <td>10.0.0</td>\n",
              "    </tr>\n",
              "    <tr>\n",
              "      <th>2</th>\n",
              "      <td>5</td>\n",
              "      <td>Games</td>\n",
              "      <td>Arcade</td>\n",
              "      <td>com.orbitalknight.ridiculousfreekick</td>\n",
              "      <td>2021-08-04 13:34:29</td>\n",
              "      <td>MSK</td>\n",
              "      <td>санкт-петербург</td>\n",
              "      <td>санкт-петербург</td>\n",
              "      <td>android</td>\n",
              "      <td>9.0</td>\n",
              "    </tr>\n",
              "    <tr>\n",
              "      <th>3</th>\n",
              "      <td>5</td>\n",
              "      <td>NaN</td>\n",
              "      <td>NaN</td>\n",
              "      <td>tcouchgind.scooterextreme.scooter</td>\n",
              "      <td>2021-08-06 07:35:27</td>\n",
              "      <td>MSK+2</td>\n",
              "      <td>свердловская область</td>\n",
              "      <td>екатеринбург</td>\n",
              "      <td>android</td>\n",
              "      <td>9</td>\n",
              "    </tr>\n",
              "    <tr>\n",
              "      <th>4</th>\n",
              "      <td>4</td>\n",
              "      <td>NaN</td>\n",
              "      <td>NaN</td>\n",
              "      <td>com.FidgetTrading3D.game</td>\n",
              "      <td>2021-08-02 20:43:59</td>\n",
              "      <td>MSK</td>\n",
              "      <td>московская область</td>\n",
              "      <td>звенигород</td>\n",
              "      <td>android</td>\n",
              "      <td>6.0.1</td>\n",
              "    </tr>\n",
              "  </tbody>\n",
              "</table>\n",
              "</div>"
            ],
            "text/plain": [
              "   Segment gamecategory subgamecategory  ...             city       os     osv\n",
              "0        4        Games          Racing  ...             чита  android    10.0\n",
              "1        4          NaN             NaN  ...         оренбург  android  10.0.0\n",
              "2        5        Games          Arcade  ...  санкт-петербург  android     9.0\n",
              "3        5          NaN             NaN  ...     екатеринбург  android       9\n",
              "4        4          NaN             NaN  ...       звенигород  android   6.0.1\n",
              "\n",
              "[5 rows x 10 columns]"
            ]
          },
          "metadata": {},
          "execution_count": 14
        }
      ]
    },
    {
      "cell_type": "code",
      "metadata": {
        "id": "XfO20QRoXw3T"
      },
      "source": [
        "import pandas as pd\n",
        "import numpy as np\n",
        "from datetime import timedelta\n",
        "import re\n",
        "\n",
        "def season(month):\n",
        "    if month == 12 or month == 1 or month == 2:\n",
        "        return \"winter\"\n",
        "    if 3 <= month <= 5:\n",
        "        return \"spring\"\n",
        "    if 6 <= month <= 8:\n",
        "        return \"summer\"\n",
        "    if 9 <= month <= 11:\n",
        "        return \"autumn\"\n",
        "\n",
        "\n",
        "def day_part(hour):\n",
        "    if 12 <= hour < 18:\n",
        "        return \"day\"\n",
        "    if 18 <= hour <= 23:\n",
        "        return \"evening\"\n",
        "    if 6 <= hour < 12:\n",
        "        return \"morning\"\n",
        "    if 0 <= hour <= 6:\n",
        "        return \"night\"\n",
        "\n",
        "\n",
        "def real_time(shift, date):\n",
        "    diff_time = str(shift[3:]) if len(str(shift)) > 3 else 0\n",
        "    if type(diff_time) == type(0):\n",
        "        return date\n",
        "    elif diff_time[0:1] == \"+\":\n",
        "        return date + timedelta(hours=int(diff_time[1:]))\n",
        "    elif diff_time[0:1] == \"-\":\n",
        "        return date - timedelta(hours=int(diff_time[1:]))\n",
        "    return date\n",
        "\n",
        "def city_type(population):\n",
        "    if population < 10000:\n",
        "        return 'village'\n",
        "    elif population < 100000:\n",
        "        return 'small'\n",
        "    elif population < 500000:\n",
        "        return 'medium'\n",
        "    elif population < 1000000:\n",
        "        return 'big'\n",
        "    elif population >= 1000000:\n",
        "        return 'million'\n",
        "    return 'small'\n"
      ],
      "execution_count": null,
      "outputs": []
    },
    {
      "cell_type": "code",
      "metadata": {
        "id": "gbd9ELWcXAJc",
        "colab": {
          "base_uri": "https://localhost:8080/"
        },
        "outputId": "f4ed9230-f823-4c6a-ecde-6b6ae5dca6dd"
      },
      "source": [
        "df = pd.read_csv('/content/my_data/train.csv', parse_dates=['created'])\n",
        "df = df[36000000:]\n",
        "print(df.shape[0])\n",
        "os = pd.read_csv('/content/drive/MyDrive/os.csv', sep=',')\n",
        "# city = pd.read_csv('/content/drive/MyDrive/city.csv', sep=';', encoding=\"utf-8\")\n",
        "cat = pd.read_csv('/content/drive/MyDrive/cat.csv', sep=';')\n",
        "bundle8 = pd.read_csv('/content/drive/MyDrive/bundle11.csv', sep=';')\n",
        "# city.drop('id', 1, inplace=True)\n",
        "\n",
        "df['os'] = df['os'].str.lower()\n",
        "# city['oblast'] = city['oblast'].str.strip().str.lower()\n",
        "# city['city'] = city['city'].str.strip().str.lower()\n",
        "# df['city'] = df['city'].str.strip().str.lower()\n",
        "# df['oblast'] = df['oblast'].str.strip().str.lower()\n",
        "# df['os'] = df['os'].str.lower()\n",
        "\n",
        "# city['oblast'] = re.sub(\"[^a-z0-9]+\",\"\", str(city['oblast']), flags=re.IGNORECASE)\n",
        "# city['city'] = re.sub(\"[^a-z0-9]+\",\"\", str(city['oblast']), flags=re.IGNORECASE)\n",
        "# df['city'] = re.sub(\"[^a-z0-9]+\",\"\", str(city['oblast']), flags=re.IGNORECASE)\n",
        "# df['oblast'] = re.sub(\"[^a-z0-9]+\",\"\", str(city['oblast']), flags=re.IGNORECASE)\n",
        "\n",
        "\n",
        "df[\"created\"] = pd.to_datetime(df[\"created\"], format='%Y-%m-%d %H:%M:%S')\n",
        "df['diff_time'] = df.apply(lambda row: str(row['shift'])[3:] if len(str(row['shift'])) > 3 else 0, axis=1)\n",
        "df['real_time'] = df.apply(lambda row: real_time(row['shift'], row[\"created\"]), axis=1)\n",
        "df['weekday'] = df.apply(lambda row: row['real_time'].weekday(), axis=1)\n",
        "df['season'] = df.apply(lambda row: season(row['real_time'].month), axis=1)\n",
        "df['day_part'] = df.apply(lambda row: day_part(row['real_time'].hour), axis=1)\n",
        "\n",
        "# mer.to_csv('mer.csv', sep=';', encoding='utf-8')"
      ],
      "execution_count": null,
      "outputs": [
        {
          "output_type": "stream",
          "name": "stdout",
          "text": [
            "8854516\n"
          ]
        }
      ]
    },
    {
      "cell_type": "code",
      "metadata": {
        "colab": {
          "base_uri": "https://localhost:8080/"
        },
        "id": "ZuBFGJsWrgXv",
        "outputId": "e1e2d6ba-72fd-4644-f2d8-db34ccb2164f"
      },
      "source": [
        "# mer = df.merge(city, on=['oblast', 'city'], how='left')\n",
        "mer = df.merge(os, on=['os', 'osv'], how='left')\n",
        "mer = mer.merge(bundle8, on=['bundle'], how='left')\n",
        "mer = mer.merge(cat, on=['gamecategory_y', 'subgamecategory_y'], how='left')\n",
        "print(mer.shape[0])"
      ],
      "execution_count": null,
      "outputs": [
        {
          "output_type": "stream",
          "name": "stdout",
          "text": [
            "8854516\n"
          ]
        }
      ]
    },
    {
      "cell_type": "code",
      "metadata": {
        "id": "V5l3MsCsenoS"
      },
      "source": [
        "# mer['city_type'] = mer.apply(lambda row: city_type(row['population']), axis=1)"
      ],
      "execution_count": null,
      "outputs": []
    },
    {
      "cell_type": "code",
      "metadata": {
        "id": "6w_lB0Zmgegh"
      },
      "source": [
        "mer = mer.drop(\"gamecategory_x\", axis=1)\n",
        "mer = mer.drop(\"subgamecategory_x\", axis=1)\n",
        "mer = mer.drop(\"gamecategory_y\", axis=1)\n",
        "mer = mer.drop(\"subgamecategory_y\", axis=1)\n",
        "mer = mer.drop(\"Unnamed: 0\", axis=1)\n",
        "mer = mer.drop(\"diff_time\", axis=1)\n",
        "mer = mer.drop(\"shift\", axis=1)\n",
        "# mer = mer.drop(\"type\", axis=1)\n",
        "# mer = mer.drop(\"children\", axis=1)\n",
        "# mer = mer.drop(\"population\", axis=1)\n",
        "mer = mer.drop(\"created\", axis=1)"
      ],
      "execution_count": null,
      "outputs": []
    },
    {
      "cell_type": "code",
      "metadata": {
        "colab": {
          "base_uri": "https://localhost:8080/",
          "height": 206
        },
        "id": "b98ls4zlePkT",
        "outputId": "10323a43-2cb4-4aec-eee0-542d8568fe10"
      },
      "source": [
        "mer.head()"
      ],
      "execution_count": null,
      "outputs": [
        {
          "output_type": "execute_result",
          "data": {
            "text/html": [
              "<div>\n",
              "<style scoped>\n",
              "    .dataframe tbody tr th:only-of-type {\n",
              "        vertical-align: middle;\n",
              "    }\n",
              "\n",
              "    .dataframe tbody tr th {\n",
              "        vertical-align: top;\n",
              "    }\n",
              "\n",
              "    .dataframe thead th {\n",
              "        text-align: right;\n",
              "    }\n",
              "</style>\n",
              "<table border=\"1\" class=\"dataframe\">\n",
              "  <thead>\n",
              "    <tr style=\"text-align: right;\">\n",
              "      <th></th>\n",
              "      <th>Segment</th>\n",
              "      <th>bundle</th>\n",
              "      <th>oblast</th>\n",
              "      <th>city</th>\n",
              "      <th>os</th>\n",
              "      <th>osv</th>\n",
              "      <th>real_time</th>\n",
              "      <th>weekday</th>\n",
              "      <th>season</th>\n",
              "      <th>day_part</th>\n",
              "      <th>os_global</th>\n",
              "      <th>category</th>\n",
              "      <th>subcategory</th>\n",
              "    </tr>\n",
              "  </thead>\n",
              "  <tbody>\n",
              "    <tr>\n",
              "      <th>0</th>\n",
              "      <td>4</td>\n",
              "      <td>com.psv.ladybug.color_by_number</td>\n",
              "      <td>Москва</td>\n",
              "      <td>Москва</td>\n",
              "      <td>android</td>\n",
              "      <td>10.0</td>\n",
              "      <td>2021-07-06 21:48:19</td>\n",
              "      <td>1</td>\n",
              "      <td>summer</td>\n",
              "      <td>evening</td>\n",
              "      <td>10</td>\n",
              "      <td>Games</td>\n",
              "      <td>Board</td>\n",
              "    </tr>\n",
              "    <tr>\n",
              "      <th>1</th>\n",
              "      <td>4</td>\n",
              "      <td>paint.by.number.pixel.art.coloring.drawing.puzzle</td>\n",
              "      <td>Москва</td>\n",
              "      <td>Москва</td>\n",
              "      <td>android</td>\n",
              "      <td>9.0</td>\n",
              "      <td>2021-07-05 20:33:36</td>\n",
              "      <td>0</td>\n",
              "      <td>summer</td>\n",
              "      <td>evening</td>\n",
              "      <td>9</td>\n",
              "      <td>Games</td>\n",
              "      <td>Board</td>\n",
              "    </tr>\n",
              "    <tr>\n",
              "      <th>2</th>\n",
              "      <td>5</td>\n",
              "      <td>com.loltap.farmland</td>\n",
              "      <td>Удмуртия</td>\n",
              "      <td>Ижевск</td>\n",
              "      <td>android</td>\n",
              "      <td>9.0</td>\n",
              "      <td>2021-08-02 16:47:30</td>\n",
              "      <td>0</td>\n",
              "      <td>summer</td>\n",
              "      <td>day</td>\n",
              "      <td>9</td>\n",
              "      <td>Games</td>\n",
              "      <td>Adventure</td>\n",
              "    </tr>\n",
              "    <tr>\n",
              "      <th>3</th>\n",
              "      <td>4</td>\n",
              "      <td>bubble.shoot.fruit.splash.game2</td>\n",
              "      <td>Иркутская область</td>\n",
              "      <td>Иркутск</td>\n",
              "      <td>android</td>\n",
              "      <td>9.0</td>\n",
              "      <td>2021-07-10 23:22:07</td>\n",
              "      <td>5</td>\n",
              "      <td>summer</td>\n",
              "      <td>evening</td>\n",
              "      <td>9</td>\n",
              "      <td>Games</td>\n",
              "      <td>Casual</td>\n",
              "    </tr>\n",
              "    <tr>\n",
              "      <th>4</th>\n",
              "      <td>5</td>\n",
              "      <td>com.hazmob.blockstrikefps</td>\n",
              "      <td>NaN</td>\n",
              "      <td>NaN</td>\n",
              "      <td>android</td>\n",
              "      <td>9.0</td>\n",
              "      <td>2021-09-15 13:44:19</td>\n",
              "      <td>2</td>\n",
              "      <td>autumn</td>\n",
              "      <td>day</td>\n",
              "      <td>9</td>\n",
              "      <td>Games</td>\n",
              "      <td>Action</td>\n",
              "    </tr>\n",
              "  </tbody>\n",
              "</table>\n",
              "</div>"
            ],
            "text/plain": [
              "   Segment  ... subcategory\n",
              "0        4  ...       Board\n",
              "1        4  ...       Board\n",
              "2        5  ...   Adventure\n",
              "3        4  ...      Casual\n",
              "4        5  ...      Action\n",
              "\n",
              "[5 rows x 13 columns]"
            ]
          },
          "metadata": {},
          "execution_count": 5
        }
      ]
    },
    {
      "cell_type": "code",
      "metadata": {
        "colab": {
          "base_uri": "https://localhost:8080/"
        },
        "id": "13Vwhlia_Np3",
        "outputId": "bf47d98f-3b0f-44a2-a0ff-7e20dbd2c2f4"
      },
      "source": [
        "print(mer.shape[0])"
      ],
      "execution_count": null,
      "outputs": [
        {
          "output_type": "stream",
          "name": "stdout",
          "text": [
            "8854516\n"
          ]
        }
      ]
    },
    {
      "cell_type": "code",
      "metadata": {
        "id": "0Vh9FXFp04ac"
      },
      "source": [
        "mer.to_csv('/content/drive/MyDrive/mer_train_fin4.csv', sep=';', encoding='utf-8')"
      ],
      "execution_count": null,
      "outputs": []
    },
    {
      "cell_type": "code",
      "metadata": {
        "colab": {
          "base_uri": "https://localhost:8080/"
        },
        "id": "tNs7pzM7oimJ",
        "outputId": "a8397459-5d8e-435c-8f1c-41f3df8a36fe"
      },
      "source": [
        "train_df.shape[0]"
      ],
      "execution_count": null,
      "outputs": [
        {
          "output_type": "execute_result",
          "data": {
            "text/plain": [
              "9999949"
            ]
          },
          "metadata": {},
          "execution_count": 13
        }
      ]
    },
    {
      "cell_type": "code",
      "metadata": {
        "id": "n8pLAV7YiVkh"
      },
      "source": [
        "train_df = train_df.query(\"oblast != @oblast_no_lower\")"
      ],
      "execution_count": null,
      "outputs": []
    },
    {
      "cell_type": "code",
      "metadata": {
        "id": "rhCdxLuQJrjV"
      },
      "source": [
        "train_df['oblast2'] = train_df['oblast']"
      ],
      "execution_count": null,
      "outputs": []
    },
    {
      "cell_type": "code",
      "metadata": {
        "colab": {
          "base_uri": "https://localhost:8080/"
        },
        "id": "173zQBLKKGx8",
        "outputId": "f76c8859-254e-42c2-fb36-5cda7d1311d1"
      },
      "source": [
        "train_df['city'][0] = str(train_df['city2'][0])"
      ],
      "execution_count": null,
      "outputs": [
        {
          "output_type": "stream",
          "name": "stderr",
          "text": [
            "/usr/local/lib/python3.7/dist-packages/ipykernel_launcher.py:1: SettingWithCopyWarning: \n",
            "A value is trying to be set on a copy of a slice from a DataFrame\n",
            "\n",
            "See the caveats in the documentation: https://pandas.pydata.org/pandas-docs/stable/user_guide/indexing.html#returning-a-view-versus-a-copy\n",
            "  \"\"\"Entry point for launching an IPython kernel.\n"
          ]
        }
      ]
    },
    {
      "cell_type": "code",
      "metadata": {
        "colab": {
          "base_uri": "https://localhost:8080/",
          "height": 400
        },
        "id": "Lc5OfhFSKA4N",
        "outputId": "db6673da-63bc-4b64-fcdf-59758e94e654"
      },
      "source": [
        "train_df.head()"
      ],
      "execution_count": null,
      "outputs": [
        {
          "output_type": "execute_result",
          "data": {
            "text/html": [
              "<div>\n",
              "<style scoped>\n",
              "    .dataframe tbody tr th:only-of-type {\n",
              "        vertical-align: middle;\n",
              "    }\n",
              "\n",
              "    .dataframe tbody tr th {\n",
              "        vertical-align: top;\n",
              "    }\n",
              "\n",
              "    .dataframe thead th {\n",
              "        text-align: right;\n",
              "    }\n",
              "</style>\n",
              "<table border=\"1\" class=\"dataframe\">\n",
              "  <thead>\n",
              "    <tr style=\"text-align: right;\">\n",
              "      <th></th>\n",
              "      <th>Segment</th>\n",
              "      <th>gamecategory</th>\n",
              "      <th>subgamecategory</th>\n",
              "      <th>bundle</th>\n",
              "      <th>created</th>\n",
              "      <th>shift</th>\n",
              "      <th>oblast</th>\n",
              "      <th>city</th>\n",
              "      <th>os</th>\n",
              "      <th>osv</th>\n",
              "      <th>city2</th>\n",
              "    </tr>\n",
              "  </thead>\n",
              "  <tbody>\n",
              "    <tr>\n",
              "      <th>0</th>\n",
              "      <td>4</td>\n",
              "      <td>Games</td>\n",
              "      <td>Racing</td>\n",
              "      <td>com.MadOut.BIG</td>\n",
              "      <td>2021-07-05 18:07:40</td>\n",
              "      <td>MSK+6</td>\n",
              "      <td>Забайкальский Край</td>\n",
              "      <td>Чита</td>\n",
              "      <td>android</td>\n",
              "      <td>10.0</td>\n",
              "      <td>Чита</td>\n",
              "    </tr>\n",
              "    <tr>\n",
              "      <th>1</th>\n",
              "      <td>4</td>\n",
              "      <td>NaN</td>\n",
              "      <td>NaN</td>\n",
              "      <td>com.easybrain.solitaire.klondike.free</td>\n",
              "      <td>2021-07-10 10:38:42</td>\n",
              "      <td>MSK+2</td>\n",
              "      <td>Оренбургская область</td>\n",
              "      <td>Оренбург</td>\n",
              "      <td>Android</td>\n",
              "      <td>10.0.0</td>\n",
              "      <td>Оренбург</td>\n",
              "    </tr>\n",
              "    <tr>\n",
              "      <th>2</th>\n",
              "      <td>5</td>\n",
              "      <td>Games</td>\n",
              "      <td>Arcade</td>\n",
              "      <td>com.orbitalknight.ridiculousfreekick</td>\n",
              "      <td>2021-08-04 13:34:29</td>\n",
              "      <td>MSK</td>\n",
              "      <td>Санкт-Петербург</td>\n",
              "      <td>Санкт-Петербург</td>\n",
              "      <td>android</td>\n",
              "      <td>9.0</td>\n",
              "      <td>Санкт-Петербург</td>\n",
              "    </tr>\n",
              "    <tr>\n",
              "      <th>3</th>\n",
              "      <td>5</td>\n",
              "      <td>NaN</td>\n",
              "      <td>NaN</td>\n",
              "      <td>tcouchgind.scooterextreme.scooter</td>\n",
              "      <td>2021-08-06 07:35:27</td>\n",
              "      <td>MSK+2</td>\n",
              "      <td>Свердловская область</td>\n",
              "      <td>Екатеринбург</td>\n",
              "      <td>android</td>\n",
              "      <td>9</td>\n",
              "      <td>Екатеринбург</td>\n",
              "    </tr>\n",
              "    <tr>\n",
              "      <th>4</th>\n",
              "      <td>4</td>\n",
              "      <td>NaN</td>\n",
              "      <td>NaN</td>\n",
              "      <td>com.FidgetTrading3D.game</td>\n",
              "      <td>2021-08-02 20:43:59</td>\n",
              "      <td>MSK</td>\n",
              "      <td>Московская область</td>\n",
              "      <td>Звенигород</td>\n",
              "      <td>android</td>\n",
              "      <td>6.0.1</td>\n",
              "      <td>Звенигород</td>\n",
              "    </tr>\n",
              "  </tbody>\n",
              "</table>\n",
              "</div>"
            ],
            "text/plain": [
              "   Segment gamecategory subgamecategory  ...       os     osv            city2\n",
              "0        4        Games          Racing  ...  android    10.0             Чита\n",
              "1        4          NaN             NaN  ...  Android  10.0.0         Оренбург\n",
              "2        5        Games          Arcade  ...  android     9.0  Санкт-Петербург\n",
              "3        5          NaN             NaN  ...  android       9     Екатеринбург\n",
              "4        4          NaN             NaN  ...  android   6.0.1       Звенигород\n",
              "\n",
              "[5 rows x 11 columns]"
            ]
          },
          "metadata": {},
          "execution_count": 9
        }
      ]
    },
    {
      "cell_type": "code",
      "metadata": {
        "id": "e8g_BsQEJM8G"
      },
      "source": [
        "train_df.assign(city2=lambda x: x.city)"
      ],
      "execution_count": null,
      "outputs": []
    },
    {
      "cell_type": "code",
      "metadata": {
        "colab": {
          "base_uri": "https://localhost:8080/"
        },
        "id": "lR5RcDPlYFt7",
        "outputId": "f0d93a23-5ace-4949-c4eb-3bb75410c61b"
      },
      "source": [
        "city2 = train_df.groupby('os').size()\n",
        "city2.head()"
      ],
      "execution_count": null,
      "outputs": [
        {
          "output_type": "execute_result",
          "data": {
            "text/plain": [
              "os\n",
              "android    8804767\n",
              "ios        1195139\n",
              "dtype: int64"
            ]
          },
          "metadata": {},
          "execution_count": 17
        }
      ]
    },
    {
      "cell_type": "code",
      "metadata": {
        "id": "Rz3ZLyNNu0Vw"
      },
      "source": [
        "city2 = train_df.groupby(['oblast', 'city']).size()\n",
        "city2.head()"
      ],
      "execution_count": null,
      "outputs": []
    },
    {
      "cell_type": "code",
      "metadata": {
        "colab": {
          "base_uri": "https://localhost:8080/"
        },
        "id": "wkRoTpVpMoBd",
        "outputId": "acf34a40-38ec-4dce-829c-1ffd67ef7eed"
      },
      "source": [
        "city2 = train_df.groupby(['oblast', 'city']).size()\n",
        "city2.head()"
      ],
      "execution_count": null,
      "outputs": [
        {
          "output_type": "execute_result",
          "data": {
            "text/plain": [
              "oblast              city      \n",
              "Brestskaya Oblast’  Berëza         1\n",
              "                    Барановичи     6\n",
              "                    Брест         21\n",
              "                    Иваново        1\n",
              "                    Кобрин         6\n",
              "dtype: int64"
            ]
          },
          "metadata": {},
          "execution_count": 14
        }
      ]
    },
    {
      "cell_type": "code",
      "metadata": {
        "colab": {
          "base_uri": "https://localhost:8080/"
        },
        "id": "4gTk2q18NEKE",
        "outputId": "01a5ceed-5adb-414f-cfc4-667272b8846c"
      },
      "source": [
        "city2.shape[0]"
      ],
      "execution_count": null,
      "outputs": [
        {
          "output_type": "execute_result",
          "data": {
            "text/plain": [
              "2623"
            ]
          },
          "metadata": {},
          "execution_count": 16
        }
      ]
    },
    {
      "cell_type": "code",
      "metadata": {
        "id": "6X1E_Q9DM03c"
      },
      "source": [
        "city2.to_csv('/content/drive/MyDrive/osv.csv', encoding='utf-8')"
      ],
      "execution_count": null,
      "outputs": []
    },
    {
      "cell_type": "code",
      "metadata": {
        "colab": {
          "base_uri": "https://localhost:8080/",
          "height": 206
        },
        "id": "B_-sISrrCtpn",
        "outputId": "b06ced93-bad4-44d9-ce0c-9ebda02c29cb"
      },
      "source": [
        "city = pd.DataFrame(train_df[['city', 'oblast', 'city2']]).groupby('city', as_index=False).aggregate({'city2': 'count'})\n",
        "city.head()"
      ],
      "execution_count": null,
      "outputs": [
        {
          "output_type": "execute_result",
          "data": {
            "text/html": [
              "<div>\n",
              "<style scoped>\n",
              "    .dataframe tbody tr th:only-of-type {\n",
              "        vertical-align: middle;\n",
              "    }\n",
              "\n",
              "    .dataframe tbody tr th {\n",
              "        vertical-align: top;\n",
              "    }\n",
              "\n",
              "    .dataframe thead th {\n",
              "        text-align: right;\n",
              "    }\n",
              "</style>\n",
              "<table border=\"1\" class=\"dataframe\">\n",
              "  <thead>\n",
              "    <tr style=\"text-align: right;\">\n",
              "      <th></th>\n",
              "      <th>city</th>\n",
              "      <th>city2</th>\n",
              "    </tr>\n",
              "  </thead>\n",
              "  <tbody>\n",
              "    <tr>\n",
              "      <th>0</th>\n",
              "      <td>Berëza</td>\n",
              "      <td>1</td>\n",
              "    </tr>\n",
              "    <tr>\n",
              "      <th>1</th>\n",
              "      <td>Gomel’</td>\n",
              "      <td>24</td>\n",
              "    </tr>\n",
              "    <tr>\n",
              "      <th>2</th>\n",
              "      <td>Oktyabr’skiy</td>\n",
              "      <td>13</td>\n",
              "    </tr>\n",
              "    <tr>\n",
              "      <th>3</th>\n",
              "      <td>Абадзехская</td>\n",
              "      <td>56</td>\n",
              "    </tr>\n",
              "    <tr>\n",
              "      <th>4</th>\n",
              "      <td>Абаза</td>\n",
              "      <td>1253</td>\n",
              "    </tr>\n",
              "  </tbody>\n",
              "</table>\n",
              "</div>"
            ],
            "text/plain": [
              "           city  city2\n",
              "0        Berëza      1\n",
              "1        Gomel’     24\n",
              "2  Oktyabr’skiy     13\n",
              "3   Абадзехская     56\n",
              "4         Абаза   1253"
            ]
          },
          "metadata": {},
          "execution_count": 11
        }
      ]
    },
    {
      "cell_type": "code",
      "metadata": {
        "id": "GkGK8ufLXWL7"
      },
      "source": [
        "city = pd.DataFrame(train_df[['oblast', 'oblast2']]).groupby('oblast', as_index=False).aggregate({'oblast2': 'count'})\n",
        "city.head()"
      ],
      "execution_count": null,
      "outputs": []
    },
    {
      "cell_type": "code",
      "metadata": {
        "colab": {
          "base_uri": "https://localhost:8080/"
        },
        "id": "_SRSD-iZHVDN",
        "outputId": "a87dc563-5d3b-42be-98ea-aae1b198d0cc"
      },
      "source": [
        "city.shape[0]"
      ],
      "execution_count": null,
      "outputs": [
        {
          "output_type": "execute_result",
          "data": {
            "text/plain": [
              "2498"
            ]
          },
          "metadata": {},
          "execution_count": 12
        }
      ]
    },
    {
      "cell_type": "code",
      "metadata": {
        "id": "ey1qp8rQD4XG"
      },
      "source": [
        "city.to_csv('/content/drive/MyDrive/city.csv', encoding='utf-8')"
      ],
      "execution_count": null,
      "outputs": []
    },
    {
      "cell_type": "code",
      "metadata": {
        "colab": {
          "base_uri": "https://localhost:8080/"
        },
        "id": "ZBpl-11JzCNg",
        "outputId": "f78a9f6c-888a-4d2b-f7f7-2064cadb0cd9"
      },
      "source": [
        "train_df.shape[0]"
      ],
      "execution_count": null,
      "outputs": [
        {
          "output_type": "execute_result",
          "data": {
            "text/plain": [
              "44854516"
            ]
          },
          "metadata": {},
          "execution_count": 6
        }
      ]
    },
    {
      "cell_type": "code",
      "metadata": {
        "colab": {
          "base_uri": "https://localhost:8080/"
        },
        "id": "99FZmqHJzMMJ",
        "outputId": "1dc0a7f1-e0a1-41b4-b9ac-354e03747fea"
      },
      "source": [
        "train_df = train_df[:4854516]\n",
        "train_df.shape[0]"
      ],
      "execution_count": null,
      "outputs": [
        {
          "output_type": "execute_result",
          "data": {
            "text/plain": [
              "4854516"
            ]
          },
          "metadata": {},
          "execution_count": 7
        }
      ]
    },
    {
      "cell_type": "code",
      "metadata": {
        "id": "XIHLivvVvCN4"
      },
      "source": [
        "mer['category'] = mer['category'].astype(str)\n",
        "mer['subcategory'] = mer['subcategory'].astype(str)\n",
        "mer['bundle'] = mer['bundle'].astype(str)\n",
        "mer['season'] = mer['season'].astype(str)\n",
        "mer['oblast'] = mer['oblast'].astype(str)\n",
        "mer['city'] = mer['city'].astype(str)\n",
        "mer['os'] = mer['os'].astype(str)\n",
        "mer['osv'] = mer['osv'].astype(str)\n",
        "mer['day_part'] = mer['day_part'].astype(str)\n",
        "# mer['city_type'] = mer['city_type'].astype(str)\n",
        "mer['os_global'] = mer['os_global'].astype(str)"
      ],
      "execution_count": null,
      "outputs": []
    },
    {
      "cell_type": "code",
      "metadata": {
        "colab": {
          "base_uri": "https://localhost:8080/",
          "height": 206
        },
        "id": "8E2ZmNtbhUkQ",
        "outputId": "c85c0854-a8ce-430c-def2-daea38e0fd42"
      },
      "source": [
        "mer.head()"
      ],
      "execution_count": null,
      "outputs": [
        {
          "output_type": "execute_result",
          "data": {
            "text/html": [
              "<div>\n",
              "<style scoped>\n",
              "    .dataframe tbody tr th:only-of-type {\n",
              "        vertical-align: middle;\n",
              "    }\n",
              "\n",
              "    .dataframe tbody tr th {\n",
              "        vertical-align: top;\n",
              "    }\n",
              "\n",
              "    .dataframe thead th {\n",
              "        text-align: right;\n",
              "    }\n",
              "</style>\n",
              "<table border=\"1\" class=\"dataframe\">\n",
              "  <thead>\n",
              "    <tr style=\"text-align: right;\">\n",
              "      <th></th>\n",
              "      <th>Segment</th>\n",
              "      <th>bundle</th>\n",
              "      <th>oblast</th>\n",
              "      <th>city</th>\n",
              "      <th>os</th>\n",
              "      <th>osv</th>\n",
              "      <th>real_time</th>\n",
              "      <th>weekday</th>\n",
              "      <th>season</th>\n",
              "      <th>day_part</th>\n",
              "      <th>os_global</th>\n",
              "      <th>category</th>\n",
              "      <th>subcategory</th>\n",
              "    </tr>\n",
              "  </thead>\n",
              "  <tbody>\n",
              "    <tr>\n",
              "      <th>0</th>\n",
              "      <td>4</td>\n",
              "      <td>com.MadOut.BIG</td>\n",
              "      <td>Забайкальский Край</td>\n",
              "      <td>Чита</td>\n",
              "      <td>android</td>\n",
              "      <td>10.0</td>\n",
              "      <td>2021-07-06 00:07:40</td>\n",
              "      <td>1</td>\n",
              "      <td>summer</td>\n",
              "      <td>night</td>\n",
              "      <td>10</td>\n",
              "      <td>Games</td>\n",
              "      <td>Racing</td>\n",
              "    </tr>\n",
              "    <tr>\n",
              "      <th>1</th>\n",
              "      <td>4</td>\n",
              "      <td>com.easybrain.solitaire.klondike.free</td>\n",
              "      <td>Оренбургская область</td>\n",
              "      <td>Оренбург</td>\n",
              "      <td>android</td>\n",
              "      <td>10.0.0</td>\n",
              "      <td>2021-07-10 12:38:42</td>\n",
              "      <td>5</td>\n",
              "      <td>summer</td>\n",
              "      <td>day</td>\n",
              "      <td>10</td>\n",
              "      <td>Games</td>\n",
              "      <td>Card</td>\n",
              "    </tr>\n",
              "    <tr>\n",
              "      <th>2</th>\n",
              "      <td>5</td>\n",
              "      <td>com.orbitalknight.ridiculousfreekick</td>\n",
              "      <td>Санкт-Петербург</td>\n",
              "      <td>Санкт-Петербург</td>\n",
              "      <td>android</td>\n",
              "      <td>9.0</td>\n",
              "      <td>2021-08-04 13:34:29</td>\n",
              "      <td>2</td>\n",
              "      <td>summer</td>\n",
              "      <td>day</td>\n",
              "      <td>9</td>\n",
              "      <td>Games</td>\n",
              "      <td>Arcade</td>\n",
              "    </tr>\n",
              "    <tr>\n",
              "      <th>3</th>\n",
              "      <td>5</td>\n",
              "      <td>tcouchgind.scooterextreme.scooter</td>\n",
              "      <td>Свердловская область</td>\n",
              "      <td>Екатеринбург</td>\n",
              "      <td>android</td>\n",
              "      <td>9</td>\n",
              "      <td>2021-08-06 09:35:27</td>\n",
              "      <td>4</td>\n",
              "      <td>summer</td>\n",
              "      <td>morning</td>\n",
              "      <td>9</td>\n",
              "      <td>nan</td>\n",
              "      <td>nan</td>\n",
              "    </tr>\n",
              "    <tr>\n",
              "      <th>4</th>\n",
              "      <td>4</td>\n",
              "      <td>com.FidgetTrading3D.game</td>\n",
              "      <td>Московская область</td>\n",
              "      <td>Звенигород</td>\n",
              "      <td>android</td>\n",
              "      <td>6.0.1</td>\n",
              "      <td>2021-08-02 20:43:59</td>\n",
              "      <td>0</td>\n",
              "      <td>summer</td>\n",
              "      <td>evening</td>\n",
              "      <td>6</td>\n",
              "      <td>Games</td>\n",
              "      <td>Casual</td>\n",
              "    </tr>\n",
              "  </tbody>\n",
              "</table>\n",
              "</div>"
            ],
            "text/plain": [
              "   Segment                                 bundle  ... category subcategory\n",
              "0        4                         com.MadOut.BIG  ...    Games      Racing\n",
              "1        4  com.easybrain.solitaire.klondike.free  ...    Games        Card\n",
              "2        5   com.orbitalknight.ridiculousfreekick  ...    Games      Arcade\n",
              "3        5      tcouchgind.scooterextreme.scooter  ...      nan         nan\n",
              "4        4               com.FidgetTrading3D.game  ...    Games      Casual\n",
              "\n",
              "[5 rows x 13 columns]"
            ]
          },
          "metadata": {},
          "execution_count": 20
        }
      ]
    },
    {
      "cell_type": "code",
      "metadata": {
        "colab": {
          "base_uri": "https://localhost:8080/",
          "height": 206
        },
        "id": "KqFN8ZvilPEN",
        "outputId": "a2ea8f6a-8619-49c1-841a-a667b25def75"
      },
      "source": [
        "train_df.head()"
      ],
      "execution_count": null,
      "outputs": [
        {
          "output_type": "execute_result",
          "data": {
            "text/html": [
              "<div>\n",
              "<style scoped>\n",
              "    .dataframe tbody tr th:only-of-type {\n",
              "        vertical-align: middle;\n",
              "    }\n",
              "\n",
              "    .dataframe tbody tr th {\n",
              "        vertical-align: top;\n",
              "    }\n",
              "\n",
              "    .dataframe thead th {\n",
              "        text-align: right;\n",
              "    }\n",
              "</style>\n",
              "<table border=\"1\" class=\"dataframe\">\n",
              "  <thead>\n",
              "    <tr style=\"text-align: right;\">\n",
              "      <th></th>\n",
              "      <th>Segment</th>\n",
              "      <th>gamecategory</th>\n",
              "      <th>subgamecategory</th>\n",
              "      <th>bundle</th>\n",
              "      <th>created</th>\n",
              "      <th>shift</th>\n",
              "      <th>oblast</th>\n",
              "      <th>city</th>\n",
              "      <th>os</th>\n",
              "      <th>osv</th>\n",
              "    </tr>\n",
              "  </thead>\n",
              "  <tbody>\n",
              "    <tr>\n",
              "      <th>0</th>\n",
              "      <td>4</td>\n",
              "      <td>Games</td>\n",
              "      <td>Racing</td>\n",
              "      <td>com.MadOut.BIG</td>\n",
              "      <td>2021-07-05 18:07:40</td>\n",
              "      <td>MSK+6</td>\n",
              "      <td>Забайкальский Край</td>\n",
              "      <td>Чита</td>\n",
              "      <td>android</td>\n",
              "      <td>10.0</td>\n",
              "    </tr>\n",
              "    <tr>\n",
              "      <th>1</th>\n",
              "      <td>4</td>\n",
              "      <td>nan</td>\n",
              "      <td>nan</td>\n",
              "      <td>com.easybrain.solitaire.klondike.free</td>\n",
              "      <td>2021-07-10 10:38:42</td>\n",
              "      <td>MSK+2</td>\n",
              "      <td>Оренбургская область</td>\n",
              "      <td>Оренбург</td>\n",
              "      <td>Android</td>\n",
              "      <td>10.0.0</td>\n",
              "    </tr>\n",
              "    <tr>\n",
              "      <th>2</th>\n",
              "      <td>5</td>\n",
              "      <td>Games</td>\n",
              "      <td>Arcade</td>\n",
              "      <td>com.orbitalknight.ridiculousfreekick</td>\n",
              "      <td>2021-08-04 13:34:29</td>\n",
              "      <td>MSK</td>\n",
              "      <td>Санкт-Петербург</td>\n",
              "      <td>Санкт-Петербург</td>\n",
              "      <td>android</td>\n",
              "      <td>9.0</td>\n",
              "    </tr>\n",
              "    <tr>\n",
              "      <th>3</th>\n",
              "      <td>5</td>\n",
              "      <td>nan</td>\n",
              "      <td>nan</td>\n",
              "      <td>tcouchgind.scooterextreme.scooter</td>\n",
              "      <td>2021-08-06 07:35:27</td>\n",
              "      <td>MSK+2</td>\n",
              "      <td>Свердловская область</td>\n",
              "      <td>Екатеринбург</td>\n",
              "      <td>android</td>\n",
              "      <td>9</td>\n",
              "    </tr>\n",
              "    <tr>\n",
              "      <th>4</th>\n",
              "      <td>4</td>\n",
              "      <td>nan</td>\n",
              "      <td>nan</td>\n",
              "      <td>com.FidgetTrading3D.game</td>\n",
              "      <td>2021-08-02 20:43:59</td>\n",
              "      <td>MSK</td>\n",
              "      <td>Московская область</td>\n",
              "      <td>Звенигород</td>\n",
              "      <td>android</td>\n",
              "      <td>6.0.1</td>\n",
              "    </tr>\n",
              "  </tbody>\n",
              "</table>\n",
              "</div>"
            ],
            "text/plain": [
              "   Segment gamecategory subgamecategory  ...             city       os     osv\n",
              "0        4        Games          Racing  ...             Чита  android    10.0\n",
              "1        4          nan             nan  ...         Оренбург  Android  10.0.0\n",
              "2        5        Games          Arcade  ...  Санкт-Петербург  android     9.0\n",
              "3        5          nan             nan  ...     Екатеринбург  android       9\n",
              "4        4          nan             nan  ...       Звенигород  android   6.0.1\n",
              "\n",
              "[5 rows x 10 columns]"
            ]
          },
          "metadata": {},
          "execution_count": 9
        }
      ]
    },
    {
      "cell_type": "code",
      "metadata": {
        "colab": {
          "base_uri": "https://localhost:8080/",
          "height": 206
        },
        "id": "3CYFwfEJlQp4",
        "outputId": "cbdba9f8-c435-4856-f2b6-ed0115d3aa9c"
      },
      "source": [
        "test_df.head()"
      ],
      "execution_count": null,
      "outputs": [
        {
          "output_type": "execute_result",
          "data": {
            "text/html": [
              "<div>\n",
              "<style scoped>\n",
              "    .dataframe tbody tr th:only-of-type {\n",
              "        vertical-align: middle;\n",
              "    }\n",
              "\n",
              "    .dataframe tbody tr th {\n",
              "        vertical-align: top;\n",
              "    }\n",
              "\n",
              "    .dataframe thead th {\n",
              "        text-align: right;\n",
              "    }\n",
              "</style>\n",
              "<table border=\"1\" class=\"dataframe\">\n",
              "  <thead>\n",
              "    <tr style=\"text-align: right;\">\n",
              "      <th></th>\n",
              "      <th>gamecategory</th>\n",
              "      <th>subgamecategory</th>\n",
              "      <th>bundle</th>\n",
              "      <th>created</th>\n",
              "      <th>shift</th>\n",
              "      <th>oblast</th>\n",
              "      <th>city</th>\n",
              "      <th>os</th>\n",
              "      <th>osv</th>\n",
              "    </tr>\n",
              "  </thead>\n",
              "  <tbody>\n",
              "    <tr>\n",
              "      <th>0</th>\n",
              "      <td>Applications</td>\n",
              "      <td>Shopping</td>\n",
              "      <td>com.allgoritm.youla</td>\n",
              "      <td>2021-09-19 17:31:33</td>\n",
              "      <td>MSK+2</td>\n",
              "      <td>Свердловская область</td>\n",
              "      <td>Екатеринбург</td>\n",
              "      <td>android</td>\n",
              "      <td>10.0</td>\n",
              "    </tr>\n",
              "    <tr>\n",
              "      <th>1</th>\n",
              "      <td>NaN</td>\n",
              "      <td>NaN</td>\n",
              "      <td>com.ChocochocoStd.RapBattle</td>\n",
              "      <td>2021-08-03 17:13:17</td>\n",
              "      <td>MSK+2</td>\n",
              "      <td>Ямало-Ненецкий АО</td>\n",
              "      <td>Новый Уренгой</td>\n",
              "      <td>android</td>\n",
              "      <td>10.0</td>\n",
              "    </tr>\n",
              "    <tr>\n",
              "      <th>2</th>\n",
              "      <td>NaN</td>\n",
              "      <td>NaN</td>\n",
              "      <td>1387897651</td>\n",
              "      <td>2021-09-17 15:54:00</td>\n",
              "      <td>MSK</td>\n",
              "      <td>Москва</td>\n",
              "      <td>Москва</td>\n",
              "      <td>ios</td>\n",
              "      <td>14.4.0</td>\n",
              "    </tr>\n",
              "    <tr>\n",
              "      <th>3</th>\n",
              "      <td>NaN</td>\n",
              "      <td>NaN</td>\n",
              "      <td>com.cooking.family.diary.fever.food.city.craze...</td>\n",
              "      <td>2021-07-05 23:34:59</td>\n",
              "      <td>MSK</td>\n",
              "      <td>Краснодарский край</td>\n",
              "      <td>Краснодар</td>\n",
              "      <td>android</td>\n",
              "      <td>9.0.0</td>\n",
              "    </tr>\n",
              "    <tr>\n",
              "      <th>4</th>\n",
              "      <td>Applications</td>\n",
              "      <td>Health &amp; Fitness</td>\n",
              "      <td>com.pedometer.stepcounter.tracker</td>\n",
              "      <td>2021-07-08 15:15:21</td>\n",
              "      <td>MSK</td>\n",
              "      <td>Татарстан</td>\n",
              "      <td>Набережные Челны</td>\n",
              "      <td>android</td>\n",
              "      <td>10.0</td>\n",
              "    </tr>\n",
              "  </tbody>\n",
              "</table>\n",
              "</div>"
            ],
            "text/plain": [
              "   gamecategory   subgamecategory  ...       os     osv\n",
              "0  Applications          Shopping  ...  android    10.0\n",
              "1           NaN               NaN  ...  android    10.0\n",
              "2           NaN               NaN  ...      ios  14.4.0\n",
              "3           NaN               NaN  ...  android   9.0.0\n",
              "4  Applications  Health & Fitness  ...  android    10.0\n",
              "\n",
              "[5 rows x 9 columns]"
            ]
          },
          "metadata": {},
          "execution_count": 9
        }
      ]
    },
    {
      "cell_type": "code",
      "metadata": {
        "colab": {
          "base_uri": "https://localhost:8080/"
        },
        "id": "oyFhAm93l1Rw",
        "outputId": "bb049716-d398-48de-fac4-3be9d3ed6629"
      },
      "source": [
        "mer.info()"
      ],
      "execution_count": null,
      "outputs": [
        {
          "output_type": "stream",
          "name": "stdout",
          "text": [
            "<class 'pandas.core.frame.DataFrame'>\n",
            "Int64Index: 4854516 entries, 0 to 4854515\n",
            "Data columns (total 13 columns):\n",
            " #   Column       Dtype         \n",
            "---  ------       -----         \n",
            " 0   Segment      int64         \n",
            " 1   bundle       object        \n",
            " 2   oblast       object        \n",
            " 3   city         object        \n",
            " 4   os           object        \n",
            " 5   osv          object        \n",
            " 6   real_time    datetime64[ns]\n",
            " 7   weekday      int64         \n",
            " 8   season       object        \n",
            " 9   day_part     object        \n",
            " 10  os_global    object        \n",
            " 11  category     object        \n",
            " 12  subcategory  object        \n",
            "dtypes: datetime64[ns](1), int64(2), object(10)\n",
            "memory usage: 518.5+ MB\n"
          ]
        }
      ]
    },
    {
      "cell_type": "code",
      "metadata": {
        "colab": {
          "base_uri": "https://localhost:8080/"
        },
        "id": "N528xvaMl8Pl",
        "outputId": "0fa5261e-d448-41d7-82a9-abab482debcd"
      },
      "source": [
        "train_df.nunique()"
      ],
      "execution_count": null,
      "outputs": [
        {
          "output_type": "execute_result",
          "data": {
            "text/plain": [
              "Segment                  5\n",
              "gamecategory            28\n",
              "subgamecategory         53\n",
              "bundle               42456\n",
              "created            1405261\n",
              "shift                   12\n",
              "oblast                  91\n",
              "city                  2433\n",
              "os                       5\n",
              "osv                    217\n",
              "dtype: int64"
            ]
          },
          "metadata": {},
          "execution_count": 11
        }
      ]
    },
    {
      "cell_type": "code",
      "metadata": {
        "id": "Lra_VF-s_85v"
      },
      "source": [
        "mer = pd.read_csv('/content/drive/MyDrive/mer_train_fin2.csv', sep=';', parse_dates=['real_time'])"
      ],
      "execution_count": null,
      "outputs": []
    },
    {
      "cell_type": "code",
      "metadata": {
        "colab": {
          "base_uri": "https://localhost:8080/",
          "height": 206
        },
        "id": "2Frrf4NiAbCu",
        "outputId": "0ba0df21-ea0e-4475-937a-5eae1c744961"
      },
      "source": [
        "mer.head()"
      ],
      "execution_count": null,
      "outputs": [
        {
          "output_type": "execute_result",
          "data": {
            "text/html": [
              "<div>\n",
              "<style scoped>\n",
              "    .dataframe tbody tr th:only-of-type {\n",
              "        vertical-align: middle;\n",
              "    }\n",
              "\n",
              "    .dataframe tbody tr th {\n",
              "        vertical-align: top;\n",
              "    }\n",
              "\n",
              "    .dataframe thead th {\n",
              "        text-align: right;\n",
              "    }\n",
              "</style>\n",
              "<table border=\"1\" class=\"dataframe\">\n",
              "  <thead>\n",
              "    <tr style=\"text-align: right;\">\n",
              "      <th></th>\n",
              "      <th>Segment</th>\n",
              "      <th>bundle</th>\n",
              "      <th>oblast</th>\n",
              "      <th>city</th>\n",
              "      <th>os</th>\n",
              "      <th>osv</th>\n",
              "      <th>real_time</th>\n",
              "      <th>weekday</th>\n",
              "      <th>season</th>\n",
              "      <th>day_part</th>\n",
              "      <th>os_global</th>\n",
              "      <th>category</th>\n",
              "      <th>subcategory</th>\n",
              "    </tr>\n",
              "  </thead>\n",
              "  <tbody>\n",
              "    <tr>\n",
              "      <th>0</th>\n",
              "      <td>3</td>\n",
              "      <td>com.zeptolab.cats.google</td>\n",
              "      <td>Москва</td>\n",
              "      <td>Москва</td>\n",
              "      <td>android</td>\n",
              "      <td>11.0</td>\n",
              "      <td>2021-09-20 09:54:55</td>\n",
              "      <td>0</td>\n",
              "      <td>autumn</td>\n",
              "      <td>morning</td>\n",
              "      <td>11.0</td>\n",
              "      <td>Games</td>\n",
              "      <td>Action</td>\n",
              "    </tr>\n",
              "    <tr>\n",
              "      <th>1</th>\n",
              "      <td>2</td>\n",
              "      <td>com.hgamesart.crimedriver</td>\n",
              "      <td>Сахалин</td>\n",
              "      <td>Южно-Сахалинск</td>\n",
              "      <td>android</td>\n",
              "      <td>9.0</td>\n",
              "      <td>2021-08-03 09:01:17</td>\n",
              "      <td>1</td>\n",
              "      <td>summer</td>\n",
              "      <td>morning</td>\n",
              "      <td>9.0</td>\n",
              "      <td>Games</td>\n",
              "      <td>Action</td>\n",
              "    </tr>\n",
              "    <tr>\n",
              "      <th>2</th>\n",
              "      <td>3</td>\n",
              "      <td>com.pronetis.ironball2</td>\n",
              "      <td>Воронежская область</td>\n",
              "      <td>Воронеж</td>\n",
              "      <td>android</td>\n",
              "      <td>10.0.0</td>\n",
              "      <td>2021-08-03 21:38:21</td>\n",
              "      <td>1</td>\n",
              "      <td>summer</td>\n",
              "      <td>evening</td>\n",
              "      <td>10.0</td>\n",
              "      <td>Games</td>\n",
              "      <td>Casual</td>\n",
              "    </tr>\n",
              "    <tr>\n",
              "      <th>3</th>\n",
              "      <td>3</td>\n",
              "      <td>com.bigcake.android.bpdaily</td>\n",
              "      <td>Саратовская область</td>\n",
              "      <td>Саратов</td>\n",
              "      <td>android</td>\n",
              "      <td>7.0</td>\n",
              "      <td>2021-07-08 14:08:37</td>\n",
              "      <td>3</td>\n",
              "      <td>summer</td>\n",
              "      <td>day</td>\n",
              "      <td>7.0</td>\n",
              "      <td>Games</td>\n",
              "      <td>Puzzle</td>\n",
              "    </tr>\n",
              "    <tr>\n",
              "      <th>4</th>\n",
              "      <td>3</td>\n",
              "      <td>com.outfit7.mytalkingangela2</td>\n",
              "      <td>Хабаровский край</td>\n",
              "      <td>Хабаровск</td>\n",
              "      <td>android</td>\n",
              "      <td>9</td>\n",
              "      <td>2021-08-03 22:42:52</td>\n",
              "      <td>1</td>\n",
              "      <td>summer</td>\n",
              "      <td>evening</td>\n",
              "      <td>9.0</td>\n",
              "      <td>Games</td>\n",
              "      <td>Casual</td>\n",
              "    </tr>\n",
              "  </tbody>\n",
              "</table>\n",
              "</div>"
            ],
            "text/plain": [
              "   Segment                        bundle  ... category subcategory\n",
              "0        3      com.zeptolab.cats.google  ...    Games      Action\n",
              "1        2     com.hgamesart.crimedriver  ...    Games      Action\n",
              "2        3        com.pronetis.ironball2  ...    Games      Casual\n",
              "3        3   com.bigcake.android.bpdaily  ...    Games      Puzzle\n",
              "4        3  com.outfit7.mytalkingangela2  ...    Games      Casual\n",
              "\n",
              "[5 rows x 13 columns]"
            ]
          },
          "metadata": {},
          "execution_count": 19
        }
      ]
    },
    {
      "cell_type": "code",
      "metadata": {
        "id": "_KdbHbG8Axq2"
      },
      "source": [
        "mer = mer.drop(\"Unnamed: 0\", axis=1)"
      ],
      "execution_count": null,
      "outputs": []
    },
    {
      "cell_type": "code",
      "metadata": {
        "colab": {
          "base_uri": "https://localhost:8080/"
        },
        "id": "JP1ODpL9A6LF",
        "outputId": "59cbf8f2-442e-42e9-8341-f107775e6ffc"
      },
      "source": [
        "mer.shape[0]"
      ],
      "execution_count": null,
      "outputs": [
        {
          "output_type": "execute_result",
          "data": {
            "text/plain": [
              "10046694"
            ]
          },
          "metadata": {},
          "execution_count": 16
        }
      ]
    },
    {
      "cell_type": "code",
      "metadata": {
        "id": "bwx7CRTQAmuu"
      },
      "source": [
        "mer = mer[mer['bundle'].notna()]"
      ],
      "execution_count": null,
      "outputs": []
    },
    {
      "cell_type": "code",
      "metadata": {
        "id": "FKqetyYCA9o-"
      },
      "source": [
        "mer = mer[mer['city'].notna()]"
      ],
      "execution_count": null,
      "outputs": []
    },
    {
      "cell_type": "code",
      "metadata": {
        "id": "nIDewNXWCCY-"
      },
      "source": [
        "mer['category'] = mer['category'].astype(str)\n",
        "mer['subcategory'] = mer['subcategory'].astype(str)\n",
        "mer['bundle'] = mer['bundle'].astype(str)\n",
        "mer['season'] = mer['season'].astype(str)\n",
        "mer['oblast'] = mer['oblast'].astype(str)\n",
        "mer['city'] = mer['city'].astype(str)\n",
        "mer['os'] = mer['os'].astype(str)\n",
        "mer['osv'] = mer['osv'].astype(str)\n",
        "mer['day_part'] = mer['day_part'].astype(str)\n",
        "# mer['city_type'] = mer['city_type'].astype(str)\n",
        "mer['os_global'] = mer['os_global'].astype(str)"
      ],
      "execution_count": null,
      "outputs": []
    },
    {
      "cell_type": "code",
      "metadata": {
        "id": "WSzz1luAD3pW"
      },
      "source": [
        "# mer['Segment'] = mer.apply(lambda row: row['Segment'] - 1, axis=1)"
      ],
      "execution_count": null,
      "outputs": []
    },
    {
      "cell_type": "code",
      "metadata": {
        "id": "QDqKU6EQm1w2"
      },
      "source": [
        "X = mer.drop(\"Segment\", axis=1)\n",
        "y = mer[\"Segment\"]"
      ],
      "execution_count": null,
      "outputs": []
    },
    {
      "cell_type": "code",
      "metadata": {
        "id": "azBeuGXttpaN"
      },
      "source": [
        "mer.to_csv('/content/drive/MyDrive/prom_itog.csv', encoding='utf-8')"
      ],
      "execution_count": null,
      "outputs": []
    },
    {
      "cell_type": "code",
      "metadata": {
        "colab": {
          "base_uri": "https://localhost:8080/"
        },
        "id": "OhxOnkCXsJ3-",
        "outputId": "bb71c9dc-5843-42d1-c3b1-7d0f3ec28fb9"
      },
      "source": [
        "mer.shape[0]"
      ],
      "execution_count": null,
      "outputs": [
        {
          "output_type": "execute_result",
          "data": {
            "text/plain": [
              "4854516"
            ]
          },
          "metadata": {},
          "execution_count": 12
        }
      ]
    },
    {
      "cell_type": "code",
      "metadata": {
        "colab": {
          "base_uri": "https://localhost:8080/"
        },
        "id": "NZef_vjDpVD9",
        "outputId": "6796d18e-8f6c-40bd-ec99-42adf37e0a34"
      },
      "source": [
        "cat_features = list(range(0, X.shape[1]))\n",
        "print(cat_features)"
      ],
      "execution_count": null,
      "outputs": [
        {
          "output_type": "stream",
          "name": "stdout",
          "text": [
            "[0, 1, 2, 3, 4, 5, 6, 7, 8, 9, 10, 11]\n"
          ]
        }
      ]
    },
    {
      "cell_type": "code",
      "metadata": {
        "colab": {
          "base_uri": "https://localhost:8080/"
        },
        "id": "J0ku7nnT22Xg",
        "outputId": "f80bdd50-0482-4927-b589-c5931fe08bd7"
      },
      "source": [
        "cat_features = [0, 1, 2, 3, 4, 6, 7, 8, 9, 10, 11]\n",
        "print(cat_features)"
      ],
      "execution_count": null,
      "outputs": [
        {
          "output_type": "stream",
          "name": "stdout",
          "text": [
            "[0, 1, 2, 3, 4, 6, 7, 8, 9, 10, 11]\n"
          ]
        }
      ]
    },
    {
      "cell_type": "code",
      "metadata": {
        "id": "UO41Rz0xplXO"
      },
      "source": [
        "from catboost import CatBoostClassifier\n",
        "\n",
        "model = CatBoostClassifier(\n",
        "    iterations=1500, \n",
        "    # learning_rate=0.1, \n",
        "    task_type=\"GPU\",\n",
        "    devices='0',\n",
        "    loss_function='MultiClass'\n",
        "    # custom_loss=['AUC', 'Accuracy']\n",
        "    #loss_function='CrossEntropy'\n",
        ")"
      ],
      "execution_count": null,
      "outputs": []
    },
    {
      "cell_type": "code",
      "metadata": {
        "id": "F0X94IfHqSsF",
        "colab": {
          "base_uri": "https://localhost:8080/"
        },
        "outputId": "cd313f40-58c4-4f02-bd4f-6b4bdca385c5"
      },
      "source": [
        "model.fit(\n",
        "    X, y,\n",
        "    cat_features=cat_features,\n",
        "    # eval_set=(X_val, y_val),\n",
        ")"
      ],
      "execution_count": null,
      "outputs": [
        {
          "output_type": "stream",
          "name": "stdout",
          "text": [
            "Learning rate set to 0.303398\n",
            "0:\tlearn: 1.2957900\ttotal: 556ms\tremaining: 13m 52s\n",
            "1:\tlearn: 1.1501750\ttotal: 1.15s\tremaining: 14m 19s\n",
            "2:\tlearn: 1.0704687\ttotal: 1.7s\tremaining: 14m 9s\n",
            "3:\tlearn: 1.0208097\ttotal: 2.18s\tremaining: 13m 36s\n",
            "4:\tlearn: 0.9860585\ttotal: 2.7s\tremaining: 13m 28s\n",
            "5:\tlearn: 0.9452867\ttotal: 3.2s\tremaining: 13m 16s\n",
            "6:\tlearn: 0.9190560\ttotal: 3.78s\tremaining: 13m 26s\n",
            "7:\tlearn: 0.9026577\ttotal: 4.31s\tremaining: 13m 24s\n",
            "8:\tlearn: 0.8874453\ttotal: 4.87s\tremaining: 13m 26s\n",
            "9:\tlearn: 0.8761414\ttotal: 5.42s\tremaining: 13m 27s\n",
            "10:\tlearn: 0.8676008\ttotal: 5.91s\tremaining: 13m 19s\n",
            "11:\tlearn: 0.8617845\ttotal: 6.41s\tremaining: 13m 15s\n",
            "12:\tlearn: 0.8565328\ttotal: 6.84s\tremaining: 13m 2s\n",
            "13:\tlearn: 0.8528902\ttotal: 7.27s\tremaining: 12m 51s\n",
            "14:\tlearn: 0.8469971\ttotal: 7.79s\tremaining: 12m 50s\n",
            "15:\tlearn: 0.8415341\ttotal: 8.28s\tremaining: 12m 48s\n",
            "16:\tlearn: 0.8366023\ttotal: 8.83s\tremaining: 12m 50s\n",
            "17:\tlearn: 0.8334229\ttotal: 9.34s\tremaining: 12m 49s\n",
            "18:\tlearn: 0.8306681\ttotal: 9.78s\tremaining: 12m 42s\n",
            "19:\tlearn: 0.8288879\ttotal: 10.3s\tremaining: 12m 39s\n",
            "20:\tlearn: 0.8270251\ttotal: 10.7s\tremaining: 12m 36s\n",
            "21:\tlearn: 0.8241390\ttotal: 11.2s\tremaining: 12m 30s\n",
            "22:\tlearn: 0.8225490\ttotal: 11.7s\tremaining: 12m 30s\n",
            "23:\tlearn: 0.8214683\ttotal: 12.1s\tremaining: 12m 24s\n",
            "24:\tlearn: 0.8202114\ttotal: 12.5s\tremaining: 12m 19s\n",
            "25:\tlearn: 0.8188635\ttotal: 13s\tremaining: 12m 15s\n",
            "26:\tlearn: 0.8178461\ttotal: 13.4s\tremaining: 12m 11s\n",
            "27:\tlearn: 0.8164132\ttotal: 13.9s\tremaining: 12m 11s\n",
            "28:\tlearn: 0.8141645\ttotal: 14.4s\tremaining: 12m 10s\n",
            "29:\tlearn: 0.8129194\ttotal: 14.8s\tremaining: 12m 7s\n",
            "30:\tlearn: 0.8115160\ttotal: 15.3s\tremaining: 12m 6s\n",
            "31:\tlearn: 0.8109319\ttotal: 15.7s\tremaining: 12m 1s\n",
            "32:\tlearn: 0.8093968\ttotal: 16.2s\tremaining: 11m 59s\n",
            "33:\tlearn: 0.8089358\ttotal: 16.7s\tremaining: 11m 58s\n",
            "34:\tlearn: 0.8080868\ttotal: 17.1s\tremaining: 11m 56s\n",
            "35:\tlearn: 0.8069519\ttotal: 17.6s\tremaining: 11m 53s\n",
            "36:\tlearn: 0.8051723\ttotal: 18.1s\tremaining: 11m 55s\n",
            "37:\tlearn: 0.8036318\ttotal: 18.6s\tremaining: 11m 55s\n",
            "38:\tlearn: 0.8026436\ttotal: 19.1s\tremaining: 11m 57s\n",
            "39:\tlearn: 0.8018828\ttotal: 19.6s\tremaining: 11m 56s\n",
            "40:\tlearn: 0.8010825\ttotal: 20s\tremaining: 11m 52s\n",
            "41:\tlearn: 0.8007583\ttotal: 20.4s\tremaining: 11m 48s\n",
            "42:\tlearn: 0.7998660\ttotal: 20.9s\tremaining: 11m 46s\n",
            "43:\tlearn: 0.7989229\ttotal: 21.3s\tremaining: 11m 45s\n",
            "44:\tlearn: 0.7973575\ttotal: 21.9s\tremaining: 11m 47s\n",
            "45:\tlearn: 0.7966687\ttotal: 22.3s\tremaining: 11m 46s\n",
            "46:\tlearn: 0.7961762\ttotal: 22.9s\tremaining: 11m 47s\n",
            "47:\tlearn: 0.7955926\ttotal: 23.3s\tremaining: 11m 44s\n",
            "48:\tlearn: 0.7950100\ttotal: 23.7s\tremaining: 11m 42s\n",
            "49:\tlearn: 0.7947676\ttotal: 24.1s\tremaining: 11m 39s\n",
            "50:\tlearn: 0.7938595\ttotal: 24.6s\tremaining: 11m 40s\n",
            "51:\tlearn: 0.7934526\ttotal: 25.1s\tremaining: 11m 39s\n",
            "52:\tlearn: 0.7929892\ttotal: 25.5s\tremaining: 11m 36s\n",
            "53:\tlearn: 0.7922667\ttotal: 26s\tremaining: 11m 36s\n",
            "54:\tlearn: 0.7915925\ttotal: 26.5s\tremaining: 11m 36s\n",
            "55:\tlearn: 0.7912271\ttotal: 26.9s\tremaining: 11m 34s\n",
            "56:\tlearn: 0.7903722\ttotal: 27.4s\tremaining: 11m 34s\n",
            "57:\tlearn: 0.7897928\ttotal: 27.9s\tremaining: 11m 32s\n",
            "58:\tlearn: 0.7891775\ttotal: 28.4s\tremaining: 11m 32s\n",
            "59:\tlearn: 0.7886196\ttotal: 28.8s\tremaining: 11m 30s\n",
            "60:\tlearn: 0.7880842\ttotal: 29.2s\tremaining: 11m 28s\n",
            "61:\tlearn: 0.7874965\ttotal: 29.7s\tremaining: 11m 29s\n",
            "62:\tlearn: 0.7867348\ttotal: 30.2s\tremaining: 11m 29s\n",
            "63:\tlearn: 0.7861744\ttotal: 30.7s\tremaining: 11m 28s\n",
            "64:\tlearn: 0.7856394\ttotal: 31.1s\tremaining: 11m 25s\n",
            "65:\tlearn: 0.7854317\ttotal: 31.5s\tremaining: 11m 23s\n",
            "66:\tlearn: 0.7850612\ttotal: 31.9s\tremaining: 11m 22s\n",
            "67:\tlearn: 0.7845905\ttotal: 32.4s\tremaining: 11m 22s\n",
            "68:\tlearn: 0.7839147\ttotal: 32.9s\tremaining: 11m 22s\n",
            "69:\tlearn: 0.7831642\ttotal: 33.4s\tremaining: 11m 23s\n",
            "70:\tlearn: 0.7828201\ttotal: 33.9s\tremaining: 11m 22s\n",
            "71:\tlearn: 0.7825194\ttotal: 34.4s\tremaining: 11m 22s\n",
            "72:\tlearn: 0.7823550\ttotal: 34.9s\tremaining: 11m 21s\n",
            "73:\tlearn: 0.7819268\ttotal: 35.3s\tremaining: 11m 20s\n",
            "74:\tlearn: 0.7815349\ttotal: 35.8s\tremaining: 11m 19s\n",
            "75:\tlearn: 0.7812510\ttotal: 36.2s\tremaining: 11m 17s\n",
            "76:\tlearn: 0.7808126\ttotal: 36.6s\tremaining: 11m 17s\n",
            "77:\tlearn: 0.7804789\ttotal: 37.1s\tremaining: 11m 16s\n",
            "78:\tlearn: 0.7803177\ttotal: 37.5s\tremaining: 11m 14s\n",
            "79:\tlearn: 0.7801413\ttotal: 37.9s\tremaining: 11m 13s\n",
            "80:\tlearn: 0.7796315\ttotal: 38.4s\tremaining: 11m 12s\n",
            "81:\tlearn: 0.7791725\ttotal: 38.9s\tremaining: 11m 12s\n",
            "82:\tlearn: 0.7787499\ttotal: 39.3s\tremaining: 11m 11s\n",
            "83:\tlearn: 0.7784880\ttotal: 39.8s\tremaining: 11m 10s\n",
            "84:\tlearn: 0.7781359\ttotal: 40.3s\tremaining: 11m 10s\n",
            "85:\tlearn: 0.7778343\ttotal: 40.7s\tremaining: 11m 8s\n",
            "86:\tlearn: 0.7776289\ttotal: 41.2s\tremaining: 11m 8s\n",
            "87:\tlearn: 0.7773345\ttotal: 41.7s\tremaining: 11m 8s\n",
            "88:\tlearn: 0.7770684\ttotal: 42.1s\tremaining: 11m 8s\n",
            "89:\tlearn: 0.7767721\ttotal: 42.6s\tremaining: 11m 7s\n",
            "90:\tlearn: 0.7763136\ttotal: 43.1s\tremaining: 11m 6s\n",
            "91:\tlearn: 0.7760714\ttotal: 43.5s\tremaining: 11m 5s\n",
            "92:\tlearn: 0.7759620\ttotal: 44s\tremaining: 11m 5s\n",
            "93:\tlearn: 0.7756617\ttotal: 44.4s\tremaining: 11m 4s\n",
            "94:\tlearn: 0.7753247\ttotal: 44.9s\tremaining: 11m 3s\n",
            "95:\tlearn: 0.7752227\ttotal: 45.2s\tremaining: 11m 1s\n",
            "96:\tlearn: 0.7750450\ttotal: 45.7s\tremaining: 11m 1s\n",
            "97:\tlearn: 0.7748607\ttotal: 46.1s\tremaining: 11m\n",
            "98:\tlearn: 0.7739360\ttotal: 46.6s\tremaining: 10m 59s\n",
            "99:\tlearn: 0.7738392\ttotal: 47s\tremaining: 10m 58s\n",
            "100:\tlearn: 0.7736537\ttotal: 47.5s\tremaining: 10m 57s\n",
            "101:\tlearn: 0.7733108\ttotal: 48s\tremaining: 10m 57s\n",
            "102:\tlearn: 0.7729679\ttotal: 48.5s\tremaining: 10m 57s\n",
            "103:\tlearn: 0.7725276\ttotal: 48.9s\tremaining: 10m 56s\n",
            "104:\tlearn: 0.7716662\ttotal: 49.4s\tremaining: 10m 56s\n",
            "105:\tlearn: 0.7711977\ttotal: 49.9s\tremaining: 10m 55s\n",
            "106:\tlearn: 0.7710337\ttotal: 50.4s\tremaining: 10m 55s\n",
            "107:\tlearn: 0.7707663\ttotal: 50.9s\tremaining: 10m 55s\n",
            "108:\tlearn: 0.7705551\ttotal: 51.3s\tremaining: 10m 54s\n",
            "109:\tlearn: 0.7704011\ttotal: 51.7s\tremaining: 10m 53s\n",
            "110:\tlearn: 0.7701318\ttotal: 52.2s\tremaining: 10m 52s\n",
            "111:\tlearn: 0.7696315\ttotal: 52.7s\tremaining: 10m 52s\n",
            "112:\tlearn: 0.7692266\ttotal: 53.2s\tremaining: 10m 53s\n",
            "113:\tlearn: 0.7688560\ttotal: 53.7s\tremaining: 10m 52s\n",
            "114:\tlearn: 0.7685746\ttotal: 54.2s\tremaining: 10m 52s\n",
            "115:\tlearn: 0.7683823\ttotal: 54.6s\tremaining: 10m 51s\n",
            "116:\tlearn: 0.7681304\ttotal: 55.1s\tremaining: 10m 51s\n",
            "117:\tlearn: 0.7679678\ttotal: 55.6s\tremaining: 10m 50s\n",
            "118:\tlearn: 0.7677822\ttotal: 56s\tremaining: 10m 50s\n",
            "119:\tlearn: 0.7675302\ttotal: 56.5s\tremaining: 10m 49s\n",
            "120:\tlearn: 0.7673522\ttotal: 57s\tremaining: 10m 49s\n",
            "121:\tlearn: 0.7671081\ttotal: 57.4s\tremaining: 10m 48s\n",
            "122:\tlearn: 0.7669146\ttotal: 57.9s\tremaining: 10m 48s\n",
            "123:\tlearn: 0.7667091\ttotal: 58.4s\tremaining: 10m 47s\n",
            "124:\tlearn: 0.7665406\ttotal: 58.9s\tremaining: 10m 47s\n",
            "125:\tlearn: 0.7663347\ttotal: 59.4s\tremaining: 10m 47s\n",
            "126:\tlearn: 0.7661887\ttotal: 59.9s\tremaining: 10m 47s\n",
            "127:\tlearn: 0.7658668\ttotal: 1m\tremaining: 10m 48s\n",
            "128:\tlearn: 0.7657648\ttotal: 1m\tremaining: 10m 47s\n",
            "129:\tlearn: 0.7655578\ttotal: 1m 1s\tremaining: 10m 47s\n",
            "130:\tlearn: 0.7654014\ttotal: 1m 1s\tremaining: 10m 46s\n",
            "131:\tlearn: 0.7651077\ttotal: 1m 2s\tremaining: 10m 45s\n",
            "132:\tlearn: 0.7649485\ttotal: 1m 2s\tremaining: 10m 44s\n",
            "133:\tlearn: 0.7646381\ttotal: 1m 3s\tremaining: 10m 45s\n",
            "134:\tlearn: 0.7645298\ttotal: 1m 3s\tremaining: 10m 44s\n",
            "135:\tlearn: 0.7641269\ttotal: 1m 4s\tremaining: 10m 44s\n",
            "136:\tlearn: 0.7639872\ttotal: 1m 4s\tremaining: 10m 44s\n",
            "137:\tlearn: 0.7635851\ttotal: 1m 5s\tremaining: 10m 43s\n",
            "138:\tlearn: 0.7634056\ttotal: 1m 5s\tremaining: 10m 42s\n",
            "139:\tlearn: 0.7632702\ttotal: 1m 6s\tremaining: 10m 42s\n",
            "140:\tlearn: 0.7630441\ttotal: 1m 6s\tremaining: 10m 42s\n",
            "141:\tlearn: 0.7628743\ttotal: 1m 7s\tremaining: 10m 42s\n",
            "142:\tlearn: 0.7627106\ttotal: 1m 7s\tremaining: 10m 42s\n",
            "143:\tlearn: 0.7625729\ttotal: 1m 8s\tremaining: 10m 41s\n",
            "144:\tlearn: 0.7623717\ttotal: 1m 8s\tremaining: 10m 40s\n",
            "145:\tlearn: 0.7622821\ttotal: 1m 9s\tremaining: 10m 40s\n",
            "146:\tlearn: 0.7619517\ttotal: 1m 9s\tremaining: 10m 39s\n",
            "147:\tlearn: 0.7619074\ttotal: 1m 9s\tremaining: 10m 38s\n",
            "148:\tlearn: 0.7616958\ttotal: 1m 10s\tremaining: 10m 38s\n",
            "149:\tlearn: 0.7615416\ttotal: 1m 10s\tremaining: 10m 38s\n",
            "150:\tlearn: 0.7613356\ttotal: 1m 11s\tremaining: 10m 37s\n",
            "151:\tlearn: 0.7612038\ttotal: 1m 11s\tremaining: 10m 36s\n",
            "152:\tlearn: 0.7608821\ttotal: 1m 12s\tremaining: 10m 36s\n",
            "153:\tlearn: 0.7607901\ttotal: 1m 12s\tremaining: 10m 36s\n",
            "154:\tlearn: 0.7606356\ttotal: 1m 13s\tremaining: 10m 35s\n",
            "155:\tlearn: 0.7605719\ttotal: 1m 13s\tremaining: 10m 35s\n",
            "156:\tlearn: 0.7604289\ttotal: 1m 14s\tremaining: 10m 35s\n",
            "157:\tlearn: 0.7603583\ttotal: 1m 14s\tremaining: 10m 34s\n",
            "158:\tlearn: 0.7600585\ttotal: 1m 15s\tremaining: 10m 35s\n",
            "159:\tlearn: 0.7599486\ttotal: 1m 15s\tremaining: 10m 35s\n",
            "160:\tlearn: 0.7598240\ttotal: 1m 16s\tremaining: 10m 34s\n",
            "161:\tlearn: 0.7596247\ttotal: 1m 16s\tremaining: 10m 34s\n",
            "162:\tlearn: 0.7595064\ttotal: 1m 17s\tremaining: 10m 34s\n",
            "163:\tlearn: 0.7593874\ttotal: 1m 17s\tremaining: 10m 33s\n",
            "164:\tlearn: 0.7589103\ttotal: 1m 18s\tremaining: 10m 33s\n",
            "165:\tlearn: 0.7587764\ttotal: 1m 18s\tremaining: 10m 32s\n",
            "166:\tlearn: 0.7585988\ttotal: 1m 19s\tremaining: 10m 32s\n",
            "167:\tlearn: 0.7584540\ttotal: 1m 19s\tremaining: 10m 32s\n",
            "168:\tlearn: 0.7583353\ttotal: 1m 20s\tremaining: 10m 31s\n",
            "169:\tlearn: 0.7582547\ttotal: 1m 20s\tremaining: 10m 31s\n",
            "170:\tlearn: 0.7581197\ttotal: 1m 21s\tremaining: 10m 30s\n",
            "171:\tlearn: 0.7580659\ttotal: 1m 21s\tremaining: 10m 29s\n",
            "172:\tlearn: 0.7579289\ttotal: 1m 22s\tremaining: 10m 29s\n",
            "173:\tlearn: 0.7577323\ttotal: 1m 22s\tremaining: 10m 28s\n",
            "174:\tlearn: 0.7575942\ttotal: 1m 22s\tremaining: 10m 28s\n",
            "175:\tlearn: 0.7575573\ttotal: 1m 23s\tremaining: 10m 27s\n",
            "176:\tlearn: 0.7574571\ttotal: 1m 23s\tremaining: 10m 26s\n",
            "177:\tlearn: 0.7573458\ttotal: 1m 24s\tremaining: 10m 25s\n",
            "178:\tlearn: 0.7572627\ttotal: 1m 24s\tremaining: 10m 24s\n",
            "179:\tlearn: 0.7571251\ttotal: 1m 25s\tremaining: 10m 23s\n",
            "180:\tlearn: 0.7569006\ttotal: 1m 25s\tremaining: 10m 24s\n",
            "181:\tlearn: 0.7568622\ttotal: 1m 26s\tremaining: 10m 23s\n",
            "182:\tlearn: 0.7567011\ttotal: 1m 26s\tremaining: 10m 22s\n",
            "183:\tlearn: 0.7565600\ttotal: 1m 27s\tremaining: 10m 22s\n",
            "184:\tlearn: 0.7564752\ttotal: 1m 27s\tremaining: 10m 22s\n",
            "185:\tlearn: 0.7562139\ttotal: 1m 28s\tremaining: 10m 22s\n",
            "186:\tlearn: 0.7560741\ttotal: 1m 28s\tremaining: 10m 22s\n",
            "187:\tlearn: 0.7559702\ttotal: 1m 29s\tremaining: 10m 21s\n",
            "188:\tlearn: 0.7559115\ttotal: 1m 29s\tremaining: 10m 20s\n",
            "189:\tlearn: 0.7557198\ttotal: 1m 29s\tremaining: 10m 20s\n",
            "190:\tlearn: 0.7556110\ttotal: 1m 30s\tremaining: 10m 19s\n",
            "191:\tlearn: 0.7555806\ttotal: 1m 30s\tremaining: 10m 18s\n",
            "192:\tlearn: 0.7555274\ttotal: 1m 31s\tremaining: 10m 18s\n",
            "193:\tlearn: 0.7553972\ttotal: 1m 31s\tremaining: 10m 17s\n",
            "194:\tlearn: 0.7552790\ttotal: 1m 32s\tremaining: 10m 17s\n",
            "195:\tlearn: 0.7551337\ttotal: 1m 32s\tremaining: 10m 16s\n",
            "196:\tlearn: 0.7549176\ttotal: 1m 33s\tremaining: 10m 17s\n",
            "197:\tlearn: 0.7546863\ttotal: 1m 33s\tremaining: 10m 16s\n",
            "198:\tlearn: 0.7543898\ttotal: 1m 34s\tremaining: 10m 16s\n",
            "199:\tlearn: 0.7543510\ttotal: 1m 34s\tremaining: 10m 15s\n",
            "200:\tlearn: 0.7541900\ttotal: 1m 35s\tremaining: 10m 15s\n",
            "201:\tlearn: 0.7541631\ttotal: 1m 35s\tremaining: 10m 14s\n",
            "202:\tlearn: 0.7540256\ttotal: 1m 36s\tremaining: 10m 13s\n",
            "203:\tlearn: 0.7538283\ttotal: 1m 36s\tremaining: 10m 12s\n",
            "204:\tlearn: 0.7536694\ttotal: 1m 36s\tremaining: 10m 12s\n",
            "205:\tlearn: 0.7534683\ttotal: 1m 37s\tremaining: 10m 11s\n",
            "206:\tlearn: 0.7533659\ttotal: 1m 37s\tremaining: 10m 11s\n",
            "207:\tlearn: 0.7532572\ttotal: 1m 38s\tremaining: 10m 11s\n",
            "208:\tlearn: 0.7531969\ttotal: 1m 38s\tremaining: 10m 10s\n",
            "209:\tlearn: 0.7530438\ttotal: 1m 39s\tremaining: 10m 10s\n",
            "210:\tlearn: 0.7528418\ttotal: 1m 39s\tremaining: 10m 9s\n",
            "211:\tlearn: 0.7527753\ttotal: 1m 40s\tremaining: 10m 9s\n",
            "212:\tlearn: 0.7526164\ttotal: 1m 40s\tremaining: 10m 8s\n",
            "213:\tlearn: 0.7525091\ttotal: 1m 41s\tremaining: 10m 8s\n",
            "214:\tlearn: 0.7524087\ttotal: 1m 41s\tremaining: 10m 8s\n",
            "215:\tlearn: 0.7523272\ttotal: 1m 42s\tremaining: 10m 7s\n",
            "216:\tlearn: 0.7522203\ttotal: 1m 42s\tremaining: 10m 6s\n",
            "217:\tlearn: 0.7521395\ttotal: 1m 43s\tremaining: 10m 6s\n",
            "218:\tlearn: 0.7520428\ttotal: 1m 43s\tremaining: 10m 5s\n",
            "219:\tlearn: 0.7519404\ttotal: 1m 44s\tremaining: 10m 5s\n",
            "220:\tlearn: 0.7519152\ttotal: 1m 44s\tremaining: 10m 4s\n",
            "221:\tlearn: 0.7517814\ttotal: 1m 44s\tremaining: 10m 4s\n",
            "222:\tlearn: 0.7516979\ttotal: 1m 45s\tremaining: 10m 3s\n",
            "223:\tlearn: 0.7516289\ttotal: 1m 45s\tremaining: 10m 3s\n",
            "224:\tlearn: 0.7515562\ttotal: 1m 46s\tremaining: 10m 2s\n",
            "225:\tlearn: 0.7514955\ttotal: 1m 46s\tremaining: 10m 2s\n",
            "226:\tlearn: 0.7514034\ttotal: 1m 47s\tremaining: 10m 1s\n",
            "227:\tlearn: 0.7511069\ttotal: 1m 47s\tremaining: 10m 1s\n",
            "228:\tlearn: 0.7510387\ttotal: 1m 48s\tremaining: 10m 1s\n",
            "229:\tlearn: 0.7508730\ttotal: 1m 48s\tremaining: 10m\n",
            "230:\tlearn: 0.7506783\ttotal: 1m 49s\tremaining: 10m\n",
            "231:\tlearn: 0.7506239\ttotal: 1m 49s\tremaining: 9m 59s\n",
            "232:\tlearn: 0.7505546\ttotal: 1m 50s\tremaining: 9m 59s\n",
            "233:\tlearn: 0.7504779\ttotal: 1m 50s\tremaining: 9m 58s\n",
            "234:\tlearn: 0.7504326\ttotal: 1m 51s\tremaining: 9m 57s\n",
            "235:\tlearn: 0.7503958\ttotal: 1m 51s\tremaining: 9m 57s\n",
            "236:\tlearn: 0.7502958\ttotal: 1m 51s\tremaining: 9m 56s\n",
            "237:\tlearn: 0.7501545\ttotal: 1m 52s\tremaining: 9m 56s\n",
            "238:\tlearn: 0.7500092\ttotal: 1m 52s\tremaining: 9m 55s\n",
            "239:\tlearn: 0.7499056\ttotal: 1m 53s\tremaining: 9m 55s\n",
            "240:\tlearn: 0.7498836\ttotal: 1m 53s\tremaining: 9m 54s\n",
            "241:\tlearn: 0.7496935\ttotal: 1m 54s\tremaining: 9m 54s\n",
            "242:\tlearn: 0.7496217\ttotal: 1m 54s\tremaining: 9m 53s\n",
            "243:\tlearn: 0.7495661\ttotal: 1m 55s\tremaining: 9m 53s\n",
            "244:\tlearn: 0.7494429\ttotal: 1m 55s\tremaining: 9m 53s\n",
            "245:\tlearn: 0.7493815\ttotal: 1m 56s\tremaining: 9m 52s\n",
            "246:\tlearn: 0.7493064\ttotal: 1m 56s\tremaining: 9m 52s\n",
            "247:\tlearn: 0.7492476\ttotal: 1m 57s\tremaining: 9m 51s\n",
            "248:\tlearn: 0.7491028\ttotal: 1m 57s\tremaining: 9m 51s\n",
            "249:\tlearn: 0.7489283\ttotal: 1m 58s\tremaining: 9m 51s\n",
            "250:\tlearn: 0.7488794\ttotal: 1m 58s\tremaining: 9m 50s\n",
            "251:\tlearn: 0.7488372\ttotal: 1m 59s\tremaining: 9m 49s\n",
            "252:\tlearn: 0.7487362\ttotal: 1m 59s\tremaining: 9m 49s\n",
            "253:\tlearn: 0.7487080\ttotal: 2m\tremaining: 9m 48s\n",
            "254:\tlearn: 0.7486703\ttotal: 2m\tremaining: 9m 48s\n",
            "255:\tlearn: 0.7486067\ttotal: 2m\tremaining: 9m 47s\n",
            "256:\tlearn: 0.7485229\ttotal: 2m 1s\tremaining: 9m 46s\n",
            "257:\tlearn: 0.7484326\ttotal: 2m 1s\tremaining: 9m 46s\n",
            "258:\tlearn: 0.7484111\ttotal: 2m 2s\tremaining: 9m 45s\n",
            "259:\tlearn: 0.7483435\ttotal: 2m 2s\tremaining: 9m 44s\n",
            "260:\tlearn: 0.7482484\ttotal: 2m 3s\tremaining: 9m 44s\n",
            "261:\tlearn: 0.7481795\ttotal: 2m 3s\tremaining: 9m 43s\n",
            "262:\tlearn: 0.7480644\ttotal: 2m 3s\tremaining: 9m 42s\n",
            "263:\tlearn: 0.7479547\ttotal: 2m 4s\tremaining: 9m 42s\n",
            "264:\tlearn: 0.7479199\ttotal: 2m 4s\tremaining: 9m 41s\n",
            "265:\tlearn: 0.7478362\ttotal: 2m 5s\tremaining: 9m 41s\n",
            "266:\tlearn: 0.7478016\ttotal: 2m 5s\tremaining: 9m 40s\n",
            "267:\tlearn: 0.7477497\ttotal: 2m 6s\tremaining: 9m 40s\n",
            "268:\tlearn: 0.7476516\ttotal: 2m 6s\tremaining: 9m 39s\n",
            "269:\tlearn: 0.7474566\ttotal: 2m 7s\tremaining: 9m 39s\n",
            "270:\tlearn: 0.7474004\ttotal: 2m 7s\tremaining: 9m 39s\n",
            "271:\tlearn: 0.7473236\ttotal: 2m 8s\tremaining: 9m 38s\n",
            "272:\tlearn: 0.7472790\ttotal: 2m 8s\tremaining: 9m 38s\n",
            "273:\tlearn: 0.7472623\ttotal: 2m 9s\tremaining: 9m 37s\n",
            "274:\tlearn: 0.7471614\ttotal: 2m 9s\tremaining: 9m 37s\n",
            "275:\tlearn: 0.7469127\ttotal: 2m 10s\tremaining: 9m 36s\n",
            "276:\tlearn: 0.7467883\ttotal: 2m 10s\tremaining: 9m 36s\n",
            "277:\tlearn: 0.7467171\ttotal: 2m 11s\tremaining: 9m 36s\n",
            "278:\tlearn: 0.7466660\ttotal: 2m 11s\tremaining: 9m 35s\n",
            "279:\tlearn: 0.7465997\ttotal: 2m 11s\tremaining: 9m 34s\n",
            "280:\tlearn: 0.7465583\ttotal: 2m 12s\tremaining: 9m 34s\n",
            "281:\tlearn: 0.7464466\ttotal: 2m 12s\tremaining: 9m 33s\n",
            "282:\tlearn: 0.7463120\ttotal: 2m 13s\tremaining: 9m 33s\n",
            "283:\tlearn: 0.7462719\ttotal: 2m 13s\tremaining: 9m 33s\n",
            "284:\tlearn: 0.7461390\ttotal: 2m 14s\tremaining: 9m 32s\n",
            "285:\tlearn: 0.7460889\ttotal: 2m 14s\tremaining: 9m 32s\n",
            "286:\tlearn: 0.7460609\ttotal: 2m 15s\tremaining: 9m 31s\n",
            "287:\tlearn: 0.7459716\ttotal: 2m 15s\tremaining: 9m 31s\n",
            "288:\tlearn: 0.7459001\ttotal: 2m 16s\tremaining: 9m 30s\n",
            "289:\tlearn: 0.7458218\ttotal: 2m 16s\tremaining: 9m 30s\n",
            "290:\tlearn: 0.7457120\ttotal: 2m 17s\tremaining: 9m 30s\n",
            "291:\tlearn: 0.7456537\ttotal: 2m 17s\tremaining: 9m 29s\n",
            "292:\tlearn: 0.7455695\ttotal: 2m 18s\tremaining: 9m 29s\n",
            "293:\tlearn: 0.7455229\ttotal: 2m 18s\tremaining: 9m 28s\n",
            "294:\tlearn: 0.7454600\ttotal: 2m 19s\tremaining: 9m 27s\n",
            "295:\tlearn: 0.7453796\ttotal: 2m 19s\tremaining: 9m 27s\n",
            "296:\tlearn: 0.7453064\ttotal: 2m 19s\tremaining: 9m 26s\n",
            "297:\tlearn: 0.7452487\ttotal: 2m 20s\tremaining: 9m 26s\n",
            "298:\tlearn: 0.7451837\ttotal: 2m 20s\tremaining: 9m 25s\n",
            "299:\tlearn: 0.7451126\ttotal: 2m 21s\tremaining: 9m 25s\n",
            "300:\tlearn: 0.7450630\ttotal: 2m 21s\tremaining: 9m 25s\n",
            "301:\tlearn: 0.7449747\ttotal: 2m 22s\tremaining: 9m 24s\n",
            "302:\tlearn: 0.7448750\ttotal: 2m 22s\tremaining: 9m 24s\n",
            "303:\tlearn: 0.7447670\ttotal: 2m 23s\tremaining: 9m 23s\n",
            "304:\tlearn: 0.7446980\ttotal: 2m 23s\tremaining: 9m 23s\n",
            "305:\tlearn: 0.7446394\ttotal: 2m 24s\tremaining: 9m 22s\n",
            "306:\tlearn: 0.7446169\ttotal: 2m 24s\tremaining: 9m 22s\n",
            "307:\tlearn: 0.7445169\ttotal: 2m 25s\tremaining: 9m 21s\n",
            "308:\tlearn: 0.7444674\ttotal: 2m 25s\tremaining: 9m 21s\n",
            "309:\tlearn: 0.7444176\ttotal: 2m 26s\tremaining: 9m 21s\n",
            "310:\tlearn: 0.7443332\ttotal: 2m 26s\tremaining: 9m 20s\n",
            "311:\tlearn: 0.7443120\ttotal: 2m 27s\tremaining: 9m 20s\n",
            "312:\tlearn: 0.7442914\ttotal: 2m 27s\tremaining: 9m 19s\n",
            "313:\tlearn: 0.7442427\ttotal: 2m 28s\tremaining: 9m 19s\n",
            "314:\tlearn: 0.7442161\ttotal: 2m 28s\tremaining: 9m 18s\n",
            "315:\tlearn: 0.7441872\ttotal: 2m 28s\tremaining: 9m 18s\n",
            "316:\tlearn: 0.7441473\ttotal: 2m 29s\tremaining: 9m 17s\n",
            "317:\tlearn: 0.7440547\ttotal: 2m 29s\tremaining: 9m 16s\n",
            "318:\tlearn: 0.7439938\ttotal: 2m 30s\tremaining: 9m 16s\n",
            "319:\tlearn: 0.7439600\ttotal: 2m 30s\tremaining: 9m 15s\n",
            "320:\tlearn: 0.7439442\ttotal: 2m 31s\tremaining: 9m 15s\n",
            "321:\tlearn: 0.7439419\ttotal: 2m 31s\tremaining: 9m 14s\n",
            "322:\tlearn: 0.7439024\ttotal: 2m 32s\tremaining: 9m 14s\n",
            "323:\tlearn: 0.7438566\ttotal: 2m 32s\tremaining: 9m 13s\n",
            "324:\tlearn: 0.7438249\ttotal: 2m 33s\tremaining: 9m 13s\n",
            "325:\tlearn: 0.7437664\ttotal: 2m 33s\tremaining: 9m 13s\n",
            "326:\tlearn: 0.7437091\ttotal: 2m 34s\tremaining: 9m 12s\n",
            "327:\tlearn: 0.7433647\ttotal: 2m 34s\tremaining: 9m 12s\n",
            "328:\tlearn: 0.7433110\ttotal: 2m 35s\tremaining: 9m 11s\n",
            "329:\tlearn: 0.7432958\ttotal: 2m 35s\tremaining: 9m 11s\n",
            "330:\tlearn: 0.7432620\ttotal: 2m 36s\tremaining: 9m 10s\n",
            "331:\tlearn: 0.7432084\ttotal: 2m 36s\tremaining: 9m 10s\n",
            "332:\tlearn: 0.7431803\ttotal: 2m 36s\tremaining: 9m 9s\n",
            "333:\tlearn: 0.7431696\ttotal: 2m 37s\tremaining: 9m 9s\n",
            "334:\tlearn: 0.7431405\ttotal: 2m 37s\tremaining: 9m 8s\n",
            "335:\tlearn: 0.7431146\ttotal: 2m 38s\tremaining: 9m 8s\n",
            "336:\tlearn: 0.7431040\ttotal: 2m 38s\tremaining: 9m 7s\n",
            "337:\tlearn: 0.7430562\ttotal: 2m 39s\tremaining: 9m 7s\n",
            "338:\tlearn: 0.7430450\ttotal: 2m 39s\tremaining: 9m 6s\n",
            "339:\tlearn: 0.7430213\ttotal: 2m 39s\tremaining: 9m 5s\n",
            "340:\tlearn: 0.7429531\ttotal: 2m 40s\tremaining: 9m 5s\n",
            "341:\tlearn: 0.7427353\ttotal: 2m 40s\tremaining: 9m 4s\n",
            "342:\tlearn: 0.7427311\ttotal: 2m 41s\tremaining: 9m 4s\n",
            "343:\tlearn: 0.7427119\ttotal: 2m 41s\tremaining: 9m 3s\n",
            "344:\tlearn: 0.7426108\ttotal: 2m 42s\tremaining: 9m 3s\n",
            "345:\tlearn: 0.7425550\ttotal: 2m 42s\tremaining: 9m 2s\n",
            "346:\tlearn: 0.7425160\ttotal: 2m 43s\tremaining: 9m 2s\n",
            "347:\tlearn: 0.7424717\ttotal: 2m 43s\tremaining: 9m 1s\n",
            "348:\tlearn: 0.7424612\ttotal: 2m 44s\tremaining: 9m 1s\n",
            "349:\tlearn: 0.7424464\ttotal: 2m 44s\tremaining: 9m\n",
            "350:\tlearn: 0.7423902\ttotal: 2m 45s\tremaining: 9m\n",
            "351:\tlearn: 0.7423636\ttotal: 2m 45s\tremaining: 8m 59s\n",
            "352:\tlearn: 0.7423107\ttotal: 2m 46s\tremaining: 8m 59s\n",
            "353:\tlearn: 0.7422743\ttotal: 2m 46s\tremaining: 8m 59s\n",
            "354:\tlearn: 0.7422228\ttotal: 2m 47s\tremaining: 8m 58s\n",
            "355:\tlearn: 0.7422154\ttotal: 2m 47s\tremaining: 8m 58s\n",
            "356:\tlearn: 0.7421858\ttotal: 2m 47s\tremaining: 8m 57s\n",
            "357:\tlearn: 0.7421179\ttotal: 2m 48s\tremaining: 8m 57s\n",
            "358:\tlearn: 0.7419478\ttotal: 2m 48s\tremaining: 8m 56s\n",
            "359:\tlearn: 0.7419149\ttotal: 2m 49s\tremaining: 8m 56s\n",
            "360:\tlearn: 0.7418966\ttotal: 2m 49s\tremaining: 8m 55s\n",
            "361:\tlearn: 0.7418654\ttotal: 2m 50s\tremaining: 8m 55s\n",
            "362:\tlearn: 0.7418395\ttotal: 2m 50s\tremaining: 8m 55s\n",
            "363:\tlearn: 0.7418063\ttotal: 2m 51s\tremaining: 8m 54s\n",
            "364:\tlearn: 0.7417918\ttotal: 2m 51s\tremaining: 8m 53s\n",
            "365:\tlearn: 0.7417528\ttotal: 2m 52s\tremaining: 8m 53s\n",
            "366:\tlearn: 0.7417199\ttotal: 2m 52s\tremaining: 8m 52s\n",
            "367:\tlearn: 0.7416678\ttotal: 2m 53s\tremaining: 8m 52s\n",
            "368:\tlearn: 0.7416421\ttotal: 2m 53s\tremaining: 8m 51s\n",
            "369:\tlearn: 0.7415439\ttotal: 2m 54s\tremaining: 8m 51s\n",
            "370:\tlearn: 0.7414550\ttotal: 2m 54s\tremaining: 8m 50s\n",
            "371:\tlearn: 0.7413952\ttotal: 2m 54s\tremaining: 8m 50s\n",
            "372:\tlearn: 0.7413750\ttotal: 2m 55s\tremaining: 8m 49s\n",
            "373:\tlearn: 0.7413357\ttotal: 2m 55s\tremaining: 8m 49s\n",
            "374:\tlearn: 0.7412785\ttotal: 2m 56s\tremaining: 8m 48s\n",
            "375:\tlearn: 0.7412386\ttotal: 2m 56s\tremaining: 8m 48s\n",
            "376:\tlearn: 0.7412061\ttotal: 2m 57s\tremaining: 8m 48s\n",
            "377:\tlearn: 0.7412005\ttotal: 2m 57s\tremaining: 8m 47s\n",
            "378:\tlearn: 0.7411664\ttotal: 2m 58s\tremaining: 8m 47s\n",
            "379:\tlearn: 0.7411402\ttotal: 2m 58s\tremaining: 8m 46s\n",
            "380:\tlearn: 0.7411260\ttotal: 2m 59s\tremaining: 8m 46s\n",
            "381:\tlearn: 0.7409545\ttotal: 2m 59s\tremaining: 8m 45s\n",
            "382:\tlearn: 0.7409057\ttotal: 3m\tremaining: 8m 45s\n",
            "383:\tlearn: 0.7408387\ttotal: 3m\tremaining: 8m 44s\n",
            "384:\tlearn: 0.7408209\ttotal: 3m\tremaining: 8m 44s\n",
            "385:\tlearn: 0.7408035\ttotal: 3m 1s\tremaining: 8m 43s\n",
            "386:\tlearn: 0.7407729\ttotal: 3m 1s\tremaining: 8m 43s\n",
            "387:\tlearn: 0.7407557\ttotal: 3m 2s\tremaining: 8m 42s\n",
            "388:\tlearn: 0.7406987\ttotal: 3m 2s\tremaining: 8m 42s\n",
            "389:\tlearn: 0.7406400\ttotal: 3m 3s\tremaining: 8m 41s\n",
            "390:\tlearn: 0.7406066\ttotal: 3m 3s\tremaining: 8m 41s\n",
            "391:\tlearn: 0.7405685\ttotal: 3m 4s\tremaining: 8m 41s\n",
            "392:\tlearn: 0.7405485\ttotal: 3m 4s\tremaining: 8m 40s\n",
            "393:\tlearn: 0.7405319\ttotal: 3m 5s\tremaining: 8m 40s\n",
            "394:\tlearn: 0.7404706\ttotal: 3m 5s\tremaining: 8m 39s\n",
            "395:\tlearn: 0.7403358\ttotal: 3m 6s\tremaining: 8m 39s\n",
            "396:\tlearn: 0.7403113\ttotal: 3m 6s\tremaining: 8m 39s\n",
            "397:\tlearn: 0.7402749\ttotal: 3m 7s\tremaining: 8m 38s\n",
            "398:\tlearn: 0.7402397\ttotal: 3m 7s\tremaining: 8m 38s\n",
            "399:\tlearn: 0.7402336\ttotal: 3m 8s\tremaining: 8m 37s\n",
            "400:\tlearn: 0.7401596\ttotal: 3m 8s\tremaining: 8m 37s\n",
            "401:\tlearn: 0.7400932\ttotal: 3m 9s\tremaining: 8m 36s\n",
            "402:\tlearn: 0.7400880\ttotal: 3m 9s\tremaining: 8m 36s\n",
            "403:\tlearn: 0.7400712\ttotal: 3m 10s\tremaining: 8m 35s\n",
            "404:\tlearn: 0.7400478\ttotal: 3m 10s\tremaining: 8m 35s\n",
            "405:\tlearn: 0.7400129\ttotal: 3m 11s\tremaining: 8m 34s\n",
            "406:\tlearn: 0.7399931\ttotal: 3m 11s\tremaining: 8m 34s\n",
            "407:\tlearn: 0.7399769\ttotal: 3m 11s\tremaining: 8m 33s\n",
            "408:\tlearn: 0.7399594\ttotal: 3m 12s\tremaining: 8m 33s\n",
            "409:\tlearn: 0.7399452\ttotal: 3m 12s\tremaining: 8m 32s\n",
            "410:\tlearn: 0.7399158\ttotal: 3m 13s\tremaining: 8m 32s\n",
            "411:\tlearn: 0.7397125\ttotal: 3m 13s\tremaining: 8m 31s\n",
            "412:\tlearn: 0.7396810\ttotal: 3m 14s\tremaining: 8m 31s\n",
            "413:\tlearn: 0.7396552\ttotal: 3m 14s\tremaining: 8m 30s\n",
            "414:\tlearn: 0.7395923\ttotal: 3m 15s\tremaining: 8m 30s\n",
            "415:\tlearn: 0.7395699\ttotal: 3m 15s\tremaining: 8m 29s\n",
            "416:\tlearn: 0.7395166\ttotal: 3m 16s\tremaining: 8m 29s\n",
            "417:\tlearn: 0.7394986\ttotal: 3m 16s\tremaining: 8m 28s\n",
            "418:\tlearn: 0.7394398\ttotal: 3m 17s\tremaining: 8m 28s\n",
            "419:\tlearn: 0.7393867\ttotal: 3m 17s\tremaining: 8m 27s\n",
            "420:\tlearn: 0.7392888\ttotal: 3m 17s\tremaining: 8m 27s\n",
            "421:\tlearn: 0.7392234\ttotal: 3m 18s\tremaining: 8m 26s\n",
            "422:\tlearn: 0.7392078\ttotal: 3m 18s\tremaining: 8m 26s\n",
            "423:\tlearn: 0.7391638\ttotal: 3m 19s\tremaining: 8m 25s\n",
            "424:\tlearn: 0.7391301\ttotal: 3m 19s\tremaining: 8m 25s\n",
            "425:\tlearn: 0.7390862\ttotal: 3m 20s\tremaining: 8m 24s\n",
            "426:\tlearn: 0.7390742\ttotal: 3m 20s\tremaining: 8m 24s\n",
            "427:\tlearn: 0.7390369\ttotal: 3m 21s\tremaining: 8m 23s\n",
            "428:\tlearn: 0.7390061\ttotal: 3m 21s\tremaining: 8m 23s\n",
            "429:\tlearn: 0.7390022\ttotal: 3m 22s\tremaining: 8m 22s\n",
            "430:\tlearn: 0.7389663\ttotal: 3m 22s\tremaining: 8m 22s\n",
            "431:\tlearn: 0.7389528\ttotal: 3m 22s\tremaining: 8m 21s\n",
            "432:\tlearn: 0.7389313\ttotal: 3m 23s\tremaining: 8m 21s\n",
            "433:\tlearn: 0.7389083\ttotal: 3m 23s\tremaining: 8m 20s\n",
            "434:\tlearn: 0.7388680\ttotal: 3m 24s\tremaining: 8m 20s\n",
            "435:\tlearn: 0.7388015\ttotal: 3m 24s\tremaining: 8m 19s\n",
            "436:\tlearn: 0.7387697\ttotal: 3m 25s\tremaining: 8m 19s\n",
            "437:\tlearn: 0.7387446\ttotal: 3m 25s\tremaining: 8m 18s\n",
            "438:\tlearn: 0.7386370\ttotal: 3m 26s\tremaining: 8m 18s\n",
            "439:\tlearn: 0.7384778\ttotal: 3m 26s\tremaining: 8m 17s\n",
            "440:\tlearn: 0.7384661\ttotal: 3m 27s\tremaining: 8m 17s\n",
            "441:\tlearn: 0.7384492\ttotal: 3m 27s\tremaining: 8m 16s\n",
            "442:\tlearn: 0.7384281\ttotal: 3m 27s\tremaining: 8m 16s\n",
            "443:\tlearn: 0.7384059\ttotal: 3m 28s\tremaining: 8m 15s\n",
            "444:\tlearn: 0.7383492\ttotal: 3m 28s\tremaining: 8m 15s\n",
            "445:\tlearn: 0.7383425\ttotal: 3m 29s\tremaining: 8m 14s\n",
            "446:\tlearn: 0.7382935\ttotal: 3m 29s\tremaining: 8m 14s\n",
            "447:\tlearn: 0.7382521\ttotal: 3m 30s\tremaining: 8m 14s\n",
            "448:\tlearn: 0.7382325\ttotal: 3m 30s\tremaining: 8m 13s\n",
            "449:\tlearn: 0.7382131\ttotal: 3m 31s\tremaining: 8m 12s\n",
            "450:\tlearn: 0.7381850\ttotal: 3m 31s\tremaining: 8m 12s\n",
            "451:\tlearn: 0.7381695\ttotal: 3m 32s\tremaining: 8m 12s\n",
            "452:\tlearn: 0.7381566\ttotal: 3m 32s\tremaining: 8m 11s\n",
            "453:\tlearn: 0.7381468\ttotal: 3m 33s\tremaining: 8m 10s\n",
            "454:\tlearn: 0.7381034\ttotal: 3m 33s\tremaining: 8m 10s\n",
            "455:\tlearn: 0.7380478\ttotal: 3m 34s\tremaining: 8m 10s\n",
            "456:\tlearn: 0.7380169\ttotal: 3m 34s\tremaining: 8m 9s\n",
            "457:\tlearn: 0.7380148\ttotal: 3m 35s\tremaining: 8m 9s\n",
            "458:\tlearn: 0.7379666\ttotal: 3m 35s\tremaining: 8m 8s\n",
            "459:\tlearn: 0.7379642\ttotal: 3m 35s\tremaining: 8m 8s\n",
            "460:\tlearn: 0.7379573\ttotal: 3m 36s\tremaining: 8m 7s\n",
            "461:\tlearn: 0.7379467\ttotal: 3m 36s\tremaining: 8m 7s\n",
            "462:\tlearn: 0.7379073\ttotal: 3m 37s\tremaining: 8m 6s\n",
            "463:\tlearn: 0.7378453\ttotal: 3m 37s\tremaining: 8m 6s\n",
            "464:\tlearn: 0.7378135\ttotal: 3m 38s\tremaining: 8m 6s\n",
            "465:\tlearn: 0.7377988\ttotal: 3m 38s\tremaining: 8m 5s\n",
            "466:\tlearn: 0.7377237\ttotal: 3m 39s\tremaining: 8m 5s\n",
            "467:\tlearn: 0.7376953\ttotal: 3m 39s\tremaining: 8m 4s\n",
            "468:\tlearn: 0.7376811\ttotal: 3m 40s\tremaining: 8m 4s\n",
            "469:\tlearn: 0.7376742\ttotal: 3m 40s\tremaining: 8m 3s\n",
            "470:\tlearn: 0.7376351\ttotal: 3m 41s\tremaining: 8m 3s\n",
            "471:\tlearn: 0.7376146\ttotal: 3m 41s\tremaining: 8m 2s\n",
            "472:\tlearn: 0.7375647\ttotal: 3m 42s\tremaining: 8m 2s\n",
            "473:\tlearn: 0.7375145\ttotal: 3m 42s\tremaining: 8m 1s\n",
            "474:\tlearn: 0.7374671\ttotal: 3m 43s\tremaining: 8m 1s\n",
            "475:\tlearn: 0.7374536\ttotal: 3m 43s\tremaining: 8m\n",
            "476:\tlearn: 0.7374156\ttotal: 3m 44s\tremaining: 8m\n",
            "477:\tlearn: 0.7374035\ttotal: 3m 44s\tremaining: 8m\n",
            "478:\tlearn: 0.7373720\ttotal: 3m 45s\tremaining: 7m 59s\n",
            "479:\tlearn: 0.7373503\ttotal: 3m 45s\tremaining: 7m 59s\n",
            "480:\tlearn: 0.7373173\ttotal: 3m 45s\tremaining: 7m 58s\n",
            "481:\tlearn: 0.7373010\ttotal: 3m 46s\tremaining: 7m 58s\n",
            "482:\tlearn: 0.7372772\ttotal: 3m 46s\tremaining: 7m 57s\n",
            "483:\tlearn: 0.7372530\ttotal: 3m 47s\tremaining: 7m 57s\n",
            "484:\tlearn: 0.7372359\ttotal: 3m 47s\tremaining: 7m 56s\n",
            "485:\tlearn: 0.7372238\ttotal: 3m 48s\tremaining: 7m 56s\n",
            "486:\tlearn: 0.7372039\ttotal: 3m 48s\tremaining: 7m 55s\n",
            "487:\tlearn: 0.7371134\ttotal: 3m 49s\tremaining: 7m 55s\n",
            "488:\tlearn: 0.7370808\ttotal: 3m 49s\tremaining: 7m 54s\n",
            "489:\tlearn: 0.7370537\ttotal: 3m 50s\tremaining: 7m 54s\n",
            "490:\tlearn: 0.7370472\ttotal: 3m 50s\tremaining: 7m 53s\n",
            "491:\tlearn: 0.7369997\ttotal: 3m 50s\tremaining: 7m 53s\n",
            "492:\tlearn: 0.7369712\ttotal: 3m 51s\tremaining: 7m 52s\n",
            "493:\tlearn: 0.7369283\ttotal: 3m 51s\tremaining: 7m 52s\n",
            "494:\tlearn: 0.7369117\ttotal: 3m 52s\tremaining: 7m 51s\n",
            "495:\tlearn: 0.7368910\ttotal: 3m 52s\tremaining: 7m 51s\n",
            "496:\tlearn: 0.7368618\ttotal: 3m 53s\tremaining: 7m 50s\n",
            "497:\tlearn: 0.7368329\ttotal: 3m 53s\tremaining: 7m 50s\n",
            "498:\tlearn: 0.7368140\ttotal: 3m 54s\tremaining: 7m 50s\n",
            "499:\tlearn: 0.7367808\ttotal: 3m 54s\tremaining: 7m 49s\n",
            "500:\tlearn: 0.7367534\ttotal: 3m 55s\tremaining: 7m 49s\n",
            "501:\tlearn: 0.7366364\ttotal: 3m 55s\tremaining: 7m 48s\n",
            "502:\tlearn: 0.7365503\ttotal: 3m 56s\tremaining: 7m 48s\n",
            "503:\tlearn: 0.7365194\ttotal: 3m 56s\tremaining: 7m 47s\n",
            "504:\tlearn: 0.7365105\ttotal: 3m 57s\tremaining: 7m 47s\n",
            "505:\tlearn: 0.7364826\ttotal: 3m 57s\tremaining: 7m 46s\n",
            "506:\tlearn: 0.7364689\ttotal: 3m 58s\tremaining: 7m 46s\n",
            "507:\tlearn: 0.7364419\ttotal: 3m 58s\tremaining: 7m 45s\n",
            "508:\tlearn: 0.7363874\ttotal: 3m 58s\tremaining: 7m 45s\n",
            "509:\tlearn: 0.7363702\ttotal: 3m 59s\tremaining: 7m 44s\n",
            "510:\tlearn: 0.7363296\ttotal: 3m 59s\tremaining: 7m 44s\n",
            "511:\tlearn: 0.7363133\ttotal: 4m\tremaining: 7m 43s\n",
            "512:\tlearn: 0.7362779\ttotal: 4m\tremaining: 7m 43s\n",
            "513:\tlearn: 0.7362718\ttotal: 4m 1s\tremaining: 7m 42s\n",
            "514:\tlearn: 0.7362419\ttotal: 4m 1s\tremaining: 7m 42s\n",
            "515:\tlearn: 0.7361789\ttotal: 4m 2s\tremaining: 7m 41s\n",
            "516:\tlearn: 0.7361531\ttotal: 4m 2s\tremaining: 7m 41s\n",
            "517:\tlearn: 0.7361181\ttotal: 4m 3s\tremaining: 7m 41s\n",
            "518:\tlearn: 0.7360968\ttotal: 4m 3s\tremaining: 7m 40s\n",
            "519:\tlearn: 0.7360481\ttotal: 4m 4s\tremaining: 7m 40s\n",
            "520:\tlearn: 0.7360407\ttotal: 4m 4s\tremaining: 7m 39s\n",
            "521:\tlearn: 0.7360239\ttotal: 4m 5s\tremaining: 7m 39s\n",
            "522:\tlearn: 0.7359856\ttotal: 4m 5s\tremaining: 7m 38s\n",
            "523:\tlearn: 0.7359607\ttotal: 4m 6s\tremaining: 7m 38s\n",
            "524:\tlearn: 0.7359309\ttotal: 4m 6s\tremaining: 7m 37s\n",
            "525:\tlearn: 0.7359170\ttotal: 4m 7s\tremaining: 7m 37s\n",
            "526:\tlearn: 0.7359132\ttotal: 4m 7s\tremaining: 7m 36s\n",
            "527:\tlearn: 0.7358895\ttotal: 4m 7s\tremaining: 7m 36s\n",
            "528:\tlearn: 0.7358245\ttotal: 4m 8s\tremaining: 7m 36s\n",
            "529:\tlearn: 0.7357950\ttotal: 4m 8s\tremaining: 7m 35s\n",
            "530:\tlearn: 0.7357418\ttotal: 4m 9s\tremaining: 7m 35s\n",
            "531:\tlearn: 0.7357210\ttotal: 4m 9s\tremaining: 7m 34s\n",
            "532:\tlearn: 0.7356905\ttotal: 4m 10s\tremaining: 7m 34s\n",
            "533:\tlearn: 0.7356910\ttotal: 4m 10s\tremaining: 7m 33s\n",
            "534:\tlearn: 0.7356520\ttotal: 4m 11s\tremaining: 7m 33s\n",
            "535:\tlearn: 0.7356196\ttotal: 4m 11s\tremaining: 7m 33s\n",
            "536:\tlearn: 0.7356031\ttotal: 4m 12s\tremaining: 7m 32s\n",
            "537:\tlearn: 0.7355930\ttotal: 4m 12s\tremaining: 7m 32s\n",
            "538:\tlearn: 0.7355748\ttotal: 4m 13s\tremaining: 7m 31s\n",
            "539:\tlearn: 0.7355348\ttotal: 4m 13s\tremaining: 7m 31s\n",
            "540:\tlearn: 0.7354938\ttotal: 4m 14s\tremaining: 7m 30s\n",
            "541:\tlearn: 0.7354926\ttotal: 4m 14s\tremaining: 7m 30s\n",
            "542:\tlearn: 0.7354734\ttotal: 4m 15s\tremaining: 7m 29s\n",
            "543:\tlearn: 0.7354464\ttotal: 4m 15s\tremaining: 7m 29s\n",
            "544:\tlearn: 0.7353645\ttotal: 4m 15s\tremaining: 7m 28s\n",
            "545:\tlearn: 0.7353576\ttotal: 4m 16s\tremaining: 7m 27s\n",
            "546:\tlearn: 0.7353287\ttotal: 4m 16s\tremaining: 7m 27s\n",
            "547:\tlearn: 0.7352996\ttotal: 4m 17s\tremaining: 7m 27s\n",
            "548:\tlearn: 0.7352671\ttotal: 4m 17s\tremaining: 7m 26s\n",
            "549:\tlearn: 0.7352290\ttotal: 4m 18s\tremaining: 7m 26s\n",
            "550:\tlearn: 0.7350846\ttotal: 4m 18s\tremaining: 7m 25s\n",
            "551:\tlearn: 0.7350721\ttotal: 4m 19s\tremaining: 7m 25s\n",
            "552:\tlearn: 0.7350302\ttotal: 4m 19s\tremaining: 7m 25s\n",
            "553:\tlearn: 0.7350212\ttotal: 4m 20s\tremaining: 7m 24s\n",
            "554:\tlearn: 0.7350059\ttotal: 4m 20s\tremaining: 7m 24s\n",
            "555:\tlearn: 0.7349695\ttotal: 4m 21s\tremaining: 7m 23s\n",
            "556:\tlearn: 0.7349350\ttotal: 4m 21s\tremaining: 7m 23s\n",
            "557:\tlearn: 0.7348836\ttotal: 4m 22s\tremaining: 7m 23s\n",
            "558:\tlearn: 0.7348351\ttotal: 4m 22s\tremaining: 7m 22s\n",
            "559:\tlearn: 0.7347917\ttotal: 4m 23s\tremaining: 7m 22s\n",
            "560:\tlearn: 0.7347772\ttotal: 4m 23s\tremaining: 7m 21s\n",
            "561:\tlearn: 0.7346948\ttotal: 4m 24s\tremaining: 7m 21s\n",
            "562:\tlearn: 0.7346811\ttotal: 4m 24s\tremaining: 7m 20s\n",
            "563:\tlearn: 0.7346778\ttotal: 4m 25s\tremaining: 7m 20s\n",
            "564:\tlearn: 0.7346720\ttotal: 4m 25s\tremaining: 7m 19s\n",
            "565:\tlearn: 0.7346596\ttotal: 4m 26s\tremaining: 7m 19s\n",
            "566:\tlearn: 0.7346438\ttotal: 4m 26s\tremaining: 7m 18s\n",
            "567:\tlearn: 0.7346251\ttotal: 4m 26s\tremaining: 7m 18s\n",
            "568:\tlearn: 0.7346173\ttotal: 4m 27s\tremaining: 7m 17s\n",
            "569:\tlearn: 0.7346135\ttotal: 4m 27s\tremaining: 7m 16s\n",
            "570:\tlearn: 0.7345950\ttotal: 4m 28s\tremaining: 7m 16s\n",
            "571:\tlearn: 0.7345802\ttotal: 4m 28s\tremaining: 7m 15s\n",
            "572:\tlearn: 0.7345721\ttotal: 4m 29s\tremaining: 7m 15s\n",
            "573:\tlearn: 0.7345444\ttotal: 4m 29s\tremaining: 7m 14s\n",
            "574:\tlearn: 0.7345363\ttotal: 4m 30s\tremaining: 7m 14s\n",
            "575:\tlearn: 0.7345145\ttotal: 4m 30s\tremaining: 7m 13s\n",
            "576:\tlearn: 0.7344764\ttotal: 4m 30s\tremaining: 7m 13s\n",
            "577:\tlearn: 0.7344644\ttotal: 4m 31s\tremaining: 7m 13s\n",
            "578:\tlearn: 0.7344616\ttotal: 4m 31s\tremaining: 7m 12s\n",
            "579:\tlearn: 0.7344452\ttotal: 4m 32s\tremaining: 7m 12s\n",
            "580:\tlearn: 0.7344123\ttotal: 4m 32s\tremaining: 7m 11s\n",
            "581:\tlearn: 0.7343767\ttotal: 4m 33s\tremaining: 7m 11s\n",
            "582:\tlearn: 0.7343334\ttotal: 4m 33s\tremaining: 7m 10s\n",
            "583:\tlearn: 0.7343304\ttotal: 4m 34s\tremaining: 7m 10s\n",
            "584:\tlearn: 0.7343048\ttotal: 4m 34s\tremaining: 7m 9s\n",
            "585:\tlearn: 0.7342596\ttotal: 4m 35s\tremaining: 7m 9s\n",
            "586:\tlearn: 0.7341952\ttotal: 4m 35s\tremaining: 7m 8s\n",
            "587:\tlearn: 0.7341621\ttotal: 4m 36s\tremaining: 7m 8s\n",
            "588:\tlearn: 0.7341262\ttotal: 4m 36s\tremaining: 7m 8s\n",
            "589:\tlearn: 0.7341182\ttotal: 4m 37s\tremaining: 7m 7s\n",
            "590:\tlearn: 0.7340875\ttotal: 4m 37s\tremaining: 7m 6s\n",
            "591:\tlearn: 0.7340665\ttotal: 4m 38s\tremaining: 7m 6s\n",
            "592:\tlearn: 0.7340627\ttotal: 4m 38s\tremaining: 7m 5s\n",
            "593:\tlearn: 0.7340601\ttotal: 4m 38s\tremaining: 7m 5s\n",
            "594:\tlearn: 0.7340338\ttotal: 4m 39s\tremaining: 7m 4s\n",
            "595:\tlearn: 0.7340199\ttotal: 4m 39s\tremaining: 7m 4s\n",
            "596:\tlearn: 0.7339828\ttotal: 4m 40s\tremaining: 7m 4s\n",
            "597:\tlearn: 0.7339525\ttotal: 4m 40s\tremaining: 7m 3s\n",
            "598:\tlearn: 0.7339137\ttotal: 4m 41s\tremaining: 7m 3s\n",
            "599:\tlearn: 0.7338957\ttotal: 4m 41s\tremaining: 7m 2s\n",
            "600:\tlearn: 0.7338894\ttotal: 4m 42s\tremaining: 7m 2s\n",
            "601:\tlearn: 0.7338654\ttotal: 4m 42s\tremaining: 7m 1s\n",
            "602:\tlearn: 0.7338332\ttotal: 4m 43s\tremaining: 7m 1s\n",
            "603:\tlearn: 0.7338227\ttotal: 4m 43s\tremaining: 7m\n",
            "604:\tlearn: 0.7338066\ttotal: 4m 44s\tremaining: 7m\n",
            "605:\tlearn: 0.7337617\ttotal: 4m 44s\tremaining: 6m 59s\n",
            "606:\tlearn: 0.7337586\ttotal: 4m 45s\tremaining: 6m 59s\n",
            "607:\tlearn: 0.7337466\ttotal: 4m 45s\tremaining: 6m 58s\n",
            "608:\tlearn: 0.7337235\ttotal: 4m 46s\tremaining: 6m 58s\n",
            "609:\tlearn: 0.7336946\ttotal: 4m 46s\tremaining: 6m 58s\n",
            "610:\tlearn: 0.7336775\ttotal: 4m 46s\tremaining: 6m 57s\n",
            "611:\tlearn: 0.7336722\ttotal: 4m 47s\tremaining: 6m 57s\n",
            "612:\tlearn: 0.7336479\ttotal: 4m 47s\tremaining: 6m 56s\n",
            "613:\tlearn: 0.7336390\ttotal: 4m 48s\tremaining: 6m 56s\n",
            "614:\tlearn: 0.7336116\ttotal: 4m 48s\tremaining: 6m 55s\n",
            "615:\tlearn: 0.7335997\ttotal: 4m 49s\tremaining: 6m 55s\n",
            "616:\tlearn: 0.7335178\ttotal: 4m 49s\tremaining: 6m 54s\n",
            "617:\tlearn: 0.7334923\ttotal: 4m 50s\tremaining: 6m 54s\n",
            "618:\tlearn: 0.7334600\ttotal: 4m 50s\tremaining: 6m 53s\n",
            "619:\tlearn: 0.7334529\ttotal: 4m 51s\tremaining: 6m 53s\n",
            "620:\tlearn: 0.7334406\ttotal: 4m 51s\tremaining: 6m 52s\n",
            "621:\tlearn: 0.7334226\ttotal: 4m 52s\tremaining: 6m 52s\n",
            "622:\tlearn: 0.7334194\ttotal: 4m 52s\tremaining: 6m 51s\n",
            "623:\tlearn: 0.7333941\ttotal: 4m 52s\tremaining: 6m 51s\n",
            "624:\tlearn: 0.7333893\ttotal: 4m 53s\tremaining: 6m 50s\n",
            "625:\tlearn: 0.7333863\ttotal: 4m 53s\tremaining: 6m 50s\n",
            "626:\tlearn: 0.7333724\ttotal: 4m 54s\tremaining: 6m 49s\n",
            "627:\tlearn: 0.7333623\ttotal: 4m 54s\tremaining: 6m 49s\n",
            "628:\tlearn: 0.7333122\ttotal: 4m 55s\tremaining: 6m 48s\n",
            "629:\tlearn: 0.7333039\ttotal: 4m 55s\tremaining: 6m 48s\n",
            "630:\tlearn: 0.7332758\ttotal: 4m 56s\tremaining: 6m 48s\n",
            "631:\tlearn: 0.7332184\ttotal: 4m 56s\tremaining: 6m 47s\n",
            "632:\tlearn: 0.7332053\ttotal: 4m 57s\tremaining: 6m 47s\n",
            "633:\tlearn: 0.7331594\ttotal: 4m 57s\tremaining: 6m 46s\n",
            "634:\tlearn: 0.7331466\ttotal: 4m 58s\tremaining: 6m 46s\n",
            "635:\tlearn: 0.7331250\ttotal: 4m 58s\tremaining: 6m 45s\n",
            "636:\tlearn: 0.7330822\ttotal: 4m 59s\tremaining: 6m 45s\n",
            "637:\tlearn: 0.7330240\ttotal: 4m 59s\tremaining: 6m 44s\n",
            "638:\tlearn: 0.7330221\ttotal: 5m\tremaining: 6m 44s\n",
            "639:\tlearn: 0.7329877\ttotal: 5m\tremaining: 6m 43s\n",
            "640:\tlearn: 0.7329618\ttotal: 5m 1s\tremaining: 6m 43s\n",
            "641:\tlearn: 0.7329290\ttotal: 5m 1s\tremaining: 6m 42s\n",
            "642:\tlearn: 0.7328911\ttotal: 5m 1s\tremaining: 6m 42s\n",
            "643:\tlearn: 0.7328719\ttotal: 5m 2s\tremaining: 6m 42s\n",
            "644:\tlearn: 0.7328447\ttotal: 5m 3s\tremaining: 6m 41s\n",
            "645:\tlearn: 0.7328151\ttotal: 5m 3s\tremaining: 6m 41s\n",
            "646:\tlearn: 0.7327985\ttotal: 5m 4s\tremaining: 6m 40s\n",
            "647:\tlearn: 0.7327709\ttotal: 5m 4s\tremaining: 6m 40s\n",
            "648:\tlearn: 0.7327308\ttotal: 5m 4s\tremaining: 6m 39s\n",
            "649:\tlearn: 0.7327075\ttotal: 5m 5s\tremaining: 6m 39s\n",
            "650:\tlearn: 0.7326877\ttotal: 5m 5s\tremaining: 6m 39s\n",
            "651:\tlearn: 0.7326726\ttotal: 5m 6s\tremaining: 6m 38s\n",
            "652:\tlearn: 0.7326637\ttotal: 5m 6s\tremaining: 6m 38s\n",
            "653:\tlearn: 0.7326211\ttotal: 5m 7s\tremaining: 6m 37s\n",
            "654:\tlearn: 0.7326067\ttotal: 5m 7s\tremaining: 6m 37s\n",
            "655:\tlearn: 0.7325686\ttotal: 5m 8s\tremaining: 6m 36s\n",
            "656:\tlearn: 0.7325587\ttotal: 5m 8s\tremaining: 6m 36s\n",
            "657:\tlearn: 0.7325236\ttotal: 5m 9s\tremaining: 6m 35s\n",
            "658:\tlearn: 0.7325219\ttotal: 5m 9s\tremaining: 6m 35s\n",
            "659:\tlearn: 0.7325060\ttotal: 5m 10s\tremaining: 6m 34s\n",
            "660:\tlearn: 0.7324820\ttotal: 5m 10s\tremaining: 6m 34s\n",
            "661:\tlearn: 0.7324690\ttotal: 5m 11s\tremaining: 6m 33s\n",
            "662:\tlearn: 0.7324471\ttotal: 5m 11s\tremaining: 6m 33s\n",
            "663:\tlearn: 0.7324346\ttotal: 5m 11s\tremaining: 6m 32s\n",
            "664:\tlearn: 0.7324071\ttotal: 5m 12s\tremaining: 6m 32s\n",
            "665:\tlearn: 0.7323783\ttotal: 5m 12s\tremaining: 6m 31s\n",
            "666:\tlearn: 0.7323705\ttotal: 5m 13s\tremaining: 6m 31s\n",
            "667:\tlearn: 0.7323435\ttotal: 5m 13s\tremaining: 6m 30s\n",
            "668:\tlearn: 0.7323348\ttotal: 5m 14s\tremaining: 6m 30s\n",
            "669:\tlearn: 0.7323290\ttotal: 5m 14s\tremaining: 6m 29s\n",
            "670:\tlearn: 0.7322773\ttotal: 5m 15s\tremaining: 6m 29s\n",
            "671:\tlearn: 0.7322719\ttotal: 5m 15s\tremaining: 6m 28s\n",
            "672:\tlearn: 0.7322615\ttotal: 5m 16s\tremaining: 6m 28s\n",
            "673:\tlearn: 0.7322478\ttotal: 5m 16s\tremaining: 6m 27s\n",
            "674:\tlearn: 0.7322217\ttotal: 5m 16s\tremaining: 6m 27s\n",
            "675:\tlearn: 0.7321949\ttotal: 5m 17s\tremaining: 6m 26s\n",
            "676:\tlearn: 0.7321840\ttotal: 5m 17s\tremaining: 6m 26s\n",
            "677:\tlearn: 0.7320935\ttotal: 5m 18s\tremaining: 6m 26s\n",
            "678:\tlearn: 0.7320631\ttotal: 5m 18s\tremaining: 6m 25s\n",
            "679:\tlearn: 0.7320527\ttotal: 5m 19s\tremaining: 6m 25s\n",
            "680:\tlearn: 0.7320497\ttotal: 5m 19s\tremaining: 6m 24s\n",
            "681:\tlearn: 0.7320325\ttotal: 5m 20s\tremaining: 6m 24s\n",
            "682:\tlearn: 0.7320120\ttotal: 5m 20s\tremaining: 6m 23s\n",
            "683:\tlearn: 0.7319998\ttotal: 5m 21s\tremaining: 6m 23s\n",
            "684:\tlearn: 0.7319980\ttotal: 5m 21s\tremaining: 6m 22s\n",
            "685:\tlearn: 0.7319759\ttotal: 5m 22s\tremaining: 6m 22s\n",
            "686:\tlearn: 0.7319502\ttotal: 5m 22s\tremaining: 6m 21s\n",
            "687:\tlearn: 0.7318277\ttotal: 5m 22s\tremaining: 6m 21s\n",
            "688:\tlearn: 0.7318134\ttotal: 5m 23s\tremaining: 6m 20s\n",
            "689:\tlearn: 0.7317894\ttotal: 5m 23s\tremaining: 6m 20s\n",
            "690:\tlearn: 0.7317757\ttotal: 5m 24s\tremaining: 6m 19s\n",
            "691:\tlearn: 0.7317613\ttotal: 5m 24s\tremaining: 6m 19s\n",
            "692:\tlearn: 0.7317594\ttotal: 5m 25s\tremaining: 6m 18s\n",
            "693:\tlearn: 0.7316799\ttotal: 5m 25s\tremaining: 6m 18s\n",
            "694:\tlearn: 0.7316738\ttotal: 5m 26s\tremaining: 6m 17s\n",
            "695:\tlearn: 0.7316378\ttotal: 5m 26s\tremaining: 6m 17s\n",
            "696:\tlearn: 0.7316348\ttotal: 5m 27s\tremaining: 6m 16s\n",
            "697:\tlearn: 0.7315561\ttotal: 5m 27s\tremaining: 6m 16s\n",
            "698:\tlearn: 0.7315511\ttotal: 5m 28s\tremaining: 6m 15s\n",
            "699:\tlearn: 0.7315466\ttotal: 5m 28s\tremaining: 6m 15s\n",
            "700:\tlearn: 0.7315137\ttotal: 5m 29s\tremaining: 6m 15s\n",
            "701:\tlearn: 0.7315092\ttotal: 5m 29s\tremaining: 6m 14s\n",
            "702:\tlearn: 0.7314743\ttotal: 5m 29s\tremaining: 6m 14s\n",
            "703:\tlearn: 0.7314655\ttotal: 5m 30s\tremaining: 6m 13s\n",
            "704:\tlearn: 0.7314436\ttotal: 5m 30s\tremaining: 6m 13s\n",
            "705:\tlearn: 0.7314215\ttotal: 5m 31s\tremaining: 6m 12s\n",
            "706:\tlearn: 0.7314194\ttotal: 5m 31s\tremaining: 6m 12s\n",
            "707:\tlearn: 0.7314108\ttotal: 5m 32s\tremaining: 6m 11s\n",
            "708:\tlearn: 0.7314021\ttotal: 5m 32s\tremaining: 6m 11s\n",
            "709:\tlearn: 0.7313347\ttotal: 5m 33s\tremaining: 6m 10s\n",
            "710:\tlearn: 0.7313342\ttotal: 5m 33s\tremaining: 6m 10s\n",
            "711:\tlearn: 0.7313131\ttotal: 5m 34s\tremaining: 6m 9s\n",
            "712:\tlearn: 0.7312940\ttotal: 5m 34s\tremaining: 6m 9s\n",
            "713:\tlearn: 0.7312618\ttotal: 5m 35s\tremaining: 6m 8s\n",
            "714:\tlearn: 0.7312380\ttotal: 5m 35s\tremaining: 6m 8s\n",
            "715:\tlearn: 0.7312311\ttotal: 5m 36s\tremaining: 6m 7s\n",
            "716:\tlearn: 0.7312214\ttotal: 5m 36s\tremaining: 6m 7s\n",
            "717:\tlearn: 0.7312016\ttotal: 5m 37s\tremaining: 6m 7s\n",
            "718:\tlearn: 0.7311992\ttotal: 5m 37s\tremaining: 6m 6s\n",
            "719:\tlearn: 0.7311691\ttotal: 5m 37s\tremaining: 6m 6s\n",
            "720:\tlearn: 0.7311405\ttotal: 5m 38s\tremaining: 6m 5s\n",
            "721:\tlearn: 0.7311330\ttotal: 5m 38s\tremaining: 6m 5s\n",
            "722:\tlearn: 0.7311247\ttotal: 5m 39s\tremaining: 6m 4s\n",
            "723:\tlearn: 0.7311127\ttotal: 5m 39s\tremaining: 6m 4s\n",
            "724:\tlearn: 0.7310904\ttotal: 5m 40s\tremaining: 6m 3s\n",
            "725:\tlearn: 0.7310324\ttotal: 5m 40s\tremaining: 6m 3s\n",
            "726:\tlearn: 0.7310282\ttotal: 5m 41s\tremaining: 6m 3s\n",
            "727:\tlearn: 0.7310188\ttotal: 5m 41s\tremaining: 6m 2s\n",
            "728:\tlearn: 0.7309991\ttotal: 5m 42s\tremaining: 6m 2s\n",
            "729:\tlearn: 0.7309909\ttotal: 5m 42s\tremaining: 6m 1s\n",
            "730:\tlearn: 0.7309792\ttotal: 5m 43s\tremaining: 6m 1s\n",
            "731:\tlearn: 0.7309455\ttotal: 5m 43s\tremaining: 6m\n",
            "732:\tlearn: 0.7308954\ttotal: 5m 44s\tremaining: 6m\n",
            "733:\tlearn: 0.7308902\ttotal: 5m 44s\tremaining: 5m 59s\n",
            "734:\tlearn: 0.7308815\ttotal: 5m 45s\tremaining: 5m 59s\n",
            "735:\tlearn: 0.7308739\ttotal: 5m 45s\tremaining: 5m 59s\n",
            "736:\tlearn: 0.7308675\ttotal: 5m 46s\tremaining: 5m 58s\n",
            "737:\tlearn: 0.7308396\ttotal: 5m 46s\tremaining: 5m 58s\n",
            "738:\tlearn: 0.7308080\ttotal: 5m 47s\tremaining: 5m 57s\n",
            "739:\tlearn: 0.7308045\ttotal: 5m 47s\tremaining: 5m 57s\n",
            "740:\tlearn: 0.7307959\ttotal: 5m 48s\tremaining: 5m 56s\n",
            "741:\tlearn: 0.7307937\ttotal: 5m 48s\tremaining: 5m 56s\n",
            "742:\tlearn: 0.7307844\ttotal: 5m 49s\tremaining: 5m 55s\n",
            "743:\tlearn: 0.7307701\ttotal: 5m 49s\tremaining: 5m 55s\n",
            "744:\tlearn: 0.7307683\ttotal: 5m 50s\tremaining: 5m 54s\n",
            "745:\tlearn: 0.7307334\ttotal: 5m 50s\tremaining: 5m 54s\n",
            "746:\tlearn: 0.7307083\ttotal: 5m 51s\tremaining: 5m 53s\n",
            "747:\tlearn: 0.7307038\ttotal: 5m 51s\tremaining: 5m 53s\n",
            "748:\tlearn: 0.7306495\ttotal: 5m 52s\tremaining: 5m 52s\n",
            "749:\tlearn: 0.7306438\ttotal: 5m 52s\tremaining: 5m 52s\n",
            "750:\tlearn: 0.7306201\ttotal: 5m 52s\tremaining: 5m 51s\n",
            "751:\tlearn: 0.7305933\ttotal: 5m 53s\tremaining: 5m 51s\n",
            "752:\tlearn: 0.7305829\ttotal: 5m 53s\tremaining: 5m 51s\n",
            "753:\tlearn: 0.7305761\ttotal: 5m 54s\tremaining: 5m 50s\n",
            "754:\tlearn: 0.7305307\ttotal: 5m 54s\tremaining: 5m 50s\n",
            "755:\tlearn: 0.7305282\ttotal: 5m 55s\tremaining: 5m 49s\n",
            "756:\tlearn: 0.7304847\ttotal: 5m 55s\tremaining: 5m 49s\n",
            "757:\tlearn: 0.7304831\ttotal: 5m 56s\tremaining: 5m 48s\n",
            "758:\tlearn: 0.7304615\ttotal: 5m 56s\tremaining: 5m 48s\n",
            "759:\tlearn: 0.7304459\ttotal: 5m 57s\tremaining: 5m 47s\n",
            "760:\tlearn: 0.7304399\ttotal: 5m 57s\tremaining: 5m 47s\n",
            "761:\tlearn: 0.7304279\ttotal: 5m 58s\tremaining: 5m 46s\n",
            "762:\tlearn: 0.7304236\ttotal: 5m 58s\tremaining: 5m 46s\n",
            "763:\tlearn: 0.7303925\ttotal: 5m 59s\tremaining: 5m 45s\n",
            "764:\tlearn: 0.7303487\ttotal: 5m 59s\tremaining: 5m 45s\n",
            "765:\tlearn: 0.7303369\ttotal: 6m\tremaining: 5m 45s\n",
            "766:\tlearn: 0.7303100\ttotal: 6m\tremaining: 5m 44s\n",
            "767:\tlearn: 0.7303022\ttotal: 6m 1s\tremaining: 5m 44s\n",
            "768:\tlearn: 0.7302919\ttotal: 6m 1s\tremaining: 5m 43s\n",
            "769:\tlearn: 0.7302871\ttotal: 6m 2s\tremaining: 5m 43s\n",
            "770:\tlearn: 0.7302223\ttotal: 6m 2s\tremaining: 5m 42s\n",
            "771:\tlearn: 0.7302067\ttotal: 6m 2s\tremaining: 5m 42s\n",
            "772:\tlearn: 0.7301904\ttotal: 6m 3s\tremaining: 5m 41s\n",
            "773:\tlearn: 0.7301806\ttotal: 6m 3s\tremaining: 5m 41s\n",
            "774:\tlearn: 0.7301779\ttotal: 6m 4s\tremaining: 5m 40s\n",
            "775:\tlearn: 0.7301587\ttotal: 6m 4s\tremaining: 5m 40s\n",
            "776:\tlearn: 0.7301513\ttotal: 6m 5s\tremaining: 5m 39s\n",
            "777:\tlearn: 0.7301446\ttotal: 6m 5s\tremaining: 5m 39s\n",
            "778:\tlearn: 0.7301356\ttotal: 6m 6s\tremaining: 5m 38s\n",
            "779:\tlearn: 0.7301259\ttotal: 6m 6s\tremaining: 5m 38s\n",
            "780:\tlearn: 0.7301226\ttotal: 6m 7s\tremaining: 5m 38s\n",
            "781:\tlearn: 0.7301083\ttotal: 6m 7s\tremaining: 5m 37s\n",
            "782:\tlearn: 0.7300960\ttotal: 6m 8s\tremaining: 5m 37s\n",
            "783:\tlearn: 0.7300884\ttotal: 6m 8s\tremaining: 5m 36s\n",
            "784:\tlearn: 0.7300811\ttotal: 6m 9s\tremaining: 5m 36s\n",
            "785:\tlearn: 0.7300695\ttotal: 6m 9s\tremaining: 5m 35s\n",
            "786:\tlearn: 0.7300540\ttotal: 6m 10s\tremaining: 5m 35s\n",
            "787:\tlearn: 0.7300471\ttotal: 6m 10s\tremaining: 5m 34s\n",
            "788:\tlearn: 0.7300288\ttotal: 6m 11s\tremaining: 5m 34s\n",
            "789:\tlearn: 0.7300151\ttotal: 6m 11s\tremaining: 5m 33s\n",
            "790:\tlearn: 0.7299821\ttotal: 6m 12s\tremaining: 5m 33s\n",
            "791:\tlearn: 0.7299564\ttotal: 6m 12s\tremaining: 5m 33s\n",
            "792:\tlearn: 0.7299496\ttotal: 6m 13s\tremaining: 5m 32s\n",
            "793:\tlearn: 0.7299458\ttotal: 6m 13s\tremaining: 5m 32s\n",
            "794:\tlearn: 0.7299418\ttotal: 6m 13s\tremaining: 5m 31s\n",
            "795:\tlearn: 0.7299406\ttotal: 6m 14s\tremaining: 5m 31s\n",
            "796:\tlearn: 0.7299220\ttotal: 6m 14s\tremaining: 5m 30s\n",
            "797:\tlearn: 0.7299196\ttotal: 6m 15s\tremaining: 5m 30s\n",
            "798:\tlearn: 0.7299129\ttotal: 6m 15s\tremaining: 5m 29s\n",
            "799:\tlearn: 0.7298929\ttotal: 6m 16s\tremaining: 5m 29s\n",
            "800:\tlearn: 0.7298687\ttotal: 6m 16s\tremaining: 5m 28s\n",
            "801:\tlearn: 0.7298507\ttotal: 6m 17s\tremaining: 5m 28s\n",
            "802:\tlearn: 0.7298502\ttotal: 6m 17s\tremaining: 5m 27s\n",
            "803:\tlearn: 0.7298334\ttotal: 6m 17s\tremaining: 5m 27s\n",
            "804:\tlearn: 0.7298115\ttotal: 6m 18s\tremaining: 5m 26s\n",
            "805:\tlearn: 0.7298099\ttotal: 6m 18s\tremaining: 5m 26s\n",
            "806:\tlearn: 0.7297887\ttotal: 6m 19s\tremaining: 5m 25s\n",
            "807:\tlearn: 0.7297751\ttotal: 6m 19s\tremaining: 5m 25s\n",
            "808:\tlearn: 0.7297705\ttotal: 6m 20s\tremaining: 5m 24s\n",
            "809:\tlearn: 0.7297640\ttotal: 6m 20s\tremaining: 5m 24s\n",
            "810:\tlearn: 0.7297632\ttotal: 6m 21s\tremaining: 5m 23s\n",
            "811:\tlearn: 0.7297606\ttotal: 6m 21s\tremaining: 5m 23s\n",
            "812:\tlearn: 0.7297512\ttotal: 6m 22s\tremaining: 5m 22s\n",
            "813:\tlearn: 0.7297446\ttotal: 6m 22s\tremaining: 5m 22s\n",
            "814:\tlearn: 0.7297327\ttotal: 6m 23s\tremaining: 5m 22s\n",
            "815:\tlearn: 0.7297070\ttotal: 6m 23s\tremaining: 5m 21s\n",
            "816:\tlearn: 0.7297005\ttotal: 6m 24s\tremaining: 5m 21s\n",
            "817:\tlearn: 0.7296927\ttotal: 6m 24s\tremaining: 5m 20s\n",
            "818:\tlearn: 0.7296778\ttotal: 6m 25s\tremaining: 5m 20s\n",
            "819:\tlearn: 0.7296717\ttotal: 6m 25s\tremaining: 5m 19s\n",
            "820:\tlearn: 0.7296572\ttotal: 6m 25s\tremaining: 5m 19s\n",
            "821:\tlearn: 0.7296545\ttotal: 6m 26s\tremaining: 5m 18s\n",
            "822:\tlearn: 0.7296506\ttotal: 6m 26s\tremaining: 5m 18s\n",
            "823:\tlearn: 0.7296211\ttotal: 6m 27s\tremaining: 5m 17s\n",
            "824:\tlearn: 0.7295920\ttotal: 6m 27s\tremaining: 5m 17s\n",
            "825:\tlearn: 0.7295837\ttotal: 6m 28s\tremaining: 5m 16s\n",
            "826:\tlearn: 0.7295664\ttotal: 6m 28s\tremaining: 5m 16s\n",
            "827:\tlearn: 0.7295599\ttotal: 6m 29s\tremaining: 5m 15s\n",
            "828:\tlearn: 0.7295486\ttotal: 6m 29s\tremaining: 5m 15s\n",
            "829:\tlearn: 0.7295230\ttotal: 6m 30s\tremaining: 5m 15s\n",
            "830:\tlearn: 0.7295200\ttotal: 6m 30s\tremaining: 5m 14s\n",
            "831:\tlearn: 0.7295070\ttotal: 6m 31s\tremaining: 5m 14s\n",
            "832:\tlearn: 0.7295045\ttotal: 6m 31s\tremaining: 5m 13s\n",
            "833:\tlearn: 0.7294699\ttotal: 6m 32s\tremaining: 5m 13s\n",
            "834:\tlearn: 0.7293813\ttotal: 6m 32s\tremaining: 5m 12s\n",
            "835:\tlearn: 0.7293579\ttotal: 6m 33s\tremaining: 5m 12s\n",
            "836:\tlearn: 0.7293483\ttotal: 6m 33s\tremaining: 5m 11s\n",
            "837:\tlearn: 0.7293427\ttotal: 6m 34s\tremaining: 5m 11s\n",
            "838:\tlearn: 0.7293379\ttotal: 6m 34s\tremaining: 5m 10s\n",
            "839:\tlearn: 0.7293144\ttotal: 6m 34s\tremaining: 5m 10s\n",
            "840:\tlearn: 0.7292916\ttotal: 6m 35s\tremaining: 5m 9s\n",
            "841:\tlearn: 0.7292720\ttotal: 6m 35s\tremaining: 5m 9s\n",
            "842:\tlearn: 0.7292212\ttotal: 6m 36s\tremaining: 5m 8s\n",
            "843:\tlearn: 0.7292121\ttotal: 6m 36s\tremaining: 5m 8s\n",
            "844:\tlearn: 0.7291895\ttotal: 6m 37s\tremaining: 5m 8s\n",
            "845:\tlearn: 0.7291813\ttotal: 6m 37s\tremaining: 5m 7s\n",
            "846:\tlearn: 0.7291713\ttotal: 6m 38s\tremaining: 5m 7s\n",
            "847:\tlearn: 0.7291104\ttotal: 6m 38s\tremaining: 5m 6s\n",
            "848:\tlearn: 0.7290973\ttotal: 6m 39s\tremaining: 5m 6s\n",
            "849:\tlearn: 0.7290914\ttotal: 6m 39s\tremaining: 5m 5s\n",
            "850:\tlearn: 0.7290731\ttotal: 6m 40s\tremaining: 5m 5s\n",
            "851:\tlearn: 0.7290579\ttotal: 6m 40s\tremaining: 5m 4s\n",
            "852:\tlearn: 0.7290538\ttotal: 6m 41s\tremaining: 5m 4s\n",
            "853:\tlearn: 0.7290351\ttotal: 6m 41s\tremaining: 5m 3s\n",
            "854:\tlearn: 0.7290312\ttotal: 6m 42s\tremaining: 5m 3s\n",
            "855:\tlearn: 0.7290162\ttotal: 6m 42s\tremaining: 5m 2s\n",
            "856:\tlearn: 0.7290005\ttotal: 6m 43s\tremaining: 5m 2s\n",
            "857:\tlearn: 0.7289971\ttotal: 6m 43s\tremaining: 5m 2s\n",
            "858:\tlearn: 0.7289821\ttotal: 6m 44s\tremaining: 5m 1s\n",
            "859:\tlearn: 0.7289687\ttotal: 6m 44s\tremaining: 5m 1s\n",
            "860:\tlearn: 0.7289614\ttotal: 6m 45s\tremaining: 5m\n",
            "861:\tlearn: 0.7289515\ttotal: 6m 45s\tremaining: 5m\n",
            "862:\tlearn: 0.7289482\ttotal: 6m 45s\tremaining: 4m 59s\n",
            "863:\tlearn: 0.7289447\ttotal: 6m 46s\tremaining: 4m 59s\n",
            "864:\tlearn: 0.7289117\ttotal: 6m 46s\tremaining: 4m 58s\n",
            "865:\tlearn: 0.7288849\ttotal: 6m 47s\tremaining: 4m 58s\n",
            "866:\tlearn: 0.7288706\ttotal: 6m 47s\tremaining: 4m 57s\n",
            "867:\tlearn: 0.7288508\ttotal: 6m 48s\tremaining: 4m 57s\n",
            "868:\tlearn: 0.7288374\ttotal: 6m 48s\tremaining: 4m 56s\n",
            "869:\tlearn: 0.7288291\ttotal: 6m 49s\tremaining: 4m 56s\n",
            "870:\tlearn: 0.7288104\ttotal: 6m 49s\tremaining: 4m 55s\n",
            "871:\tlearn: 0.7288063\ttotal: 6m 50s\tremaining: 4m 55s\n",
            "872:\tlearn: 0.7287968\ttotal: 6m 50s\tremaining: 4m 55s\n",
            "873:\tlearn: 0.7287771\ttotal: 6m 51s\tremaining: 4m 54s\n",
            "874:\tlearn: 0.7287573\ttotal: 6m 51s\tremaining: 4m 54s\n",
            "875:\tlearn: 0.7287556\ttotal: 6m 52s\tremaining: 4m 53s\n",
            "876:\tlearn: 0.7287540\ttotal: 6m 52s\tremaining: 4m 53s\n",
            "877:\tlearn: 0.7287455\ttotal: 6m 53s\tremaining: 4m 52s\n",
            "878:\tlearn: 0.7287240\ttotal: 6m 53s\tremaining: 4m 52s\n",
            "879:\tlearn: 0.7287219\ttotal: 6m 54s\tremaining: 4m 51s\n",
            "880:\tlearn: 0.7287083\ttotal: 6m 54s\tremaining: 4m 51s\n",
            "881:\tlearn: 0.7286648\ttotal: 6m 55s\tremaining: 4m 50s\n",
            "882:\tlearn: 0.7286507\ttotal: 6m 55s\tremaining: 4m 50s\n",
            "883:\tlearn: 0.7286401\ttotal: 6m 55s\tremaining: 4m 49s\n",
            "884:\tlearn: 0.7286275\ttotal: 6m 56s\tremaining: 4m 49s\n",
            "885:\tlearn: 0.7286078\ttotal: 6m 56s\tremaining: 4m 48s\n",
            "886:\tlearn: 0.7285896\ttotal: 6m 57s\tremaining: 4m 48s\n",
            "887:\tlearn: 0.7285760\ttotal: 6m 57s\tremaining: 4m 48s\n",
            "888:\tlearn: 0.7285629\ttotal: 6m 58s\tremaining: 4m 47s\n",
            "889:\tlearn: 0.7285611\ttotal: 6m 58s\tremaining: 4m 47s\n",
            "890:\tlearn: 0.7285508\ttotal: 6m 59s\tremaining: 4m 46s\n",
            "891:\tlearn: 0.7285435\ttotal: 6m 59s\tremaining: 4m 46s\n",
            "892:\tlearn: 0.7285401\ttotal: 7m\tremaining: 4m 45s\n",
            "893:\tlearn: 0.7285271\ttotal: 7m\tremaining: 4m 45s\n",
            "894:\tlearn: 0.7285080\ttotal: 7m 1s\tremaining: 4m 44s\n",
            "895:\tlearn: 0.7285023\ttotal: 7m 1s\tremaining: 4m 44s\n",
            "896:\tlearn: 0.7284883\ttotal: 7m 2s\tremaining: 4m 43s\n",
            "897:\tlearn: 0.7284796\ttotal: 7m 2s\tremaining: 4m 43s\n",
            "898:\tlearn: 0.7284763\ttotal: 7m 3s\tremaining: 4m 42s\n",
            "899:\tlearn: 0.7284683\ttotal: 7m 3s\tremaining: 4m 42s\n",
            "900:\tlearn: 0.7284545\ttotal: 7m 3s\tremaining: 4m 41s\n",
            "901:\tlearn: 0.7284395\ttotal: 7m 4s\tremaining: 4m 41s\n",
            "902:\tlearn: 0.7284366\ttotal: 7m 4s\tremaining: 4m 40s\n",
            "903:\tlearn: 0.7284242\ttotal: 7m 5s\tremaining: 4m 40s\n",
            "904:\tlearn: 0.7283866\ttotal: 7m 5s\tremaining: 4m 40s\n",
            "905:\tlearn: 0.7283853\ttotal: 7m 6s\tremaining: 4m 39s\n",
            "906:\tlearn: 0.7283619\ttotal: 7m 6s\tremaining: 4m 39s\n",
            "907:\tlearn: 0.7283541\ttotal: 7m 7s\tremaining: 4m 38s\n",
            "908:\tlearn: 0.7283356\ttotal: 7m 7s\tremaining: 4m 38s\n",
            "909:\tlearn: 0.7283310\ttotal: 7m 8s\tremaining: 4m 37s\n",
            "910:\tlearn: 0.7283255\ttotal: 7m 8s\tremaining: 4m 37s\n",
            "911:\tlearn: 0.7283203\ttotal: 7m 9s\tremaining: 4m 36s\n",
            "912:\tlearn: 0.7282754\ttotal: 7m 9s\tremaining: 4m 36s\n",
            "913:\tlearn: 0.7282734\ttotal: 7m 10s\tremaining: 4m 35s\n",
            "914:\tlearn: 0.7282296\ttotal: 7m 10s\tremaining: 4m 35s\n",
            "915:\tlearn: 0.7282268\ttotal: 7m 10s\tremaining: 4m 34s\n",
            "916:\tlearn: 0.7282072\ttotal: 7m 11s\tremaining: 4m 34s\n",
            "917:\tlearn: 0.7281993\ttotal: 7m 11s\tremaining: 4m 33s\n",
            "918:\tlearn: 0.7281963\ttotal: 7m 12s\tremaining: 4m 33s\n",
            "919:\tlearn: 0.7281900\ttotal: 7m 12s\tremaining: 4m 32s\n",
            "920:\tlearn: 0.7281618\ttotal: 7m 13s\tremaining: 4m 32s\n",
            "921:\tlearn: 0.7281513\ttotal: 7m 13s\tremaining: 4m 31s\n",
            "922:\tlearn: 0.7281496\ttotal: 7m 14s\tremaining: 4m 31s\n",
            "923:\tlearn: 0.7281434\ttotal: 7m 14s\tremaining: 4m 30s\n",
            "924:\tlearn: 0.7281372\ttotal: 7m 15s\tremaining: 4m 30s\n",
            "925:\tlearn: 0.7281299\ttotal: 7m 15s\tremaining: 4m 29s\n",
            "926:\tlearn: 0.7280980\ttotal: 7m 15s\tremaining: 4m 29s\n",
            "927:\tlearn: 0.7280818\ttotal: 7m 16s\tremaining: 4m 28s\n",
            "928:\tlearn: 0.7280317\ttotal: 7m 16s\tremaining: 4m 28s\n",
            "929:\tlearn: 0.7280265\ttotal: 7m 17s\tremaining: 4m 28s\n",
            "930:\tlearn: 0.7280074\ttotal: 7m 17s\tremaining: 4m 27s\n",
            "931:\tlearn: 0.7280053\ttotal: 7m 18s\tremaining: 4m 27s\n",
            "932:\tlearn: 0.7279785\ttotal: 7m 18s\tremaining: 4m 26s\n",
            "933:\tlearn: 0.7279673\ttotal: 7m 19s\tremaining: 4m 26s\n",
            "934:\tlearn: 0.7279467\ttotal: 7m 19s\tremaining: 4m 25s\n",
            "935:\tlearn: 0.7279178\ttotal: 7m 20s\tremaining: 4m 25s\n",
            "936:\tlearn: 0.7279124\ttotal: 7m 20s\tremaining: 4m 24s\n",
            "937:\tlearn: 0.7278982\ttotal: 7m 21s\tremaining: 4m 24s\n",
            "938:\tlearn: 0.7278965\ttotal: 7m 21s\tremaining: 4m 23s\n",
            "939:\tlearn: 0.7278821\ttotal: 7m 21s\tremaining: 4m 23s\n",
            "940:\tlearn: 0.7278769\ttotal: 7m 22s\tremaining: 4m 22s\n",
            "941:\tlearn: 0.7278671\ttotal: 7m 22s\tremaining: 4m 22s\n",
            "942:\tlearn: 0.7278595\ttotal: 7m 23s\tremaining: 4m 21s\n",
            "943:\tlearn: 0.7278390\ttotal: 7m 23s\tremaining: 4m 21s\n",
            "944:\tlearn: 0.7278326\ttotal: 7m 24s\tremaining: 4m 20s\n",
            "945:\tlearn: 0.7277974\ttotal: 7m 24s\tremaining: 4m 20s\n",
            "946:\tlearn: 0.7277941\ttotal: 7m 25s\tremaining: 4m 19s\n",
            "947:\tlearn: 0.7277677\ttotal: 7m 25s\tremaining: 4m 19s\n",
            "948:\tlearn: 0.7277465\ttotal: 7m 26s\tremaining: 4m 19s\n",
            "949:\tlearn: 0.7277416\ttotal: 7m 26s\tremaining: 4m 18s\n",
            "950:\tlearn: 0.7277319\ttotal: 7m 27s\tremaining: 4m 18s\n",
            "951:\tlearn: 0.7277289\ttotal: 7m 27s\tremaining: 4m 17s\n",
            "952:\tlearn: 0.7277285\ttotal: 7m 28s\tremaining: 4m 17s\n",
            "953:\tlearn: 0.7277222\ttotal: 7m 28s\tremaining: 4m 16s\n",
            "954:\tlearn: 0.7277168\ttotal: 7m 28s\tremaining: 4m 16s\n",
            "955:\tlearn: 0.7277044\ttotal: 7m 29s\tremaining: 4m 15s\n",
            "956:\tlearn: 0.7276211\ttotal: 7m 29s\tremaining: 4m 15s\n",
            "957:\tlearn: 0.7276162\ttotal: 7m 30s\tremaining: 4m 14s\n",
            "958:\tlearn: 0.7276127\ttotal: 7m 30s\tremaining: 4m 14s\n",
            "959:\tlearn: 0.7276108\ttotal: 7m 31s\tremaining: 4m 13s\n",
            "960:\tlearn: 0.7276044\ttotal: 7m 31s\tremaining: 4m 13s\n",
            "961:\tlearn: 0.7275951\ttotal: 7m 32s\tremaining: 4m 12s\n",
            "962:\tlearn: 0.7275884\ttotal: 7m 32s\tremaining: 4m 12s\n",
            "963:\tlearn: 0.7275879\ttotal: 7m 32s\tremaining: 4m 11s\n",
            "964:\tlearn: 0.7275626\ttotal: 7m 33s\tremaining: 4m 11s\n",
            "965:\tlearn: 0.7275509\ttotal: 7m 33s\tremaining: 4m 10s\n",
            "966:\tlearn: 0.7275455\ttotal: 7m 34s\tremaining: 4m 10s\n",
            "967:\tlearn: 0.7275067\ttotal: 7m 34s\tremaining: 4m 9s\n",
            "968:\tlearn: 0.7274991\ttotal: 7m 35s\tremaining: 4m 9s\n",
            "969:\tlearn: 0.7274866\ttotal: 7m 35s\tremaining: 4m 9s\n",
            "970:\tlearn: 0.7274817\ttotal: 7m 36s\tremaining: 4m 8s\n",
            "971:\tlearn: 0.7274486\ttotal: 7m 36s\tremaining: 4m 8s\n",
            "972:\tlearn: 0.7274353\ttotal: 7m 37s\tremaining: 4m 7s\n",
            "973:\tlearn: 0.7274270\ttotal: 7m 37s\tremaining: 4m 7s\n",
            "974:\tlearn: 0.7274222\ttotal: 7m 38s\tremaining: 4m 6s\n",
            "975:\tlearn: 0.7274170\ttotal: 7m 38s\tremaining: 4m 6s\n",
            "976:\tlearn: 0.7274078\ttotal: 7m 39s\tremaining: 4m 5s\n",
            "977:\tlearn: 0.7274024\ttotal: 7m 39s\tremaining: 4m 5s\n",
            "978:\tlearn: 0.7273877\ttotal: 7m 40s\tremaining: 4m 4s\n",
            "979:\tlearn: 0.7273383\ttotal: 7m 40s\tremaining: 4m 4s\n",
            "980:\tlearn: 0.7273372\ttotal: 7m 41s\tremaining: 4m 4s\n",
            "981:\tlearn: 0.7273284\ttotal: 7m 41s\tremaining: 4m 3s\n",
            "982:\tlearn: 0.7273207\ttotal: 7m 42s\tremaining: 4m 3s\n",
            "983:\tlearn: 0.7272883\ttotal: 7m 42s\tremaining: 4m 2s\n",
            "984:\tlearn: 0.7272830\ttotal: 7m 43s\tremaining: 4m 2s\n",
            "985:\tlearn: 0.7272677\ttotal: 7m 43s\tremaining: 4m 1s\n",
            "986:\tlearn: 0.7272405\ttotal: 7m 44s\tremaining: 4m 1s\n",
            "987:\tlearn: 0.7272404\ttotal: 7m 44s\tremaining: 4m\n",
            "988:\tlearn: 0.7272348\ttotal: 7m 45s\tremaining: 4m\n",
            "989:\tlearn: 0.7272243\ttotal: 7m 45s\tremaining: 3m 59s\n",
            "990:\tlearn: 0.7272211\ttotal: 7m 46s\tremaining: 3m 59s\n",
            "991:\tlearn: 0.7271578\ttotal: 7m 46s\tremaining: 3m 58s\n",
            "992:\tlearn: 0.7271472\ttotal: 7m 47s\tremaining: 3m 58s\n",
            "993:\tlearn: 0.7271111\ttotal: 7m 47s\tremaining: 3m 57s\n",
            "994:\tlearn: 0.7271066\ttotal: 7m 48s\tremaining: 3m 57s\n",
            "995:\tlearn: 0.7270993\ttotal: 7m 48s\tremaining: 3m 57s\n",
            "996:\tlearn: 0.7270812\ttotal: 7m 48s\tremaining: 3m 56s\n",
            "997:\tlearn: 0.7270642\ttotal: 7m 49s\tremaining: 3m 56s\n",
            "998:\tlearn: 0.7270562\ttotal: 7m 49s\tremaining: 3m 55s\n",
            "999:\tlearn: 0.7270267\ttotal: 7m 50s\tremaining: 3m 55s\n",
            "1000:\tlearn: 0.7270212\ttotal: 7m 50s\tremaining: 3m 54s\n",
            "1001:\tlearn: 0.7270182\ttotal: 7m 51s\tremaining: 3m 54s\n",
            "1002:\tlearn: 0.7270126\ttotal: 7m 51s\tremaining: 3m 53s\n",
            "1003:\tlearn: 0.7270032\ttotal: 7m 52s\tremaining: 3m 53s\n",
            "1004:\tlearn: 0.7269778\ttotal: 7m 52s\tremaining: 3m 52s\n",
            "1005:\tlearn: 0.7269700\ttotal: 7m 53s\tremaining: 3m 52s\n",
            "1006:\tlearn: 0.7269598\ttotal: 7m 53s\tremaining: 3m 51s\n",
            "1007:\tlearn: 0.7269495\ttotal: 7m 54s\tremaining: 3m 51s\n",
            "1008:\tlearn: 0.7269464\ttotal: 7m 54s\tremaining: 3m 50s\n",
            "1009:\tlearn: 0.7269392\ttotal: 7m 55s\tremaining: 3m 50s\n",
            "1010:\tlearn: 0.7269390\ttotal: 7m 55s\tremaining: 3m 50s\n",
            "1011:\tlearn: 0.7269102\ttotal: 7m 56s\tremaining: 3m 49s\n",
            "1012:\tlearn: 0.7269028\ttotal: 7m 56s\tremaining: 3m 49s\n",
            "1013:\tlearn: 0.7268049\ttotal: 7m 57s\tremaining: 3m 48s\n",
            "1014:\tlearn: 0.7267977\ttotal: 7m 57s\tremaining: 3m 48s\n",
            "1015:\tlearn: 0.7267731\ttotal: 7m 58s\tremaining: 3m 47s\n",
            "1016:\tlearn: 0.7267702\ttotal: 7m 58s\tremaining: 3m 47s\n",
            "1017:\tlearn: 0.7267627\ttotal: 7m 59s\tremaining: 3m 46s\n",
            "1018:\tlearn: 0.7267569\ttotal: 7m 59s\tremaining: 3m 46s\n",
            "1019:\tlearn: 0.7267465\ttotal: 7m 59s\tremaining: 3m 45s\n",
            "1020:\tlearn: 0.7267438\ttotal: 8m\tremaining: 3m 45s\n",
            "1021:\tlearn: 0.7267392\ttotal: 8m\tremaining: 3m 44s\n",
            "1022:\tlearn: 0.7267320\ttotal: 8m 1s\tremaining: 3m 44s\n",
            "1023:\tlearn: 0.7267300\ttotal: 8m 1s\tremaining: 3m 43s\n",
            "1024:\tlearn: 0.7267220\ttotal: 8m 2s\tremaining: 3m 43s\n",
            "1025:\tlearn: 0.7267196\ttotal: 8m 2s\tremaining: 3m 43s\n",
            "1026:\tlearn: 0.7267148\ttotal: 8m 3s\tremaining: 3m 42s\n",
            "1027:\tlearn: 0.7267018\ttotal: 8m 3s\tremaining: 3m 42s\n",
            "1028:\tlearn: 0.7266847\ttotal: 8m 4s\tremaining: 3m 41s\n",
            "1029:\tlearn: 0.7266829\ttotal: 8m 4s\tremaining: 3m 41s\n",
            "1030:\tlearn: 0.7266803\ttotal: 8m 5s\tremaining: 3m 40s\n",
            "1031:\tlearn: 0.7266780\ttotal: 8m 5s\tremaining: 3m 40s\n",
            "1032:\tlearn: 0.7266753\ttotal: 8m 5s\tremaining: 3m 39s\n",
            "1033:\tlearn: 0.7266603\ttotal: 8m 6s\tremaining: 3m 39s\n",
            "1034:\tlearn: 0.7266502\ttotal: 8m 6s\tremaining: 3m 38s\n",
            "1035:\tlearn: 0.7266411\ttotal: 8m 7s\tremaining: 3m 38s\n",
            "1036:\tlearn: 0.7266366\ttotal: 8m 7s\tremaining: 3m 37s\n",
            "1037:\tlearn: 0.7266265\ttotal: 8m 8s\tremaining: 3m 37s\n",
            "1038:\tlearn: 0.7265901\ttotal: 8m 8s\tremaining: 3m 36s\n",
            "1039:\tlearn: 0.7265885\ttotal: 8m 9s\tremaining: 3m 36s\n",
            "1040:\tlearn: 0.7265867\ttotal: 8m 9s\tremaining: 3m 35s\n",
            "1041:\tlearn: 0.7265823\ttotal: 8m 10s\tremaining: 3m 35s\n",
            "1042:\tlearn: 0.7265698\ttotal: 8m 10s\tremaining: 3m 34s\n",
            "1043:\tlearn: 0.7265578\ttotal: 8m 11s\tremaining: 3m 34s\n",
            "1044:\tlearn: 0.7265522\ttotal: 8m 11s\tremaining: 3m 34s\n",
            "1045:\tlearn: 0.7265465\ttotal: 8m 12s\tremaining: 3m 33s\n",
            "1046:\tlearn: 0.7265149\ttotal: 8m 12s\tremaining: 3m 33s\n",
            "1047:\tlearn: 0.7264455\ttotal: 8m 13s\tremaining: 3m 32s\n",
            "1048:\tlearn: 0.7264409\ttotal: 8m 13s\tremaining: 3m 32s\n",
            "1049:\tlearn: 0.7264265\ttotal: 8m 13s\tremaining: 3m 31s\n",
            "1050:\tlearn: 0.7264199\ttotal: 8m 14s\tremaining: 3m 31s\n",
            "1051:\tlearn: 0.7263772\ttotal: 8m 14s\tremaining: 3m 30s\n",
            "1052:\tlearn: 0.7263517\ttotal: 8m 15s\tremaining: 3m 30s\n",
            "1053:\tlearn: 0.7263344\ttotal: 8m 15s\tremaining: 3m 29s\n",
            "1054:\tlearn: 0.7263285\ttotal: 8m 16s\tremaining: 3m 29s\n",
            "1055:\tlearn: 0.7262909\ttotal: 8m 17s\tremaining: 3m 28s\n",
            "1056:\tlearn: 0.7262823\ttotal: 8m 17s\tremaining: 3m 28s\n",
            "1057:\tlearn: 0.7262742\ttotal: 8m 17s\tremaining: 3m 28s\n",
            "1058:\tlearn: 0.7262712\ttotal: 8m 18s\tremaining: 3m 27s\n",
            "1059:\tlearn: 0.7262659\ttotal: 8m 18s\tremaining: 3m 27s\n",
            "1060:\tlearn: 0.7262530\ttotal: 8m 19s\tremaining: 3m 26s\n",
            "1061:\tlearn: 0.7262326\ttotal: 8m 19s\tremaining: 3m 26s\n",
            "1062:\tlearn: 0.7262308\ttotal: 8m 20s\tremaining: 3m 25s\n",
            "1063:\tlearn: 0.7262187\ttotal: 8m 20s\tremaining: 3m 25s\n",
            "1064:\tlearn: 0.7261882\ttotal: 8m 21s\tremaining: 3m 24s\n",
            "1065:\tlearn: 0.7261570\ttotal: 8m 21s\tremaining: 3m 24s\n",
            "1066:\tlearn: 0.7261486\ttotal: 8m 22s\tremaining: 3m 23s\n",
            "1067:\tlearn: 0.7261441\ttotal: 8m 22s\tremaining: 3m 23s\n",
            "1068:\tlearn: 0.7261442\ttotal: 8m 23s\tremaining: 3m 22s\n",
            "1069:\tlearn: 0.7261368\ttotal: 8m 23s\tremaining: 3m 22s\n",
            "1070:\tlearn: 0.7261331\ttotal: 8m 24s\tremaining: 3m 21s\n",
            "1071:\tlearn: 0.7261198\ttotal: 8m 24s\tremaining: 3m 21s\n",
            "1072:\tlearn: 0.7261177\ttotal: 8m 25s\tremaining: 3m 21s\n",
            "1073:\tlearn: 0.7261141\ttotal: 8m 25s\tremaining: 3m 20s\n",
            "1074:\tlearn: 0.7261119\ttotal: 8m 26s\tremaining: 3m 20s\n",
            "1075:\tlearn: 0.7260761\ttotal: 8m 26s\tremaining: 3m 19s\n",
            "1076:\tlearn: 0.7260735\ttotal: 8m 26s\tremaining: 3m 19s\n",
            "1077:\tlearn: 0.7260721\ttotal: 8m 27s\tremaining: 3m 18s\n",
            "1078:\tlearn: 0.7260711\ttotal: 8m 27s\tremaining: 3m 18s\n",
            "1079:\tlearn: 0.7260679\ttotal: 8m 28s\tremaining: 3m 17s\n",
            "1080:\tlearn: 0.7260452\ttotal: 8m 28s\tremaining: 3m 17s\n",
            "1081:\tlearn: 0.7260418\ttotal: 8m 29s\tremaining: 3m 16s\n",
            "1082:\tlearn: 0.7260338\ttotal: 8m 29s\tremaining: 3m 16s\n",
            "1083:\tlearn: 0.7260286\ttotal: 8m 30s\tremaining: 3m 15s\n",
            "1084:\tlearn: 0.7260262\ttotal: 8m 30s\tremaining: 3m 15s\n",
            "1085:\tlearn: 0.7260178\ttotal: 8m 31s\tremaining: 3m 14s\n",
            "1086:\tlearn: 0.7260059\ttotal: 8m 31s\tremaining: 3m 14s\n",
            "1087:\tlearn: 0.7259954\ttotal: 8m 32s\tremaining: 3m 13s\n",
            "1088:\tlearn: 0.7259760\ttotal: 8m 32s\tremaining: 3m 13s\n",
            "1089:\tlearn: 0.7259451\ttotal: 8m 33s\tremaining: 3m 12s\n",
            "1090:\tlearn: 0.7259436\ttotal: 8m 33s\tremaining: 3m 12s\n",
            "1091:\tlearn: 0.7259430\ttotal: 8m 33s\tremaining: 3m 12s\n",
            "1092:\tlearn: 0.7259382\ttotal: 8m 34s\tremaining: 3m 11s\n",
            "1093:\tlearn: 0.7259343\ttotal: 8m 34s\tremaining: 3m 11s\n",
            "1094:\tlearn: 0.7259184\ttotal: 8m 35s\tremaining: 3m 10s\n",
            "1095:\tlearn: 0.7259145\ttotal: 8m 35s\tremaining: 3m 10s\n",
            "1096:\tlearn: 0.7259067\ttotal: 8m 36s\tremaining: 3m 9s\n",
            "1097:\tlearn: 0.7259036\ttotal: 8m 36s\tremaining: 3m 9s\n",
            "1098:\tlearn: 0.7258624\ttotal: 8m 37s\tremaining: 3m 8s\n",
            "1099:\tlearn: 0.7258451\ttotal: 8m 37s\tremaining: 3m 8s\n",
            "1100:\tlearn: 0.7258431\ttotal: 8m 38s\tremaining: 3m 7s\n",
            "1101:\tlearn: 0.7258194\ttotal: 8m 38s\tremaining: 3m 7s\n",
            "1102:\tlearn: 0.7258097\ttotal: 8m 39s\tremaining: 3m 6s\n",
            "1103:\tlearn: 0.7257936\ttotal: 8m 39s\tremaining: 3m 6s\n",
            "1104:\tlearn: 0.7257445\ttotal: 8m 40s\tremaining: 3m 5s\n",
            "1105:\tlearn: 0.7257432\ttotal: 8m 40s\tremaining: 3m 5s\n",
            "1106:\tlearn: 0.7257401\ttotal: 8m 41s\tremaining: 3m 4s\n",
            "1107:\tlearn: 0.7257341\ttotal: 8m 41s\tremaining: 3m 4s\n",
            "1108:\tlearn: 0.7257056\ttotal: 8m 42s\tremaining: 3m 4s\n",
            "1109:\tlearn: 0.7256930\ttotal: 8m 42s\tremaining: 3m 3s\n",
            "1110:\tlearn: 0.7256596\ttotal: 8m 43s\tremaining: 3m 3s\n",
            "1111:\tlearn: 0.7256111\ttotal: 8m 43s\tremaining: 3m 2s\n",
            "1112:\tlearn: 0.7255787\ttotal: 8m 44s\tremaining: 3m 2s\n",
            "1113:\tlearn: 0.7255752\ttotal: 8m 44s\tremaining: 3m 1s\n",
            "1114:\tlearn: 0.7255547\ttotal: 8m 45s\tremaining: 3m 1s\n",
            "1115:\tlearn: 0.7255547\ttotal: 8m 45s\tremaining: 3m\n",
            "1116:\tlearn: 0.7255466\ttotal: 8m 45s\tremaining: 3m\n",
            "1117:\tlearn: 0.7255222\ttotal: 8m 46s\tremaining: 2m 59s\n",
            "1118:\tlearn: 0.7254954\ttotal: 8m 46s\tremaining: 2m 59s\n",
            "1119:\tlearn: 0.7254890\ttotal: 8m 47s\tremaining: 2m 58s\n",
            "1120:\tlearn: 0.7254847\ttotal: 8m 47s\tremaining: 2m 58s\n",
            "1121:\tlearn: 0.7254764\ttotal: 8m 48s\tremaining: 2m 57s\n",
            "1122:\tlearn: 0.7254651\ttotal: 8m 48s\tremaining: 2m 57s\n",
            "1123:\tlearn: 0.7254490\ttotal: 8m 49s\tremaining: 2m 57s\n",
            "1124:\tlearn: 0.7254456\ttotal: 8m 49s\tremaining: 2m 56s\n",
            "1125:\tlearn: 0.7254398\ttotal: 8m 50s\tremaining: 2m 56s\n",
            "1126:\tlearn: 0.7254309\ttotal: 8m 50s\tremaining: 2m 55s\n",
            "1127:\tlearn: 0.7254310\ttotal: 8m 51s\tremaining: 2m 55s\n",
            "1128:\tlearn: 0.7254271\ttotal: 8m 51s\tremaining: 2m 54s\n",
            "1129:\tlearn: 0.7254214\ttotal: 8m 52s\tremaining: 2m 54s\n",
            "1130:\tlearn: 0.7254162\ttotal: 8m 52s\tremaining: 2m 53s\n",
            "1131:\tlearn: 0.7254156\ttotal: 8m 53s\tremaining: 2m 53s\n",
            "1132:\tlearn: 0.7254066\ttotal: 8m 53s\tremaining: 2m 52s\n",
            "1133:\tlearn: 0.7254053\ttotal: 8m 53s\tremaining: 2m 52s\n",
            "1134:\tlearn: 0.7254008\ttotal: 8m 54s\tremaining: 2m 51s\n",
            "1135:\tlearn: 0.7253985\ttotal: 8m 54s\tremaining: 2m 51s\n",
            "1136:\tlearn: 0.7253960\ttotal: 8m 55s\tremaining: 2m 50s\n",
            "1137:\tlearn: 0.7253819\ttotal: 8m 55s\tremaining: 2m 50s\n",
            "1138:\tlearn: 0.7253763\ttotal: 8m 56s\tremaining: 2m 49s\n",
            "1139:\tlearn: 0.7253753\ttotal: 8m 56s\tremaining: 2m 49s\n",
            "1140:\tlearn: 0.7253284\ttotal: 8m 56s\tremaining: 2m 48s\n",
            "1141:\tlearn: 0.7253253\ttotal: 8m 57s\tremaining: 2m 48s\n",
            "1142:\tlearn: 0.7253184\ttotal: 8m 57s\tremaining: 2m 47s\n",
            "1143:\tlearn: 0.7252987\ttotal: 8m 58s\tremaining: 2m 47s\n",
            "1144:\tlearn: 0.7252938\ttotal: 8m 58s\tremaining: 2m 47s\n",
            "1145:\tlearn: 0.7252770\ttotal: 8m 59s\tremaining: 2m 46s\n",
            "1146:\tlearn: 0.7252738\ttotal: 8m 59s\tremaining: 2m 46s\n",
            "1147:\tlearn: 0.7252717\ttotal: 9m\tremaining: 2m 45s\n",
            "1148:\tlearn: 0.7252485\ttotal: 9m\tremaining: 2m 45s\n",
            "1149:\tlearn: 0.7252422\ttotal: 9m 1s\tremaining: 2m 44s\n",
            "1150:\tlearn: 0.7252372\ttotal: 9m 1s\tremaining: 2m 44s\n",
            "1151:\tlearn: 0.7252285\ttotal: 9m 2s\tremaining: 2m 43s\n",
            "1152:\tlearn: 0.7252111\ttotal: 9m 2s\tremaining: 2m 43s\n",
            "1153:\tlearn: 0.7252070\ttotal: 9m 3s\tremaining: 2m 42s\n",
            "1154:\tlearn: 0.7251962\ttotal: 9m 3s\tremaining: 2m 42s\n",
            "1155:\tlearn: 0.7251870\ttotal: 9m 4s\tremaining: 2m 41s\n",
            "1156:\tlearn: 0.7251711\ttotal: 9m 4s\tremaining: 2m 41s\n",
            "1157:\tlearn: 0.7251673\ttotal: 9m 4s\tremaining: 2m 40s\n",
            "1158:\tlearn: 0.7251636\ttotal: 9m 5s\tremaining: 2m 40s\n",
            "1159:\tlearn: 0.7251568\ttotal: 9m 5s\tremaining: 2m 40s\n",
            "1160:\tlearn: 0.7251459\ttotal: 9m 6s\tremaining: 2m 39s\n",
            "1161:\tlearn: 0.7251201\ttotal: 9m 6s\tremaining: 2m 39s\n",
            "1162:\tlearn: 0.7251128\ttotal: 9m 7s\tremaining: 2m 38s\n",
            "1163:\tlearn: 0.7251086\ttotal: 9m 7s\tremaining: 2m 38s\n",
            "1164:\tlearn: 0.7250964\ttotal: 9m 8s\tremaining: 2m 37s\n",
            "1165:\tlearn: 0.7250877\ttotal: 9m 8s\tremaining: 2m 37s\n",
            "1166:\tlearn: 0.7250872\ttotal: 9m 9s\tremaining: 2m 36s\n",
            "1167:\tlearn: 0.7250805\ttotal: 9m 9s\tremaining: 2m 36s\n",
            "1168:\tlearn: 0.7250592\ttotal: 9m 10s\tremaining: 2m 35s\n",
            "1169:\tlearn: 0.7250556\ttotal: 9m 10s\tremaining: 2m 35s\n",
            "1170:\tlearn: 0.7250426\ttotal: 9m 11s\tremaining: 2m 34s\n",
            "1171:\tlearn: 0.7250325\ttotal: 9m 11s\tremaining: 2m 34s\n",
            "1172:\tlearn: 0.7250255\ttotal: 9m 12s\tremaining: 2m 33s\n",
            "1173:\tlearn: 0.7250198\ttotal: 9m 12s\tremaining: 2m 33s\n",
            "1174:\tlearn: 0.7250075\ttotal: 9m 12s\tremaining: 2m 32s\n",
            "1175:\tlearn: 0.7249965\ttotal: 9m 13s\tremaining: 2m 32s\n",
            "1176:\tlearn: 0.7249878\ttotal: 9m 13s\tremaining: 2m 32s\n",
            "1177:\tlearn: 0.7249819\ttotal: 9m 14s\tremaining: 2m 31s\n",
            "1178:\tlearn: 0.7249762\ttotal: 9m 14s\tremaining: 2m 31s\n",
            "1179:\tlearn: 0.7249739\ttotal: 9m 15s\tremaining: 2m 30s\n",
            "1180:\tlearn: 0.7249711\ttotal: 9m 15s\tremaining: 2m 30s\n",
            "1181:\tlearn: 0.7249515\ttotal: 9m 16s\tremaining: 2m 29s\n",
            "1182:\tlearn: 0.7249466\ttotal: 9m 16s\tremaining: 2m 29s\n",
            "1183:\tlearn: 0.7249396\ttotal: 9m 17s\tremaining: 2m 28s\n",
            "1184:\tlearn: 0.7249302\ttotal: 9m 17s\tremaining: 2m 28s\n",
            "1185:\tlearn: 0.7249233\ttotal: 9m 18s\tremaining: 2m 27s\n",
            "1186:\tlearn: 0.7249078\ttotal: 9m 18s\tremaining: 2m 27s\n",
            "1187:\tlearn: 0.7249030\ttotal: 9m 19s\tremaining: 2m 26s\n",
            "1188:\tlearn: 0.7248992\ttotal: 9m 19s\tremaining: 2m 26s\n",
            "1189:\tlearn: 0.7248934\ttotal: 9m 19s\tremaining: 2m 25s\n",
            "1190:\tlearn: 0.7248908\ttotal: 9m 20s\tremaining: 2m 25s\n",
            "1191:\tlearn: 0.7248792\ttotal: 9m 20s\tremaining: 2m 24s\n",
            "1192:\tlearn: 0.7248767\ttotal: 9m 21s\tremaining: 2m 24s\n",
            "1193:\tlearn: 0.7248694\ttotal: 9m 21s\tremaining: 2m 23s\n",
            "1194:\tlearn: 0.7248668\ttotal: 9m 22s\tremaining: 2m 23s\n",
            "1195:\tlearn: 0.7248628\ttotal: 9m 22s\tremaining: 2m 23s\n",
            "1196:\tlearn: 0.7248442\ttotal: 9m 23s\tremaining: 2m 22s\n",
            "1197:\tlearn: 0.7248337\ttotal: 9m 23s\tremaining: 2m 22s\n",
            "1198:\tlearn: 0.7248255\ttotal: 9m 24s\tremaining: 2m 21s\n",
            "1199:\tlearn: 0.7248225\ttotal: 9m 24s\tremaining: 2m 21s\n",
            "1200:\tlearn: 0.7248201\ttotal: 9m 25s\tremaining: 2m 20s\n",
            "1201:\tlearn: 0.7247899\ttotal: 9m 25s\tremaining: 2m 20s\n",
            "1202:\tlearn: 0.7247863\ttotal: 9m 26s\tremaining: 2m 19s\n",
            "1203:\tlearn: 0.7247823\ttotal: 9m 26s\tremaining: 2m 19s\n",
            "1204:\tlearn: 0.7247722\ttotal: 9m 27s\tremaining: 2m 18s\n",
            "1205:\tlearn: 0.7247675\ttotal: 9m 27s\tremaining: 2m 18s\n",
            "1206:\tlearn: 0.7247397\ttotal: 9m 28s\tremaining: 2m 17s\n",
            "1207:\tlearn: 0.7247361\ttotal: 9m 28s\tremaining: 2m 17s\n",
            "1208:\tlearn: 0.7247292\ttotal: 9m 28s\tremaining: 2m 16s\n",
            "1209:\tlearn: 0.7247262\ttotal: 9m 29s\tremaining: 2m 16s\n",
            "1210:\tlearn: 0.7247130\ttotal: 9m 29s\tremaining: 2m 15s\n",
            "1211:\tlearn: 0.7247071\ttotal: 9m 30s\tremaining: 2m 15s\n",
            "1212:\tlearn: 0.7246830\ttotal: 9m 30s\tremaining: 2m 15s\n",
            "1213:\tlearn: 0.7246689\ttotal: 9m 31s\tremaining: 2m 14s\n",
            "1214:\tlearn: 0.7246664\ttotal: 9m 31s\tremaining: 2m 14s\n",
            "1215:\tlearn: 0.7246549\ttotal: 9m 32s\tremaining: 2m 13s\n",
            "1216:\tlearn: 0.7246369\ttotal: 9m 32s\tremaining: 2m 13s\n",
            "1217:\tlearn: 0.7246317\ttotal: 9m 32s\tremaining: 2m 12s\n",
            "1218:\tlearn: 0.7246233\ttotal: 9m 33s\tremaining: 2m 12s\n",
            "1219:\tlearn: 0.7246120\ttotal: 9m 33s\tremaining: 2m 11s\n",
            "1220:\tlearn: 0.7246018\ttotal: 9m 34s\tremaining: 2m 11s\n",
            "1221:\tlearn: 0.7245914\ttotal: 9m 34s\tremaining: 2m 10s\n",
            "1222:\tlearn: 0.7245872\ttotal: 9m 35s\tremaining: 2m 10s\n",
            "1223:\tlearn: 0.7245778\ttotal: 9m 35s\tremaining: 2m 9s\n",
            "1224:\tlearn: 0.7245714\ttotal: 9m 36s\tremaining: 2m 9s\n",
            "1225:\tlearn: 0.7245670\ttotal: 9m 36s\tremaining: 2m 8s\n",
            "1226:\tlearn: 0.7245602\ttotal: 9m 37s\tremaining: 2m 8s\n",
            "1227:\tlearn: 0.7245570\ttotal: 9m 37s\tremaining: 2m 7s\n",
            "1228:\tlearn: 0.7245494\ttotal: 9m 38s\tremaining: 2m 7s\n",
            "1229:\tlearn: 0.7245431\ttotal: 9m 38s\tremaining: 2m 7s\n",
            "1230:\tlearn: 0.7244814\ttotal: 9m 39s\tremaining: 2m 6s\n",
            "1231:\tlearn: 0.7244788\ttotal: 9m 39s\tremaining: 2m 6s\n",
            "1232:\tlearn: 0.7244753\ttotal: 9m 40s\tremaining: 2m 5s\n",
            "1233:\tlearn: 0.7244629\ttotal: 9m 40s\tremaining: 2m 5s\n",
            "1234:\tlearn: 0.7244355\ttotal: 9m 41s\tremaining: 2m 4s\n",
            "1235:\tlearn: 0.7244270\ttotal: 9m 41s\tremaining: 2m 4s\n",
            "1236:\tlearn: 0.7244165\ttotal: 9m 42s\tremaining: 2m 3s\n",
            "1237:\tlearn: 0.7244078\ttotal: 9m 42s\tremaining: 2m 3s\n",
            "1238:\tlearn: 0.7244041\ttotal: 9m 43s\tremaining: 2m 2s\n",
            "1239:\tlearn: 0.7244004\ttotal: 9m 43s\tremaining: 2m 2s\n",
            "1240:\tlearn: 0.7243964\ttotal: 9m 44s\tremaining: 2m 1s\n",
            "1241:\tlearn: 0.7243919\ttotal: 9m 44s\tremaining: 2m 1s\n",
            "1242:\tlearn: 0.7243876\ttotal: 9m 44s\tremaining: 2m\n",
            "1243:\tlearn: 0.7243828\ttotal: 9m 45s\tremaining: 2m\n",
            "1244:\tlearn: 0.7243752\ttotal: 9m 45s\tremaining: 2m\n",
            "1245:\tlearn: 0.7243525\ttotal: 9m 46s\tremaining: 1m 59s\n",
            "1246:\tlearn: 0.7243494\ttotal: 9m 46s\tremaining: 1m 59s\n",
            "1247:\tlearn: 0.7243331\ttotal: 9m 47s\tremaining: 1m 58s\n",
            "1248:\tlearn: 0.7243305\ttotal: 9m 47s\tremaining: 1m 58s\n",
            "1249:\tlearn: 0.7243272\ttotal: 9m 48s\tremaining: 1m 57s\n",
            "1250:\tlearn: 0.7243115\ttotal: 9m 48s\tremaining: 1m 57s\n",
            "1251:\tlearn: 0.7243074\ttotal: 9m 49s\tremaining: 1m 56s\n",
            "1252:\tlearn: 0.7242875\ttotal: 9m 49s\tremaining: 1m 56s\n",
            "1253:\tlearn: 0.7242363\ttotal: 9m 50s\tremaining: 1m 55s\n",
            "1254:\tlearn: 0.7242339\ttotal: 9m 50s\tremaining: 1m 55s\n",
            "1255:\tlearn: 0.7242166\ttotal: 9m 51s\tremaining: 1m 54s\n",
            "1256:\tlearn: 0.7241987\ttotal: 9m 51s\tremaining: 1m 54s\n",
            "1257:\tlearn: 0.7241894\ttotal: 9m 52s\tremaining: 1m 53s\n",
            "1258:\tlearn: 0.7241868\ttotal: 9m 52s\tremaining: 1m 53s\n",
            "1259:\tlearn: 0.7241815\ttotal: 9m 53s\tremaining: 1m 52s\n",
            "1260:\tlearn: 0.7241745\ttotal: 9m 53s\tremaining: 1m 52s\n",
            "1261:\tlearn: 0.7241710\ttotal: 9m 54s\tremaining: 1m 52s\n",
            "1262:\tlearn: 0.7241589\ttotal: 9m 54s\tremaining: 1m 51s\n",
            "1263:\tlearn: 0.7241483\ttotal: 9m 55s\tremaining: 1m 51s\n",
            "1264:\tlearn: 0.7241217\ttotal: 9m 55s\tremaining: 1m 50s\n",
            "1265:\tlearn: 0.7241182\ttotal: 9m 56s\tremaining: 1m 50s\n",
            "1266:\tlearn: 0.7240989\ttotal: 9m 56s\tremaining: 1m 49s\n",
            "1267:\tlearn: 0.7240849\ttotal: 9m 57s\tremaining: 1m 49s\n",
            "1268:\tlearn: 0.7240652\ttotal: 9m 57s\tremaining: 1m 48s\n",
            "1269:\tlearn: 0.7240647\ttotal: 9m 58s\tremaining: 1m 48s\n",
            "1270:\tlearn: 0.7240619\ttotal: 9m 58s\tremaining: 1m 47s\n",
            "1271:\tlearn: 0.7240438\ttotal: 9m 59s\tremaining: 1m 47s\n",
            "1272:\tlearn: 0.7240375\ttotal: 9m 59s\tremaining: 1m 46s\n",
            "1273:\tlearn: 0.7240283\ttotal: 9m 59s\tremaining: 1m 46s\n",
            "1274:\tlearn: 0.7240109\ttotal: 10m\tremaining: 1m 45s\n",
            "1275:\tlearn: 0.7240039\ttotal: 10m\tremaining: 1m 45s\n",
            "1276:\tlearn: 0.7239966\ttotal: 10m 1s\tremaining: 1m 45s\n",
            "1277:\tlearn: 0.7239886\ttotal: 10m 1s\tremaining: 1m 44s\n",
            "1278:\tlearn: 0.7239857\ttotal: 10m 2s\tremaining: 1m 44s\n",
            "1279:\tlearn: 0.7239652\ttotal: 10m 2s\tremaining: 1m 43s\n",
            "1280:\tlearn: 0.7239570\ttotal: 10m 3s\tremaining: 1m 43s\n",
            "1281:\tlearn: 0.7239390\ttotal: 10m 3s\tremaining: 1m 42s\n",
            "1282:\tlearn: 0.7239353\ttotal: 10m 4s\tremaining: 1m 42s\n",
            "1283:\tlearn: 0.7239313\ttotal: 10m 4s\tremaining: 1m 41s\n",
            "1284:\tlearn: 0.7239205\ttotal: 10m 5s\tremaining: 1m 41s\n",
            "1285:\tlearn: 0.7239140\ttotal: 10m 5s\tremaining: 1m 40s\n",
            "1286:\tlearn: 0.7239096\ttotal: 10m 6s\tremaining: 1m 40s\n",
            "1287:\tlearn: 0.7239085\ttotal: 10m 6s\tremaining: 1m 39s\n",
            "1288:\tlearn: 0.7238726\ttotal: 10m 6s\tremaining: 1m 39s\n",
            "1289:\tlearn: 0.7238654\ttotal: 10m 7s\tremaining: 1m 38s\n",
            "1290:\tlearn: 0.7238621\ttotal: 10m 7s\tremaining: 1m 38s\n",
            "1291:\tlearn: 0.7238166\ttotal: 10m 8s\tremaining: 1m 37s\n",
            "1292:\tlearn: 0.7238171\ttotal: 10m 8s\tremaining: 1m 37s\n",
            "1293:\tlearn: 0.7238079\ttotal: 10m 9s\tremaining: 1m 37s\n",
            "1294:\tlearn: 0.7238045\ttotal: 10m 9s\tremaining: 1m 36s\n",
            "1295:\tlearn: 0.7238011\ttotal: 10m 10s\tremaining: 1m 36s\n",
            "1296:\tlearn: 0.7237604\ttotal: 10m 10s\tremaining: 1m 35s\n",
            "1297:\tlearn: 0.7237532\ttotal: 10m 11s\tremaining: 1m 35s\n",
            "1298:\tlearn: 0.7237263\ttotal: 10m 11s\tremaining: 1m 34s\n",
            "1299:\tlearn: 0.7237208\ttotal: 10m 12s\tremaining: 1m 34s\n",
            "1300:\tlearn: 0.7237024\ttotal: 10m 12s\tremaining: 1m 33s\n",
            "1301:\tlearn: 0.7236994\ttotal: 10m 13s\tremaining: 1m 33s\n",
            "1302:\tlearn: 0.7236633\ttotal: 10m 13s\tremaining: 1m 32s\n",
            "1303:\tlearn: 0.7236421\ttotal: 10m 14s\tremaining: 1m 32s\n",
            "1304:\tlearn: 0.7236388\ttotal: 10m 14s\tremaining: 1m 31s\n",
            "1305:\tlearn: 0.7236326\ttotal: 10m 15s\tremaining: 1m 31s\n",
            "1306:\tlearn: 0.7235958\ttotal: 10m 15s\tremaining: 1m 30s\n",
            "1307:\tlearn: 0.7235896\ttotal: 10m 16s\tremaining: 1m 30s\n",
            "1308:\tlearn: 0.7235604\ttotal: 10m 16s\tremaining: 1m 29s\n",
            "1309:\tlearn: 0.7235570\ttotal: 10m 17s\tremaining: 1m 29s\n",
            "1310:\tlearn: 0.7235429\ttotal: 10m 17s\tremaining: 1m 29s\n",
            "1311:\tlearn: 0.7235400\ttotal: 10m 18s\tremaining: 1m 28s\n",
            "1312:\tlearn: 0.7235349\ttotal: 10m 18s\tremaining: 1m 28s\n",
            "1313:\tlearn: 0.7235259\ttotal: 10m 19s\tremaining: 1m 27s\n",
            "1314:\tlearn: 0.7235225\ttotal: 10m 19s\tremaining: 1m 27s\n",
            "1315:\tlearn: 0.7235175\ttotal: 10m 20s\tremaining: 1m 26s\n",
            "1316:\tlearn: 0.7235099\ttotal: 10m 20s\tremaining: 1m 26s\n",
            "1317:\tlearn: 0.7235077\ttotal: 10m 21s\tremaining: 1m 25s\n",
            "1318:\tlearn: 0.7235035\ttotal: 10m 21s\tremaining: 1m 25s\n",
            "1319:\tlearn: 0.7235002\ttotal: 10m 22s\tremaining: 1m 24s\n",
            "1320:\tlearn: 0.7234781\ttotal: 10m 22s\tremaining: 1m 24s\n",
            "1321:\tlearn: 0.7234765\ttotal: 10m 23s\tremaining: 1m 23s\n",
            "1322:\tlearn: 0.7234594\ttotal: 10m 23s\tremaining: 1m 23s\n",
            "1323:\tlearn: 0.7234482\ttotal: 10m 24s\tremaining: 1m 22s\n",
            "1324:\tlearn: 0.7234343\ttotal: 10m 24s\tremaining: 1m 22s\n",
            "1325:\tlearn: 0.7234311\ttotal: 10m 24s\tremaining: 1m 22s\n",
            "1326:\tlearn: 0.7234300\ttotal: 10m 25s\tremaining: 1m 21s\n",
            "1327:\tlearn: 0.7234265\ttotal: 10m 25s\tremaining: 1m 21s\n",
            "1328:\tlearn: 0.7234230\ttotal: 10m 26s\tremaining: 1m 20s\n",
            "1329:\tlearn: 0.7234228\ttotal: 10m 26s\tremaining: 1m 20s\n",
            "1330:\tlearn: 0.7234004\ttotal: 10m 27s\tremaining: 1m 19s\n",
            "1331:\tlearn: 0.7233971\ttotal: 10m 27s\tremaining: 1m 19s\n",
            "1332:\tlearn: 0.7233719\ttotal: 10m 28s\tremaining: 1m 18s\n",
            "1333:\tlearn: 0.7233676\ttotal: 10m 28s\tremaining: 1m 18s\n",
            "1334:\tlearn: 0.7233648\ttotal: 10m 29s\tremaining: 1m 17s\n",
            "1335:\tlearn: 0.7233629\ttotal: 10m 29s\tremaining: 1m 17s\n",
            "1336:\tlearn: 0.7233620\ttotal: 10m 30s\tremaining: 1m 16s\n",
            "1337:\tlearn: 0.7233535\ttotal: 10m 30s\tremaining: 1m 16s\n",
            "1338:\tlearn: 0.7233432\ttotal: 10m 31s\tremaining: 1m 15s\n",
            "1339:\tlearn: 0.7233388\ttotal: 10m 31s\tremaining: 1m 15s\n",
            "1340:\tlearn: 0.7233320\ttotal: 10m 32s\tremaining: 1m 14s\n",
            "1341:\tlearn: 0.7233213\ttotal: 10m 32s\tremaining: 1m 14s\n",
            "1342:\tlearn: 0.7233203\ttotal: 10m 32s\tremaining: 1m 13s\n",
            "1343:\tlearn: 0.7233089\ttotal: 10m 33s\tremaining: 1m 13s\n",
            "1344:\tlearn: 0.7233039\ttotal: 10m 33s\tremaining: 1m 13s\n",
            "1345:\tlearn: 0.7233019\ttotal: 10m 34s\tremaining: 1m 12s\n",
            "1346:\tlearn: 0.7233015\ttotal: 10m 34s\tremaining: 1m 12s\n",
            "1347:\tlearn: 0.7232987\ttotal: 10m 35s\tremaining: 1m 11s\n",
            "1348:\tlearn: 0.7232947\ttotal: 10m 35s\tremaining: 1m 11s\n",
            "1349:\tlearn: 0.7232927\ttotal: 10m 36s\tremaining: 1m 10s\n",
            "1350:\tlearn: 0.7232905\ttotal: 10m 36s\tremaining: 1m 10s\n",
            "1351:\tlearn: 0.7232857\ttotal: 10m 37s\tremaining: 1m 9s\n",
            "1352:\tlearn: 0.7232839\ttotal: 10m 37s\tremaining: 1m 9s\n",
            "1353:\tlearn: 0.7232777\ttotal: 10m 38s\tremaining: 1m 8s\n",
            "1354:\tlearn: 0.7232708\ttotal: 10m 38s\tremaining: 1m 8s\n",
            "1355:\tlearn: 0.7232503\ttotal: 10m 39s\tremaining: 1m 7s\n",
            "1356:\tlearn: 0.7232484\ttotal: 10m 39s\tremaining: 1m 7s\n",
            "1357:\tlearn: 0.7232312\ttotal: 10m 39s\tremaining: 1m 6s\n",
            "1358:\tlearn: 0.7232247\ttotal: 10m 40s\tremaining: 1m 6s\n",
            "1359:\tlearn: 0.7232190\ttotal: 10m 40s\tremaining: 1m 5s\n",
            "1360:\tlearn: 0.7232165\ttotal: 10m 41s\tremaining: 1m 5s\n",
            "1361:\tlearn: 0.7231920\ttotal: 10m 41s\tremaining: 1m 5s\n",
            "1362:\tlearn: 0.7231828\ttotal: 10m 42s\tremaining: 1m 4s\n",
            "1363:\tlearn: 0.7231819\ttotal: 10m 42s\tremaining: 1m 4s\n",
            "1364:\tlearn: 0.7231771\ttotal: 10m 43s\tremaining: 1m 3s\n",
            "1365:\tlearn: 0.7231736\ttotal: 10m 43s\tremaining: 1m 3s\n",
            "1366:\tlearn: 0.7231487\ttotal: 10m 44s\tremaining: 1m 2s\n",
            "1367:\tlearn: 0.7231419\ttotal: 10m 44s\tremaining: 1m 2s\n",
            "1368:\tlearn: 0.7231386\ttotal: 10m 45s\tremaining: 1m 1s\n",
            "1369:\tlearn: 0.7231363\ttotal: 10m 45s\tremaining: 1m 1s\n",
            "1370:\tlearn: 0.7231288\ttotal: 10m 46s\tremaining: 1m\n",
            "1371:\tlearn: 0.7231196\ttotal: 10m 46s\tremaining: 1m\n",
            "1372:\tlearn: 0.7231152\ttotal: 10m 47s\tremaining: 59.8s\n",
            "1373:\tlearn: 0.7231019\ttotal: 10m 47s\tremaining: 59.4s\n",
            "1374:\tlearn: 0.7231006\ttotal: 10m 48s\tremaining: 58.9s\n",
            "1375:\tlearn: 0.7230907\ttotal: 10m 48s\tremaining: 58.4s\n",
            "1376:\tlearn: 0.7230833\ttotal: 10m 49s\tremaining: 58s\n",
            "1377:\tlearn: 0.7230797\ttotal: 10m 49s\tremaining: 57.5s\n",
            "1378:\tlearn: 0.7230772\ttotal: 10m 49s\tremaining: 57s\n",
            "1379:\tlearn: 0.7230639\ttotal: 10m 50s\tremaining: 56.6s\n",
            "1380:\tlearn: 0.7230340\ttotal: 10m 50s\tremaining: 56.1s\n",
            "1381:\tlearn: 0.7230293\ttotal: 10m 51s\tremaining: 55.6s\n",
            "1382:\tlearn: 0.7230224\ttotal: 10m 52s\tremaining: 55.2s\n",
            "1383:\tlearn: 0.7230197\ttotal: 10m 52s\tremaining: 54.7s\n",
            "1384:\tlearn: 0.7230145\ttotal: 10m 52s\tremaining: 54.2s\n",
            "1385:\tlearn: 0.7230127\ttotal: 10m 53s\tremaining: 53.8s\n",
            "1386:\tlearn: 0.7229952\ttotal: 10m 53s\tremaining: 53.3s\n",
            "1387:\tlearn: 0.7229871\ttotal: 10m 54s\tremaining: 52.8s\n",
            "1388:\tlearn: 0.7229791\ttotal: 10m 54s\tremaining: 52.3s\n",
            "1389:\tlearn: 0.7229730\ttotal: 10m 55s\tremaining: 51.9s\n",
            "1390:\tlearn: 0.7229676\ttotal: 10m 55s\tremaining: 51.4s\n",
            "1391:\tlearn: 0.7229606\ttotal: 10m 56s\tremaining: 50.9s\n",
            "1392:\tlearn: 0.7229575\ttotal: 10m 56s\tremaining: 50.5s\n",
            "1393:\tlearn: 0.7229534\ttotal: 10m 57s\tremaining: 50s\n",
            "1394:\tlearn: 0.7229487\ttotal: 10m 57s\tremaining: 49.5s\n",
            "1395:\tlearn: 0.7229443\ttotal: 10m 58s\tremaining: 49s\n",
            "1396:\tlearn: 0.7229342\ttotal: 10m 58s\tremaining: 48.6s\n",
            "1397:\tlearn: 0.7229218\ttotal: 10m 59s\tremaining: 48.1s\n",
            "1398:\tlearn: 0.7229167\ttotal: 10m 59s\tremaining: 47.6s\n",
            "1399:\tlearn: 0.7229097\ttotal: 11m\tremaining: 47.2s\n",
            "1400:\tlearn: 0.7229055\ttotal: 11m\tremaining: 46.7s\n",
            "1401:\tlearn: 0.7229012\ttotal: 11m 1s\tremaining: 46.2s\n",
            "1402:\tlearn: 0.7228969\ttotal: 11m 1s\tremaining: 45.7s\n",
            "1403:\tlearn: 0.7228896\ttotal: 11m 2s\tremaining: 45.3s\n",
            "1404:\tlearn: 0.7228868\ttotal: 11m 2s\tremaining: 44.8s\n",
            "1405:\tlearn: 0.7228835\ttotal: 11m 2s\tremaining: 44.3s\n",
            "1406:\tlearn: 0.7228788\ttotal: 11m 3s\tremaining: 43.8s\n",
            "1407:\tlearn: 0.7228689\ttotal: 11m 3s\tremaining: 43.4s\n",
            "1408:\tlearn: 0.7228681\ttotal: 11m 4s\tremaining: 42.9s\n",
            "1409:\tlearn: 0.7228658\ttotal: 11m 4s\tremaining: 42.4s\n",
            "1410:\tlearn: 0.7228633\ttotal: 11m 5s\tremaining: 42s\n",
            "1411:\tlearn: 0.7228478\ttotal: 11m 5s\tremaining: 41.5s\n",
            "1412:\tlearn: 0.7228448\ttotal: 11m 6s\tremaining: 41s\n",
            "1413:\tlearn: 0.7228429\ttotal: 11m 6s\tremaining: 40.5s\n",
            "1414:\tlearn: 0.7228417\ttotal: 11m 6s\tremaining: 40.1s\n",
            "1415:\tlearn: 0.7228357\ttotal: 11m 7s\tremaining: 39.6s\n",
            "1416:\tlearn: 0.7228242\ttotal: 11m 8s\tremaining: 39.1s\n",
            "1417:\tlearn: 0.7228211\ttotal: 11m 8s\tremaining: 38.7s\n",
            "1418:\tlearn: 0.7228101\ttotal: 11m 8s\tremaining: 38.2s\n",
            "1419:\tlearn: 0.7228057\ttotal: 11m 9s\tremaining: 37.7s\n",
            "1420:\tlearn: 0.7227304\ttotal: 11m 9s\tremaining: 37.2s\n",
            "1421:\tlearn: 0.7227241\ttotal: 11m 10s\tremaining: 36.8s\n",
            "1422:\tlearn: 0.7227199\ttotal: 11m 10s\tremaining: 36.3s\n",
            "1423:\tlearn: 0.7226909\ttotal: 11m 11s\tremaining: 35.8s\n",
            "1424:\tlearn: 0.7226843\ttotal: 11m 11s\tremaining: 35.4s\n",
            "1425:\tlearn: 0.7226747\ttotal: 11m 12s\tremaining: 34.9s\n",
            "1426:\tlearn: 0.7226576\ttotal: 11m 12s\tremaining: 34.4s\n",
            "1427:\tlearn: 0.7226552\ttotal: 11m 13s\tremaining: 34s\n",
            "1428:\tlearn: 0.7226376\ttotal: 11m 13s\tremaining: 33.5s\n",
            "1429:\tlearn: 0.7226333\ttotal: 11m 14s\tremaining: 33s\n",
            "1430:\tlearn: 0.7226285\ttotal: 11m 14s\tremaining: 32.5s\n",
            "1431:\tlearn: 0.7226230\ttotal: 11m 15s\tremaining: 32.1s\n",
            "1432:\tlearn: 0.7226225\ttotal: 11m 15s\tremaining: 31.6s\n",
            "1433:\tlearn: 0.7226098\ttotal: 11m 16s\tremaining: 31.1s\n",
            "1434:\tlearn: 0.7226033\ttotal: 11m 16s\tremaining: 30.7s\n",
            "1435:\tlearn: 0.7226003\ttotal: 11m 17s\tremaining: 30.2s\n",
            "1436:\tlearn: 0.7225985\ttotal: 11m 17s\tremaining: 29.7s\n",
            "1437:\tlearn: 0.7225881\ttotal: 11m 18s\tremaining: 29.2s\n",
            "1438:\tlearn: 0.7225808\ttotal: 11m 18s\tremaining: 28.8s\n",
            "1439:\tlearn: 0.7225532\ttotal: 11m 19s\tremaining: 28.3s\n",
            "1440:\tlearn: 0.7225500\ttotal: 11m 19s\tremaining: 27.8s\n",
            "1441:\tlearn: 0.7225333\ttotal: 11m 20s\tremaining: 27.4s\n",
            "1442:\tlearn: 0.7225305\ttotal: 11m 20s\tremaining: 26.9s\n",
            "1443:\tlearn: 0.7225310\ttotal: 11m 21s\tremaining: 26.4s\n",
            "1444:\tlearn: 0.7225243\ttotal: 11m 21s\tremaining: 25.9s\n",
            "1445:\tlearn: 0.7225127\ttotal: 11m 22s\tremaining: 25.5s\n",
            "1446:\tlearn: 0.7225079\ttotal: 11m 22s\tremaining: 25s\n",
            "1447:\tlearn: 0.7225054\ttotal: 11m 22s\tremaining: 24.5s\n",
            "1448:\tlearn: 0.7224923\ttotal: 11m 23s\tremaining: 24.1s\n",
            "1449:\tlearn: 0.7224617\ttotal: 11m 23s\tremaining: 23.6s\n",
            "1450:\tlearn: 0.7224465\ttotal: 11m 24s\tremaining: 23.1s\n",
            "1451:\tlearn: 0.7224435\ttotal: 11m 24s\tremaining: 22.6s\n",
            "1452:\tlearn: 0.7224227\ttotal: 11m 25s\tremaining: 22.2s\n",
            "1453:\tlearn: 0.7224182\ttotal: 11m 25s\tremaining: 21.7s\n",
            "1454:\tlearn: 0.7224170\ttotal: 11m 26s\tremaining: 21.2s\n",
            "1455:\tlearn: 0.7224145\ttotal: 11m 26s\tremaining: 20.8s\n",
            "1456:\tlearn: 0.7224121\ttotal: 11m 27s\tremaining: 20.3s\n",
            "1457:\tlearn: 0.7224096\ttotal: 11m 27s\tremaining: 19.8s\n",
            "1458:\tlearn: 0.7223906\ttotal: 11m 28s\tremaining: 19.3s\n",
            "1459:\tlearn: 0.7223823\ttotal: 11m 28s\tremaining: 18.9s\n",
            "1460:\tlearn: 0.7223820\ttotal: 11m 29s\tremaining: 18.4s\n",
            "1461:\tlearn: 0.7223785\ttotal: 11m 29s\tremaining: 17.9s\n",
            "1462:\tlearn: 0.7223711\ttotal: 11m 30s\tremaining: 17.5s\n",
            "1463:\tlearn: 0.7223589\ttotal: 11m 30s\tremaining: 17s\n",
            "1464:\tlearn: 0.7223560\ttotal: 11m 30s\tremaining: 16.5s\n",
            "1465:\tlearn: 0.7223501\ttotal: 11m 31s\tremaining: 16s\n",
            "1466:\tlearn: 0.7223484\ttotal: 11m 31s\tremaining: 15.6s\n",
            "1467:\tlearn: 0.7223378\ttotal: 11m 32s\tremaining: 15.1s\n",
            "1468:\tlearn: 0.7223221\ttotal: 11m 32s\tremaining: 14.6s\n",
            "1469:\tlearn: 0.7223118\ttotal: 11m 33s\tremaining: 14.1s\n",
            "1470:\tlearn: 0.7223010\ttotal: 11m 33s\tremaining: 13.7s\n",
            "1471:\tlearn: 0.7222942\ttotal: 11m 34s\tremaining: 13.2s\n",
            "1472:\tlearn: 0.7222866\ttotal: 11m 34s\tremaining: 12.7s\n",
            "1473:\tlearn: 0.7222858\ttotal: 11m 35s\tremaining: 12.3s\n",
            "1474:\tlearn: 0.7222798\ttotal: 11m 35s\tremaining: 11.8s\n",
            "1475:\tlearn: 0.7222758\ttotal: 11m 36s\tremaining: 11.3s\n",
            "1476:\tlearn: 0.7222660\ttotal: 11m 36s\tremaining: 10.8s\n",
            "1477:\tlearn: 0.7222601\ttotal: 11m 37s\tremaining: 10.4s\n",
            "1478:\tlearn: 0.7222480\ttotal: 11m 37s\tremaining: 9.91s\n",
            "1479:\tlearn: 0.7222430\ttotal: 11m 38s\tremaining: 9.43s\n",
            "1480:\tlearn: 0.7222417\ttotal: 11m 38s\tremaining: 8.96s\n",
            "1481:\tlearn: 0.7222406\ttotal: 11m 38s\tremaining: 8.49s\n",
            "1482:\tlearn: 0.7222346\ttotal: 11m 39s\tremaining: 8.02s\n",
            "1483:\tlearn: 0.7222313\ttotal: 11m 39s\tremaining: 7.54s\n",
            "1484:\tlearn: 0.7222199\ttotal: 11m 40s\tremaining: 7.07s\n",
            "1485:\tlearn: 0.7222181\ttotal: 11m 40s\tremaining: 6.6s\n",
            "1486:\tlearn: 0.7222137\ttotal: 11m 41s\tremaining: 6.13s\n",
            "1487:\tlearn: 0.7222091\ttotal: 11m 41s\tremaining: 5.66s\n",
            "1488:\tlearn: 0.7221568\ttotal: 11m 42s\tremaining: 5.19s\n",
            "1489:\tlearn: 0.7221553\ttotal: 11m 42s\tremaining: 4.72s\n",
            "1490:\tlearn: 0.7221460\ttotal: 11m 43s\tremaining: 4.24s\n",
            "1491:\tlearn: 0.7221427\ttotal: 11m 43s\tremaining: 3.77s\n",
            "1492:\tlearn: 0.7221391\ttotal: 11m 44s\tremaining: 3.3s\n",
            "1493:\tlearn: 0.7221377\ttotal: 11m 44s\tremaining: 2.83s\n",
            "1494:\tlearn: 0.7221338\ttotal: 11m 45s\tremaining: 2.36s\n",
            "1495:\tlearn: 0.7221187\ttotal: 11m 45s\tremaining: 1.89s\n",
            "1496:\tlearn: 0.7221106\ttotal: 11m 45s\tremaining: 1.41s\n",
            "1497:\tlearn: 0.7221093\ttotal: 11m 46s\tremaining: 943ms\n",
            "1498:\tlearn: 0.7221067\ttotal: 11m 46s\tremaining: 472ms\n",
            "1499:\tlearn: 0.7221038\ttotal: 11m 47s\tremaining: 0us\n"
          ]
        },
        {
          "output_type": "execute_result",
          "data": {
            "text/plain": [
              "<catboost.core.CatBoostClassifier at 0x7fbebaeaced0>"
            ]
          },
          "metadata": {},
          "execution_count": 49
        }
      ]
    },
    {
      "cell_type": "code",
      "metadata": {
        "colab": {
          "base_uri": "https://localhost:8080/",
          "height": 467
        },
        "id": "VS_QZFBS7X3s",
        "outputId": "a9a6b525-7812-46a4-9b61-df4f917bee85"
      },
      "source": [
        "model.fit(\n",
        "    X, y,\n",
        "    cat_features=cat_features,\n",
        "    init_model=model\n",
        "    # eval_set=(X_val, y_val),\n",
        ")\n",
        "# model.fit(train_data, train_labels, init_model=model1)"
      ],
      "execution_count": null,
      "outputs": [
        {
          "output_type": "stream",
          "name": "stdout",
          "text": [
            "Learning rate set to 0.5\n"
          ]
        },
        {
          "output_type": "error",
          "ename": "CatBoostError",
          "evalue": "ignored",
          "traceback": [
            "\u001b[0;31m---------------------------------------------------------------------------\u001b[0m",
            "\u001b[0;31mCatBoostError\u001b[0m                             Traceback (most recent call last)",
            "\u001b[0;32m<ipython-input-34-caaeb277f2b0>\u001b[0m in \u001b[0;36m<module>\u001b[0;34m()\u001b[0m\n\u001b[1;32m      2\u001b[0m     \u001b[0mX\u001b[0m\u001b[0;34m,\u001b[0m \u001b[0my\u001b[0m\u001b[0;34m,\u001b[0m\u001b[0;34m\u001b[0m\u001b[0;34m\u001b[0m\u001b[0m\n\u001b[1;32m      3\u001b[0m     \u001b[0mcat_features\u001b[0m\u001b[0;34m=\u001b[0m\u001b[0mcat_features\u001b[0m\u001b[0;34m,\u001b[0m\u001b[0;34m\u001b[0m\u001b[0;34m\u001b[0m\u001b[0m\n\u001b[0;32m----> 4\u001b[0;31m     \u001b[0minit_model\u001b[0m\u001b[0;34m=\u001b[0m\u001b[0mmodel\u001b[0m\u001b[0;34m\u001b[0m\u001b[0;34m\u001b[0m\u001b[0m\n\u001b[0m\u001b[1;32m      5\u001b[0m     \u001b[0;31m# eval_set=(X_val, y_val),\u001b[0m\u001b[0;34m\u001b[0m\u001b[0;34m\u001b[0m\u001b[0;34m\u001b[0m\u001b[0m\n\u001b[1;32m      6\u001b[0m )\n",
            "\u001b[0;32m/usr/local/lib/python3.7/dist-packages/catboost/core.py\u001b[0m in \u001b[0;36mfit\u001b[0;34m(self, X, y, cat_features, text_features, embedding_features, sample_weight, baseline, use_best_model, eval_set, verbose, logging_level, plot, column_description, verbose_eval, metric_period, silent, early_stopping_rounds, save_snapshot, snapshot_file, snapshot_interval, init_model, callbacks, log_cout, log_cerr)\u001b[0m\n\u001b[1;32m   4716\u001b[0m         self._fit(X, y, cat_features, text_features, embedding_features, None, sample_weight, None, None, None, None, baseline, use_best_model,\n\u001b[1;32m   4717\u001b[0m                   \u001b[0meval_set\u001b[0m\u001b[0;34m,\u001b[0m \u001b[0mverbose\u001b[0m\u001b[0;34m,\u001b[0m \u001b[0mlogging_level\u001b[0m\u001b[0;34m,\u001b[0m \u001b[0mplot\u001b[0m\u001b[0;34m,\u001b[0m \u001b[0mcolumn_description\u001b[0m\u001b[0;34m,\u001b[0m \u001b[0mverbose_eval\u001b[0m\u001b[0;34m,\u001b[0m \u001b[0mmetric_period\u001b[0m\u001b[0;34m,\u001b[0m\u001b[0;34m\u001b[0m\u001b[0;34m\u001b[0m\u001b[0m\n\u001b[0;32m-> 4718\u001b[0;31m                   silent, early_stopping_rounds, save_snapshot, snapshot_file, snapshot_interval, init_model, callbacks, log_cout, log_cerr)\n\u001b[0m\u001b[1;32m   4719\u001b[0m         \u001b[0;32mreturn\u001b[0m \u001b[0mself\u001b[0m\u001b[0;34m\u001b[0m\u001b[0;34m\u001b[0m\u001b[0m\n\u001b[1;32m   4720\u001b[0m \u001b[0;34m\u001b[0m\u001b[0m\n",
            "\u001b[0;32m/usr/local/lib/python3.7/dist-packages/catboost/core.py\u001b[0m in \u001b[0;36m_fit\u001b[0;34m(self, X, y, cat_features, text_features, embedding_features, pairs, sample_weight, group_id, group_weight, subgroup_id, pairs_weight, baseline, use_best_model, eval_set, verbose, logging_level, plot, column_description, verbose_eval, metric_period, silent, early_stopping_rounds, save_snapshot, snapshot_file, snapshot_interval, init_model, callbacks, log_cout, log_cerr)\u001b[0m\n\u001b[1;32m   2040\u001b[0m                 \u001b[0mparams\u001b[0m\u001b[0;34m,\u001b[0m\u001b[0;34m\u001b[0m\u001b[0;34m\u001b[0m\u001b[0m\n\u001b[1;32m   2041\u001b[0m                 \u001b[0mallow_clear_pool\u001b[0m\u001b[0;34m,\u001b[0m\u001b[0;34m\u001b[0m\u001b[0;34m\u001b[0m\u001b[0m\n\u001b[0;32m-> 2042\u001b[0;31m                 \u001b[0mtrain_params\u001b[0m\u001b[0;34m[\u001b[0m\u001b[0;34m\"init_model\"\u001b[0m\u001b[0;34m]\u001b[0m\u001b[0;34m\u001b[0m\u001b[0;34m\u001b[0m\u001b[0m\n\u001b[0m\u001b[1;32m   2043\u001b[0m             )\n\u001b[1;32m   2044\u001b[0m \u001b[0;34m\u001b[0m\u001b[0m\n",
            "\u001b[0;32m/usr/local/lib/python3.7/dist-packages/catboost/core.py\u001b[0m in \u001b[0;36m_train\u001b[0;34m(self, train_pool, test_pool, params, allow_clear_pool, init_model)\u001b[0m\n\u001b[1;32m   1462\u001b[0m \u001b[0;34m\u001b[0m\u001b[0m\n\u001b[1;32m   1463\u001b[0m     \u001b[0;32mdef\u001b[0m \u001b[0m_train\u001b[0m\u001b[0;34m(\u001b[0m\u001b[0mself\u001b[0m\u001b[0;34m,\u001b[0m \u001b[0mtrain_pool\u001b[0m\u001b[0;34m,\u001b[0m \u001b[0mtest_pool\u001b[0m\u001b[0;34m,\u001b[0m \u001b[0mparams\u001b[0m\u001b[0;34m,\u001b[0m \u001b[0mallow_clear_pool\u001b[0m\u001b[0;34m,\u001b[0m \u001b[0minit_model\u001b[0m\u001b[0;34m)\u001b[0m\u001b[0;34m:\u001b[0m\u001b[0;34m\u001b[0m\u001b[0;34m\u001b[0m\u001b[0m\n\u001b[0;32m-> 1464\u001b[0;31m         \u001b[0mself\u001b[0m\u001b[0;34m.\u001b[0m\u001b[0m_object\u001b[0m\u001b[0;34m.\u001b[0m\u001b[0m_train\u001b[0m\u001b[0;34m(\u001b[0m\u001b[0mtrain_pool\u001b[0m\u001b[0;34m,\u001b[0m \u001b[0mtest_pool\u001b[0m\u001b[0;34m,\u001b[0m \u001b[0mparams\u001b[0m\u001b[0;34m,\u001b[0m \u001b[0mallow_clear_pool\u001b[0m\u001b[0;34m,\u001b[0m \u001b[0minit_model\u001b[0m\u001b[0;34m.\u001b[0m\u001b[0m_object\u001b[0m \u001b[0;32mif\u001b[0m \u001b[0minit_model\u001b[0m \u001b[0;32melse\u001b[0m \u001b[0;32mNone\u001b[0m\u001b[0;34m)\u001b[0m\u001b[0;34m\u001b[0m\u001b[0;34m\u001b[0m\u001b[0m\n\u001b[0m\u001b[1;32m   1465\u001b[0m         \u001b[0mself\u001b[0m\u001b[0;34m.\u001b[0m\u001b[0m_set_trained_model_attributes\u001b[0m\u001b[0;34m(\u001b[0m\u001b[0;34m)\u001b[0m\u001b[0;34m\u001b[0m\u001b[0;34m\u001b[0m\u001b[0m\n\u001b[1;32m   1466\u001b[0m \u001b[0;34m\u001b[0m\u001b[0m\n",
            "\u001b[0;32m_catboost.pyx\u001b[0m in \u001b[0;36m_catboost._CatBoost._train\u001b[0;34m()\u001b[0m\n",
            "\u001b[0;32m_catboost.pyx\u001b[0m in \u001b[0;36m_catboost._CatBoost._train\u001b[0;34m()\u001b[0m\n",
            "\u001b[0;31mCatBoostError\u001b[0m: catboost/cuda/train_lib/train.cpp:326: Training continuation for GPU is not yet supported"
          ]
        }
      ]
    },
    {
      "cell_type": "code",
      "metadata": {
        "id": "SAjG9Vyi77nx"
      },
      "source": [
        "model2 = CatBoostClassifier(\n",
        "    iterations=1000, \n",
        "    # learning_rate=0.1, \n",
        "    task_type=\"GPU\",\n",
        "    devices='0',\n",
        "    # custom_loss=['AUC', 'Accuracy']\n",
        "    #loss_function='CrossEntropy'\n",
        ")"
      ],
      "execution_count": null,
      "outputs": []
    },
    {
      "cell_type": "code",
      "metadata": {
        "colab": {
          "base_uri": "https://localhost:8080/",
          "height": 468
        },
        "id": "gPBFk60R8D9E",
        "outputId": "8be1115b-7b2d-47ca-f44e-14ac50bc3cd7"
      },
      "source": [
        "model2.fit(\n",
        "    X, y,\n",
        "    cat_features=cat_features,\n",
        "    init_model=model\n",
        "    # eval_set=(X_val, y_val),\n",
        ")"
      ],
      "execution_count": null,
      "outputs": [
        {
          "output_type": "stream",
          "name": "stdout",
          "text": [
            "Learning rate set to 0.366655\n"
          ]
        },
        {
          "output_type": "error",
          "ename": "CatBoostError",
          "evalue": "ignored",
          "traceback": [
            "\u001b[0;31m---------------------------------------------------------------------------\u001b[0m",
            "\u001b[0;31mCatBoostError\u001b[0m                             Traceback (most recent call last)",
            "\u001b[0;32m<ipython-input-34-a9983ae7bb73>\u001b[0m in \u001b[0;36m<module>\u001b[0;34m()\u001b[0m\n\u001b[1;32m      2\u001b[0m     \u001b[0mX\u001b[0m\u001b[0;34m,\u001b[0m \u001b[0my\u001b[0m\u001b[0;34m,\u001b[0m\u001b[0;34m\u001b[0m\u001b[0;34m\u001b[0m\u001b[0m\n\u001b[1;32m      3\u001b[0m     \u001b[0mcat_features\u001b[0m\u001b[0;34m=\u001b[0m\u001b[0mcat_features\u001b[0m\u001b[0;34m,\u001b[0m\u001b[0;34m\u001b[0m\u001b[0;34m\u001b[0m\u001b[0m\n\u001b[0;32m----> 4\u001b[0;31m     \u001b[0minit_model\u001b[0m\u001b[0;34m=\u001b[0m\u001b[0mmodel\u001b[0m\u001b[0;34m\u001b[0m\u001b[0;34m\u001b[0m\u001b[0m\n\u001b[0m\u001b[1;32m      5\u001b[0m     \u001b[0;31m# eval_set=(X_val, y_val),\u001b[0m\u001b[0;34m\u001b[0m\u001b[0;34m\u001b[0m\u001b[0;34m\u001b[0m\u001b[0m\n\u001b[1;32m      6\u001b[0m )\n",
            "\u001b[0;32m/usr/local/lib/python3.7/dist-packages/catboost/core.py\u001b[0m in \u001b[0;36mfit\u001b[0;34m(self, X, y, cat_features, text_features, embedding_features, sample_weight, baseline, use_best_model, eval_set, verbose, logging_level, plot, column_description, verbose_eval, metric_period, silent, early_stopping_rounds, save_snapshot, snapshot_file, snapshot_interval, init_model, callbacks, log_cout, log_cerr)\u001b[0m\n\u001b[1;32m   4716\u001b[0m         self._fit(X, y, cat_features, text_features, embedding_features, None, sample_weight, None, None, None, None, baseline, use_best_model,\n\u001b[1;32m   4717\u001b[0m                   \u001b[0meval_set\u001b[0m\u001b[0;34m,\u001b[0m \u001b[0mverbose\u001b[0m\u001b[0;34m,\u001b[0m \u001b[0mlogging_level\u001b[0m\u001b[0;34m,\u001b[0m \u001b[0mplot\u001b[0m\u001b[0;34m,\u001b[0m \u001b[0mcolumn_description\u001b[0m\u001b[0;34m,\u001b[0m \u001b[0mverbose_eval\u001b[0m\u001b[0;34m,\u001b[0m \u001b[0mmetric_period\u001b[0m\u001b[0;34m,\u001b[0m\u001b[0;34m\u001b[0m\u001b[0;34m\u001b[0m\u001b[0m\n\u001b[0;32m-> 4718\u001b[0;31m                   silent, early_stopping_rounds, save_snapshot, snapshot_file, snapshot_interval, init_model, callbacks, log_cout, log_cerr)\n\u001b[0m\u001b[1;32m   4719\u001b[0m         \u001b[0;32mreturn\u001b[0m \u001b[0mself\u001b[0m\u001b[0;34m\u001b[0m\u001b[0;34m\u001b[0m\u001b[0m\n\u001b[1;32m   4720\u001b[0m \u001b[0;34m\u001b[0m\u001b[0m\n",
            "\u001b[0;32m/usr/local/lib/python3.7/dist-packages/catboost/core.py\u001b[0m in \u001b[0;36m_fit\u001b[0;34m(self, X, y, cat_features, text_features, embedding_features, pairs, sample_weight, group_id, group_weight, subgroup_id, pairs_weight, baseline, use_best_model, eval_set, verbose, logging_level, plot, column_description, verbose_eval, metric_period, silent, early_stopping_rounds, save_snapshot, snapshot_file, snapshot_interval, init_model, callbacks, log_cout, log_cerr)\u001b[0m\n\u001b[1;32m   2040\u001b[0m                 \u001b[0mparams\u001b[0m\u001b[0;34m,\u001b[0m\u001b[0;34m\u001b[0m\u001b[0;34m\u001b[0m\u001b[0m\n\u001b[1;32m   2041\u001b[0m                 \u001b[0mallow_clear_pool\u001b[0m\u001b[0;34m,\u001b[0m\u001b[0;34m\u001b[0m\u001b[0;34m\u001b[0m\u001b[0m\n\u001b[0;32m-> 2042\u001b[0;31m                 \u001b[0mtrain_params\u001b[0m\u001b[0;34m[\u001b[0m\u001b[0;34m\"init_model\"\u001b[0m\u001b[0;34m]\u001b[0m\u001b[0;34m\u001b[0m\u001b[0;34m\u001b[0m\u001b[0m\n\u001b[0m\u001b[1;32m   2043\u001b[0m             )\n\u001b[1;32m   2044\u001b[0m \u001b[0;34m\u001b[0m\u001b[0m\n",
            "\u001b[0;32m/usr/local/lib/python3.7/dist-packages/catboost/core.py\u001b[0m in \u001b[0;36m_train\u001b[0;34m(self, train_pool, test_pool, params, allow_clear_pool, init_model)\u001b[0m\n\u001b[1;32m   1462\u001b[0m \u001b[0;34m\u001b[0m\u001b[0m\n\u001b[1;32m   1463\u001b[0m     \u001b[0;32mdef\u001b[0m \u001b[0m_train\u001b[0m\u001b[0;34m(\u001b[0m\u001b[0mself\u001b[0m\u001b[0;34m,\u001b[0m \u001b[0mtrain_pool\u001b[0m\u001b[0;34m,\u001b[0m \u001b[0mtest_pool\u001b[0m\u001b[0;34m,\u001b[0m \u001b[0mparams\u001b[0m\u001b[0;34m,\u001b[0m \u001b[0mallow_clear_pool\u001b[0m\u001b[0;34m,\u001b[0m \u001b[0minit_model\u001b[0m\u001b[0;34m)\u001b[0m\u001b[0;34m:\u001b[0m\u001b[0;34m\u001b[0m\u001b[0;34m\u001b[0m\u001b[0m\n\u001b[0;32m-> 1464\u001b[0;31m         \u001b[0mself\u001b[0m\u001b[0;34m.\u001b[0m\u001b[0m_object\u001b[0m\u001b[0;34m.\u001b[0m\u001b[0m_train\u001b[0m\u001b[0;34m(\u001b[0m\u001b[0mtrain_pool\u001b[0m\u001b[0;34m,\u001b[0m \u001b[0mtest_pool\u001b[0m\u001b[0;34m,\u001b[0m \u001b[0mparams\u001b[0m\u001b[0;34m,\u001b[0m \u001b[0mallow_clear_pool\u001b[0m\u001b[0;34m,\u001b[0m \u001b[0minit_model\u001b[0m\u001b[0;34m.\u001b[0m\u001b[0m_object\u001b[0m \u001b[0;32mif\u001b[0m \u001b[0minit_model\u001b[0m \u001b[0;32melse\u001b[0m \u001b[0;32mNone\u001b[0m\u001b[0;34m)\u001b[0m\u001b[0;34m\u001b[0m\u001b[0;34m\u001b[0m\u001b[0m\n\u001b[0m\u001b[1;32m   1465\u001b[0m         \u001b[0mself\u001b[0m\u001b[0;34m.\u001b[0m\u001b[0m_set_trained_model_attributes\u001b[0m\u001b[0;34m(\u001b[0m\u001b[0;34m)\u001b[0m\u001b[0;34m\u001b[0m\u001b[0;34m\u001b[0m\u001b[0m\n\u001b[1;32m   1466\u001b[0m \u001b[0;34m\u001b[0m\u001b[0m\n",
            "\u001b[0;32m_catboost.pyx\u001b[0m in \u001b[0;36m_catboost._CatBoost._train\u001b[0;34m()\u001b[0m\n",
            "\u001b[0;32m_catboost.pyx\u001b[0m in \u001b[0;36m_catboost._CatBoost._train\u001b[0;34m()\u001b[0m\n",
            "\u001b[0;31mCatBoostError\u001b[0m: catboost/cuda/train_lib/train.cpp:326: Training continuation for GPU is not yet supported"
          ]
        }
      ]
    },
    {
      "cell_type": "code",
      "metadata": {
        "colab": {
          "base_uri": "https://localhost:8080/",
          "height": 363
        },
        "id": "0t2zFSjIAab9",
        "outputId": "677a37c1-0f71-4e79-a9aa-7b7c0851b6a8"
      },
      "source": [
        "importances = model.feature_importances_\n",
        "feature_list = list(X.columns)\n",
        "feature_results = pd.DataFrame({'feature': feature_list,'importance': importances})\n",
        "feature_results = feature_results.sort_values('importance',ascending = False).reset_index(drop=True)\n",
        "feature_results.head(10)"
      ],
      "execution_count": null,
      "outputs": [
        {
          "output_type": "execute_result",
          "data": {
            "text/html": [
              "<div>\n",
              "<style scoped>\n",
              "    .dataframe tbody tr th:only-of-type {\n",
              "        vertical-align: middle;\n",
              "    }\n",
              "\n",
              "    .dataframe tbody tr th {\n",
              "        vertical-align: top;\n",
              "    }\n",
              "\n",
              "    .dataframe thead th {\n",
              "        text-align: right;\n",
              "    }\n",
              "</style>\n",
              "<table border=\"1\" class=\"dataframe\">\n",
              "  <thead>\n",
              "    <tr style=\"text-align: right;\">\n",
              "      <th></th>\n",
              "      <th>feature</th>\n",
              "      <th>importance</th>\n",
              "    </tr>\n",
              "  </thead>\n",
              "  <tbody>\n",
              "    <tr>\n",
              "      <th>0</th>\n",
              "      <td>real_time</td>\n",
              "      <td>51.658311</td>\n",
              "    </tr>\n",
              "    <tr>\n",
              "      <th>1</th>\n",
              "      <td>day_part</td>\n",
              "      <td>11.246987</td>\n",
              "    </tr>\n",
              "    <tr>\n",
              "      <th>2</th>\n",
              "      <td>bundle</td>\n",
              "      <td>7.156988</td>\n",
              "    </tr>\n",
              "    <tr>\n",
              "      <th>3</th>\n",
              "      <td>osv</td>\n",
              "      <td>6.579672</td>\n",
              "    </tr>\n",
              "    <tr>\n",
              "      <th>4</th>\n",
              "      <td>season</td>\n",
              "      <td>5.600533</td>\n",
              "    </tr>\n",
              "    <tr>\n",
              "      <th>5</th>\n",
              "      <td>weekday</td>\n",
              "      <td>5.501862</td>\n",
              "    </tr>\n",
              "    <tr>\n",
              "      <th>6</th>\n",
              "      <td>oblast</td>\n",
              "      <td>4.181142</td>\n",
              "    </tr>\n",
              "    <tr>\n",
              "      <th>7</th>\n",
              "      <td>os</td>\n",
              "      <td>2.701559</td>\n",
              "    </tr>\n",
              "    <tr>\n",
              "      <th>8</th>\n",
              "      <td>subcategory</td>\n",
              "      <td>2.027133</td>\n",
              "    </tr>\n",
              "    <tr>\n",
              "      <th>9</th>\n",
              "      <td>city</td>\n",
              "      <td>1.483719</td>\n",
              "    </tr>\n",
              "  </tbody>\n",
              "</table>\n",
              "</div>"
            ],
            "text/plain": [
              "       feature  importance\n",
              "0    real_time   51.658311\n",
              "1     day_part   11.246987\n",
              "2       bundle    7.156988\n",
              "3          osv    6.579672\n",
              "4       season    5.600533\n",
              "5      weekday    5.501862\n",
              "6       oblast    4.181142\n",
              "7           os    2.701559\n",
              "8  subcategory    2.027133\n",
              "9         city    1.483719"
            ]
          },
          "metadata": {},
          "execution_count": 27
        }
      ]
    },
    {
      "cell_type": "code",
      "metadata": {
        "id": "nlj-Av3xpK4X",
        "colab": {
          "base_uri": "https://localhost:8080/",
          "height": 426
        },
        "outputId": "723adf27-a195-4780-d667-ffb436550ba3"
      },
      "source": [
        "importances = model.feature_importances_\n",
        "feature_list = list(X.columns)\n",
        "feature_results = pd.DataFrame({'feature': feature_list,'importance': importances})\n",
        "feature_results = feature_results.sort_values('importance',ascending = False).reset_index(drop=True)\n",
        "feature_results.head(15)"
      ],
      "execution_count": null,
      "outputs": [
        {
          "output_type": "execute_result",
          "data": {
            "text/html": [
              "<div>\n",
              "<style scoped>\n",
              "    .dataframe tbody tr th:only-of-type {\n",
              "        vertical-align: middle;\n",
              "    }\n",
              "\n",
              "    .dataframe tbody tr th {\n",
              "        vertical-align: top;\n",
              "    }\n",
              "\n",
              "    .dataframe thead th {\n",
              "        text-align: right;\n",
              "    }\n",
              "</style>\n",
              "<table border=\"1\" class=\"dataframe\">\n",
              "  <thead>\n",
              "    <tr style=\"text-align: right;\">\n",
              "      <th></th>\n",
              "      <th>feature</th>\n",
              "      <th>importance</th>\n",
              "    </tr>\n",
              "  </thead>\n",
              "  <tbody>\n",
              "    <tr>\n",
              "      <th>0</th>\n",
              "      <td>real_time</td>\n",
              "      <td>50.274165</td>\n",
              "    </tr>\n",
              "    <tr>\n",
              "      <th>1</th>\n",
              "      <td>day_part</td>\n",
              "      <td>11.002975</td>\n",
              "    </tr>\n",
              "    <tr>\n",
              "      <th>2</th>\n",
              "      <td>bundle</td>\n",
              "      <td>7.205385</td>\n",
              "    </tr>\n",
              "    <tr>\n",
              "      <th>3</th>\n",
              "      <td>oblast</td>\n",
              "      <td>6.804980</td>\n",
              "    </tr>\n",
              "    <tr>\n",
              "      <th>4</th>\n",
              "      <td>osv</td>\n",
              "      <td>6.541171</td>\n",
              "    </tr>\n",
              "    <tr>\n",
              "      <th>5</th>\n",
              "      <td>weekday</td>\n",
              "      <td>6.355507</td>\n",
              "    </tr>\n",
              "    <tr>\n",
              "      <th>6</th>\n",
              "      <td>season</td>\n",
              "      <td>4.799131</td>\n",
              "    </tr>\n",
              "    <tr>\n",
              "      <th>7</th>\n",
              "      <td>os</td>\n",
              "      <td>2.296069</td>\n",
              "    </tr>\n",
              "    <tr>\n",
              "      <th>8</th>\n",
              "      <td>subcategory</td>\n",
              "      <td>2.049655</td>\n",
              "    </tr>\n",
              "    <tr>\n",
              "      <th>9</th>\n",
              "      <td>city</td>\n",
              "      <td>1.409587</td>\n",
              "    </tr>\n",
              "    <tr>\n",
              "      <th>10</th>\n",
              "      <td>os_global</td>\n",
              "      <td>0.822530</td>\n",
              "    </tr>\n",
              "    <tr>\n",
              "      <th>11</th>\n",
              "      <td>category</td>\n",
              "      <td>0.438844</td>\n",
              "    </tr>\n",
              "  </tbody>\n",
              "</table>\n",
              "</div>"
            ],
            "text/plain": [
              "        feature  importance\n",
              "0     real_time   50.274165\n",
              "1      day_part   11.002975\n",
              "2        bundle    7.205385\n",
              "3        oblast    6.804980\n",
              "4           osv    6.541171\n",
              "5       weekday    6.355507\n",
              "6        season    4.799131\n",
              "7            os    2.296069\n",
              "8   subcategory    2.049655\n",
              "9          city    1.409587\n",
              "10    os_global    0.822530\n",
              "11     category    0.438844"
            ]
          },
          "metadata": {},
          "execution_count": 24
        }
      ]
    },
    {
      "cell_type": "code",
      "metadata": {
        "id": "ulV4NY-l2fAD"
      },
      "source": [
        "model.save_model(\"model3\")\n",
        "\n",
        "# from_file = CatBoostClassifier()\n",
        "\n",
        "# from_file.load_model(\"model\")"
      ],
      "execution_count": null,
      "outputs": []
    },
    {
      "cell_type": "code",
      "metadata": {
        "colab": {
          "base_uri": "https://localhost:8080/"
        },
        "id": "31Zxev1i4Ccy",
        "outputId": "3bd44d3b-304b-4baf-fe3b-6315f026d06e"
      },
      "source": [
        "print(model.predict(data=X[:20]))"
      ],
      "execution_count": null,
      "outputs": [
        {
          "output_type": "stream",
          "name": "stdout",
          "text": [
            "[[4]\n",
            " [4]\n",
            " [5]\n",
            " [5]\n",
            " [4]\n",
            " [3]\n",
            " [4]\n",
            " [5]\n",
            " [3]\n",
            " [5]\n",
            " [3]\n",
            " [5]\n",
            " [3]\n",
            " [5]\n",
            " [5]\n",
            " [5]\n",
            " [5]\n",
            " [5]\n",
            " [4]\n",
            " [3]]\n"
          ]
        }
      ]
    },
    {
      "cell_type": "code",
      "metadata": {
        "colab": {
          "base_uri": "https://localhost:8080/"
        },
        "id": "egHvS4e24jta",
        "outputId": "9d48ec41-a7c6-4a4f-e8bf-d2906c684ada"
      },
      "source": [
        "train_df.iloc[:20]['Segment']"
      ],
      "execution_count": null,
      "outputs": [
        {
          "output_type": "execute_result",
          "data": {
            "text/plain": [
              "4"
            ]
          },
          "metadata": {},
          "execution_count": 28
        }
      ]
    },
    {
      "cell_type": "code",
      "metadata": {
        "colab": {
          "base_uri": "https://localhost:8080/",
          "height": 677
        },
        "id": "g8Ck7clt4UDo",
        "outputId": "adbcf66e-3346-4c4b-ac4c-55731444377d"
      },
      "source": [
        "train_df[:20]"
      ],
      "execution_count": null,
      "outputs": [
        {
          "output_type": "execute_result",
          "data": {
            "text/html": [
              "<div>\n",
              "<style scoped>\n",
              "    .dataframe tbody tr th:only-of-type {\n",
              "        vertical-align: middle;\n",
              "    }\n",
              "\n",
              "    .dataframe tbody tr th {\n",
              "        vertical-align: top;\n",
              "    }\n",
              "\n",
              "    .dataframe thead th {\n",
              "        text-align: right;\n",
              "    }\n",
              "</style>\n",
              "<table border=\"1\" class=\"dataframe\">\n",
              "  <thead>\n",
              "    <tr style=\"text-align: right;\">\n",
              "      <th></th>\n",
              "      <th>Segment</th>\n",
              "      <th>gamecategory</th>\n",
              "      <th>subgamecategory</th>\n",
              "      <th>bundle</th>\n",
              "      <th>created</th>\n",
              "      <th>shift</th>\n",
              "      <th>oblast</th>\n",
              "      <th>city</th>\n",
              "      <th>os</th>\n",
              "      <th>osv</th>\n",
              "    </tr>\n",
              "  </thead>\n",
              "  <tbody>\n",
              "    <tr>\n",
              "      <th>0</th>\n",
              "      <td>4</td>\n",
              "      <td>Games</td>\n",
              "      <td>Racing</td>\n",
              "      <td>com.MadOut.BIG</td>\n",
              "      <td>2021-07-05 18:07:40</td>\n",
              "      <td>MSK+6</td>\n",
              "      <td>Забайкальский Край</td>\n",
              "      <td>Чита</td>\n",
              "      <td>android</td>\n",
              "      <td>10.0</td>\n",
              "    </tr>\n",
              "    <tr>\n",
              "      <th>1</th>\n",
              "      <td>4</td>\n",
              "      <td>nan</td>\n",
              "      <td>nan</td>\n",
              "      <td>com.easybrain.solitaire.klondike.free</td>\n",
              "      <td>2021-07-10 10:38:42</td>\n",
              "      <td>MSK+2</td>\n",
              "      <td>Оренбургская область</td>\n",
              "      <td>Оренбург</td>\n",
              "      <td>Android</td>\n",
              "      <td>10.0.0</td>\n",
              "    </tr>\n",
              "    <tr>\n",
              "      <th>2</th>\n",
              "      <td>5</td>\n",
              "      <td>Games</td>\n",
              "      <td>Arcade</td>\n",
              "      <td>com.orbitalknight.ridiculousfreekick</td>\n",
              "      <td>2021-08-04 13:34:29</td>\n",
              "      <td>MSK</td>\n",
              "      <td>Санкт-Петербург</td>\n",
              "      <td>Санкт-Петербург</td>\n",
              "      <td>android</td>\n",
              "      <td>9.0</td>\n",
              "    </tr>\n",
              "    <tr>\n",
              "      <th>3</th>\n",
              "      <td>5</td>\n",
              "      <td>nan</td>\n",
              "      <td>nan</td>\n",
              "      <td>tcouchgind.scooterextreme.scooter</td>\n",
              "      <td>2021-08-06 07:35:27</td>\n",
              "      <td>MSK+2</td>\n",
              "      <td>Свердловская область</td>\n",
              "      <td>Екатеринбург</td>\n",
              "      <td>android</td>\n",
              "      <td>9</td>\n",
              "    </tr>\n",
              "    <tr>\n",
              "      <th>4</th>\n",
              "      <td>4</td>\n",
              "      <td>nan</td>\n",
              "      <td>nan</td>\n",
              "      <td>com.FidgetTrading3D.game</td>\n",
              "      <td>2021-08-02 20:43:59</td>\n",
              "      <td>MSK</td>\n",
              "      <td>Московская область</td>\n",
              "      <td>Звенигород</td>\n",
              "      <td>android</td>\n",
              "      <td>6.0.1</td>\n",
              "    </tr>\n",
              "    <tr>\n",
              "      <th>5</th>\n",
              "      <td>5</td>\n",
              "      <td>Games</td>\n",
              "      <td>Puzzle</td>\n",
              "      <td>com.hwg.sos</td>\n",
              "      <td>2021-09-18 09:44:24</td>\n",
              "      <td>MSK</td>\n",
              "      <td>Татарстан</td>\n",
              "      <td>Альметьевск</td>\n",
              "      <td>android</td>\n",
              "      <td>7.1</td>\n",
              "    </tr>\n",
              "    <tr>\n",
              "      <th>6</th>\n",
              "      <td>4</td>\n",
              "      <td>Games</td>\n",
              "      <td>Arcade</td>\n",
              "      <td>com.hikergames.ArcadeHunter</td>\n",
              "      <td>2021-08-02 08:52:24</td>\n",
              "      <td>MSK</td>\n",
              "      <td>Москва</td>\n",
              "      <td>Москва</td>\n",
              "      <td>android</td>\n",
              "      <td>11.0</td>\n",
              "    </tr>\n",
              "    <tr>\n",
              "      <th>7</th>\n",
              "      <td>5</td>\n",
              "      <td>Games</td>\n",
              "      <td>Card</td>\n",
              "      <td>com.lemongame.klondike.solitaire</td>\n",
              "      <td>2021-09-18 02:36:11</td>\n",
              "      <td>MSK</td>\n",
              "      <td>Санкт-Петербург</td>\n",
              "      <td>Санкт-Петербург</td>\n",
              "      <td>android</td>\n",
              "      <td>8.1.0</td>\n",
              "    </tr>\n",
              "    <tr>\n",
              "      <th>8</th>\n",
              "      <td>3</td>\n",
              "      <td>nan</td>\n",
              "      <td>nan</td>\n",
              "      <td>com.beingame.zc.zombie.shelter.survival</td>\n",
              "      <td>2021-08-07 15:29:59</td>\n",
              "      <td>MSK</td>\n",
              "      <td>Санкт-Петербург</td>\n",
              "      <td>Санкт-Петербург</td>\n",
              "      <td>android</td>\n",
              "      <td>11.0.0</td>\n",
              "    </tr>\n",
              "    <tr>\n",
              "      <th>9</th>\n",
              "      <td>5</td>\n",
              "      <td>nan</td>\n",
              "      <td>nan</td>\n",
              "      <td>com.phonemaster.jewelhunter</td>\n",
              "      <td>2021-08-03 15:45:45</td>\n",
              "      <td>MSK+3</td>\n",
              "      <td>Новосибирская область</td>\n",
              "      <td>Новосибирск</td>\n",
              "      <td>android</td>\n",
              "      <td>9</td>\n",
              "    </tr>\n",
              "    <tr>\n",
              "      <th>10</th>\n",
              "      <td>3</td>\n",
              "      <td>Games</td>\n",
              "      <td>Action</td>\n",
              "      <td>com.mobile.legends</td>\n",
              "      <td>2021-08-08 11:50:04</td>\n",
              "      <td>MSK</td>\n",
              "      <td>Москва</td>\n",
              "      <td>Москва</td>\n",
              "      <td>android</td>\n",
              "      <td>11.0</td>\n",
              "    </tr>\n",
              "    <tr>\n",
              "      <th>11</th>\n",
              "      <td>5</td>\n",
              "      <td>Games</td>\n",
              "      <td>Puzzle</td>\n",
              "      <td>1117841866</td>\n",
              "      <td>2021-09-17 21:14:46</td>\n",
              "      <td>MSK</td>\n",
              "      <td>Москва</td>\n",
              "      <td>Москва</td>\n",
              "      <td>ios</td>\n",
              "      <td>14.5.1</td>\n",
              "    </tr>\n",
              "    <tr>\n",
              "      <th>12</th>\n",
              "      <td>3</td>\n",
              "      <td>nan</td>\n",
              "      <td>nan</td>\n",
              "      <td>com.os.falcon.fnf.battle.friday.night.funkin</td>\n",
              "      <td>2021-07-09 12:09:35</td>\n",
              "      <td>MSK+2</td>\n",
              "      <td>Челябинская</td>\n",
              "      <td>Челябинск</td>\n",
              "      <td>android</td>\n",
              "      <td>10.0.0</td>\n",
              "    </tr>\n",
              "    <tr>\n",
              "      <th>13</th>\n",
              "      <td>5</td>\n",
              "      <td>Games</td>\n",
              "      <td>Puzzle</td>\n",
              "      <td>puzzle.blockpuzzle.cube.relax</td>\n",
              "      <td>2021-08-05 08:06:07</td>\n",
              "      <td>MSK</td>\n",
              "      <td>Краснодарский край</td>\n",
              "      <td>Краснодар</td>\n",
              "      <td>android</td>\n",
              "      <td>7.1</td>\n",
              "    </tr>\n",
              "    <tr>\n",
              "      <th>14</th>\n",
              "      <td>5</td>\n",
              "      <td>Games</td>\n",
              "      <td>Casual</td>\n",
              "      <td>com.game.jam.garden.hoes.squirt.runner</td>\n",
              "      <td>2021-09-18 08:37:31</td>\n",
              "      <td>MSK</td>\n",
              "      <td>Краснодарский край</td>\n",
              "      <td>Краснодар</td>\n",
              "      <td>android</td>\n",
              "      <td>10.0</td>\n",
              "    </tr>\n",
              "    <tr>\n",
              "      <th>15</th>\n",
              "      <td>5</td>\n",
              "      <td>Games</td>\n",
              "      <td>Puzzle</td>\n",
              "      <td>com.randomlogicgames.infiniteconnections</td>\n",
              "      <td>2021-08-02 14:06:13</td>\n",
              "      <td>nan</td>\n",
              "      <td>nan</td>\n",
              "      <td>nan</td>\n",
              "      <td>android</td>\n",
              "      <td>9.0</td>\n",
              "    </tr>\n",
              "    <tr>\n",
              "      <th>16</th>\n",
              "      <td>2</td>\n",
              "      <td>Games</td>\n",
              "      <td>Word</td>\n",
              "      <td>com.marulgames.wordsurf</td>\n",
              "      <td>2021-09-18 06:59:27</td>\n",
              "      <td>MSK</td>\n",
              "      <td>Ставрополье</td>\n",
              "      <td>Невинномысск</td>\n",
              "      <td>android</td>\n",
              "      <td>11.0</td>\n",
              "    </tr>\n",
              "    <tr>\n",
              "      <th>17</th>\n",
              "      <td>5</td>\n",
              "      <td>Games</td>\n",
              "      <td>Action</td>\n",
              "      <td>com.quok.blobRunner</td>\n",
              "      <td>2021-08-02 14:28:37</td>\n",
              "      <td>MSK</td>\n",
              "      <td>Санкт-Петербург</td>\n",
              "      <td>Санкт-Петербург</td>\n",
              "      <td>android</td>\n",
              "      <td>10.0</td>\n",
              "    </tr>\n",
              "    <tr>\n",
              "      <th>18</th>\n",
              "      <td>4</td>\n",
              "      <td>nan</td>\n",
              "      <td>nan</td>\n",
              "      <td>com.spacegame.basic5</td>\n",
              "      <td>2021-07-05 13:01:21</td>\n",
              "      <td>MSK+2</td>\n",
              "      <td>Тюмень</td>\n",
              "      <td>Тюмень</td>\n",
              "      <td>Android</td>\n",
              "      <td>9.0</td>\n",
              "    </tr>\n",
              "    <tr>\n",
              "      <th>19</th>\n",
              "      <td>3</td>\n",
              "      <td>Applications</td>\n",
              "      <td>Productivity</td>\n",
              "      <td>fancyclean.boost.antivirus.junkcleaner</td>\n",
              "      <td>2021-09-19 15:16:43</td>\n",
              "      <td>MSK</td>\n",
              "      <td>Краснодарский край</td>\n",
              "      <td>Краснодар</td>\n",
              "      <td>android</td>\n",
              "      <td>10.0</td>\n",
              "    </tr>\n",
              "  </tbody>\n",
              "</table>\n",
              "</div>"
            ],
            "text/plain": [
              "    Segment  gamecategory subgamecategory  ...             city       os     osv\n",
              "0         4         Games          Racing  ...             Чита  android    10.0\n",
              "1         4           nan             nan  ...         Оренбург  Android  10.0.0\n",
              "2         5         Games          Arcade  ...  Санкт-Петербург  android     9.0\n",
              "3         5           nan             nan  ...     Екатеринбург  android       9\n",
              "4         4           nan             nan  ...       Звенигород  android   6.0.1\n",
              "5         5         Games          Puzzle  ...      Альметьевск  android     7.1\n",
              "6         4         Games          Arcade  ...           Москва  android    11.0\n",
              "7         5         Games            Card  ...  Санкт-Петербург  android   8.1.0\n",
              "8         3           nan             nan  ...  Санкт-Петербург  android  11.0.0\n",
              "9         5           nan             nan  ...      Новосибирск  android       9\n",
              "10        3         Games          Action  ...           Москва  android    11.0\n",
              "11        5         Games          Puzzle  ...           Москва      ios  14.5.1\n",
              "12        3           nan             nan  ...        Челябинск  android  10.0.0\n",
              "13        5         Games          Puzzle  ...        Краснодар  android     7.1\n",
              "14        5         Games          Casual  ...        Краснодар  android    10.0\n",
              "15        5         Games          Puzzle  ...              nan  android     9.0\n",
              "16        2         Games            Word  ...     Невинномысск  android    11.0\n",
              "17        5         Games          Action  ...  Санкт-Петербург  android    10.0\n",
              "18        4           nan             nan  ...           Тюмень  Android     9.0\n",
              "19        3  Applications    Productivity  ...        Краснодар  android    10.0\n",
              "\n",
              "[20 rows x 10 columns]"
            ]
          },
          "metadata": {},
          "execution_count": 23
        }
      ]
    },
    {
      "cell_type": "code",
      "metadata": {
        "colab": {
          "base_uri": "https://localhost:8080/"
        },
        "id": "P0AG-lLKOJMr",
        "outputId": "3a6374c8-1e04-4d76-a0c7-80766a2f3727"
      },
      "source": [
        "from catboost import CatBoostClassifier, Pool\n",
        "model = CatBoostClassifier()\n",
        "\n",
        "model.load_model(\"model2\")"
      ],
      "execution_count": null,
      "outputs": [
        {
          "output_type": "execute_result",
          "data": {
            "text/plain": [
              "<catboost.core.CatBoostClassifier at 0x7fbebb9af910>"
            ]
          },
          "metadata": {},
          "execution_count": 43
        }
      ]
    },
    {
      "cell_type": "code",
      "metadata": {
        "colab": {
          "base_uri": "https://localhost:8080/"
        },
        "id": "aPgk2nvr42cA",
        "outputId": "37b1a59c-41d7-43c7-a5d0-28d66231ae95"
      },
      "source": [
        "n = 10046000\n",
        "count_true = 0\n",
        "pred = model.predict(data=X[:n])\n",
        "y_true = mer.iloc[:n]['Segment']\n",
        "count = 0\n",
        "for i in range(n):\n",
        "    try:\n",
        "        count += 1\n",
        "        if pred[i][0] == y_true[i]:\n",
        "          count_true += 1\n",
        "    except:\n",
        "        continue\n",
        "print(count_true)\n",
        "print(count_true / count)"
      ],
      "execution_count": null,
      "outputs": [
        {
          "output_type": "stream",
          "name": "stdout",
          "text": [
            "1264381\n",
            "0.12585914791956998\n"
          ]
        }
      ]
    },
    {
      "cell_type": "code",
      "metadata": {
        "colab": {
          "base_uri": "https://localhost:8080/"
        },
        "id": "aLGx64ToLbwk",
        "outputId": "332ddfb0-25b3-4263-f327-13032637673f"
      },
      "source": [
        "y[10]"
      ],
      "execution_count": null,
      "outputs": [
        {
          "output_type": "execute_result",
          "data": {
            "text/plain": [
              "4"
            ]
          },
          "metadata": {},
          "execution_count": 40
        }
      ]
    },
    {
      "cell_type": "code",
      "metadata": {
        "colab": {
          "base_uri": "https://localhost:8080/"
        },
        "id": "KeU0wu6bAkO_",
        "outputId": "acecee4b-e073-4434-c267-f624670e495e"
      },
      "source": [
        "n = 4854516\n",
        "count_true = 0\n",
        "pred = model2.predict(data=X[:n])\n",
        "y_true = train_df.iloc[:n]['Segment']\n",
        "\n",
        "for i in range(n):\n",
        "    if pred[i][0] == y_true[i]:\n",
        "      count_true += 1\n",
        "print(count_true)\n",
        "print(count_true / n)"
      ],
      "execution_count": null,
      "outputs": [
        {
          "output_type": "stream",
          "name": "stdout",
          "text": [
            "3432221\n",
            "0.7070161062400454\n"
          ]
        }
      ]
    },
    {
      "cell_type": "code",
      "metadata": {
        "id": "BXyVlUwtIMCz"
      },
      "source": [
        "test_df['os'] = test_df['os'].str.lower()\n",
        "# city['oblast'] = city['oblast'].str.strip().str.lower()\n",
        "# city['city'] = city['city'].str.strip().str.lower()\n",
        "# df['city'] = df['city'].str.strip().str.lower()\n",
        "# df['oblast'] = df['oblast'].str.strip().str.lower()\n",
        "# df['os'] = df['os'].str.lower()\n",
        "\n",
        "# city['oblast'] = re.sub(\"[^a-z0-9]+\",\"\", str(city['oblast']), flags=re.IGNORECASE)\n",
        "# city['city'] = re.sub(\"[^a-z0-9]+\",\"\", str(city['oblast']), flags=re.IGNORECASE)\n",
        "# df['city'] = re.sub(\"[^a-z0-9]+\",\"\", str(city['oblast']), flags=re.IGNORECASE)\n",
        "# df['oblast'] = re.sub(\"[^a-z0-9]+\",\"\", str(city['oblast']), flags=re.IGNORECASE)\n",
        "\n",
        "\n",
        "test_df[\"created\"] = pd.to_datetime(test_df[\"created\"], format='%Y-%m-%d %H:%M:%S')\n",
        "test_df['diff_time'] = test_df.apply(lambda row: str(row['shift'])[3:] if len(str(row['shift'])) > 3 else 0, axis=1)\n",
        "test_df['real_time'] = test_df.apply(lambda row: real_time(row['shift'], row[\"created\"]), axis=1)\n",
        "test_df['weekday'] = test_df.apply(lambda row: row['real_time'].weekday(), axis=1)\n",
        "test_df['season'] = test_df.apply(lambda row: season(row['real_time'].month), axis=1)\n",
        "test_df['day_part'] = test_df.apply(lambda row: day_part(row['real_time'].hour), axis=1)"
      ],
      "execution_count": null,
      "outputs": []
    },
    {
      "cell_type": "code",
      "metadata": {
        "id": "6DZfzOfcOD32"
      },
      "source": [
        "os = pd.read_csv('/content/drive/MyDrive/os.csv', sep=',')\n",
        "# city = pd.read_csv('/content/drive/MyDrive/city.csv', sep=';', encoding=\"utf-8\")\n",
        "cat = pd.read_csv('/content/drive/MyDrive/cat.csv', sep=';')\n",
        "bundle8 = pd.read_csv('/content/drive/MyDrive/bundle11.csv', sep=';')"
      ],
      "execution_count": null,
      "outputs": []
    },
    {
      "cell_type": "code",
      "metadata": {
        "id": "NoVQgWLBITOb",
        "colab": {
          "base_uri": "https://localhost:8080/"
        },
        "outputId": "f296dd07-c075-4f9f-b38e-9f8108ffddbc"
      },
      "source": [
        "mer2 = test_df.merge(os, on=['os', 'osv'], how='left')\n",
        "mer2 = mer2.merge(bundle8, on=['bundle'], how='left')\n",
        "mer2 = mer2.merge(cat, on=['gamecategory_y', 'subgamecategory_y'], how='left')\n",
        "print(mer2.shape[0])"
      ],
      "execution_count": null,
      "outputs": [
        {
          "output_type": "stream",
          "name": "stdout",
          "text": [
            "11213629\n"
          ]
        }
      ]
    },
    {
      "cell_type": "code",
      "metadata": {
        "id": "a1NQdQZCIZnj"
      },
      "source": [
        "mer2 = mer2.drop(\"gamecategory_x\", axis=1)\n",
        "mer2 = mer2.drop(\"subgamecategory_x\", axis=1)\n",
        "mer2 = mer2.drop(\"gamecategory_y\", axis=1)\n",
        "mer2 = mer2.drop(\"subgamecategory_y\", axis=1)\n",
        "mer2 = mer2.drop(\"Unnamed: 0\", axis=1)\n",
        "mer2 = mer2.drop(\"diff_time\", axis=1)\n",
        "mer2 = mer2.drop(\"shift\", axis=1)\n",
        "# mer = mer.drop(\"type\", axis=1)\n",
        "# mer = mer.drop(\"children\", axis=1)\n",
        "# mer = mer.drop(\"population\", axis=1)\n",
        "mer2 = mer2.drop(\"created\", axis=1)"
      ],
      "execution_count": null,
      "outputs": []
    },
    {
      "cell_type": "code",
      "metadata": {
        "colab": {
          "base_uri": "https://localhost:8080/"
        },
        "id": "FS_CH5jDzp66",
        "outputId": "a5a40660-7e70-49e1-cd16-3c71f570e234"
      },
      "source": [
        "print(mer2.shape[0])"
      ],
      "execution_count": null,
      "outputs": [
        {
          "output_type": "stream",
          "name": "stdout",
          "text": [
            "11213629\n"
          ]
        }
      ]
    },
    {
      "cell_type": "code",
      "metadata": {
        "id": "2bYUCIUovrlD"
      },
      "source": [
        "mer2.to_csv('/content/drive/MyDrive/mer_test_fin.csv', encoding='utf-8')"
      ],
      "execution_count": null,
      "outputs": []
    },
    {
      "cell_type": "code",
      "metadata": {
        "id": "XBRgPhLUIdUq"
      },
      "source": [
        "mer2['category'] = mer2['category'].astype(str)\n",
        "mer2['subcategory'] = mer2['subcategory'].astype(str)\n",
        "mer2['bundle'] = mer2['bundle'].astype(str)\n",
        "mer2['season'] = mer2['season'].astype(str)\n",
        "mer2['oblast'] = mer2['oblast'].astype(str)\n",
        "mer2['city'] = mer2['city'].astype(str)\n",
        "mer2['os'] = mer2['os'].astype(str)\n",
        "mer2['osv'] = mer2['osv'].astype(str)\n",
        "mer2['day_part'] = mer2['day_part'].astype(str)\n",
        "# mer['city_type'] = mer['city_type'].astype(str)\n",
        "mer2['os_global'] = mer2['os_global'].astype(str)"
      ],
      "execution_count": null,
      "outputs": []
    },
    {
      "cell_type": "code",
      "metadata": {
        "id": "asGMDv7LIjWq",
        "colab": {
          "base_uri": "https://localhost:8080/",
          "height": 206
        },
        "outputId": "d7de1001-7d50-459a-a3d2-2c3c93fc525a"
      },
      "source": [
        "mer2.head()"
      ],
      "execution_count": null,
      "outputs": [
        {
          "output_type": "execute_result",
          "data": {
            "text/html": [
              "<div>\n",
              "<style scoped>\n",
              "    .dataframe tbody tr th:only-of-type {\n",
              "        vertical-align: middle;\n",
              "    }\n",
              "\n",
              "    .dataframe tbody tr th {\n",
              "        vertical-align: top;\n",
              "    }\n",
              "\n",
              "    .dataframe thead th {\n",
              "        text-align: right;\n",
              "    }\n",
              "</style>\n",
              "<table border=\"1\" class=\"dataframe\">\n",
              "  <thead>\n",
              "    <tr style=\"text-align: right;\">\n",
              "      <th></th>\n",
              "      <th>bundle</th>\n",
              "      <th>oblast</th>\n",
              "      <th>city</th>\n",
              "      <th>os</th>\n",
              "      <th>osv</th>\n",
              "      <th>real_time</th>\n",
              "      <th>weekday</th>\n",
              "      <th>season</th>\n",
              "      <th>day_part</th>\n",
              "      <th>os_global</th>\n",
              "      <th>category</th>\n",
              "      <th>subcategory</th>\n",
              "    </tr>\n",
              "  </thead>\n",
              "  <tbody>\n",
              "    <tr>\n",
              "      <th>0</th>\n",
              "      <td>com.allgoritm.youla</td>\n",
              "      <td>Свердловская область</td>\n",
              "      <td>Екатеринбург</td>\n",
              "      <td>android</td>\n",
              "      <td>10.0</td>\n",
              "      <td>2021-09-19 19:31:33</td>\n",
              "      <td>6</td>\n",
              "      <td>autumn</td>\n",
              "      <td>evening</td>\n",
              "      <td>10</td>\n",
              "      <td>Shopping</td>\n",
              "      <td>Shopping</td>\n",
              "    </tr>\n",
              "    <tr>\n",
              "      <th>1</th>\n",
              "      <td>com.ChocochocoStd.RapBattle</td>\n",
              "      <td>Ямало-Ненецкий АО</td>\n",
              "      <td>Новый Уренгой</td>\n",
              "      <td>android</td>\n",
              "      <td>10.0</td>\n",
              "      <td>2021-08-03 19:13:17</td>\n",
              "      <td>1</td>\n",
              "      <td>summer</td>\n",
              "      <td>evening</td>\n",
              "      <td>10</td>\n",
              "      <td>nan</td>\n",
              "      <td>nan</td>\n",
              "    </tr>\n",
              "    <tr>\n",
              "      <th>2</th>\n",
              "      <td>1387897651</td>\n",
              "      <td>Москва</td>\n",
              "      <td>Москва</td>\n",
              "      <td>ios</td>\n",
              "      <td>14.4.0</td>\n",
              "      <td>2021-09-17 15:54:00</td>\n",
              "      <td>4</td>\n",
              "      <td>autumn</td>\n",
              "      <td>day</td>\n",
              "      <td>14</td>\n",
              "      <td>Games</td>\n",
              "      <td>Board</td>\n",
              "    </tr>\n",
              "    <tr>\n",
              "      <th>3</th>\n",
              "      <td>com.cooking.family.diary.fever.food.city.craze...</td>\n",
              "      <td>Краснодарский край</td>\n",
              "      <td>Краснодар</td>\n",
              "      <td>android</td>\n",
              "      <td>9.0.0</td>\n",
              "      <td>2021-07-05 23:34:59</td>\n",
              "      <td>0</td>\n",
              "      <td>summer</td>\n",
              "      <td>evening</td>\n",
              "      <td>9</td>\n",
              "      <td>Games</td>\n",
              "      <td>Simulation</td>\n",
              "    </tr>\n",
              "    <tr>\n",
              "      <th>4</th>\n",
              "      <td>com.pedometer.stepcounter.tracker</td>\n",
              "      <td>Татарстан</td>\n",
              "      <td>Набережные Челны</td>\n",
              "      <td>android</td>\n",
              "      <td>10.0</td>\n",
              "      <td>2021-07-08 15:15:21</td>\n",
              "      <td>3</td>\n",
              "      <td>summer</td>\n",
              "      <td>day</td>\n",
              "      <td>10</td>\n",
              "      <td>Health &amp; Fitness</td>\n",
              "      <td>Health &amp; Fitness</td>\n",
              "    </tr>\n",
              "  </tbody>\n",
              "</table>\n",
              "</div>"
            ],
            "text/plain": [
              "                                              bundle  ...       subcategory\n",
              "0                                com.allgoritm.youla  ...          Shopping\n",
              "1                        com.ChocochocoStd.RapBattle  ...               nan\n",
              "2                                         1387897651  ...             Board\n",
              "3  com.cooking.family.diary.fever.food.city.craze...  ...        Simulation\n",
              "4                  com.pedometer.stepcounter.tracker  ...  Health & Fitness\n",
              "\n",
              "[5 rows x 12 columns]"
            ]
          },
          "metadata": {},
          "execution_count": 12
        }
      ]
    },
    {
      "cell_type": "code",
      "metadata": {
        "colab": {
          "base_uri": "https://localhost:8080/"
        },
        "id": "CUbcl8hhOePd",
        "outputId": "18d6d733-2969-460e-c5c2-fa694654d25d"
      },
      "source": [
        "from catboost import CatBoostClassifier, Pool\n",
        "from_file = CatBoostClassifier()\n",
        "\n",
        "from_file.load_model(\"model2\")"
      ],
      "execution_count": null,
      "outputs": [
        {
          "output_type": "execute_result",
          "data": {
            "text/plain": [
              "<catboost.core.CatBoostClassifier at 0x7f7077300650>"
            ]
          },
          "metadata": {},
          "execution_count": 14
        }
      ]
    },
    {
      "cell_type": "code",
      "metadata": {
        "id": "jY4GwOGuJEN8"
      },
      "source": [
        "pred_test = from_file.predict(data=mer2)"
      ],
      "execution_count": null,
      "outputs": []
    },
    {
      "cell_type": "code",
      "metadata": {
        "colab": {
          "base_uri": "https://localhost:8080/"
        },
        "id": "dz-I_yROPFU2",
        "outputId": "aae69212-af75-441e-ebc3-b309d2998f76"
      },
      "source": [
        "pred_test[0][0]"
      ],
      "execution_count": null,
      "outputs": [
        {
          "output_type": "execute_result",
          "data": {
            "text/plain": [
              "3"
            ]
          },
          "metadata": {},
          "execution_count": 20
        }
      ]
    },
    {
      "cell_type": "code",
      "metadata": {
        "colab": {
          "base_uri": "https://localhost:8080/",
          "height": 201
        },
        "id": "ZhM3dBMBOMkW",
        "outputId": "1b23171e-2731-4e60-a4fe-42f34dace187"
      },
      "source": [
        "n = 11213629\n",
        "res = [0, 0, 0, 0, 0, 0]\n",
        "for num, i in enumerate(pred_test):\n",
        "    res[i[0]] += 1\n",
        "\n"
      ],
      "execution_count": null,
      "outputs": [
        {
          "output_type": "error",
          "ename": "TypeError",
          "evalue": "ignored",
          "traceback": [
            "\u001b[0;31m---------------------------------------------------------------------------\u001b[0m",
            "\u001b[0;31mTypeError\u001b[0m                                 Traceback (most recent call last)",
            "\u001b[0;32m<ipython-input-21-c02bd54c8756>\u001b[0m in \u001b[0;36m<module>\u001b[0;34m()\u001b[0m\n\u001b[1;32m      4\u001b[0m     \u001b[0mres\u001b[0m\u001b[0;34m[\u001b[0m\u001b[0mi\u001b[0m\u001b[0;34m[\u001b[0m\u001b[0;36m0\u001b[0m\u001b[0;34m]\u001b[0m\u001b[0;34m]\u001b[0m \u001b[0;34m+=\u001b[0m \u001b[0;36m1\u001b[0m\u001b[0;34m\u001b[0m\u001b[0;34m\u001b[0m\u001b[0m\n\u001b[1;32m      5\u001b[0m \u001b[0;34m\u001b[0m\u001b[0m\n\u001b[0;32m----> 6\u001b[0;31m \u001b[0mres\u001b[0m \u001b[0;34m/\u001b[0m \u001b[0mn\u001b[0m\u001b[0;34m\u001b[0m\u001b[0;34m\u001b[0m\u001b[0m\n\u001b[0m",
            "\u001b[0;31mTypeError\u001b[0m: unsupported operand type(s) for /: 'list' and 'int'"
          ]
        }
      ]
    },
    {
      "cell_type": "code",
      "metadata": {
        "colab": {
          "base_uri": "https://localhost:8080/"
        },
        "id": "ERnJPX8bPk7U",
        "outputId": "e71d9d21-e58b-40f1-d0e5-2e7d8a688217"
      },
      "source": [
        "for i in res:\n",
        "    print(i*100/n)"
      ],
      "execution_count": null,
      "outputs": [
        {
          "output_type": "stream",
          "name": "stdout",
          "text": [
            "0.0\n",
            "0.1553110059196715\n",
            "2.212102790274228\n",
            "29.369939026875244\n",
            "20.782647615682666\n",
            "47.47999956124819\n"
          ]
        }
      ]
    },
    {
      "cell_type": "code",
      "metadata": {
        "id": "eODT9vswRdRy"
      },
      "source": [
        "mer2.to_csv('/content/drive/MyDrive/mer_test.csv', encoding='utf-8')"
      ],
      "execution_count": null,
      "outputs": []
    },
    {
      "cell_type": "markdown",
      "metadata": {
        "id": "9FXUJowXgy0X"
      },
      "source": [
        "# $$CatBoost\\ Tutorial$$"
      ]
    },
    {
      "cell_type": "markdown",
      "metadata": {
        "id": "jfmSRQNdgy0c"
      },
      "source": [
        "[![Open In Colab](https://colab.research.google.com/assets/colab-badge.svg)](https://colab.research.google.com/github/catboost/tutorials/blob/master/python_tutorial.ipynb)\n",
        "\n",
        "In this tutorial we would explore some base cases of using catboost, such as model training, cross-validation and predicting, as well as some useful features like early stopping,  snapshot support, feature importances and parameters tuning.\n",
        "  \n",
        "You could run this tutorial in Google Colaboratory environment with free CPU or GPU. Just click on this <a href=\"https://colab.research.google.com/github/catboost/tutorials/blob/master/python_tutorial.ipynb\" target=\"_blank\" title=\"Colab\">link</a>."
      ]
    },
    {
      "cell_type": "markdown",
      "metadata": {
        "id": "gzEIDEmFgy0d"
      },
      "source": [
        "## $$Contents$$\n",
        "* [1. Data Preparation](#$$1.\\-Data\\-Preparation$$)\n",
        "    * [1.1 Data Loading](#1.1-Data-Loading)\n",
        "    * [1.2 Feature Preparation](#1.2-Feature-Preparation)\n",
        "    * [1.3 Data Splitting](#1.3-Data-Splitting)\n",
        "* [2. CatBoost Basics](#$$2.\\-CatBoost\\-Basics$$)\n",
        "    * [2.1 Model Training](#2.1-Model-Training)\n",
        "    * [2.2 Model Cross-Validation](#2.2-Model-Cross-Validation)\n",
        "    * [2.3 Model Applying](#2.3-Model-Applying)\n",
        "* [3. CatBoost Features](#$$3.\\-CatBoost\\-Features$$)\n",
        "    * [3.1 Using the best model](#3.1-Using-the-best-model)\n",
        "    * [3.2 Early Stopping](#3.2-Early-Stopping)\n",
        "    * [3.3 Using Baseline](#3.3-Using-Baseline)\n",
        "    * [3.4 Snapshot Support](#3.4-Snapshot-Support)\n",
        "    * [3.5 User Defined Objective Function](#3.5-User-Defined-Objective-Function)\n",
        "    * [3.6 User Defined Metric Function](#3.6-User-Defined-Metric-Function)\n",
        "    * [3.7 Staged Predict](#3.7-Staged-Predict)\n",
        "    * [3.8 Feature Importances](#3.8-Feature-Importances)\n",
        "    * [3.9 Eval Metrics](#3.9-Eval-Metrics)\n",
        "    * [3.10 Learning Processes Comparison](#3.10-Learning-Processes-Comparison)\n",
        "    * [3.11 Model Saving](#3.11-Model-Saving)\n",
        "* [4. Parameters Tuning](#$$4.\\-Parameters\\-Tuning$$)"
      ]
    },
    {
      "cell_type": "markdown",
      "metadata": {
        "id": "5Nxvj1Eqgy0e"
      },
      "source": [
        "## $$1.\\ Data\\ Preparation$$\n",
        "### 1.1 CatBoost installation\n",
        "If you have not already installed CatBoost, you can do so by running '!pip install catboost' command.  \n",
        "  \n",
        "Also you should install ipywidgets package and run special command before launching jupyter notebook to draw plots."
      ]
    },
    {
      "cell_type": "code",
      "metadata": {
        "id": "YKud1W9IhpWp"
      },
      "source": [
        "!pip install catboost\n",
        "!pip install scikit-learn\n",
        "!pip install ipywidgets\n",
        "!jupyter nbextension enable --py widgetsnbextension"
      ],
      "execution_count": null,
      "outputs": []
    },
    {
      "cell_type": "markdown",
      "metadata": {
        "id": "ds3I463Ogy0g"
      },
      "source": [
        "### 1.2 Data Loading\n",
        "The data for this tutorial can be obtained from [this page](https://www.kaggle.com/c/titanic/data) (you would have to register a kaggle account or just login with facebook or google+) or you could use catboost.datasets as in code below."
      ]
    },
    {
      "cell_type": "code",
      "metadata": {
        "id": "Nxsme9TTgy0h",
        "outputId": "644f7a38-f999-48c1-be91-6e466fdc83bd"
      },
      "source": [
        "from catboost.datasets import titanic\n",
        "import numpy as np\n",
        "\n",
        "train_df, test_df = titanic()\n",
        "\n",
        "train_df.head()"
      ],
      "execution_count": null,
      "outputs": [
        {
          "data": {
            "text/html": [
              "<div>\n",
              "<style scoped>\n",
              "    .dataframe tbody tr th:only-of-type {\n",
              "        vertical-align: middle;\n",
              "    }\n",
              "\n",
              "    .dataframe tbody tr th {\n",
              "        vertical-align: top;\n",
              "    }\n",
              "\n",
              "    .dataframe thead th {\n",
              "        text-align: right;\n",
              "    }\n",
              "</style>\n",
              "<table border=\"1\" class=\"dataframe\">\n",
              "  <thead>\n",
              "    <tr style=\"text-align: right;\">\n",
              "      <th></th>\n",
              "      <th>PassengerId</th>\n",
              "      <th>Survived</th>\n",
              "      <th>Pclass</th>\n",
              "      <th>Name</th>\n",
              "      <th>Sex</th>\n",
              "      <th>Age</th>\n",
              "      <th>SibSp</th>\n",
              "      <th>Parch</th>\n",
              "      <th>Ticket</th>\n",
              "      <th>Fare</th>\n",
              "      <th>Cabin</th>\n",
              "      <th>Embarked</th>\n",
              "    </tr>\n",
              "  </thead>\n",
              "  <tbody>\n",
              "    <tr>\n",
              "      <th>0</th>\n",
              "      <td>1</td>\n",
              "      <td>0</td>\n",
              "      <td>3</td>\n",
              "      <td>Braund, Mr. Owen Harris</td>\n",
              "      <td>male</td>\n",
              "      <td>22.0</td>\n",
              "      <td>1</td>\n",
              "      <td>0</td>\n",
              "      <td>A/5 21171</td>\n",
              "      <td>7.2500</td>\n",
              "      <td>NaN</td>\n",
              "      <td>S</td>\n",
              "    </tr>\n",
              "    <tr>\n",
              "      <th>1</th>\n",
              "      <td>2</td>\n",
              "      <td>1</td>\n",
              "      <td>1</td>\n",
              "      <td>Cumings, Mrs. John Bradley (Florence Briggs Th...</td>\n",
              "      <td>female</td>\n",
              "      <td>38.0</td>\n",
              "      <td>1</td>\n",
              "      <td>0</td>\n",
              "      <td>PC 17599</td>\n",
              "      <td>71.2833</td>\n",
              "      <td>C85</td>\n",
              "      <td>C</td>\n",
              "    </tr>\n",
              "    <tr>\n",
              "      <th>2</th>\n",
              "      <td>3</td>\n",
              "      <td>1</td>\n",
              "      <td>3</td>\n",
              "      <td>Heikkinen, Miss. Laina</td>\n",
              "      <td>female</td>\n",
              "      <td>26.0</td>\n",
              "      <td>0</td>\n",
              "      <td>0</td>\n",
              "      <td>STON/O2. 3101282</td>\n",
              "      <td>7.9250</td>\n",
              "      <td>NaN</td>\n",
              "      <td>S</td>\n",
              "    </tr>\n",
              "    <tr>\n",
              "      <th>3</th>\n",
              "      <td>4</td>\n",
              "      <td>1</td>\n",
              "      <td>1</td>\n",
              "      <td>Futrelle, Mrs. Jacques Heath (Lily May Peel)</td>\n",
              "      <td>female</td>\n",
              "      <td>35.0</td>\n",
              "      <td>1</td>\n",
              "      <td>0</td>\n",
              "      <td>113803</td>\n",
              "      <td>53.1000</td>\n",
              "      <td>C123</td>\n",
              "      <td>S</td>\n",
              "    </tr>\n",
              "    <tr>\n",
              "      <th>4</th>\n",
              "      <td>5</td>\n",
              "      <td>0</td>\n",
              "      <td>3</td>\n",
              "      <td>Allen, Mr. William Henry</td>\n",
              "      <td>male</td>\n",
              "      <td>35.0</td>\n",
              "      <td>0</td>\n",
              "      <td>0</td>\n",
              "      <td>373450</td>\n",
              "      <td>8.0500</td>\n",
              "      <td>NaN</td>\n",
              "      <td>S</td>\n",
              "    </tr>\n",
              "  </tbody>\n",
              "</table>\n",
              "</div>"
            ],
            "text/plain": [
              "   PassengerId  Survived  Pclass  \\\n",
              "0            1         0       3   \n",
              "1            2         1       1   \n",
              "2            3         1       3   \n",
              "3            4         1       1   \n",
              "4            5         0       3   \n",
              "\n",
              "                                                Name     Sex   Age  SibSp  \\\n",
              "0                            Braund, Mr. Owen Harris    male  22.0      1   \n",
              "1  Cumings, Mrs. John Bradley (Florence Briggs Th...  female  38.0      1   \n",
              "2                             Heikkinen, Miss. Laina  female  26.0      0   \n",
              "3       Futrelle, Mrs. Jacques Heath (Lily May Peel)  female  35.0      1   \n",
              "4                           Allen, Mr. William Henry    male  35.0      0   \n",
              "\n",
              "   Parch            Ticket     Fare Cabin Embarked  \n",
              "0      0         A/5 21171   7.2500   NaN        S  \n",
              "1      0          PC 17599  71.2833   C85        C  \n",
              "2      0  STON/O2. 3101282   7.9250   NaN        S  \n",
              "3      0            113803  53.1000  C123        S  \n",
              "4      0            373450   8.0500   NaN        S  "
            ]
          },
          "execution_count": 1,
          "metadata": {},
          "output_type": "execute_result"
        }
      ]
    },
    {
      "cell_type": "markdown",
      "metadata": {
        "id": "HK5IWvJ9gy0i"
      },
      "source": [
        "### 1.3 Feature Preparation\n",
        "First of all let's check how many absent values do we have:"
      ]
    },
    {
      "cell_type": "code",
      "metadata": {
        "id": "FV9hhYqwgy0j",
        "outputId": "25c2377e-f7e8-482b-f402-fb64e8f0d888"
      },
      "source": [
        "null_value_stats = train_df.isnull().sum(axis=0)\n",
        "null_value_stats[null_value_stats != 0]"
      ],
      "execution_count": null,
      "outputs": [
        {
          "data": {
            "text/plain": [
              "Age         177\n",
              "Cabin       687\n",
              "Embarked      2\n",
              "dtype: int64"
            ]
          },
          "execution_count": 2,
          "metadata": {},
          "output_type": "execute_result"
        }
      ]
    },
    {
      "cell_type": "markdown",
      "metadata": {
        "id": "G5rAQZukgy0k"
      },
      "source": [
        "As we can see, **`Age`**, **`Cabin`** and **`Embarked`** indeed have some missing values, so let's fill them with some number way out of their distributions - so the model would be able to easily distinguish between them and take it into account:"
      ]
    },
    {
      "cell_type": "code",
      "metadata": {
        "id": "lzpFLhGggy0k"
      },
      "source": [
        "train_df.fillna(-999, inplace=True)\n",
        "test_df.fillna(-999, inplace=True)"
      ],
      "execution_count": null,
      "outputs": []
    },
    {
      "cell_type": "markdown",
      "metadata": {
        "id": "255UXGaigy0l"
      },
      "source": [
        "Now let's separate features and label variable:"
      ]
    },
    {
      "cell_type": "code",
      "metadata": {
        "id": "XAJmkQofgy0l"
      },
      "source": [
        "X = train_df.drop('Survived', axis=1)\n",
        "y = train_df.Survived"
      ],
      "execution_count": null,
      "outputs": []
    },
    {
      "cell_type": "markdown",
      "metadata": {
        "id": "soLoSVtlgy0l"
      },
      "source": [
        "Pay attention that our features are of different types - some of them are numeric, some are categorical, and some are even just strings, which normally should be handled in some specific way (for example encoded with bag-of-words representation). But in our case we could treat these string features just as categorical one - all the heavy lifting is done inside CatBoost. How cool is that? :)"
      ]
    },
    {
      "cell_type": "code",
      "metadata": {
        "id": "nHXi5oiPgy0m",
        "outputId": "5997f67a-8fb9-4729-945e-5569cc26e427"
      },
      "source": [
        "print(X.dtypes)\n",
        "\n",
        "categorical_features_indices = np.where(X.dtypes != float)[0]"
      ],
      "execution_count": null,
      "outputs": [
        {
          "name": "stdout",
          "output_type": "stream",
          "text": [
            "PassengerId      int64\n",
            "Pclass           int64\n",
            "Name            object\n",
            "Sex             object\n",
            "Age            float64\n",
            "SibSp            int64\n",
            "Parch            int64\n",
            "Ticket          object\n",
            "Fare           float64\n",
            "Cabin           object\n",
            "Embarked        object\n",
            "dtype: object\n"
          ]
        }
      ]
    },
    {
      "cell_type": "markdown",
      "metadata": {
        "id": "TGLAj-DNgy0m"
      },
      "source": [
        "### 1.4 Data Splitting\n",
        "Let's split the train data into training and validation sets."
      ]
    },
    {
      "cell_type": "code",
      "metadata": {
        "id": "YSpTr6etgy0n"
      },
      "source": [
        "from sklearn.model_selection import train_test_split\n",
        "\n",
        "X_train, X_validation, y_train, y_validation = train_test_split(X, y, train_size=0.75, random_state=42)\n",
        "\n",
        "X_test = test_df"
      ],
      "execution_count": null,
      "outputs": []
    },
    {
      "cell_type": "markdown",
      "metadata": {
        "id": "GzxPs1Jjgy0n"
      },
      "source": [
        "## $$2.\\ CatBoost\\ Basics$$"
      ]
    },
    {
      "cell_type": "markdown",
      "metadata": {
        "id": "VgbvRWD3gy0n"
      },
      "source": [
        "Let's make necessary imports."
      ]
    },
    {
      "cell_type": "code",
      "metadata": {
        "id": "GVsZ5Atfgy0o"
      },
      "source": [
        "from catboost import CatBoostClassifier, Pool, metrics, cv\n",
        "from sklearn.metrics import accuracy_score"
      ],
      "execution_count": null,
      "outputs": []
    },
    {
      "cell_type": "markdown",
      "metadata": {
        "id": "uhhOX1Degy0o"
      },
      "source": [
        "### 2.1 Model Training\n",
        "Now let's create the model itself. We will go here with default parameters, as they provide a _really_ good baseline almost all the time. The only thing we would like to specify here is `custom_loss` parameter, as this would give us an ability to see what's going on in terms of this competition metric - accuracy, as well as to be able to watch for logloss, as it would be more smooth on dataset of such size."
      ]
    },
    {
      "cell_type": "code",
      "metadata": {
        "id": "pVER72iCgy0o"
      },
      "source": [
        "model = CatBoostClassifier(\n",
        "    custom_loss=[metrics.Accuracy()],\n",
        "    random_seed=42,\n",
        "    logging_level='Silent'\n",
        ")"
      ],
      "execution_count": null,
      "outputs": []
    },
    {
      "cell_type": "code",
      "metadata": {
        "id": "VPsJSohMgy0o",
        "colab": {
          "referenced_widgets": [
            "0c292d3acabb4c818f76d73fb0ac5f03"
          ]
        },
        "outputId": "eaa85519-c83f-4732-8fc1-e6ef845f39f2"
      },
      "source": [
        "model.fit(\n",
        "    X_train, y_train,\n",
        "    cat_features=categorical_features_indices,\n",
        "    eval_set=(X_validation, y_validation),\n",
        "#     logging_level='Verbose',  # you can uncomment this for text output\n",
        "    plot=True\n",
        ");"
      ],
      "execution_count": null,
      "outputs": [
        {
          "data": {
            "application/vnd.jupyter.widget-view+json": {
              "model_id": "0c292d3acabb4c818f76d73fb0ac5f03",
              "version_major": 2,
              "version_minor": 0
            },
            "text/plain": [
              "MetricVisualizer(layout=Layout(align_self='stretch', height='500px'))"
            ]
          },
          "metadata": {},
          "output_type": "display_data"
        }
      ]
    },
    {
      "cell_type": "markdown",
      "metadata": {
        "id": "2uCkvJREgy0p"
      },
      "source": [
        "As you can see, it is possible to watch our model learn through verbose output or with nice plots (personally I would definately go with the second option - just check out those plots: you can, for example, zoom in areas of interest!)\n",
        "\n",
        "With this we can see that the best accuracy value of **0.8296** (on validation set) was acheived on **150** boosting step."
      ]
    },
    {
      "cell_type": "markdown",
      "metadata": {
        "id": "S4Se9_bFgy0p"
      },
      "source": [
        "### 2.2 Model Cross-Validation\n",
        "\n",
        "It is good to validate your model, but to cross-validate it - even better. And also with plots! So with no more words:"
      ]
    },
    {
      "cell_type": "code",
      "metadata": {
        "id": "ucXV7qDlgy0p",
        "outputId": "209589cd-fff6-4ef6-cc37-f95175a34c15"
      },
      "source": [
        "cv_params = model.get_params()\n",
        "cv_params.update({\n",
        "    'loss_function': metrics.Logloss()\n",
        "})\n",
        "cv_data = cv(\n",
        "    Pool(X, y, cat_features=categorical_features_indices),\n",
        "    cv_params,\n",
        "    plot=True\n",
        ")"
      ],
      "execution_count": null,
      "outputs": [
        {
          "data": {
            "application/vnd.jupyter.widget-view+json": {
              "model_id": "5d740a481999493ea723de678e714428",
              "version_major": 2,
              "version_minor": 0
            },
            "text/plain": [
              "MetricVisualizer(layout=Layout(align_self='stretch', height='500px'))"
            ]
          },
          "metadata": {},
          "output_type": "display_data"
        }
      ]
    },
    {
      "cell_type": "markdown",
      "metadata": {
        "id": "8wfup-Kegy0q"
      },
      "source": [
        "Now we have values of our loss functions at each boosting step averaged by 3 folds, which should provide us with a more accurate estimation of our model performance:"
      ]
    },
    {
      "cell_type": "code",
      "metadata": {
        "id": "ajsBZM9Igy0q",
        "outputId": "15a31266-c423-4e50-e9a7-73d43a5d25a6"
      },
      "source": [
        "print('Best validation accuracy score: {:.2f}±{:.2f} on step {}'.format(\n",
        "    np.max(cv_data['test-Accuracy-mean']),\n",
        "    cv_data['test-Accuracy-std'][np.argmax(cv_data['test-Accuracy-mean'])],\n",
        "    np.argmax(cv_data['test-Accuracy-mean'])\n",
        "))"
      ],
      "execution_count": null,
      "outputs": [
        {
          "name": "stdout",
          "output_type": "stream",
          "text": [
            "Best validation accuracy score: 0.83±0.02 on step 355\n"
          ]
        }
      ]
    },
    {
      "cell_type": "code",
      "metadata": {
        "id": "T7ctjeDogy0q",
        "outputId": "05e9a3b2-d786-4941-8711-c0eb17ca658b"
      },
      "source": [
        "print('Precise validation accuracy score: {}'.format(np.max(cv_data['test-Accuracy-mean'])))"
      ],
      "execution_count": null,
      "outputs": [
        {
          "name": "stdout",
          "output_type": "stream",
          "text": [
            "Precise validation accuracy score: 0.8294051627384961\n"
          ]
        }
      ]
    },
    {
      "cell_type": "markdown",
      "metadata": {
        "id": "WwKYhq9pgy0q"
      },
      "source": [
        "As we can see, our initial estimation of performance on single validation fold was too optimistic - that is why cross-validation is so important!"
      ]
    },
    {
      "cell_type": "markdown",
      "metadata": {
        "id": "zlMNsiLZgy0r"
      },
      "source": [
        "### 2.3 Model Applying\n",
        "All you have to do to get predictions is"
      ]
    },
    {
      "cell_type": "code",
      "metadata": {
        "id": "Wym0jgMrgy0r",
        "outputId": "114c7c64-a7bb-4cd6-fd8f-186f338dc5da"
      },
      "source": [
        "predictions = model.predict(X_test)\n",
        "predictions_probs = model.predict_proba(X_test)\n",
        "print(predictions[:10])\n",
        "print(predictions_probs[:10])"
      ],
      "execution_count": null,
      "outputs": [
        {
          "name": "stdout",
          "output_type": "stream",
          "text": [
            "[0 0 0 0 1 0 1 0 1 0]\n",
            "[[0.85473931 0.14526069]\n",
            " [0.76313031 0.23686969]\n",
            " [0.88972889 0.11027111]\n",
            " [0.87876173 0.12123827]\n",
            " [0.3611047  0.6388953 ]\n",
            " [0.90513381 0.09486619]\n",
            " [0.33434185 0.66565815]\n",
            " [0.78468564 0.21531436]\n",
            " [0.39429048 0.60570952]\n",
            " [0.94047549 0.05952451]]\n"
          ]
        }
      ]
    },
    {
      "cell_type": "markdown",
      "metadata": {
        "id": "q-wzljNrgy0r"
      },
      "source": [
        "But let's try to get a better predictions and Catboost features help us in it."
      ]
    },
    {
      "cell_type": "markdown",
      "metadata": {
        "id": "-_q0litjgy0r"
      },
      "source": [
        "## $$3.\\ CatBoost\\ Features$$\n",
        "You may have noticed that on model creation step I've specified not only `custom_loss` but also `random_seed` parameter. That was done in order to make this notebook reproducible - by default catboost chooses some random value for seed:"
      ]
    },
    {
      "cell_type": "code",
      "metadata": {
        "id": "Mw-53Vfsgy0r",
        "outputId": "144bfce8-6bac-44ae-9de8-5f52b09b5df5"
      },
      "source": [
        "model_without_seed = CatBoostClassifier(iterations=10, logging_level='Silent')\n",
        "model_without_seed.fit(X, y, cat_features=categorical_features_indices)\n",
        "\n",
        "print('Random seed assigned for this model: {}'.format(model_without_seed.random_seed_))"
      ],
      "execution_count": null,
      "outputs": [
        {
          "name": "stdout",
          "output_type": "stream",
          "text": [
            "Random seed assigned for this model: 0\n"
          ]
        }
      ]
    },
    {
      "cell_type": "markdown",
      "metadata": {
        "id": "z-leBtSggy0s"
      },
      "source": [
        "Let's define some params and create `Pool` for more convenience. It stores all information about dataset (features, labeles, categorical features indices, weights and and much more)."
      ]
    },
    {
      "cell_type": "code",
      "metadata": {
        "id": "b58BF2Usgy0s"
      },
      "source": [
        "params = {\n",
        "    'iterations': 500,\n",
        "    'learning_rate': 0.1,\n",
        "    'eval_metric': metrics.Accuracy(),\n",
        "    'random_seed': 42,\n",
        "    'logging_level': 'Silent',\n",
        "    'use_best_model': False\n",
        "}\n",
        "train_pool = Pool(X_train, y_train, cat_features=categorical_features_indices)\n",
        "validate_pool = Pool(X_validation, y_validation, cat_features=categorical_features_indices)"
      ],
      "execution_count": null,
      "outputs": []
    },
    {
      "cell_type": "markdown",
      "metadata": {
        "id": "F4nOBSyxgy0s"
      },
      "source": [
        "### 3.1 Using the best model\n",
        "If you essentially have a validation set, it's always better to use the `use_best_model` parameter during training. By default, this parameter is enabled. If it is enabled, the resulting trees ensemble is shrinking to the best iteration."
      ]
    },
    {
      "cell_type": "code",
      "metadata": {
        "id": "0r0Q3Vj_gy0s",
        "outputId": "2767335d-b6f2-48e8-84f9-f0398b4f2bb4"
      },
      "source": [
        "model = CatBoostClassifier(**params)\n",
        "model.fit(train_pool, eval_set=validate_pool)\n",
        "\n",
        "best_model_params = params.copy()\n",
        "best_model_params.update({\n",
        "    'use_best_model': True\n",
        "})\n",
        "best_model = CatBoostClassifier(**best_model_params)\n",
        "best_model.fit(train_pool, eval_set=validate_pool);\n",
        "\n",
        "print('Simple model validation accuracy: {:.4}'.format(\n",
        "    accuracy_score(y_validation, model.predict(X_validation))\n",
        "))\n",
        "print('')\n",
        "\n",
        "print('Best model validation accuracy: {:.4}'.format(\n",
        "    accuracy_score(y_validation, best_model.predict(X_validation))\n",
        "))"
      ],
      "execution_count": null,
      "outputs": [
        {
          "name": "stdout",
          "output_type": "stream",
          "text": [
            "Simple model validation accuracy: 0.7982\n",
            "\n",
            "Best model validation accuracy: 0.8251\n"
          ]
        }
      ]
    },
    {
      "cell_type": "markdown",
      "metadata": {
        "id": "nKXDx8Pygy0t"
      },
      "source": [
        "### 3.2 Early Stopping\n",
        "If you essentially have a validation set, it's always easier and better to use early stopping. This feature is similar to the previous one, but only in addition to improving the quality it still saves time."
      ]
    },
    {
      "cell_type": "code",
      "metadata": {
        "id": "aCMOOjKggy0t",
        "outputId": "ece1ce01-147b-4a6a-d36e-313af57d357f"
      },
      "source": [
        "%%time\n",
        "model = CatBoostClassifier(**params)\n",
        "model.fit(train_pool, eval_set=validate_pool)"
      ],
      "execution_count": null,
      "outputs": [
        {
          "name": "stdout",
          "output_type": "stream",
          "text": [
            "CPU times: user 9.42 s, sys: 368 ms, total: 9.79 s\n",
            "Wall time: 1.1 s\n"
          ]
        },
        {
          "data": {
            "text/plain": [
              "<catboost.core.CatBoostClassifier at 0x7fa2be087f70>"
            ]
          },
          "execution_count": 42,
          "metadata": {},
          "output_type": "execute_result"
        }
      ]
    },
    {
      "cell_type": "code",
      "metadata": {
        "id": "rWoOFDgbgy0t",
        "outputId": "f3c2fc00-d417-4d53-c12f-c975500a7476"
      },
      "source": [
        "%%time\n",
        "earlystop_params = params.copy()\n",
        "earlystop_params.update({\n",
        "    'od_type': 'Iter',\n",
        "    'od_wait': 40\n",
        "})\n",
        "earlystop_model = CatBoostClassifier(**earlystop_params)\n",
        "earlystop_model.fit(train_pool, eval_set=validate_pool);"
      ],
      "execution_count": null,
      "outputs": [
        {
          "name": "stdout",
          "output_type": "stream",
          "text": [
            "CPU times: user 1.52 s, sys: 108 ms, total: 1.62 s\n",
            "Wall time: 195 ms\n"
          ]
        },
        {
          "data": {
            "text/plain": [
              "<catboost.core.CatBoostClassifier at 0x7fa2be234a60>"
            ]
          },
          "execution_count": 43,
          "metadata": {},
          "output_type": "execute_result"
        }
      ]
    },
    {
      "cell_type": "code",
      "metadata": {
        "id": "c3h0C_Obgy0t",
        "outputId": "77a5465b-334b-44fb-f0e7-5f5f1cc1d42b"
      },
      "source": [
        "print('Simple model tree count: {}'.format(model.tree_count_))\n",
        "print('Simple model validation accuracy: {:.4}'.format(\n",
        "    accuracy_score(y_validation, model.predict(X_validation))\n",
        "))\n",
        "print('')\n",
        "\n",
        "print('Early-stopped model tree count: {}'.format(earlystop_model.tree_count_))\n",
        "print('Early-stopped model validation accuracy: {:.4}'.format(\n",
        "    accuracy_score(y_validation, earlystop_model.predict(X_validation))\n",
        "))"
      ],
      "execution_count": null,
      "outputs": [
        {
          "name": "stdout",
          "output_type": "stream",
          "text": [
            "Simple model tree count: 500\n",
            "Simple model validation accuracy: 0.7982\n",
            "\n",
            "Early-stopped model tree count: 82\n",
            "Early-stopped model validation accuracy: 0.8072\n"
          ]
        }
      ]
    },
    {
      "cell_type": "markdown",
      "metadata": {
        "id": "M8cJhSSKgy0t"
      },
      "source": [
        "So we get better quality in a shorter time.\n",
        "\n",
        "Though as was shown earlier simple validation scheme does not precisely describes model out-of-train score (may be biased because of dataset split) it is still nice to track model improvement dynamics - and thereby as we can see from this example it is really good to stop boosting process earlier (before the overfitting kicks in)"
      ]
    },
    {
      "cell_type": "markdown",
      "metadata": {
        "id": "ofVJrggTgy0u"
      },
      "source": [
        "### 3.3 Using Baseline\n",
        "It is posible to use pre-training results (baseline) for training."
      ]
    },
    {
      "cell_type": "code",
      "metadata": {
        "id": "_61JEqqDgy0u"
      },
      "source": [
        "current_params = params.copy()\n",
        "current_params.update({\n",
        "    'iterations': 10\n",
        "})\n",
        "model = CatBoostClassifier(**current_params).fit(X_train, y_train, categorical_features_indices)\n",
        "# Get baseline (only with prediction_type='RawFormulaVal')\n",
        "baseline = model.predict(X_train, prediction_type='RawFormulaVal')\n",
        "# Fit new model\n",
        "model.fit(X_train, y_train, categorical_features_indices, baseline=baseline);"
      ],
      "execution_count": null,
      "outputs": []
    },
    {
      "cell_type": "markdown",
      "metadata": {
        "id": "CP84Agabgy0u"
      },
      "source": [
        "### 3.4 Snapshot Support\n",
        "Catboost supports snapshots. You can use it for recovering training after an interruption or for starting training with previous results. "
      ]
    },
    {
      "cell_type": "code",
      "metadata": {
        "id": "-8hQ51VBgy0u",
        "outputId": "5d8da9cb-13f9-4afb-e06d-149630e782c2"
      },
      "source": [
        "params_with_snapshot = params.copy()\n",
        "params_with_snapshot.update({\n",
        "    'iterations': 5,\n",
        "    'learning_rate': 0.5,\n",
        "    'logging_level': 'Verbose'\n",
        "})\n",
        "model = CatBoostClassifier(**params_with_snapshot).fit(train_pool, eval_set=validate_pool, save_snapshot=True)\n",
        "params_with_snapshot.update({\n",
        "    'iterations': 10,\n",
        "    'learning_rate': 0.1,\n",
        "})\n",
        "model = CatBoostClassifier(**params_with_snapshot).fit(train_pool, eval_set=validate_pool, save_snapshot=True)"
      ],
      "execution_count": null,
      "outputs": [
        {
          "name": "stdout",
          "output_type": "stream",
          "text": [
            "0:\tlearn: 0.8053892\ttest: 0.7937220\tbest: 0.7937220 (0)\ttotal: 1.39ms\tremaining: 5.54ms\n",
            "1:\tlearn: 0.8008982\ttest: 0.7982063\tbest: 0.7982063 (1)\ttotal: 3ms\tremaining: 4.5ms\n",
            "2:\tlearn: 0.8008982\ttest: 0.7937220\tbest: 0.7982063 (1)\ttotal: 4.13ms\tremaining: 2.75ms\n",
            "3:\tlearn: 0.8113772\ttest: 0.7892377\tbest: 0.7982063 (1)\ttotal: 5.52ms\tremaining: 1.38ms\n",
            "4:\tlearn: 0.8173653\ttest: 0.8026906\tbest: 0.8026906 (4)\ttotal: 6.67ms\tremaining: 0us\n",
            "\n",
            "bestTest = 0.802690583\n",
            "bestIteration = 4\n",
            "\n",
            "5:\tlearn: 0.8173653\ttest: 0.8026906\tbest: 0.8026906 (4)\ttotal: 8.14ms\tremaining: 5.89ms\n",
            "6:\tlearn: 0.8248503\ttest: 0.8026906\tbest: 0.8026906 (4)\ttotal: 9.64ms\tremaining: 4.46ms\n",
            "7:\tlearn: 0.8233533\ttest: 0.8026906\tbest: 0.8026906 (4)\ttotal: 10.8ms\tremaining: 2.76ms\n",
            "8:\tlearn: 0.8233533\ttest: 0.8026906\tbest: 0.8026906 (4)\ttotal: 11.4ms\tremaining: 1.19ms\n",
            "9:\tlearn: 0.8233533\ttest: 0.8026906\tbest: 0.8026906 (4)\ttotal: 12.7ms\tremaining: 0us\n",
            "\n",
            "bestTest = 0.802690583\n",
            "bestIteration = 4\n",
            "\n"
          ]
        }
      ]
    },
    {
      "cell_type": "markdown",
      "metadata": {
        "id": "av0_YvMwgy0u"
      },
      "source": [
        "### 3.5 User Defined Objective Function\n",
        "It is possible to create your own objective function. Let's create logloss objective function."
      ]
    },
    {
      "cell_type": "code",
      "metadata": {
        "id": "psBT1bKYgy0u"
      },
      "source": [
        "# for performance reasons it is better to install `numba` package for working with user defined functions\n",
        "!pip install numba"
      ],
      "execution_count": null,
      "outputs": []
    },
    {
      "cell_type": "code",
      "metadata": {
        "id": "ZdjGNJdlgy0u"
      },
      "source": [
        "class LoglossObjective(object):\n",
        "    def calc_ders_range(self, approxes, targets, weights):\n",
        "        # approxes, targets, weights are indexed containers of floats\n",
        "        # (containers which have only __len__ and __getitem__ defined).\n",
        "        # weights parameter can be None.\n",
        "        #\n",
        "        # To understand what these parameters mean, assume that there is\n",
        "        # a subset of your dataset that is currently being processed.\n",
        "        # approxes contains current predictions for this subset,\n",
        "        # targets contains target values you provided with the dataset.\n",
        "        #\n",
        "        # This function should return a list of pairs (der1, der2), where\n",
        "        # der1 is the first derivative of the loss function with respect\n",
        "        # to the predicted value, and der2 is the second derivative.\n",
        "        #\n",
        "        # In our case, logloss is defined by the following formula:\n",
        "        # target * log(sigmoid(approx)) + (1 - target) * (1 - sigmoid(approx))\n",
        "        # where sigmoid(x) = 1 / (1 + e^(-x)).\n",
        "        \n",
        "        assert len(approxes) == len(targets)\n",
        "        if weights is not None:\n",
        "            assert len(weights) == len(approxes)\n",
        "        \n",
        "        result = []\n",
        "        for index in range(len(targets)):\n",
        "            e = np.exp(approxes[index])\n",
        "            p = e / (1 + e)\n",
        "            der1 = (1 - p) if targets[index] > 0.0 else -p\n",
        "            der2 = -p * (1 - p)\n",
        "\n",
        "            if weights is not None:\n",
        "                der1 *= weights[index]\n",
        "                der2 *= weights[index]\n",
        "\n",
        "            result.append((der1, der2))\n",
        "        return result"
      ],
      "execution_count": null,
      "outputs": []
    },
    {
      "cell_type": "code",
      "metadata": {
        "id": "mFQe_7LCgy0v",
        "outputId": "deedde60-b119-467e-e516-e44bbd571fd8"
      },
      "source": [
        "model = CatBoostClassifier(\n",
        "    iterations=10,\n",
        "    random_seed=42, \n",
        "    loss_function=LoglossObjective(), \n",
        "    eval_metric=metrics.Logloss()\n",
        ")\n",
        "# Fit model\n",
        "model.fit(train_pool)\n",
        "# Only prediction_type='RawFormulaVal' is allowed with custom `loss_function`\n",
        "preds_raw = model.predict(X_test, prediction_type='RawFormulaVal')"
      ],
      "execution_count": null,
      "outputs": [
        {
          "name": "stdout",
          "output_type": "stream",
          "text": [
            "0:\tlearn: 0.6827074\ttotal: 16.7ms\tremaining: 150ms\n",
            "1:\tlearn: 0.6723302\ttotal: 30.8ms\tremaining: 123ms\n",
            "2:\tlearn: 0.6619449\ttotal: 43.3ms\tremaining: 101ms\n",
            "3:\tlearn: 0.6521466\ttotal: 60.3ms\tremaining: 90.5ms\n",
            "4:\tlearn: 0.6435227\ttotal: 73.4ms\tremaining: 73.4ms\n",
            "5:\tlearn: 0.6353848\ttotal: 87.8ms\tremaining: 58.5ms\n",
            "6:\tlearn: 0.6277210\ttotal: 99.6ms\tremaining: 42.7ms\n",
            "7:\tlearn: 0.6210282\ttotal: 111ms\tremaining: 27.8ms\n",
            "8:\tlearn: 0.6141958\ttotal: 123ms\tremaining: 13.6ms\n",
            "9:\tlearn: 0.6073236\ttotal: 135ms\tremaining: 0us\n"
          ]
        }
      ]
    },
    {
      "cell_type": "markdown",
      "metadata": {
        "id": "i2gf6NgEgy0v"
      },
      "source": [
        "### 3.6 User Defined Metric Function\n",
        "Also it is possible to create your own metric function. Let's create logloss metric function."
      ]
    },
    {
      "cell_type": "code",
      "metadata": {
        "id": "XtWjg2qUgy0v"
      },
      "source": [
        "class LoglossMetric(object):\n",
        "    def get_final_error(self, error, weight):\n",
        "        return error / (weight + 1e-38)\n",
        "\n",
        "    def is_max_optimal(self):\n",
        "        return False\n",
        "\n",
        "    def evaluate(self, approxes, target, weight):\n",
        "        # approxes is a list of indexed containers\n",
        "        # (containers with only __len__ and __getitem__ defined),\n",
        "        # one container per approx dimension.\n",
        "        # Each container contains floats.\n",
        "        # weight is a one dimensional indexed container.\n",
        "        # target is float.\n",
        "        \n",
        "        # weight parameter can be None.\n",
        "        # Returns pair (error, weights sum)\n",
        "        \n",
        "        assert len(approxes) == 1\n",
        "        assert len(target) == len(approxes[0])\n",
        "\n",
        "        approx = approxes[0]\n",
        "\n",
        "        error_sum = 0.0\n",
        "        weight_sum = 0.0\n",
        "\n",
        "        for i in range(len(approx)):\n",
        "            w = 1.0 if weight is None else weight[i]\n",
        "            weight_sum += w\n",
        "            error_sum += -w * (target[i] * approx[i] - np.log(1 + np.exp(approx[i])))\n",
        "\n",
        "        return error_sum, weight_sum"
      ],
      "execution_count": null,
      "outputs": []
    },
    {
      "cell_type": "code",
      "metadata": {
        "id": "-ub0aQY3gy0v",
        "outputId": "9be5f348-3613-4111-cce6-ba00dd09d3d7"
      },
      "source": [
        "model = CatBoostClassifier(\n",
        "    iterations=10,\n",
        "    random_seed=42, \n",
        "    loss_function=metrics.Logloss(),\n",
        "    eval_metric=LoglossMetric()\n",
        ")\n",
        "# Fit model\n",
        "model.fit(train_pool)\n",
        "# Only prediction_type='RawFormulaVal' is allowed with custom `loss_function`\n",
        "preds_raw = model.predict(X_test, prediction_type='RawFormulaVal')"
      ],
      "execution_count": null,
      "outputs": [
        {
          "name": "stdout",
          "output_type": "stream",
          "text": [
            "Learning rate set to 0.5\n",
            "0:\tlearn: 0.5521578\ttotal: 6.34ms\tremaining: 57.1ms\n",
            "1:\tlearn: 0.4885686\ttotal: 11.9ms\tremaining: 47.5ms\n",
            "2:\tlearn: 0.4607664\ttotal: 17.4ms\tremaining: 40.5ms\n",
            "3:\tlearn: 0.4418819\ttotal: 22.6ms\tremaining: 33.9ms\n",
            "4:\tlearn: 0.4278162\ttotal: 28.4ms\tremaining: 28.4ms\n",
            "5:\tlearn: 0.4151036\ttotal: 35.1ms\tremaining: 23.4ms\n",
            "6:\tlearn: 0.4099336\ttotal: 40.6ms\tremaining: 17.4ms\n",
            "7:\tlearn: 0.4095363\ttotal: 45.8ms\tremaining: 11.5ms\n",
            "8:\tlearn: 0.4032867\ttotal: 51.3ms\tremaining: 5.7ms\n",
            "9:\tlearn: 0.3929586\ttotal: 56.6ms\tremaining: 0us\n"
          ]
        }
      ]
    },
    {
      "cell_type": "markdown",
      "metadata": {
        "id": "NUP0Fh98gy0v"
      },
      "source": [
        "### 3.7 Staged Predict\n",
        "CatBoost model has `staged_predict` method. It allows you to iteratively get predictions for a given range of trees."
      ]
    },
    {
      "cell_type": "code",
      "metadata": {
        "id": "fXKeISVZgy0w",
        "outputId": "3f0c0a86-2771-4f7c-eb60-8769447a422f"
      },
      "source": [
        "model = CatBoostClassifier(iterations=10, random_seed=42, logging_level='Silent').fit(train_pool)\n",
        "ntree_start, ntree_end, eval_period = 3, 9, 2\n",
        "predictions_iterator = model.staged_predict(validate_pool, 'Probability', ntree_start, ntree_end, eval_period)\n",
        "for preds, tree_count in zip(predictions_iterator, range(ntree_start, ntree_end, eval_period)):\n",
        "    print('First class probabilities using the first {} trees: {}'.format(tree_count, preds[:5, 1]))"
      ],
      "execution_count": null,
      "outputs": [
        {
          "name": "stdout",
          "output_type": "stream",
          "text": [
            "First class probabilities using the first 3 trees: [0.53597869 0.41039128 0.42057479 0.64281031 0.46576685]\n",
            "First class probabilities using the first 5 trees: [0.63722688 0.42492029 0.46209302 0.70926021 0.44280772]\n",
            "First class probabilities using the first 7 trees: [0.66964764 0.42409144 0.46124982 0.76101033 0.47205986]\n"
          ]
        }
      ]
    },
    {
      "cell_type": "markdown",
      "metadata": {
        "id": "cb2JI2MSgy0w"
      },
      "source": [
        "### 3.8 Feature Importances\n",
        "Sometimes it is very important to understand which feature made the greatest contribution to the final result. To do this, the CatBoost model has a `get_feature_importance` method."
      ]
    },
    {
      "cell_type": "code",
      "metadata": {
        "id": "1HE_-Vsegy0w",
        "outputId": "eac7788f-7094-4e0f-d06e-253dbcfba35b"
      },
      "source": [
        "model = CatBoostClassifier(iterations=50, random_seed=42, logging_level='Silent').fit(train_pool)\n",
        "feature_importances = model.get_feature_importance(train_pool)\n",
        "feature_names = X_train.columns\n",
        "for score, name in sorted(zip(feature_importances, feature_names), reverse=True):\n",
        "    print('{}: {}'.format(name, score))"
      ],
      "execution_count": null,
      "outputs": [
        {
          "name": "stdout",
          "output_type": "stream",
          "text": [
            "Sex: 59.0040920142686\n",
            "Pclass: 16.340887169747038\n",
            "Ticket: 6.028107169932206\n",
            "Cabin: 3.8347242202560192\n",
            "Fare: 3.712969667934385\n",
            "Age: 3.4844512041824824\n",
            "Parch: 3.378089740355865\n",
            "Embarked: 2.313999407289956\n",
            "SibSp: 1.902679406033451\n",
            "PassengerId: 0.0\n",
            "Name: 0.0\n"
          ]
        }
      ]
    },
    {
      "cell_type": "markdown",
      "metadata": {
        "id": "x9OfKigLgy0w"
      },
      "source": [
        "This shows that features **`Sex`** and **`Pclass`** had the biggest influence on the result."
      ]
    },
    {
      "cell_type": "markdown",
      "metadata": {
        "id": "nbm25K5Tgy0w"
      },
      "source": [
        "### 3.9 Eval Metrics\n",
        "The CatBoost has a `eval_metrics` method that allows to calculate a given metrics on a given dataset. And to draw them of course:)"
      ]
    },
    {
      "cell_type": "code",
      "metadata": {
        "id": "RgPSb33mgy0x",
        "outputId": "589e0bd6-1f40-45db-97ac-a7e1c7d20af0"
      },
      "source": [
        "model = CatBoostClassifier(iterations=50, random_seed=42, logging_level='Silent').fit(train_pool)\n",
        "eval_metrics = model.eval_metrics(validate_pool, [metrics.AUC()], plot=True)"
      ],
      "execution_count": null,
      "outputs": [
        {
          "data": {
            "application/vnd.jupyter.widget-view+json": {
              "model_id": "f1e9bb188e6c48b6bc168ae5d6ebed2f",
              "version_major": 2,
              "version_minor": 0
            },
            "text/plain": [
              "MetricVisualizer(layout=Layout(align_self='stretch', height='500px'))"
            ]
          },
          "metadata": {},
          "output_type": "display_data"
        }
      ]
    },
    {
      "cell_type": "code",
      "metadata": {
        "id": "hBD11Otdgy0x",
        "outputId": "1de8b2ff-5736-4b3b-d7b4-0fc18bb90ff5"
      },
      "source": [
        "print(eval_metrics['AUC'][:6])"
      ],
      "execution_count": null,
      "outputs": [
        {
          "name": "stdout",
          "output_type": "stream",
          "text": [
            "[0.8627368774106994, 0.8623176253563642, 0.8602213650846889, 0.8514170719436525, 0.8495723629045783, 0.8569092738554419]\n"
          ]
        }
      ]
    },
    {
      "cell_type": "markdown",
      "metadata": {
        "id": "khQF5kwqgy0x"
      },
      "source": [
        "### 3.10 Learning Processes Comparison\n",
        "You can also compare different models learning process on a single plot."
      ]
    },
    {
      "cell_type": "code",
      "metadata": {
        "id": "GkjGTa4Bgy0x"
      },
      "source": [
        "model1 = CatBoostClassifier(iterations=100, depth=1, train_dir='model_depth_1/', logging_level='Silent')\n",
        "model1.fit(train_pool, eval_set=validate_pool)\n",
        "model2 = CatBoostClassifier(iterations=100, depth=5, train_dir='model_depth_5/', logging_level='Silent')\n",
        "model2.fit(train_pool, eval_set=validate_pool);"
      ],
      "execution_count": null,
      "outputs": []
    },
    {
      "cell_type": "code",
      "metadata": {
        "id": "tjGcrCT7gy0x",
        "outputId": "889a4146-a5e5-4bae-8dc2-2d81aa5c5291"
      },
      "source": [
        "from catboost import MetricVisualizer\n",
        "widget = MetricVisualizer(['model_depth_1', 'model_depth_5'])\n",
        "widget.start()"
      ],
      "execution_count": null,
      "outputs": [
        {
          "data": {
            "application/vnd.jupyter.widget-view+json": {
              "model_id": "36ab5a837f5d429cbd054a35d762da00",
              "version_major": 2,
              "version_minor": 0
            },
            "text/plain": [
              "MetricVisualizer(layout=Layout(align_self='stretch', height='500px'))"
            ]
          },
          "metadata": {},
          "output_type": "display_data"
        }
      ]
    },
    {
      "cell_type": "markdown",
      "metadata": {
        "id": "0Vyxf7KJgy0x"
      },
      "source": [
        "### 3.11 Model Saving\n",
        "It is always really handy to be able to dump your model to disk (especially if training took some time)."
      ]
    },
    {
      "cell_type": "code",
      "metadata": {
        "id": "lot1clkXgy0y"
      },
      "source": [
        "model = CatBoostClassifier(iterations=10, random_seed=42, logging_level='Silent').fit(train_pool)\n",
        "model.save_model('catboost_model.dump')\n",
        "model = CatBoostClassifier()\n",
        "model.load_model('catboost_model.dump');"
      ],
      "execution_count": null,
      "outputs": []
    },
    {
      "cell_type": "markdown",
      "metadata": {
        "id": "hVtvJltOgy0y"
      },
      "source": [
        "# $$4.\\ Parameters\\ Tuning$$\n",
        "While you could always select optimal number of iterations (boosting steps) by cross-validation and learning curve plots, it is also important to play with some of model parameters, and we would like to pay some special attention to `l2_leaf_reg` and `learning_rate`.\n",
        "\n",
        "In this section, we'll select these parameters using the **`hyperopt`** package."
      ]
    },
    {
      "cell_type": "code",
      "metadata": {
        "id": "mw3hPaSRgy0y"
      },
      "source": [
        "!pip install hyperopt"
      ],
      "execution_count": null,
      "outputs": []
    },
    {
      "cell_type": "code",
      "metadata": {
        "id": "UBQ_h1Nugy0y"
      },
      "source": [
        "import hyperopt\n",
        "\n",
        "def hyperopt_objective(params):\n",
        "    model = CatBoostClassifier(\n",
        "        l2_leaf_reg=int(params['l2_leaf_reg']),\n",
        "        learning_rate=params['learning_rate'],\n",
        "        iterations=500,\n",
        "        eval_metric=metrics.Accuracy(),\n",
        "        random_seed=42,\n",
        "        verbose=False,\n",
        "        loss_function=metrics.Logloss(),\n",
        "    )\n",
        "    \n",
        "    cv_data = cv(\n",
        "        Pool(X, y, cat_features=categorical_features_indices),\n",
        "        model.get_params(),\n",
        "        logging_level='Silent',\n",
        "    )\n",
        "    best_accuracy = np.max(cv_data['test-Accuracy-mean'])\n",
        "    \n",
        "    return 1 - best_accuracy # as hyperopt minimises"
      ],
      "execution_count": null,
      "outputs": []
    },
    {
      "cell_type": "code",
      "metadata": {
        "id": "QIC2C8fjgy0y",
        "outputId": "52912239-fbf8-4534-df1d-8630a3aabe9b"
      },
      "source": [
        "from numpy.random import RandomState\n",
        "\n",
        "params_space = {\n",
        "    'l2_leaf_reg': hyperopt.hp.qloguniform('l2_leaf_reg', 0, 2, 1),\n",
        "    'learning_rate': hyperopt.hp.uniform('learning_rate', 1e-3, 5e-1),\n",
        "}\n",
        "\n",
        "trials = hyperopt.Trials()\n",
        "\n",
        "best = hyperopt.fmin(\n",
        "    hyperopt_objective,\n",
        "    space=params_space,\n",
        "    algo=hyperopt.tpe.suggest,\n",
        "    max_evals=50,\n",
        "    trials=trials,\n",
        "    rstate=RandomState(123)\n",
        ")\n",
        "\n",
        "print(best)"
      ],
      "execution_count": null,
      "outputs": [
        {
          "name": "stdout",
          "output_type": "stream",
          "text": [
            "100%|██████████████████████████████████████████████████████████████████████████████████████████████████████████████████████████████████████████████████████████████████████| 50/50 [03:59<00:00,  4.79s/trial, best loss: 0.16386083052749711]\n",
            "{'l2_leaf_reg': 1.0, 'learning_rate': 0.0450866712211308}\n"
          ]
        }
      ]
    },
    {
      "cell_type": "markdown",
      "metadata": {
        "id": "B-wmLPjngy0z"
      },
      "source": [
        "Now let's get all cv data with best parameters:"
      ]
    },
    {
      "cell_type": "code",
      "metadata": {
        "id": "nnl0XO-1gy0z",
        "outputId": "033fe330-1a44-47fc-fe3d-a1bed4de5804"
      },
      "source": [
        "model = CatBoostClassifier(\n",
        "    l2_leaf_reg=int(best['l2_leaf_reg']),\n",
        "    learning_rate=best['learning_rate'],\n",
        "    iterations=500,\n",
        "    eval_metric=metrics.Accuracy(),\n",
        "    random_seed=42,\n",
        "    verbose=False,\n",
        "    loss_function=metrics.Logloss(),\n",
        ")\n",
        "cv_data = cv(Pool(X, y, cat_features=categorical_features_indices), model.get_params())"
      ],
      "execution_count": null,
      "outputs": [
        {
          "name": "stdout",
          "output_type": "stream",
          "text": [
            "Training on fold [0/3]\n",
            "\n",
            "bestTest = 0.8417508418\n",
            "bestIteration = 262\n",
            "\n",
            "Training on fold [1/3]\n",
            "\n",
            "bestTest = 0.8451178451\n",
            "bestIteration = 269\n",
            "\n",
            "Training on fold [2/3]\n",
            "\n",
            "bestTest = 0.8215488215\n",
            "bestIteration = 284\n",
            "\n"
          ]
        }
      ]
    },
    {
      "cell_type": "code",
      "metadata": {
        "id": "7A0DBss0gy0z",
        "outputId": "777fbab5-76d3-498c-f525-61b8abe6d47a"
      },
      "source": [
        "print('Precise validation accuracy score: {}'.format(np.max(cv_data['test-Accuracy-mean'])))"
      ],
      "execution_count": null,
      "outputs": [
        {
          "name": "stdout",
          "output_type": "stream",
          "text": [
            "Precise validation accuracy score: 0.8361391694725029\n"
          ]
        }
      ]
    },
    {
      "cell_type": "markdown",
      "metadata": {
        "id": "tbl7AxHmgy0z"
      },
      "source": [
        "Recall that with default parameters out cv score was 0.8283, and thereby we have (probably not statistically significant) some improvement."
      ]
    },
    {
      "cell_type": "markdown",
      "metadata": {
        "id": "W3kPjkK_gy0z"
      },
      "source": [
        "### Make submission\n",
        "Now we would re-train our tuned model on all train data that we have"
      ]
    },
    {
      "cell_type": "code",
      "metadata": {
        "id": "bNFPV9GIgy00",
        "outputId": "0c55e0a2-b26f-4c4a-f0f1-64f60d84ea68"
      },
      "source": [
        "model.fit(X, y, cat_features=categorical_features_indices)"
      ],
      "execution_count": null,
      "outputs": [
        {
          "data": {
            "text/plain": [
              "<catboost.core.CatBoostClassifier at 0x7fa2c200feb0>"
            ]
          },
          "execution_count": 81,
          "metadata": {},
          "output_type": "execute_result"
        }
      ]
    },
    {
      "cell_type": "markdown",
      "metadata": {
        "id": "M3t-lHuGgy00"
      },
      "source": [
        "And finally let's prepare the submission file:"
      ]
    },
    {
      "cell_type": "code",
      "metadata": {
        "id": "cahqbeNagy00"
      },
      "source": [
        "import pandas as pd\n",
        "submisstion = pd.DataFrame()\n",
        "submisstion['PassengerId'] = X_test['PassengerId']\n",
        "submisstion['Survived'] = model.predict(X_test)"
      ],
      "execution_count": null,
      "outputs": []
    },
    {
      "cell_type": "code",
      "metadata": {
        "id": "opzgYg_qgy00"
      },
      "source": [
        "submisstion.to_csv('submission.csv', index=False)"
      ],
      "execution_count": null,
      "outputs": []
    },
    {
      "cell_type": "markdown",
      "metadata": {
        "id": "RW0DoFJWgy00"
      },
      "source": [
        "Finally you can make submission at [Titanic Kaggle competition](https://www.kaggle.com/c/titanic).\n",
        "\n",
        "That's it! Now you can play around with CatBoost and win some competitions! :)"
      ]
    }
  ]
}