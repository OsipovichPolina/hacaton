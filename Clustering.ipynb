{
  "nbformat": 4,
  "nbformat_minor": 0,
  "metadata": {
    "colab": {
      "name": "Clastering.ipynb",
      "provenance": []
    },
    "kernelspec": {
      "name": "python3",
      "display_name": "Python 3"
    },
    "language_info": {
      "name": "python"
    }
  },
  "cells": [
    {
      "cell_type": "code",
      "metadata": {
        "colab": {
          "base_uri": "https://localhost:8080/"
        },
        "id": "m3hWysuWGnzk",
        "outputId": "c82a9c5a-f948-4830-d7fe-9a2f768e8c51"
      },
      "source": [
        "from google.colab import drive\n",
        "drive.mount('/content/drive')"
      ],
      "execution_count": null,
      "outputs": [
        {
          "output_type": "stream",
          "name": "stdout",
          "text": [
            "Mounted at /content/drive\n"
          ]
        }
      ]
    },
    {
      "cell_type": "code",
      "metadata": {
        "colab": {
          "base_uri": "https://localhost:8080/"
        },
        "id": "3iMlt2q5GqOJ",
        "outputId": "31e111fc-3faa-4946-be90-c3468c82e02b"
      },
      "source": [
        "!pip install scikit-learn"
      ],
      "execution_count": null,
      "outputs": [
        {
          "output_type": "stream",
          "name": "stdout",
          "text": [
            "Requirement already satisfied: scikit-learn in /usr/local/lib/python3.7/dist-packages (1.0.1)\n",
            "Requirement already satisfied: numpy>=1.14.6 in /usr/local/lib/python3.7/dist-packages (from scikit-learn) (1.19.5)\n",
            "Requirement already satisfied: scipy>=1.1.0 in /usr/local/lib/python3.7/dist-packages (from scikit-learn) (1.4.1)\n",
            "Requirement already satisfied: joblib>=0.11 in /usr/local/lib/python3.7/dist-packages (from scikit-learn) (1.1.0)\n",
            "Requirement already satisfied: threadpoolctl>=2.0.0 in /usr/local/lib/python3.7/dist-packages (from scikit-learn) (3.0.0)\n"
          ]
        }
      ]
    },
    {
      "cell_type": "code",
      "metadata": {
        "id": "vDijQvjDHMTr"
      },
      "source": [
        "import pandas as pd"
      ],
      "execution_count": 1,
      "outputs": []
    },
    {
      "cell_type": "code",
      "metadata": {
        "id": "V5aNCDxvGySb"
      },
      "source": [
        "# train = pd.read_csv('/content/drive/MyDrive/mer_train_fin3.csv', sep=';', parse_dates=['real_time'])\n",
        "train = pd.read_csv('/content/drive/MyDrive/mer_test_fin.csv', sep=',', parse_dates=['real_time'])"
      ],
      "execution_count": 27,
      "outputs": []
    },
    {
      "cell_type": "code",
      "metadata": {
        "colab": {
          "base_uri": "https://localhost:8080/",
          "height": 206
        },
        "id": "7J1bnB8vLMBf",
        "outputId": "93b25c00-2821-4142-b46c-f5daa1b83023"
      },
      "source": [
        "train.head()"
      ],
      "execution_count": 31,
      "outputs": [
        {
          "output_type": "execute_result",
          "data": {
            "text/html": [
              "<div>\n",
              "<style scoped>\n",
              "    .dataframe tbody tr th:only-of-type {\n",
              "        vertical-align: middle;\n",
              "    }\n",
              "\n",
              "    .dataframe tbody tr th {\n",
              "        vertical-align: top;\n",
              "    }\n",
              "\n",
              "    .dataframe thead th {\n",
              "        text-align: right;\n",
              "    }\n",
              "</style>\n",
              "<table border=\"1\" class=\"dataframe\">\n",
              "  <thead>\n",
              "    <tr style=\"text-align: right;\">\n",
              "      <th></th>\n",
              "      <th>os</th>\n",
              "      <th>weekday</th>\n",
              "      <th>season</th>\n",
              "      <th>day_part</th>\n",
              "      <th>os_global</th>\n",
              "      <th>category</th>\n",
              "      <th>subcategory</th>\n",
              "    </tr>\n",
              "  </thead>\n",
              "  <tbody>\n",
              "    <tr>\n",
              "      <th>0</th>\n",
              "      <td>android</td>\n",
              "      <td>6</td>\n",
              "      <td>autumn</td>\n",
              "      <td>evening</td>\n",
              "      <td>10.0</td>\n",
              "      <td>Shopping</td>\n",
              "      <td>Shopping</td>\n",
              "    </tr>\n",
              "    <tr>\n",
              "      <th>1</th>\n",
              "      <td>android</td>\n",
              "      <td>1</td>\n",
              "      <td>summer</td>\n",
              "      <td>evening</td>\n",
              "      <td>10.0</td>\n",
              "      <td>NaN</td>\n",
              "      <td>NaN</td>\n",
              "    </tr>\n",
              "    <tr>\n",
              "      <th>2</th>\n",
              "      <td>ios</td>\n",
              "      <td>4</td>\n",
              "      <td>autumn</td>\n",
              "      <td>day</td>\n",
              "      <td>14.0</td>\n",
              "      <td>Games</td>\n",
              "      <td>Board</td>\n",
              "    </tr>\n",
              "    <tr>\n",
              "      <th>3</th>\n",
              "      <td>android</td>\n",
              "      <td>0</td>\n",
              "      <td>summer</td>\n",
              "      <td>evening</td>\n",
              "      <td>9.0</td>\n",
              "      <td>Games</td>\n",
              "      <td>Simulation</td>\n",
              "    </tr>\n",
              "    <tr>\n",
              "      <th>4</th>\n",
              "      <td>android</td>\n",
              "      <td>3</td>\n",
              "      <td>summer</td>\n",
              "      <td>day</td>\n",
              "      <td>10.0</td>\n",
              "      <td>Health &amp; Fitness</td>\n",
              "      <td>Health &amp; Fitness</td>\n",
              "    </tr>\n",
              "  </tbody>\n",
              "</table>\n",
              "</div>"
            ],
            "text/plain": [
              "        os  weekday  season  ... os_global          category       subcategory\n",
              "0  android        6  autumn  ...      10.0          Shopping          Shopping\n",
              "1  android        1  summer  ...      10.0               NaN               NaN\n",
              "2      ios        4  autumn  ...      14.0             Games             Board\n",
              "3  android        0  summer  ...       9.0             Games        Simulation\n",
              "4  android        3  summer  ...      10.0  Health & Fitness  Health & Fitness\n",
              "\n",
              "[5 rows x 7 columns]"
            ]
          },
          "metadata": {},
          "execution_count": 31
        }
      ]
    },
    {
      "cell_type": "code",
      "metadata": {
        "id": "1CeXRaWkLCJW"
      },
      "source": [
        "# train = train.drop([\"city\", 'Unnamed: 0', 'bundle', 'oblast', 'city', 'osv', 'real_time', 'Segment'], axis=1)\n",
        "train = train.drop([\"city\", 'Unnamed: 0', 'bundle', 'oblast', 'city', 'osv', 'real_time'], axis=1)"
      ],
      "execution_count": 30,
      "outputs": []
    },
    {
      "cell_type": "code",
      "metadata": {
        "colab": {
          "base_uri": "https://localhost:8080/"
        },
        "id": "sglPcjN0JQtJ",
        "outputId": "702b343f-de6d-48bf-e50b-64af44adb367"
      },
      "source": [
        "train.shape[0]"
      ],
      "execution_count": 41,
      "outputs": [
        {
          "output_type": "execute_result",
          "data": {
            "text/plain": [
              "25563"
            ]
          },
          "metadata": {},
          "execution_count": 41
        }
      ]
    },
    {
      "cell_type": "code",
      "metadata": {
        "id": "WzGvDC5NJQNp"
      },
      "source": [
        "train = train[train['subcategory'].notna()]"
      ],
      "execution_count": 39,
      "outputs": []
    },
    {
      "cell_type": "code",
      "metadata": {
        "id": "w36vDpJlJkFQ"
      },
      "source": [
        "train = train.drop_duplicates()"
      ],
      "execution_count": 40,
      "outputs": []
    },
    {
      "cell_type": "code",
      "metadata": {
        "colab": {
          "base_uri": "https://localhost:8080/",
          "height": 206
        },
        "id": "DOfV-JHkMEMe",
        "outputId": "8bc647a3-28d4-4061-8a8a-9ee781e3d8e5"
      },
      "source": [
        "train.head()"
      ],
      "execution_count": 52,
      "outputs": [
        {
          "output_type": "execute_result",
          "data": {
            "text/html": [
              "<div>\n",
              "<style scoped>\n",
              "    .dataframe tbody tr th:only-of-type {\n",
              "        vertical-align: middle;\n",
              "    }\n",
              "\n",
              "    .dataframe tbody tr th {\n",
              "        vertical-align: top;\n",
              "    }\n",
              "\n",
              "    .dataframe thead th {\n",
              "        text-align: right;\n",
              "    }\n",
              "</style>\n",
              "<table border=\"1\" class=\"dataframe\">\n",
              "  <thead>\n",
              "    <tr style=\"text-align: right;\">\n",
              "      <th></th>\n",
              "      <th>os</th>\n",
              "      <th>weekday</th>\n",
              "      <th>season</th>\n",
              "      <th>day_part</th>\n",
              "      <th>os_global</th>\n",
              "      <th>category</th>\n",
              "      <th>subcategory</th>\n",
              "      <th>CLuster</th>\n",
              "    </tr>\n",
              "  </thead>\n",
              "  <tbody>\n",
              "    <tr>\n",
              "      <th>0</th>\n",
              "      <td>android</td>\n",
              "      <td>6</td>\n",
              "      <td>autumn</td>\n",
              "      <td>evening</td>\n",
              "      <td>10.0</td>\n",
              "      <td>Shopping</td>\n",
              "      <td>Shopping</td>\n",
              "      <td>3</td>\n",
              "    </tr>\n",
              "    <tr>\n",
              "      <th>2</th>\n",
              "      <td>ios</td>\n",
              "      <td>4</td>\n",
              "      <td>autumn</td>\n",
              "      <td>day</td>\n",
              "      <td>14.0</td>\n",
              "      <td>Games</td>\n",
              "      <td>Board</td>\n",
              "      <td>1</td>\n",
              "    </tr>\n",
              "    <tr>\n",
              "      <th>3</th>\n",
              "      <td>android</td>\n",
              "      <td>0</td>\n",
              "      <td>summer</td>\n",
              "      <td>evening</td>\n",
              "      <td>9.0</td>\n",
              "      <td>Games</td>\n",
              "      <td>Simulation</td>\n",
              "      <td>4</td>\n",
              "    </tr>\n",
              "    <tr>\n",
              "      <th>4</th>\n",
              "      <td>android</td>\n",
              "      <td>3</td>\n",
              "      <td>summer</td>\n",
              "      <td>day</td>\n",
              "      <td>10.0</td>\n",
              "      <td>Health &amp; Fitness</td>\n",
              "      <td>Health &amp; Fitness</td>\n",
              "      <td>2</td>\n",
              "    </tr>\n",
              "    <tr>\n",
              "      <th>5</th>\n",
              "      <td>android</td>\n",
              "      <td>5</td>\n",
              "      <td>autumn</td>\n",
              "      <td>day</td>\n",
              "      <td>10.0</td>\n",
              "      <td>Games</td>\n",
              "      <td>Racing</td>\n",
              "      <td>4</td>\n",
              "    </tr>\n",
              "  </tbody>\n",
              "</table>\n",
              "</div>"
            ],
            "text/plain": [
              "        os  weekday  season  ...          category       subcategory CLuster\n",
              "0  android        6  autumn  ...          Shopping          Shopping       3\n",
              "2      ios        4  autumn  ...             Games             Board       1\n",
              "3  android        0  summer  ...             Games        Simulation       4\n",
              "4  android        3  summer  ...  Health & Fitness  Health & Fitness       2\n",
              "5  android        5  autumn  ...             Games            Racing       4\n",
              "\n",
              "[5 rows x 8 columns]"
            ]
          },
          "metadata": {},
          "execution_count": 52
        }
      ]
    },
    {
      "cell_type": "code",
      "metadata": {
        "id": "ZG4Inox6JE8J"
      },
      "source": [
        "from sklearn.preprocessing import LabelEncoder"
      ],
      "execution_count": 43,
      "outputs": []
    },
    {
      "cell_type": "code",
      "metadata": {
        "id": "Tl4QyE8NJC8x"
      },
      "source": [
        "labelEncoderOS = LabelEncoder()\n",
        "labelEncoderOS.fit(train['os'])\n",
        "train['os'] = labelEncoderOS.transform(train['os'])"
      ],
      "execution_count": 44,
      "outputs": []
    },
    {
      "cell_type": "code",
      "metadata": {
        "id": "i-pDfIPSJIWh"
      },
      "source": [
        "labelEncoderweekday = LabelEncoder()\n",
        "labelEncoderweekday.fit(train['weekday'])\n",
        "train['weekday'] = labelEncoderweekday.transform(train['weekday'])"
      ],
      "execution_count": 45,
      "outputs": []
    },
    {
      "cell_type": "code",
      "metadata": {
        "id": "d9NwQby5JJs5"
      },
      "source": [
        "labelEncoderseason = LabelEncoder()\n",
        "labelEncoderseason.fit(train['season'])\n",
        "train['season'] = labelEncoderseason.transform(train['season'])"
      ],
      "execution_count": 46,
      "outputs": []
    },
    {
      "cell_type": "code",
      "metadata": {
        "id": "lSOw-hpKJKFw"
      },
      "source": [
        "labelEncoderday_part = LabelEncoder()\n",
        "labelEncoderday_part.fit(train['day_part'])\n",
        "train['day_part'] = labelEncoderday_part.transform(train['day_part'])"
      ],
      "execution_count": 47,
      "outputs": []
    },
    {
      "cell_type": "code",
      "metadata": {
        "id": "xmzcC1zvJKxJ"
      },
      "source": [
        "labelEncoderos_global = LabelEncoder()\n",
        "labelEncoderos_global.fit(train['os_global'])\n",
        "train['os_global'] = labelEncoderos_global.transform(train['os_global'])"
      ],
      "execution_count": 48,
      "outputs": []
    },
    {
      "cell_type": "code",
      "metadata": {
        "id": "BGozb9QjJLdR"
      },
      "source": [
        "labelEncodercategory = LabelEncoder()\n",
        "labelEncodercategory.fit(train['category'])\n",
        "train['category'] = labelEncodercategory.transform(train['category'])"
      ],
      "execution_count": 49,
      "outputs": []
    },
    {
      "cell_type": "code",
      "metadata": {
        "id": "bWwBFwr0JLx5"
      },
      "source": [
        "labelEncodersubcategory = LabelEncoder()\n",
        "labelEncodersubcategory.fit(train['subcategory'])\n",
        "train['subcategory'] = labelEncodersubcategory.transform(train['subcategory'])"
      ],
      "execution_count": 50,
      "outputs": []
    },
    {
      "cell_type": "code",
      "metadata": {
        "id": "2WrkyYXQF7lk"
      },
      "source": [
        "from sklearn.cluster import AgglomerativeClustering\n",
        "import numpy as np\n",
        "X = np.array(train)\n",
        "clustering = AgglomerativeClustering(n_clusters = 5).fit(X)\n",
        "train['CLuster'] = clustering.labels_\n",
        "train['os'] = labelEncoderOS.inverse_transform(train['os'])\n",
        "train['weekday'] = labelEncoderweekday.inverse_transform(train['weekday'])\n",
        "train['season'] = labelEncoderseason.inverse_transform(train['season'])\n",
        "train['day_part'] = labelEncoderday_part.inverse_transform(train['day_part'])\n",
        "train['os_global'] = labelEncoderos_global.inverse_transform(train['os_global'])\n",
        "train['category'] = labelEncodercategory.inverse_transform(train['category'])\n",
        "train['subcategory'] = labelEncodersubcategory.inverse_transform(train['subcategory'])"
      ],
      "execution_count": 51,
      "outputs": []
    },
    {
      "cell_type": "code",
      "metadata": {
        "id": "hqtQYeEsPNkC"
      },
      "source": [
        "train.to_csv('/content/drive/MyDrive/test_cluster.csv', sep=';', encoding='utf-8')"
      ],
      "execution_count": 53,
      "outputs": []
    }
  ]
}